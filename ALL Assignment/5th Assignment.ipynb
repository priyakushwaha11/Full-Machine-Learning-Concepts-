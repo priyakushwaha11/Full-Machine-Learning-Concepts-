{
 "cells": [
  {
   "cell_type": "markdown",
   "id": "c7fc8601",
   "metadata": {},
   "source": [
    "Q.1 Explain Class and Object with respect to Object-Oriented Programming. Give a suitable example.\n",
    "\n",
    "Ans. Object − Objects have states and behaviors. Example: A dog has states - color, name, breed as well as behaviors – wagging the tail, barking, eating. An object is an instance of a class. Class − A class can be defined as a template/blueprint that describes the behavior/state that the object of its type support."
   ]
  },
  {
   "cell_type": "markdown",
   "id": "8d132e80",
   "metadata": {},
   "source": [
    "Q.2 Name the four pillars of OOPs.\n",
    "\n",
    "Ans.\n",
    "These principles are called the four pillars of object-oriented programming (OOP). These four pillars are Inheritance, Polymorphism, Encapsulation and Abstraction."
   ]
  },
  {
   "cell_type": "markdown",
   "id": "e8b7d6bf",
   "metadata": {},
   "source": [
    "Q.3   Explain why the _init_() function is used. Give a suitable example.\n",
    "\n",
    "Ans. \n",
    "The examples above are classes and objects in their simplest form, and are not really useful in real life applications. To understand the meaning of classes we have to understand the built-in __init__() function. All classes have a function called __init__(), which is always executed when the class is being initiated."
   ]
  },
  {
   "cell_type": "markdown",
   "id": "586959ac",
   "metadata": {},
   "source": [
    "\n",
    "Q4. Why self is used in OOPs?\n",
    "\n",
    "Ans. The self variable is used to represent the instance of the class which is often used in object-oriented programming. It works as a reference to the object. Python uses the self parameter to refer to instance attributes and methods of the class."
   ]
  },
  {
   "cell_type": "markdown",
   "id": "70dff244",
   "metadata": {},
   "source": [
    "\n",
    "Q.5  What is inheritance? Give an example for each type of inheritance.\n",
    "\n",
    "Ans.  Inheritance is a mechanism in which one class acquires the property of another class. For example, a child inherits the traits of his/her parents. With inheritance, we can reuse the fields and methods of the existing class. Hence, inheritance facilitates Reusability and is an important concept of OOPs."
   ]
  }
 ],
 "metadata": {
  "kernelspec": {
   "display_name": "Python 3 (ipykernel)",
   "language": "python",
   "name": "python3"
  },
  "language_info": {
   "codemirror_mode": {
    "name": "ipython",
    "version": 3
   },
   "file_extension": ".py",
   "mimetype": "text/x-python",
   "name": "python",
   "nbconvert_exporter": "python",
   "pygments_lexer": "ipython3",
   "version": "3.11.1"
  }
 },
 "nbformat": 4,
 "nbformat_minor": 5
}
