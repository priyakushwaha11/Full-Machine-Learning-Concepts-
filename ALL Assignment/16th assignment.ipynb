{
 "cells": [
  {
   "cell_type": "markdown",
   "id": "63d131a3",
   "metadata": {},
   "source": [
    "Q.1 What is a database? Differentiate between SQL and NoSQL databases."
   ]
  },
  {
   "cell_type": "markdown",
   "id": "d96427c0",
   "metadata": {},
   "source": [
    "Ans. These databases are commonly called NoSQL. SQL and NoSQL differ in whether they are relational (SQL) or non-relational (NoSQL), whether their schemas are predefined or dynamic, how they scale, the type of data they include and whether they are more fit for multi-row transactions or unstructured data."
   ]
  },
  {
   "cell_type": "markdown",
   "id": "57f7c85c",
   "metadata": {},
   "source": [
    "Q2. What is DDL? Explain why CREATE, DROP, ALTER, and TRUNCATE are used with an example."
   ]
  },
  {
   "cell_type": "markdown",
   "id": "6ef66aac",
   "metadata": {},
   "source": [
    "Ans. Data Definition Language (DDL) is used to create and modify the structure of objects in a database using predefined commands and a specific syntax. These database objects include tables, sequences, locations, aliases, schemas and indexes.\n",
    "\n",
    "* CREATE - to create new table or database\n",
    "\n",
    "* ALTER - to alter the structure of table\n",
    "\n",
    "* DROP -  to delete a table from database\n",
    "\n",
    "* TRUNCATE - to delete all records from table \n",
    "\n",
    "* RENAME - to rename a table"
   ]
  },
  {
   "cell_type": "markdown",
   "id": "46eb9267",
   "metadata": {},
   "source": [
    "Q.3  What is DML? Explain INSERT, UPDATE, and DELETE with an example."
   ]
  },
  {
   "cell_type": "markdown",
   "id": "795a45ed",
   "metadata": {},
   "source": [
    "Ans . A data manipulation language is a computer programming language used for adding, deleting, and modifying data in a database. A DML is often a sublanguage of a broader database language such as SQL, with the DML comprising some of the operators in the language\n",
    "\n",
    "INSERT - The insert() method inserts the specified value at the specified position. Syntax. list.insert(pos, elmnt). Parameter Values. Parameter, Description\n",
    "\n",
    "UPDATE - The update() method inserts the specified items to the dictionary. The specified items can be a dictionary, or an iterable object with key value pairs. Syntax.\n",
    "\n",
    "DELETE - The del keyword is used to delete objects. In Python everything is an object, so the del keyword can also be used to delete variables, lists, or parts of a list etc."
   ]
  },
  {
   "cell_type": "markdown",
   "id": "df7373e6",
   "metadata": {},
   "source": [
    "Q.4 What is DQL? Explain SELECT with an example."
   ]
  },
  {
   "cell_type": "markdown",
   "id": "3b987df5",
   "metadata": {},
   "source": [
    "Ans. The DQL statements can be used in order to query the data and information contained in schema objects. The goal of the DQL Commands is to return a schema relation on the basis of the query supplied to them.\n",
    "\n",
    "The select() method provides I/O multiplexing through which a python program can wait for read, write and exception conditions on multiple descriptors."
   ]
  },
  {
   "cell_type": "markdown",
   "id": "aa4f4b78",
   "metadata": {},
   "source": [
    "Q.5 Explain Primary Key and Foreign Key."
   ]
  },
  {
   "cell_type": "markdown",
   "id": "c00727d6",
   "metadata": {},
   "source": [
    "Ans . A primary key generally focuses on the uniqueness of the table. It assures the value in the specific column is unique. A foreign key is generally used to build a relationship between the two tables."
   ]
  },
  {
   "cell_type": "markdown",
   "id": "d4c3a9ac",
   "metadata": {},
   "source": [
    "Q.6  Write a python code to connect MySQL to python. Explain the cursor() and execute() method."
   ]
  },
  {
   "cell_type": "markdown",
   "id": "38f32b69",
   "metadata": {},
   "source": [
    "Ans. Use the connect() method of the MySQL Connector class with the required arguments to connect MySQL. It would return a MySQLConnection object if the connection established successfully\n",
    "\n",
    "It is an object that is used to make the connection for executing SQL queries. It acts as middleware between SQLite database connection and SQL query. It is created after giving connection to SQLite database."
   ]
  },
  {
   "cell_type": "markdown",
   "id": "a79c2559",
   "metadata": {},
   "source": [
    "Q.7 Give the order of execution of SQL clauses in an SQL query."
   ]
  },
  {
   "cell_type": "markdown",
   "id": "7b04b0bc",
   "metadata": {},
   "source": [
    "Ans. Order of Execution\n",
    "\n",
    "FROM/JOIN: The FROM and/or JOIN clauses are executed first to determine the data of interest.\n",
    "\n",
    "WHERE: The WHERE clause is executed to filter out records that do not meet the constraints.\n",
    "\n",
    "GROUP BY: The GROUP BY clause is executed to group the data based on the values in one or more columns."
   ]
  },
  {
   "cell_type": "code",
   "execution_count": null,
   "id": "fb5ee141",
   "metadata": {},
   "outputs": [],
   "source": []
  }
 ],
 "metadata": {
  "kernelspec": {
   "display_name": "Python 3 (ipykernel)",
   "language": "python",
   "name": "python3"
  },
  "language_info": {
   "codemirror_mode": {
    "name": "ipython",
    "version": 3
   },
   "file_extension": ".py",
   "mimetype": "text/x-python",
   "name": "python",
   "nbconvert_exporter": "python",
   "pygments_lexer": "ipython3",
   "version": "3.11.1"
  }
 },
 "nbformat": 4,
 "nbformat_minor": 5
}
