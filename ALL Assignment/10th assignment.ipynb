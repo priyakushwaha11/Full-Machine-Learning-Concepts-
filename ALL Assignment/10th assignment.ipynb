{
 "cells": [
  {
   "cell_type": "markdown",
   "id": "85d948ff",
   "metadata": {},
   "source": [
    "Q.1  Which function is used to open a file? What are the different modes of opening a file? Explain each mode \n",
    "of file opening.\n",
    "\n"
   ]
  },
  {
   "cell_type": "markdown",
   "id": "1d486ba0",
   "metadata": {},
   "source": [
    "Ans . r - open a file in read mode. w - opens or create a text file in write mode. a - opens a file in append mode. r+ - opens a file in both read and write mode."
   ]
  },
  {
   "cell_type": "markdown",
   "id": "0374a917",
   "metadata": {},
   "source": [
    "\n",
    "\n",
    "Q2. Why close() function is used? Why is it important to close a file?\n",
    "\n"
   ]
  },
  {
   "cell_type": "markdown",
   "id": "ad452c07",
   "metadata": {},
   "source": [
    "Ans. When you write to a file using write() system call, it doesn't writes immediately to the file. So after your operations, you have to call close() so that the buffer is flushed to the file and changes persist. After calling close(), you cannot use the file descriptor."
   ]
  },
  {
   "cell_type": "markdown",
   "id": "c3d20e77",
   "metadata": {},
   "source": [
    "\n",
    "\n",
    "Q3. Write a python program to create a text file. Write ‘I want to become a Data Scientist’ in that file. Then \n",
    "close the file. Open this file and read the content of the file.  \n",
    "\n"
   ]
  },
  {
   "cell_type": "code",
   "execution_count": 6,
   "id": "31923ee4",
   "metadata": {
    "scrolled": false
   },
   "outputs": [],
   "source": []
  },
  {
   "cell_type": "markdown",
   "id": "1f7a7ca1",
   "metadata": {},
   "source": [
    "\n",
    "\n",
    "\n",
    "Q4. Explain the following with python code: read(), readline() and readlines().\n"
   ]
  },
  {
   "cell_type": "markdown",
   "id": "9f25e9ad",
   "metadata": {},
   "source": [
    "Ans. Python readline() method will return a line from the file when called. readlines() method will return all the lines in a file in the format of a list where each element is a line in the file"
   ]
  },
  {
   "cell_type": "markdown",
   "id": "66ad751d",
   "metadata": {},
   "source": [
    "\n",
    "Q5. Explain why with statement is used with open(). What is the advantage of using with statement and \n",
    "open() together?\n",
    "\n"
   ]
  },
  {
   "cell_type": "markdown",
   "id": "b78385e4",
   "metadata": {},
   "source": [
    "Ans. The with statement works with the open() function to open a file. Unlike open() where you have to close the file with the close() method, the with statement closes the file for you without you telling it to. This is because the with statement calls 2 built-in methods behind the scene – __enter()__ and __exit()__ ."
   ]
  },
  {
   "cell_type": "markdown",
   "id": "a3fe2055",
   "metadata": {},
   "source": [
    "\n",
    "\n",
    "Q6. Explain the write() and writelines() functions. Give a suitable example.\n"
   ]
  },
  {
   "cell_type": "markdown",
   "id": "569fcb05",
   "metadata": {},
   "source": [
    "Ans. The difference between Write() and WriteLine() method is based on new line character.\n",
    "\n",
    "Write() method displays the output but do not provide a new line character.\n",
    "\n",
    "WriteLine() method displays the output and also provides a new line character it the end of the string, This would set a new line for the next output.\n"
   ]
  },
  {
   "cell_type": "code",
   "execution_count": null,
   "id": "8be73bc4",
   "metadata": {},
   "outputs": [],
   "source": []
  }
 ],
 "metadata": {
  "kernelspec": {
   "display_name": "Python 3 (ipykernel)",
   "language": "python",
   "name": "python3"
  },
  "language_info": {
   "codemirror_mode": {
    "name": "ipython",
    "version": 3
   },
   "file_extension": ".py",
   "mimetype": "text/x-python",
   "name": "python",
   "nbconvert_exporter": "python",
   "pygments_lexer": "ipython3",
   "version": "3.11.1"
  }
 },
 "nbformat": 4,
 "nbformat_minor": 5
}
