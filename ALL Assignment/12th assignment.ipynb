{
 "cells": [
  {
   "cell_type": "markdown",
   "id": "637c3700",
   "metadata": {},
   "source": [
    "Q.1  Wh\n",
    "t is \n",
    "n Ex,eption in p\u000b",
    "thon? Write the differen,e \between Ex,eptions \n",
    "nd $\u000b",
    "nt\n",
    "x errors"
   ]
  },
  {
   "cell_type": "markdown",
   "id": "f2447ced",
   "metadata": {},
   "source": [
    "Ans. What is the difference between an error and an exception?\n",
    "Both exceptions and errors are the subclasses of a throwable class. The error implies a problem that mostly arises due to the shortage of system resources. On the other hand, the exceptions occur during runtime and compile time.\n",
    "\n",
    "Difference between Syntax Error and Exceptions\n",
    "Syntax Error: As the name suggests this error is caused by the wrong syntax in the code. It leads to the termination of the program. "
   ]
  },
  {
   "cell_type": "markdown",
   "id": "5b8b5388",
   "metadata": {},
   "source": [
    "Q.2 . What happens when  exception is not handled? Explin with an example\u001e"
   ]
  },
  {
   "cell_type": "markdown",
   "id": "3c5d09c6",
   "metadata": {},
   "source": [
    "Ans.  the runtime system will abort the program (i.e. crash) and an exception message will print to the console."
   ]
  },
  {
   "cell_type": "markdown",
   "id": "96950e76",
   "metadata": {},
   "source": [
    "Q.3  Which Python statements are used to catcht and handle exceptions? Explin with an example\u001e"
   ]
  },
  {
   "cell_type": "markdown",
   "id": "325e13d9",
   "metadata": {},
   "source": [
    "Ans. In Python, we catch exceptions and handle them using try and except code blocks. The try clause contains the code that can raise an exception, while the except clause contains the code lines that handle the exception."
   ]
  },
  {
   "cell_type": "markdown",
   "id": "79075520",
   "metadata": {},
   "source": [
    "Q.4 explin with n exmple:\n",
    "\n",
    "a. try and else\n",
    "b. finally\n",
    "c. raise"
   ]
  },
  {
   "cell_type": "markdown",
   "id": "fccd184d",
   "metadata": {},
   "source": [
    "Ans .(a )  Try: This block will test the excepted error to occur\n",
    "\n",
    "(b)  Else: If there is no exception then this block will be executed\n",
    "\n",
    "(c)  Finally: Finally block always gets executed either exception is generated or not\n",
    "\n",
    "(d)  raise : Python raise Keyword is used to raise exceptions or errors. The raise keyword raises an error and stops the control flow of the program. It is used to bring up the current exception in an exception handler so that it can be handled further up the call stack."
   ]
  },
  {
   "cell_type": "markdown",
   "id": "bfdf14af",
   "metadata": {},
   "source": [
    "Q.5  What are Custom Exceptions in python? Why do we need Custom Exceptions? Explain with an example\u001e"
   ]
  },
  {
   "cell_type": "markdown",
   "id": "e9d0dff0",
   "metadata": {},
   "source": [
    "Ans . To raise the CustomException, you use the raise statement. For example, the following uses the raise statement to raise the CustomException:"
   ]
  },
  {
   "cell_type": "markdown",
   "id": "2f6e09d9",
   "metadata": {},
   "source": [
    "Q .6  Create  ,custom exception class. Use this class to handle an exception."
   ]
  },
  {
   "cell_type": "markdown",
   "id": "c4c17f9f",
   "metadata": {},
   "source": [
    "Ans . When we raise an exception, we are actually creating an exception instance and printing it at the same time. Let's dissect the custom exception class shown below.\n",
    "\n",
    "To handle the exception, we have put the code, result = numerator/denominator inside the try block. Now when an exception occurs, the rest of the code inside the try block is skipped. The except block catches the exception and statements inside the except block are executed.\n"
   ]
  },
  {
   "cell_type": "code",
   "execution_count": null,
   "id": "21cb0398",
   "metadata": {},
   "outputs": [],
   "source": []
  }
 ],
 "metadata": {
  "kernelspec": {
   "display_name": "Python 3 (ipykernel)",
   "language": "python",
   "name": "python3"
  },
  "language_info": {
   "codemirror_mode": {
    "name": "ipython",
    "version": 3
   },
   "file_extension": ".py",
   "mimetype": "text/x-python",
   "name": "python",
   "nbconvert_exporter": "python",
   "pygments_lexer": "ipython3",
   "version": "3.11.1"
  }
 },
 "nbformat": 4,
 "nbformat_minor": 5
}
