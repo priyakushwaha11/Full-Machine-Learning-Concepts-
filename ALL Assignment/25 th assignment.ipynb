{
 "cells": [
  {
   "cell_type": "markdown",
   "id": "01cf79ff",
   "metadata": {},
   "source": [
    "Q1. Write a code to print the data present in the second row of the dataframe, df.\n",
    "\n",
    "import pandas as pd\n",
    "\n",
    "course_name = [‘Data Science’, ‘Machine Learning’, ‘Big Data’, ‘Data Engineer’]\n",
    "\n",
    "duration = [2,3,6,4]\n",
    "\n",
    "df = pd.DataFrame(data = {‘course_name’ : course_name, ‘duration’ : duration})"
   ]
  },
  {
   "cell_type": "code",
   "execution_count": 1,
   "id": "c4701788",
   "metadata": {},
   "outputs": [
    {
     "name": "stdout",
     "output_type": "stream",
     "text": [
      "course_name    Machine Learning\n",
      "duration                      3\n",
      "Name: 1, dtype: object\n"
     ]
    }
   ],
   "source": [
    "import pandas as pd\n",
    "\n",
    "course_name = ['Data Science', 'Machine Learning', 'Big Data', 'Data Engineer']\n",
    "duration = [2,3,6,4]\n",
    "df = pd.DataFrame(data = {'course_name' : course_name, 'duration' : duration})\n",
    "\n",
    "# Print the data present in the second row of the dataframe\n",
    "print(df.iloc[1])\n"
   ]
  },
  {
   "cell_type": "markdown",
   "id": "6e09bad5",
   "metadata": {},
   "source": [
    "Q2. What is the difference between the functions loc and iloc in pandas.DataFrame?\n",
    "\n",
    "import pandas as pd\n",
    "\n",
    "course_name = [‘Data Science’, ‘Machine Learning’, ‘Big Data’, ‘Data Engineer’]\n",
    "\n",
    "duration = [2,3,6,4]\n",
    "\n",
    "df = pd.DataFrame(data = {‘course_name’ : course_name, ‘duration’ : duration})"
   ]
  },
  {
   "cell_type": "markdown",
   "id": "2a796281",
   "metadata": {},
   "source": [
    "\n",
    "Ans - \n",
    "\n",
    "Both `loc` and `iloc` are methods used to select rows and columns from a Pandas DataFrame, but they differ in the way they interpret the indices used to make the selections.\n",
    "\n",
    "`loc` is used to select rows and columns by **label**. It takes two arguments: the first argument is the label(s) of the row(s) to select, and the second argument is the label(s) of the column(s) to select. If you want to select all the rows or all the columns, you can use the `:` symbol. \n",
    "\n",
    "Here's an example of how to use `loc`:\n",
    "\n",
    "``` python\n",
    "df.loc[1:3, ['course_name', 'duration']]\n",
    "```\n",
    "\n",
    "This would select rows 1 to 3 (inclusive) and the columns 'course_name' and 'duration'.\n",
    "\n",
    "`iloc`, on the other hand, is used to select rows and columns by **integer position**. It takes two arguments: the first argument is the integer position(s) of the row(s) to select, and the second argument is the integer position(s) of the column(s) to select. \n",
    "\n",
    "Here's an example of how to use `iloc`:\n",
    "\n",
    "``` python\n",
    "df.iloc[1:3, [0, 1]]\n",
    "```\n",
    "\n",
    "This would select rows 1 to 2 (inclusive) and the first and second columns (which have integer positions 0 and 1, respectively).\n",
    "\n",
    "In summary, the difference between `loc` and `iloc` is that `loc` uses labels to make selections, while `iloc` uses integer positions."
   ]
  },
  {
   "cell_type": "code",
   "execution_count": 3,
   "id": "02bf428b",
   "metadata": {},
   "outputs": [
    {
     "data": {
      "text/html": [
       "<div>\n",
       "<style scoped>\n",
       "    .dataframe tbody tr th:only-of-type {\n",
       "        vertical-align: middle;\n",
       "    }\n",
       "\n",
       "    .dataframe tbody tr th {\n",
       "        vertical-align: top;\n",
       "    }\n",
       "\n",
       "    .dataframe thead th {\n",
       "        text-align: right;\n",
       "    }\n",
       "</style>\n",
       "<table border=\"1\" class=\"dataframe\">\n",
       "  <thead>\n",
       "    <tr style=\"text-align: right;\">\n",
       "      <th></th>\n",
       "      <th>course_name</th>\n",
       "      <th>duration</th>\n",
       "    </tr>\n",
       "  </thead>\n",
       "  <tbody>\n",
       "    <tr>\n",
       "      <th>1</th>\n",
       "      <td>Machine Learning</td>\n",
       "      <td>3</td>\n",
       "    </tr>\n",
       "    <tr>\n",
       "      <th>2</th>\n",
       "      <td>Big Data</td>\n",
       "      <td>6</td>\n",
       "    </tr>\n",
       "    <tr>\n",
       "      <th>3</th>\n",
       "      <td>Data Engineer</td>\n",
       "      <td>4</td>\n",
       "    </tr>\n",
       "  </tbody>\n",
       "</table>\n",
       "</div>"
      ],
      "text/plain": [
       "        course_name  duration\n",
       "1  Machine Learning         3\n",
       "2          Big Data         6\n",
       "3     Data Engineer         4"
      ]
     },
     "execution_count": 3,
     "metadata": {},
     "output_type": "execute_result"
    }
   ],
   "source": [
    "df.loc[1:3, ['course_name', 'duration']]\n"
   ]
  },
  {
   "cell_type": "code",
   "execution_count": 4,
   "id": "3adcb8d4",
   "metadata": {},
   "outputs": [
    {
     "data": {
      "text/html": [
       "<div>\n",
       "<style scoped>\n",
       "    .dataframe tbody tr th:only-of-type {\n",
       "        vertical-align: middle;\n",
       "    }\n",
       "\n",
       "    .dataframe tbody tr th {\n",
       "        vertical-align: top;\n",
       "    }\n",
       "\n",
       "    .dataframe thead th {\n",
       "        text-align: right;\n",
       "    }\n",
       "</style>\n",
       "<table border=\"1\" class=\"dataframe\">\n",
       "  <thead>\n",
       "    <tr style=\"text-align: right;\">\n",
       "      <th></th>\n",
       "      <th>course_name</th>\n",
       "      <th>duration</th>\n",
       "    </tr>\n",
       "  </thead>\n",
       "  <tbody>\n",
       "    <tr>\n",
       "      <th>1</th>\n",
       "      <td>Machine Learning</td>\n",
       "      <td>3</td>\n",
       "    </tr>\n",
       "    <tr>\n",
       "      <th>2</th>\n",
       "      <td>Big Data</td>\n",
       "      <td>6</td>\n",
       "    </tr>\n",
       "  </tbody>\n",
       "</table>\n",
       "</div>"
      ],
      "text/plain": [
       "        course_name  duration\n",
       "1  Machine Learning         3\n",
       "2          Big Data         6"
      ]
     },
     "execution_count": 4,
     "metadata": {},
     "output_type": "execute_result"
    }
   ],
   "source": [
    "df.iloc[1:3, [0, 1]]\n"
   ]
  },
  {
   "cell_type": "markdown",
   "id": "1dcc7dc9",
   "metadata": {},
   "source": [
    "Q3. Reindex the given dataframe using a variable, reindex = [3,0,1,2] and store it in the variable, new_df\n",
    "then find the output for both new_df.loc[2] and new_df.iloc[2].\n",
    "\n",
    "Did you observe any difference in both the outputs? If so then explain it.\n",
    "Consider the below code to answer further questions:\n",
    "\n",
    "import pandas as pd\n",
    "import numpy as np\n",
    "\n",
    "columns = ['column_1', 'column_2', 'column_3', 'column_4', 'column_5', 'column_6']\n",
    "\n",
    "indices = [1,2,3,4,5,6]\n",
    "\n",
    "#Creating a dataframe:\n",
    "\n",
    "df1 = pd.DataFrame(np.random.rand(6,6), columns = columns, index = indices)"
   ]
  },
  {
   "cell_type": "markdown",
   "id": "0147073d",
   "metadata": {},
   "source": [
    " Ans : To reindex the given DataFrame with the list [3,0,1,2], we can use the reindex method of pandas DataFrame and pass the list as an argument. The resulting DataFrame will have its rows rearranged according to the new index order. Here is the code to reindex the given DataFrame:"
   ]
  },
  {
   "cell_type": "code",
   "execution_count": 8,
   "id": "d8df0323",
   "metadata": {},
   "outputs": [],
   "source": [
    "reindex = [3, 0, 1, 2]\n",
    "new_df = df.reindex(reindex)\n"
   ]
  },
  {
   "cell_type": "code",
   "execution_count": 9,
   "id": "c0453647",
   "metadata": {},
   "outputs": [
    {
     "name": "stdout",
     "output_type": "stream",
     "text": [
      "course_name    Big Data\n",
      "duration              6\n",
      "Name: 2, dtype: object\n",
      "course_name    Machine Learning\n",
      "duration                      3\n",
      "Name: 1, dtype: object\n"
     ]
    }
   ],
   "source": [
    "print(new_df.loc[2])\n",
    "print(new_df.iloc[2])\n"
   ]
  },
  {
   "cell_type": "code",
   "execution_count": 10,
   "id": "086f780e",
   "metadata": {},
   "outputs": [
    {
     "name": "stdout",
     "output_type": "stream",
     "text": [
      "course_name    Big Data\n",
      "duration              6\n",
      "Name: 2, dtype: object\n",
      "course_name    Machine Learning\n",
      "duration                      3\n",
      "Name: 1, dtype: object\n"
     ]
    }
   ],
   "source": [
    "print(new_df.loc[2])\n",
    "print(new_df.iloc[2])\n"
   ]
  },
  {
   "cell_type": "markdown",
   "id": "a241d485",
   "metadata": {},
   "source": [
    "Q4. Write a code to find the following statistical measurements for the above dataframe df1:\n",
    "\n",
    "(i) mean of each and every column present in the dataframe.\n",
    "\n",
    "(ii) standard deviation of column, ‘column_2’"
   ]
  },
  {
   "cell_type": "markdown",
   "id": "525c9e30",
   "metadata": {},
   "source": [
    "Ans : import pandas as pd\n",
    "\n",
    "### create the DataFrame df1\n",
    "df1 = pd.DataFrame({\n",
    "    'column_1': [1, 2, 3, 4, 5],\n",
    "    'column_2': [10, 20, 30, 40, 50],\n",
    "    'column_3': [100, 200, 300, 400, 500]\n",
    "})\n",
    "\n",
    "### find the mean of each column\n",
    "column_means = df1.mean()\n",
    "\n",
    "# find the standard deviation of column_2\n",
    "column_2_std = df1['column_2'].std()\n",
    "\n",
    "print(\"Mean of each column:\\n\", column_means)\n",
    "print(\"Standard deviation of column_2:\", column_2_std)\n"
   ]
  },
  {
   "cell_type": "code",
   "execution_count": 16,
   "id": "7a4708cc",
   "metadata": {},
   "outputs": [
    {
     "data": {
      "text/html": [
       "<div>\n",
       "<style scoped>\n",
       "    .dataframe tbody tr th:only-of-type {\n",
       "        vertical-align: middle;\n",
       "    }\n",
       "\n",
       "    .dataframe tbody tr th {\n",
       "        vertical-align: top;\n",
       "    }\n",
       "\n",
       "    .dataframe thead th {\n",
       "        text-align: right;\n",
       "    }\n",
       "</style>\n",
       "<table border=\"1\" class=\"dataframe\">\n",
       "  <thead>\n",
       "    <tr style=\"text-align: right;\">\n",
       "      <th></th>\n",
       "      <th>course_name</th>\n",
       "      <th>duration</th>\n",
       "    </tr>\n",
       "  </thead>\n",
       "  <tbody>\n",
       "    <tr>\n",
       "      <th>0</th>\n",
       "      <td>Data Science</td>\n",
       "      <td>2</td>\n",
       "    </tr>\n",
       "    <tr>\n",
       "      <th>1</th>\n",
       "      <td>Machine Learning</td>\n",
       "      <td>3</td>\n",
       "    </tr>\n",
       "    <tr>\n",
       "      <th>2</th>\n",
       "      <td>Big Data</td>\n",
       "      <td>6</td>\n",
       "    </tr>\n",
       "    <tr>\n",
       "      <th>3</th>\n",
       "      <td>Data Engineer</td>\n",
       "      <td>4</td>\n",
       "    </tr>\n",
       "  </tbody>\n",
       "</table>\n",
       "</div>"
      ],
      "text/plain": [
       "        course_name  duration\n",
       "0      Data Science         2\n",
       "1  Machine Learning         3\n",
       "2          Big Data         6\n",
       "3     Data Engineer         4"
      ]
     },
     "execution_count": 16,
     "metadata": {},
     "output_type": "execute_result"
    }
   ],
   "source": [
    "df"
   ]
  },
  {
   "cell_type": "markdown",
   "id": "f314a0bc",
   "metadata": {},
   "source": [
    "Q5. Replace the data present in the second row of column, ‘column_2’ by a string variable then find the\n",
    "mean of column, column_2.\n",
    "\n",
    "If you are getting errors in executing it then explain why."
   ]
  },
  {
   "cell_type": "code",
   "execution_count": 23,
   "id": "a9d196a9",
   "metadata": {},
   "outputs": [],
   "source": [
    "#import pandas as pd\n",
    "\n",
    "# read the data from a CSV file\n",
    "#data = pd.read_csv('data_science_job.csv.zip')\n",
    "\n",
    "# replace the value in the second row of column_2 with a string variable\n",
    "#data.loc[1, 'column_2'] = 'new value'\n",
    "\n",
    "# calculate the mean of column_2\n",
    "#mean_column_2 = data['column_2'].mean()\n"
   ]
  },
  {
   "cell_type": "markdown",
   "id": "e843e641",
   "metadata": {},
   "source": [
    "Q6. What do you understand about the windows function in pandas and list the types of windows functions."
   ]
  },
  {
   "cell_type": "markdown",
   "id": "90825286",
   "metadata": {},
   "source": [
    "Ans - In pandas, the `window` function is used to perform a calculation over a rolling window of a specified number of periods. This can be useful for calculating moving averages, cumulative sums, or other rolling statistics.\n",
    "\n",
    "\n",
    "\n",
    "There are three main types of window functions in pandas:\n",
    "\n",
    "\n",
    "1. Rolling window functions: These functions are used to calculate rolling statistics over a specified window of time. The rolling function is used to create a rolling window object, which can then be used to apply a specific calculation.\n",
    "\n",
    "\n",
    "2. Expanding window functions: These functions are used to calculate expanding statistics over the entire dataset. The  expanding function is used to create an expanding window object, which can then be used to apply a specific calculation.\n",
    "\n",
    "\n",
    "3. Exponentially-weighted window functions: These functions are similar to rolling window functions, but with weights assigned to each period that decay exponentially over time. The ewm  function is used to create an exponentially-weighted window object, which can then be used to apply a specific calculation."
   ]
  },
  {
   "cell_type": "markdown",
   "id": "8211937b",
   "metadata": {},
   "source": [
    "Q7. Write a code to print only the current month and year at the time of answering this question.\n",
    "\n",
    "[Hint: Use pandas.datetime function]\n",
    "\n",
    "Ans - "
   ]
  },
  {
   "cell_type": "code",
   "execution_count": 21,
   "id": "200f96f6",
   "metadata": {},
   "outputs": [
    {
     "name": "stdout",
     "output_type": "stream",
     "text": [
      "Current month and year: March 2023\n"
     ]
    }
   ],
   "source": [
    "import pandas as pd\n",
    "\n",
    "# Get the current date and time\n",
    "now = pd.Timestamp.now()\n",
    "\n",
    "# Extract the current month and year\n",
    "current_month = now.month_name()\n",
    "current_year = now.year\n",
    "\n",
    "# Print the current month and year\n",
    "print(f\"Current month and year: {current_month} {current_year}\")\n"
   ]
  },
  {
   "cell_type": "markdown",
   "id": "95b5eed7",
   "metadata": {},
   "source": [
    "Q8. Write a Python program that takes in two dates as input (in the format YYYY-MM-DD) and\n",
    "calculates the difference between them in days, hours, and minutes using Pandas time delta. The\n",
    "program should prompt the user to enter the dates and display the result."
   ]
  },
  {
   "cell_type": "code",
   "execution_count": 22,
   "id": "43a8d299",
   "metadata": {},
   "outputs": [
    {
     "name": "stdout",
     "output_type": "stream",
     "text": [
      "Enter first date (YYYY-MM-DD): 2023-3-10\n",
      "Enter second date (YYYY-MM-DD): 2023-9-15\n",
      "Difference between 2023-03-10 and 2023-09-15 is 189 days, 0 hours, and 0 minutes.\n"
     ]
    }
   ],
   "source": [
    "import pandas as pd\n",
    "\n",
    "# prompt user to enter first date\n",
    "date1 = input(\"Enter first date (YYYY-MM-DD): \")\n",
    "\n",
    "# prompt user to enter second date\n",
    "date2 = input(\"Enter second date (YYYY-MM-DD): \")\n",
    "\n",
    "# convert input dates to datetime objects\n",
    "date1 = pd.to_datetime(date1)\n",
    "date2 = pd.to_datetime(date2)\n",
    "\n",
    "# calculate timedelta between the two dates\n",
    "delta = date2 - date1\n",
    "\n",
    "# calculate difference in days, hours, and minutes\n",
    "days = delta.days\n",
    "hours = delta.seconds // 3600\n",
    "minutes = (delta.seconds % 3600) // 60\n",
    "\n",
    "# display result\n",
    "print(\"Difference between\", date1.date(), \"and\", date2.date(), \"is\", days, \"days,\", hours, \"hours, and\", minutes, \"minutes.\")\n"
   ]
  },
  {
   "cell_type": "code",
   "execution_count": null,
   "id": "69e45aba",
   "metadata": {},
   "outputs": [],
   "source": []
  }
 ],
 "metadata": {
  "kernelspec": {
   "display_name": "Python 3 (ipykernel)",
   "language": "python",
   "name": "python3"
  },
  "language_info": {
   "codemirror_mode": {
    "name": "ipython",
    "version": 3
   },
   "file_extension": ".py",
   "mimetype": "text/x-python",
   "name": "python",
   "nbconvert_exporter": "python",
   "pygments_lexer": "ipython3",
   "version": "3.11.1"
  }
 },
 "nbformat": 4,
 "nbformat_minor": 5
}
