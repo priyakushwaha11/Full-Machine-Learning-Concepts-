{
 "cells": [
  {
   "cell_type": "markdown",
   "id": "a9730989",
   "metadata": {},
   "source": [
    "Q1. Explain the assumptions required to use ANOVA and provide examples of violations that could impact\n",
    "the validity of the results.\n",
    "\n",
    "ANS: \n",
    "\n",
    "ANOVA (Analysis of Variance) is a statistical method used to analyze differences between the means of two or more groups. However, ANOVA has several assumptions that need to be met in order to ensure the validity of the results. These assumptions include:\n",
    "\n",
    "1. Independence: The observations within each group should be independent of each other. Violations of independence occur when data points are related or dependent on each other, such as repeated measures on the same individual or the use of matched pairs.\n",
    "\n",
    "2. Normality: The distribution of the data within each group should be approximately normal. This assumption is critical for the calculation of p-values and confidence intervals. Violations of normality occur when the distribution is skewed or has outliers.\n",
    "\n",
    "3. Homogeneity of variance: The variance within each group should be approximately equal. This assumption is necessary because ANOVA assumes that the variance between the groups is similar. Violations of homogeneity of variance occur when the variance is unequal, which can lead to biased results and inflated type I error rates.\n",
    "\n",
    "4. Random sampling: The groups should be selected randomly from the population. This assumption ensures that the sample is representative of the population and helps to reduce bias. Violations of random sampling can lead to biased results and an inability to generalize the findings to the population.\n",
    "\n",
    "Examples of violations that could impact the validity of ANOVA results include:\n",
    "\n",
    "1. Non-independence: An example of non-independence would be if a study measured the blood pressure of the same individual at different times of the day. This violates the independence assumption because the observations within each group are related.\n",
    "\n",
    "2. Non-normality: An example of non-normality would be if a study measured the amount of time it takes for individuals to complete a task, and the distribution was skewed. This violates the normality assumption and could lead to inaccurate p-values and confidence intervals.\n",
    "\n",
    "3. Non-homogeneity of variance: An example of non-homogeneity of variance would be if a study compared the salaries of individuals from different companies, but the variance of salaries within each company was much larger than the variance between companies. This violates the homogeneity of variance assumption and could lead to biased results.\n",
    "\n",
    "4. Non-random sampling: An example of non-random sampling would be if a study recruited participants from a specific population, such as university students, without accounting for the diversity of the general population. This violates the random sampling assumption and could lead to biased results and an inability to generalize the findings to the population."
   ]
  },
  {
   "cell_type": "markdown",
   "id": "6311d06d",
   "metadata": {},
   "source": [
    "Q2. What are the three types of ANOVA, and in what situations would each be used?\n",
    "\n",
    "ANS: \n",
    "\n",
    "ANOVA (Analysis of Variance) is a statistical method used to test for differences among means. There are three types of ANOVA:\n",
    "\n",
    "1. One-Way ANOVA: This type of ANOVA is used when we want to compare the means of three or more groups on a single dependent variable. For example, if we want to compare the mean scores of students in three different schools on a standardized test, we can use a one-way ANOVA.\n",
    "\n",
    "2. Two-Way ANOVA: This type of ANOVA is used when we want to compare the means of two or more groups on two different independent variables. For example, if we want to compare the mean scores of students in three different schools on a standardized test, and we also want to see if the gender of the students affects the scores, we can use a two-way ANOVA.\n",
    "\n",
    "3. Repeated Measures ANOVA: This type of ANOVA is used when we want to compare the means of a single group on a single dependent variable at different time points or under different conditions. For example, if we want to compare the mean scores of students on a standardized test before and after a tutoring program, we can use a repeated measures ANOVA.\n",
    "\n",
    "In summary, a one-way ANOVA is used to compare the means of three or more groups on a single dependent variable, a two-way ANOVA is used to compare the means of two or more groups on two different independent variables, and a repeated measures ANOVA is used to compare the means of a single group on a single dependent variable at different time points or under different conditions."
   ]
  },
  {
   "cell_type": "markdown",
   "id": "94400be2",
   "metadata": {},
   "source": [
    "Q3. What is the partitioning of variance in ANOVA, and why is it important to understand this concept?\n",
    "\n",
    "ANS: \n",
    "\n",
    "ANOVA (Analysis of Variance) is a statistical technique that is commonly used to analyze the differences between two or more groups or treatments. The partitioning of variance in ANOVA refers to the breakdown of the total variation in the data into components that can be attributed to different sources. Understanding this concept is important because it allows us to determine the contribution of each source of variation to the overall variability in the data.\n",
    "\n",
    "The partitioning of variance in ANOVA involves decomposing the total sum of squares (SS) into three components: \n",
    "\n",
    "1. The between-group sum of squares (SSB) represents the variation between different groups or treatments. It measures the extent to which the means of the groups differ from each other. \n",
    "\n",
    "2. The within-group sum of squares (SSW) represents the variation within each group or treatment. It measures the extent to which the individual observations within each group vary from the group mean.\n",
    "\n",
    "3. The residual sum of squares (SSE) represents the variation that cannot be explained by the model. It includes sources of variation that are not accounted for by the between-group or within-group variation.\n",
    "\n",
    "The total sum of squares (SST) is equal to the sum of the between-group, within-group, and residual sum of squares (SST = SSB + SSW + SSE).\n",
    "\n",
    "Understanding the partitioning of variance is important because it allows us to assess the significance of the differences between groups or treatments. We can calculate the F-ratio, which is the ratio of the between-group mean square to the within-group mean square. If the F-ratio is large enough, it indicates that the between-group variation is significantly greater than the within-group variation, and we can conclude that there are significant differences between the groups or treatments.\n",
    "\n",
    "Furthermore, understanding the partitioning of variance can also help us identify potential sources of variability in the data and improve the design of future experiments. For example, if we find that the within-group variation is very large, it may indicate that the experimental conditions need to be standardized or that the sample size needs to be increased."
   ]
  },
  {
   "cell_type": "code",
   "execution_count": 3,
   "id": "f4cc67ab",
   "metadata": {},
   "outputs": [
    {
     "ename": "SyntaxError",
     "evalue": "invalid syntax (1306581377.py, line 1)",
     "output_type": "error",
     "traceback": [
      "\u001b[1;36m  Cell \u001b[1;32mIn[3], line 1\u001b[1;36m\u001b[0m\n\u001b[1;33m    Q4. How would you calculate the total sum of squares (SST), explained sum of squares (SSE), and residual\u001b[0m\n\u001b[1;37m            ^\u001b[0m\n\u001b[1;31mSyntaxError\u001b[0m\u001b[1;31m:\u001b[0m invalid syntax\n"
     ]
    }
   ],
   "source": [
    "Q4. How would you calculate the total sum of squares (SST), explained sum of squares (SSE), and residual\n",
    "sum of squares (SSR) in a one-way ANOVA using Python?"
   ]
  },
  {
   "cell_type": "code",
   "execution_count": 4,
   "id": "4bd18283",
   "metadata": {},
   "outputs": [
    {
     "name": "stdout",
     "output_type": "stream",
     "text": [
      "Object `Python` not found.\n"
     ]
    }
   ],
   "source": [
    "Q5. In a two-way ANOVA, how would you calculate the main effects and interaction effects using Python?"
   ]
  },
  {
   "cell_type": "code",
   "execution_count": 5,
   "id": "5e683795",
   "metadata": {},
   "outputs": [
    {
     "ename": "SyntaxError",
     "evalue": "invalid syntax (3953759801.py, line 1)",
     "output_type": "error",
     "traceback": [
      "\u001b[1;36m  Cell \u001b[1;32mIn[5], line 1\u001b[1;36m\u001b[0m\n\u001b[1;33m    Q6. Suppose you conducted a one-way ANOVA and obtained an F-statistic of 5.23 and a p-value of 0.02.\u001b[0m\n\u001b[1;37m                ^\u001b[0m\n\u001b[1;31mSyntaxError\u001b[0m\u001b[1;31m:\u001b[0m invalid syntax\n"
     ]
    }
   ],
   "source": [
    "Q6. Suppose you conducted a one-way ANOVA and obtained an F-statistic of 5.23 and a p-value of 0.02.\n",
    "What can you conclude about the differences between the groups, and how would you interpret these\n",
    "results?"
   ]
  },
  {
   "cell_type": "code",
   "execution_count": null,
   "id": "652a8c36",
   "metadata": {},
   "outputs": [],
   "source": [
    "Q7. In a repeated measures ANOVA, how would you handle missing data, and what are the potential\n",
    "consequences of using different methods to handle missing data?"
   ]
  }
 ],
 "metadata": {
  "kernelspec": {
   "display_name": "Python 3 (ipykernel)",
   "language": "python",
   "name": "python3"
  },
  "language_info": {
   "codemirror_mode": {
    "name": "ipython",
    "version": 3
   },
   "file_extension": ".py",
   "mimetype": "text/x-python",
   "name": "python",
   "nbconvert_exporter": "python",
   "pygments_lexer": "ipython3",
   "version": "3.11.1"
  }
 },
 "nbformat": 4,
 "nbformat_minor": 5
}
