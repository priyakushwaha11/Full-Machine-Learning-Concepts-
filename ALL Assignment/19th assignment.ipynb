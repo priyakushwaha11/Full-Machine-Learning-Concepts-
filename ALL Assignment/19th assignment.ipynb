{
 "cells": [
  {
   "cell_type": "markdown",
   "id": "55dec5c1",
   "metadata": {},
   "source": [
    "Q1. What is Flask Framework? What are the advantages of Flask Framework?\n",
    "\n",
    "Ans.Flask is a web application framework written in Python. It was developed by Armin Ronacher, who led a team of international Python enthusiasts called Poocco.\n",
    "\n",
    "Disadvantages of soap : (i) Soaps cannot be used in hard water which contain `Ca^(2+)` or `Mg^(2+)` ions. This because `Ca^(2+)` and `Mg^(2+)` salts of higher fatty acids are insoluble in water. <br> (ii) Soaps cannot be used in acidic medium because free fatty acids are not soluble in wate"
   ]
  },
  {
   "cell_type": "markdown",
   "id": "7833d90a",
   "metadata": {},
   "source": [
    "Q3. What is App routing in Flask? Why do we use app routes?\n",
    "\n",
    "Ans.App Routing means mapping the URLs to a specific function that will handle the logic for that URL. Modern web frameworks use more meaningful URLs to help users remember the URLs and make navigation simpler. Example: In our application, the URL (“/”) is associated with the root URL\n",
    "\n",
    " Routing refers to determining how an application responds to a client request to a particular endpoint, which is a URI (or path) and a specific HTTP request method (GET, POST, and so on). In simple terms, Routing allows targeting different routes or different URLs on our page."
   ]
  },
  {
   "cell_type": "markdown",
   "id": "cb6e2750",
   "metadata": {},
   "source": [
    "Q5. What function is used in Flask for URL Building? Write a Python code to demonstrate the working of the\n",
    "url_for() function.\n",
    "\n",
    "Flask – URL Building - \n",
    "The url_for() function is very useful for dynamically building a URL for a specific function. The function accepts the name of a function as first argument, and one or more keyword arguments, each corresponding to the variable part of URL.\n",
    "\n",
    "It is time now for us to look into different syntax that is present to url_for function before we even dive into learning the working of url_for. This will help us map the syntaxes to the working methodology so that the learning is more practical and easier to grasp. So, without much further ado, let us get straight into the syntax!\n",
    "\n",
    "Creating dynamic URL with no key passed:\n",
    "\n",
    "url_for('<Function name>')It is time now for us to look into different syntax that is present to url_for function before we even dive into learning the working of url_for. This will help us map the syntaxes to the working methodology so that the learning is more practical and easier to grasp. So, without much further ado, let us get straight into the syntax!\n",
    "\n",
    "Creating dynamic URL with no key passed:\n",
    "\n",
    "url_for('<Function name>')"
   ]
  },
  {
   "cell_type": "code",
   "execution_count": null,
   "id": "ffe5e4be",
   "metadata": {},
   "outputs": [],
   "source": []
  }
 ],
 "metadata": {
  "kernelspec": {
   "display_name": "Python 3 (ipykernel)",
   "language": "python",
   "name": "python3"
  },
  "language_info": {
   "codemirror_mode": {
    "name": "ipython",
    "version": 3
   },
   "file_extension": ".py",
   "mimetype": "text/x-python",
   "name": "python",
   "nbconvert_exporter": "python",
   "pygments_lexer": "ipython3",
   "version": "3.11.1"
  }
 },
 "nbformat": 4,
 "nbformat_minor": 5
}
