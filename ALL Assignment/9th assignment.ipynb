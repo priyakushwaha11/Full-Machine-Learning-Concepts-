{
 "cells": [
  {
   "cell_type": "markdown",
   "id": "1e1971ed",
   "metadata": {},
   "source": [
    "Q.1  Create a vehicle class with an init method having instance variables as name_of_vehicle, max_speed \n",
    "and average_of_vehicle. \n"
   ]
  },
  {
   "cell_type": "code",
   "execution_count": 8,
   "id": "48610f13",
   "metadata": {},
   "outputs": [],
   "source": [
    "class vahicle:\n",
    "    def __init__(self , name_of_vehicle , max_speed ,average_of_vehicle):\n",
    "        self.name_of_vehicle = name_of_vehicle\n",
    "        self.max_speed = 0\n",
    "        self.average_of_vehicle = average_of_vehicle\n",
    "        "
   ]
  },
  {
   "cell_type": "code",
   "execution_count": 9,
   "id": "6d6f3d7a",
   "metadata": {},
   "outputs": [],
   "source": [
    "v = vahicle(\"oddy\" , 98 , 110)"
   ]
  },
  {
   "cell_type": "code",
   "execution_count": 10,
   "id": "0d917329",
   "metadata": {},
   "outputs": [
    {
     "data": {
      "text/plain": [
       "110"
      ]
     },
     "execution_count": 10,
     "metadata": {},
     "output_type": "execute_result"
    }
   ],
   "source": [
    "v.average_of_vehicle"
   ]
  },
  {
   "cell_type": "code",
   "execution_count": 11,
   "id": "b50d4e9a",
   "metadata": {},
   "outputs": [
    {
     "data": {
      "text/plain": [
       "'oddy'"
      ]
     },
     "execution_count": 11,
     "metadata": {},
     "output_type": "execute_result"
    }
   ],
   "source": [
    "v.name_of_vehicle"
   ]
  },
  {
   "cell_type": "code",
   "execution_count": 12,
   "id": "3eb9c125",
   "metadata": {},
   "outputs": [
    {
     "data": {
      "text/plain": [
       "0"
      ]
     },
     "execution_count": 12,
     "metadata": {},
     "output_type": "execute_result"
    }
   ],
   "source": [
    "v.max_speed"
   ]
  },
  {
   "cell_type": "markdown",
   "id": "54a57c34",
   "metadata": {},
   "source": [
    "Q.2 Create a child class car from the vehicle class created in Que 1, which will inherit the vehicle class. \n",
    "Create a method named seating_capacity which takes capacity as an argument and returns the name of \n",
    "the vehicle and its seating capacity.\n",
    "\n"
   ]
  },
  {
   "cell_type": "code",
   "execution_count": null,
   "id": "11869890",
   "metadata": {},
   "outputs": [],
   "source": []
  },
  {
   "cell_type": "markdown",
   "id": "a6bc10a2",
   "metadata": {},
   "source": [
    "\n",
    "Q3. What is multiple inheritance? Write a python code to demonstrate multiple inheritance.\n",
    "\n"
   ]
  },
  {
   "cell_type": "markdown",
   "id": "eaa9668b",
   "metadata": {},
   "source": [
    "Ans. When you're born, you look similar to your parents, and that essentially means that you \"inherited\" the qualities or characteristics of your parents. In the same way, in Python when we talk about classes and objects, we have certain classes (child classes) that we define, which \"inherit\" from other classes (parent classes). If we create sub-classes of the child classes, they would inherit the properties of the parent class as well."
   ]
  },
  {
   "cell_type": "code",
   "execution_count": 11,
   "id": "76ea163d",
   "metadata": {},
   "outputs": [],
   "source": [
    "class college:\n",
    "    def test_class1(self):\n",
    "        return (\"student of college\")"
   ]
  },
  {
   "cell_type": "code",
   "execution_count": 12,
   "id": "70b8fe1a",
   "metadata": {},
   "outputs": [],
   "source": [
    "class school(college):\n",
    "    def test_class2(self):\n",
    "        return (\"student of school\")"
   ]
  },
  {
   "cell_type": "code",
   "execution_count": 13,
   "id": "dd5d76a0",
   "metadata": {},
   "outputs": [],
   "source": [
    "class class3(school):\n",
    "    pass"
   ]
  },
  {
   "cell_type": "code",
   "execution_count": 14,
   "id": "b5ddc90a",
   "metadata": {},
   "outputs": [],
   "source": [
    "obj_class3 = class3()"
   ]
  },
  {
   "cell_type": "code",
   "execution_count": 16,
   "id": "4d209dbd",
   "metadata": {
    "scrolled": true
   },
   "outputs": [
    {
     "data": {
      "text/plain": [
       "'student of school'"
      ]
     },
     "execution_count": 16,
     "metadata": {},
     "output_type": "execute_result"
    }
   ],
   "source": [
    "obj_class3.test_class2()"
   ]
  },
  {
   "cell_type": "code",
   "execution_count": 17,
   "id": "40c7c2e2",
   "metadata": {},
   "outputs": [
    {
     "data": {
      "text/plain": [
       "'student of college'"
      ]
     },
     "execution_count": 17,
     "metadata": {},
     "output_type": "execute_result"
    }
   ],
   "source": [
    "obj_class3.test_class1()"
   ]
  },
  {
   "cell_type": "markdown",
   "id": "1cf46587",
   "metadata": {},
   "source": [
    "Q.4 What are getter and setter in python? Create a class and create a getter and a setter method in this class"
   ]
  },
  {
   "cell_type": "markdown",
   "id": "e1a35d88",
   "metadata": {},
   "source": [
    "Ans. Getters: These are the methods used in Object-Oriented Programming (OOPS) which helps to access the private attributes from a class. \n",
    "\n",
    "Setters: These are the methods used in OOPS feature which helps to set the value to private attributes in a class."
   ]
  },
  {
   "cell_type": "markdown",
   "id": "2cf2153a",
   "metadata": {},
   "source": [
    "Q5. What is method overriding in python? Write a python code to demonstrate method overriding.\n"
   ]
  },
  {
   "cell_type": "markdown",
   "id": "1029888d",
   "metadata": {},
   "source": [
    "Ans. Method overriding is a feature of object-oriented programming languages where the subclass or child class can provide the program with specific characteristics or a specific implementation process of data provided that are already defined in the parent class or superclass."
   ]
  },
  {
   "cell_type": "code",
   "execution_count": null,
   "id": "612d7e5c",
   "metadata": {},
   "outputs": [],
   "source": []
  }
 ],
 "metadata": {
  "kernelspec": {
   "display_name": "Python 3 (ipykernel)",
   "language": "python",
   "name": "python3"
  },
  "language_info": {
   "codemirror_mode": {
    "name": "ipython",
    "version": 3
   },
   "file_extension": ".py",
   "mimetype": "text/x-python",
   "name": "python",
   "nbconvert_exporter": "python",
   "pygments_lexer": "ipython3",
   "version": "3.11.1"
  }
 },
 "nbformat": 4,
 "nbformat_minor": 5
}
