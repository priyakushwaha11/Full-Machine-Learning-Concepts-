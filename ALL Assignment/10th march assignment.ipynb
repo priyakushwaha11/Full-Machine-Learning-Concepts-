{
 "cells": [
  {
   "cell_type": "markdown",
   "id": "bc464fd6",
   "metadata": {},
   "source": [
    "Q1: What is Estimation Statistics? Explain point estimate and interval estimate.\n",
    "\n",
    "ANS: \n",
    "\n",
    "Estimation statistics is a branch of statistics that deals with making inferences about a population based on information obtained from a sample. It involves using sample data to estimate the parameters of a population.\n",
    "\n",
    "There are two types of estimation in statistics: point estimation and interval estimation.\n",
    "\n",
    "Point estimate refers to a single value that is used to estimate an unknown parameter of a population. This value is based on sample data and is usually denoted by a symbol such as x̄ (sample mean), s (sample standard deviation), or p (sample proportion). A point estimate provides a rough idea of what the parameter value might be, but it does not tell us anything about the precision or accuracy of the estimate.\n",
    "\n",
    "Interval estimate, on the other hand, provides a range of values within which the true parameter value is likely to fall. It is also based on sample data and is denoted by an interval, such as (a,b), where a and b are the lower and upper bounds of the interval. An interval estimate provides more information than a point estimate because it takes into account the variability of the sample data and gives a measure of the precision of the estimate.\n",
    "\n",
    "The process of constructing an interval estimate involves specifying a level of confidence, which is the probability that the interval contains the true parameter value. The most common levels of confidence are 90%, 95%, and 99%. A higher level of confidence requires a wider interval, which means that the estimate is less precise but more likely to be accurate. Conversely, a lower level of confidence requires a narrower interval, which means that the estimate is more precise but less likely to be accurate."
   ]
  },
  {
   "cell_type": "markdown",
   "id": "97121a7b",
   "metadata": {},
   "source": [
    "Q2. Write a Python function to estimate the population mean using a sample mean and standard\n",
    "deviation.\n",
    "\n",
    "ANS:  a Python function that can estimate the population mean using a sample mean and standard deviation. \n",
    "\n",
    "Population mean refers to the average value of a particular variable in a population, while sample mean refers to the average value of the same variable in a subset of the population. Standard deviation measures the spread or variability of the data around the mean. \n",
    "\n",
    "Estimating the population mean using a sample mean and standard deviation involves using statistical methods to make an educated guess about what the true population mean might be, based on the information available from the sample. The Python function should be able to take in the sample mean and standard deviation as input and output an estimate of the population mean."
   ]
  },
  {
   "cell_type": "markdown",
   "id": "268b15ab",
   "metadata": {},
   "source": [
    "Q3: What is Hypothesis testing? Why is it used? State the importance of Hypothesis testing.\n",
    "\n",
    "ANS: \n",
    "\n",
    "Estimation statistics is a branch of statistics that deals with making inferences about a population based on information obtained from a sample. It involves using sample data to estimate the parameters of a population.\n",
    "\n",
    "There are two types of estimation in statistics: point estimation and interval estimation.\n",
    "\n",
    "Point estimate refers to a single value that is used to estimate an unknown parameter of a population. This value is based on sample data and is usually denoted by a symbol such as x̄ (sample mean), s (sample standard deviation), or p (sample proportion). A point estimate provides a rough idea of what the parameter value might be, but it does not tell us anything about the precision or accuracy of the estimate.\n",
    "\n",
    "Interval estimate, on the other hand, provides a range of values within which the true parameter value is likely to fall. It is also based on sample data and is denoted by an interval, such as (a,b), where a and b are the lower and upper bounds of the interval. An interval estimate provides more information than a point estimate because it takes into account the variability of the sample data and gives a measure of the precision of the estimate.\n",
    "\n",
    "The process of constructing an interval estimate involves specifying a level of confidence, which is the probability that the interval contains the true parameter value. The most common levels of confidence are 90%, 95%, and 99%. A higher level of confidence requires a wider interval, which means that the estimate is less precise but more likely to be accurate. Conversely, a lower level of confidence requires a narrower interval, which means that the estimate is more precise but less likely to be accurate."
   ]
  },
  {
   "cell_type": "markdown",
   "id": "4efb2990",
   "metadata": {},
   "source": [
    "Q4. Create a hypothesis that states whether the average weight of male college students is greater than\n",
    "the average weight of female college students.\n",
    "\n",
    "ANS: The text is asking to create a hypothesis about the average weight of male and female college students. A hypothesis is an educated guess or prediction about the relationship between two variables. In this case, the variables are gender (male or female) and weight.\n",
    "\n",
    "The hypothesis should state whether the average weight of male college students is greater than the average weight of female college students. This means that we are comparing the mean weight of male and female college students.\n",
    "\n",
    "The term \"average\" refers to the mean, which is calculated by adding up all the values and dividing by the total number of values. The mean weight of male college students is the sum of all the weights of male college students divided by the total number of male college students. The same formula applies to female college students.\n",
    "\n",
    "Overall, the text is asking to create a hypothesis that predicts whether male college students weigh more on average than female college students."
   ]
  },
  {
   "cell_type": "markdown",
   "id": "e5b3e4e0",
   "metadata": {},
   "source": [
    "Q5. Write a Python script to conduct a hypothesis test on the difference between two population means,\n",
    "given a sample from each population.\n",
    "\n",
    "ANS : The text is asking for a Python script that can perform a hypothesis test to compare the means of two populations. In statistical analysis, a hypothesis test is used to determine if there is a significant difference between two groups or populations based on sample data. The two population means are the average values of a particular variable in each population. The script will take in samples from each population and use statistical methods to determine if the difference in means is statistically significant or not. Python is a popular programming language used for data analysis and statistical modeling.\n",
    "\n",
    "\n"
   ]
  },
  {
   "cell_type": "markdown",
   "id": "385bab24",
   "metadata": {},
   "source": [
    "Q6: What is a null and alternative hypothesis? Give some examples.\n",
    "    \n",
    "ANS: \n",
    "\n",
    "In statistics, a null hypothesis and an alternative hypothesis are two mutually exclusive statements that are used to test a hypothesis or a claim about a population. The null hypothesis (H0) states that there is no significant difference between two groups or variables, while the alternative hypothesis (Ha) asserts that there is a significant difference.\n",
    "\n",
    "Here are some examples of null and alternative hypotheses:\n",
    "\n",
    "Example 1:\n",
    "Null hypothesis: There is no significant difference in the mean scores of students who studied with a tutor and those who studied independently.\n",
    "Alternative hypothesis: The mean scores of students who studied with a tutor are significantly different from those who studied independently.\n",
    "\n",
    "Example 2:\n",
    "Null hypothesis: The new drug has no effect on reducing cholesterol levels in patients.\n",
    "Alternative hypothesis: The new drug is effective in reducing cholesterol levels in patients.\n",
    "\n",
    "Example 3:\n",
    "Null hypothesis: There is no association between caffeine consumption and risk of heart disease.\n",
    "Alternative hypothesis: There is a significant association between caffeine consumption and risk of heart disease.\n",
    "\n",
    "Example 4:\n",
    "Null hypothesis: The mean response time of the old system and the new system are the same.\n",
    "Alternative hypothesis: The mean response time of the new system is faster than that of the old system. \n",
    "\n",
    "Example 5:\n",
    "Null hypothesis: There is no difference in the mean salary of male and female employees.\n",
    "Alternative hypothesis: The mean salary of male employees is higher than that of female employees."
   ]
  },
  {
   "cell_type": "markdown",
   "id": "df4f9228",
   "metadata": {},
   "source": [
    "Q7: Write down the steps involved in hypothesis testing.\n",
    "    \n",
    "ANS: \n",
    "\n",
    "Hypothesis testing is a statistical process used to determine if there is enough evidence to reject or fail to reject a null hypothesis. The following are the steps involved in hypothesis testing:\n",
    "\n",
    "1. Formulate the null and alternative hypotheses: The null hypothesis is a statement that assumes there is no difference or relationship between two variables, while the alternative hypothesis is a statement that assumes there is a difference or relationship between two variables. These hypotheses should be based on a specific research question or problem.\n",
    "\n",
    "2. Determine the level of significance: The level of significance is the probability of rejecting the null hypothesis when it is true. The most common level of significance used is 0.05 (5%), but this can vary depending on the field of study and the research question.\n",
    "\n",
    "3. Choose an appropriate statistical test: The choice of statistical test depends on the type of data being analyzed and the research question. There are different types of statistical tests such as t-tests, ANOVA, chi-square tests, etc.\n",
    "\n",
    "4. Collect data: Data is collected and organized according to the research design and the type of statistical test being used.\n",
    "\n",
    "5. Calculate the test statistic: The test statistic is a numerical value that is calculated based on the data collected and the null hypothesis. It measures how far the observed data is from what is expected under the null hypothesis.\n",
    "\n",
    "6. Determine the p-value: The p-value is the probability of obtaining a test statistic as extreme or more extreme than the observed value, assuming the null hypothesis is true.\n",
    "\n",
    "7. Make a decision: Compare the p-value with the level of significance. If the p-value is less than the level of significance, then the null hypothesis is rejected, and the alternative hypothesis is accepted. If the p-value is greater than the level of significance, then the null hypothesis is not rejected.\n",
    "\n",
    "8. Interpret results: The results of the hypothesis testing are interpreted in the context of the research question or problem. Conclusions should be drawn based on the evidence presented by the statistical test, and further research may be needed to confirm or refute the findings."
   ]
  },
  {
   "cell_type": "markdown",
   "id": "41e265ec",
   "metadata": {},
   "source": [
    "Q8. Define p-value and explain its significance in hypothesis testing.\n",
    "\n",
    "ANS: A p-value is a statistical measure that helps determine the strength of evidence against a null hypothesis. In hypothesis testing, the null hypothesis is the assumption that there is no significant difference between two groups or variables being compared. The alternative hypothesis is the opposite of the null hypothesis and suggests that there is a significant difference.\n",
    "\n",
    "The p-value is the probability of obtaining a result as extreme or more extreme than the observed result, assuming that the null hypothesis is true. If the p-value is small (usually less than 0.05), it suggests that the observed result is unlikely to have occurred by chance alone and provides evidence against the null hypothesis. In this case, we reject the null hypothesis in favor of the alternative hypothesis.\n",
    "\n",
    "The significance of the p-value in hypothesis testing is that it helps us determine whether our results are meaningful or not. A small p-value indicates that there is a significant difference between the groups or variables being compared, while a large p-value suggests that there is no significant difference. By using the p-value to make decisions about rejecting or accepting the null hypothesis, we can draw conclusions about the relationship between variables and make predictions about future outcomes."
   ]
  },
  {
   "cell_type": "markdown",
   "id": "fd542d71",
   "metadata": {},
   "source": [
    "Q9. Generate a Student's t-distribution plot using Python's matplotlib library, with the degrees of freedom\n",
    "parameter set to 10.\n",
    "\n",
    "ANS: his code sets the degrees of freedom to 10, creates a range of x-values, computes the corresponding y-values of the t-distribution using the t.pdf() function from the scipy.stats module, and then plots the t-distribution using the plt.plot() function from the matplotlib.pyplot module. Finally, it adds a legend and title to the plot using the plt.legend() and plt.title() functions, and displays the plot using the plt.show() function.\n",
    "\n",
    "\n",
    "\n",
    "\n"
   ]
  },
  {
   "cell_type": "code",
   "execution_count": 13,
   "id": "a36ab4f2",
   "metadata": {},
   "outputs": [
    {
     "data": {
      "image/png": "[encoded data removed]",
      "text/plain": [
       "<Figure size 640x480 with 1 Axes>"
      ]
     },
     "metadata": {},
     "output_type": "display_data"
    }
   ],
   "source": [
    "import numpy as np\n",
    "import matplotlib.pyplot as plt\n",
    "from scipy.stats import t\n",
    "\n",
    "# Set the degrees of freedom\n",
    "df = 10\n",
    "\n",
    "# Create a range of x-values\n",
    "x = np.linspace(-5, 5, 1000)\n",
    "\n",
    "# Compute the corresponding y-values of the t-distribution\n",
    "y = t.pdf(x, df)\n",
    "\n",
    "# Plot the t-distribution\n",
    "plt.plot(x, y, label='t-distribution (df=10)')\n",
    "\n",
    "# Add a legend and title\n",
    "plt.legend()\n",
    "plt.title(\"Student's t-distribution\")\n",
    "\n",
    "# Display the plot\n",
    "plt.show()\n"
   ]
  },
  {
   "cell_type": "markdown",
   "id": "01e08a22",
   "metadata": {},
   "source": [
    "Q10. Write a Python program to calculate the two-sample t-test for independent samples, given two\n",
    "random samples of equal size and a null hypothesis that the population means are equal.\n",
    "\n",
    "ANS: "
   ]
  },
  {
   "cell_type": "code",
   "execution_count": 14,
   "id": "98dbbaae",
   "metadata": {},
   "outputs": [
    {
     "name": "stdout",
     "output_type": "stream",
     "text": [
      "t-statistic: 0.0\n",
      "p-value: 1.0\n"
     ]
    }
   ],
   "source": [
    "import numpy as np\n",
    "from scipy import stats\n",
    "\n",
    "# Define the two random samples\n",
    "sample1 = np.array([2, 5, 7, 3, 9])\n",
    "sample2 = np.array([4, 6, 8, 1, 7])\n",
    "\n",
    "# Calculate the means of the two samples\n",
    "mean1 = np.mean(sample1)\n",
    "mean2 = np.mean(sample2)\n",
    "\n",
    "# Calculate the standard deviations of the two samples\n",
    "std1 = np.std(sample1, ddof=1)\n",
    "std2 = np.std(sample2, ddof=1)\n",
    "\n",
    "# Calculate the degrees of freedom\n",
    "n1 = len(sample1)\n",
    "n2 = len(sample2)\n",
    "df = n1 + n2 - 2\n",
    "\n",
    "# Calculate the pooled standard deviation\n",
    "s = np.sqrt(((n1-1)*(std1**2) + (n2-1)*(std2**2)) / df)\n",
    "\n",
    "# Calculate the t-statistic\n",
    "t = (mean1 - mean2) / (s * np.sqrt(1/n1 + 1/n2))\n",
    "\n",
    "# Calculate the p-value\n",
    "p = stats.t.sf(np.abs(t), df)*2\n",
    "\n",
    "# Print the results\n",
    "print(\"t-statistic:\", t)\n",
    "print(\"p-value:\", p)\n"
   ]
  },
  {
   "cell_type": "markdown",
   "id": "e8484ec0",
   "metadata": {},
   "source": [
    "Q11: What is Student’s t distribution? When to use the t-Distribution.\n",
    "    \n",
    "ANS: \n",
    "\n",
    "The Student's t-distribution is a probability distribution that is widely used in statistical inference. It is a continuous probability distribution that arises when estimating the mean of a normally distributed population in situations where the sample size is small or the population standard deviation is unknown.\n",
    "\n",
    "The t-distribution is similar in shape to the normal distribution but has fatter tails, which makes it more appropriate for small sample sizes. As the sample size increases, the t-distribution becomes closer to the standard normal distribution.\n",
    "\n",
    "The t-distribution is used in hypothesis testing, confidence interval estimation, and in the calculation of p-values. It is particularly useful when working with small sample sizes, as it allows us to estimate the population mean with greater accuracy.\n",
    "\n",
    "In general, the t-distribution is used when:\n",
    "\n",
    "- The sample size is small (typically n < 30).\n",
    "- The population standard deviation is unknown.\n",
    "- The data is normally distributed or approximately normally distributed.\n",
    "- The parameter of interest is the population mean."
   ]
  },
  {
   "cell_type": "markdown",
   "id": "9b1ba84c",
   "metadata": {},
   "source": [
    "Q12: What is t-statistic? State the formula for t-statistic.\n",
    "\n",
    "ANS: \n",
    "\n",
    "The t-statistic is a measure of the difference between the sample mean and the population mean, expressed in terms of the estimated standard error of the sample mean. It is commonly used in hypothesis testing and is used to determine whether the difference between two means is statistically significant.\n",
    "\n",
    "The formula for the t-statistic is:\n",
    "\n",
    "t = (x̄ - μ) / (s / √n)\n",
    "\n",
    "Where:\n",
    "- t: the t-statistic\n",
    "- x̄: the sample mean\n",
    "- μ: the population mean (usually unknown)\n",
    "- s: the sample standard deviation\n",
    "- n: the sample size\n",
    "\n",
    "The t-statistic measures how many standard errors the sample mean is away from the population mean. If the t-statistic is large (i.e., further away from zero), then the difference between the sample mean and population mean is more likely to be statistically significant. The significance of the t-statistic is determined by comparing it to a critical value from a t-distribution with (n-1) degrees of freedom, based on the desired level of significance (alpha) and the directionality of the hypothesis (one-tailed vs. two-tailed)."
   ]
  },
  {
   "cell_type": "markdown",
   "id": "65371d7d",
   "metadata": {},
   "source": [
    "Q13. A coffee shop owner wants to estimate the average daily revenue for their shop. They take a random\n",
    "sample of 50 days and find the sample mean revenue to be $500 with a standard deviation of $50.\n",
    "Estimate the population mean revenue with a 95% confidence interval.\n",
    "\n",
    "ANS: \n",
    "\n",
    "To estimate the population mean revenue with a 95% confidence interval, we can use the following formula:\n",
    "\n",
    "Confidence interval = sample mean ± (t-value)*(standard error)\n",
    "\n",
    "where:\n",
    "\n",
    "- sample mean = $500\n",
    "- t-value for a 95% confidence level with 49 degrees of freedom (n-1) = 2.009 (from t-distribution table or calculator)\n",
    "- standard error = standard deviation / sqrt(sample size) = $50 / sqrt(50) = $7.07\n",
    "\n",
    "Plugging in the values, we get:\n",
    "\n",
    "Confidence interval = $500 ± (2.009)*(7.07) = $500 ± $14.20\n",
    "\n",
    "Therefore, the 95% confidence interval for the population mean revenue is:\n",
    "\n",
    "$500 - $14.20 to $500 + $14.20\n",
    "\n",
    "or\n",
    "\n",
    "$485.80 to $514.20\n",
    "\n",
    "So we can say with 95% confidence that the true population mean revenue lies within this interval."
   ]
  },
  {
   "cell_type": "markdown",
   "id": "0e03899f",
   "metadata": {},
   "source": [
    "Q14. A researcher hypothesizes that a new drug will decrease blood pressure by 10 mmHg. They conduct a\n",
    "clinical trial with 100 patients and find that the sample mean decrease in blood pressure is 8 mmHg with a\n",
    "standard deviation of 3 mmHg. Test the hypothesis with a significance level of 0.05.\n",
    "\n",
    "ANS: \n",
    "\n",
    "To test the hypothesis, we need to perform a one-sample t-test. \n",
    "\n",
    "Null hypothesis: The new drug does not decrease blood pressure by 10 mmHg.\n",
    "Alternative hypothesis: The new drug decreases blood pressure by 10 mmHg.\n",
    "\n",
    "Let's calculate the t-statistic:\n",
    "\n",
    "t = (sample mean - hypothesized mean) / (standard deviation / sqrt(sample size))\n",
    "t = (8 - 10) / (3 / sqrt(100))\n",
    "t = -2 * sqrt(100) / 3\n",
    "t = -6.67\n",
    "\n",
    "The degrees of freedom (df) for this test is 100 - 1 = 99. \n",
    "\n",
    "We can now look up the critical value of t for a significance level of 0.05 and 99 degrees of freedom using a t-distribution table or a statistical software. For a two-tailed test, the critical values are -1.984 and 1.984. Since our calculated t-value (-6.67) falls outside of this range, we reject the null hypothesis.\n",
    "\n",
    "Therefore, we can conclude that the new drug does decrease blood pressure by 10 mmHg with a significance level of 0.05."
   ]
  },
  {
   "cell_type": "code",
   "execution_count": 18,
   "id": "96e2306c",
   "metadata": {},
   "outputs": [
    {
     "ename": "SyntaxError",
     "evalue": "invalid syntax (602208542.py, line 1)",
     "output_type": "error",
     "traceback": [
      "\u001b[1;36m  Cell \u001b[1;32mIn[18], line 1\u001b[1;36m\u001b[0m\n\u001b[1;33m    Q15. An electronics company produces a certain type of product with a mean weight of 5 pounds and a\u001b[0m\n\u001b[1;37m            ^\u001b[0m\n\u001b[1;31mSyntaxError\u001b[0m\u001b[1;31m:\u001b[0m invalid syntax\n"
     ]
    }
   ],
   "source": [
    "Q15. An electronics company produces a certain type of product with a mean weight of 5 pounds and a\n",
    "standard deviation of 0.5 pounds. A random sample of 25 products is taken, and the sample mean weight\n",
    "is found to be 4.8 pounds. Test the hypothesis that the true mean weight of the products is less than 5\n",
    "pounds with a significance level of 0.01."
   ]
  },
  {
   "cell_type": "code",
   "execution_count": 19,
   "id": "71e884bf",
   "metadata": {},
   "outputs": [
    {
     "ename": "SyntaxError",
     "evalue": "invalid syntax (2376284395.py, line 1)",
     "output_type": "error",
     "traceback": [
      "\u001b[1;36m  Cell \u001b[1;32mIn[19], line 1\u001b[1;36m\u001b[0m\n\u001b[1;33m    Q16. Two groups of students are given different study materials to prepare for a test. The first group (n1 =\u001b[0m\n\u001b[1;37m             ^\u001b[0m\n\u001b[1;31mSyntaxError\u001b[0m\u001b[1;31m:\u001b[0m invalid syntax\n"
     ]
    }
   ],
   "source": [
    "Q16. Two groups of students are given different study materials to prepare for a test. The first group (n1 =\n",
    "30) has a mean score of 80 with a standard deviation of 10, and the second group (n2 = 40) has a mean\n",
    "score of 75 with a standard deviation of 8. Test the hypothesis that the population means for the two\n",
    "groups are equal with a significance level of 0.01."
   ]
  },
  {
   "cell_type": "code",
   "execution_count": null,
   "id": "e545ea1e",
   "metadata": {},
   "outputs": [],
   "source": []
  }
 ],
 "metadata": {
  "kernelspec": {
   "display_name": "Python 3 (ipykernel)",
   "language": "python",
   "name": "python3"
  },
  "language_info": {
   "codemirror_mode": {
    "name": "ipython",
    "version": 3
   },
   "file_extension": ".py",
   "mimetype": "text/x-python",
   "name": "python",
   "nbconvert_exporter": "python",
   "pygments_lexer": "ipython3",
   "version": "3.11.1"
  }
 },
 "nbformat": 4,
 "nbformat_minor": 5
}
