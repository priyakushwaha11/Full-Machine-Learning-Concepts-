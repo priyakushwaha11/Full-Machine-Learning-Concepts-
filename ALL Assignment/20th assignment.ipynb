{
 "cells": [
  {
   "cell_type": "markdown",
   "id": "7f9b111d",
   "metadata": {},
   "source": [
    "Q1. Explain GET and POST methods.\n",
    "\n",
    "Ans . Get and Post methods are the HTTP request methods used inside the <form> tag to send form data to the server. HTTP protocol enables the communication between the client and the server where a browser can be the client, and an application running on a computer system that hosts your website can be the server."
   ]
  },
  {
   "cell_type": "markdown",
   "id": "99c5fead",
   "metadata": {},
   "source": [
    "Q2. Why is request used in Flask?\n",
    "\n",
    "Ans.\n",
    "The requests library is the de facto standard for making HTTP requests in Python. It abstracts the complexities of making requests behind a beautiful, simple API so that you can focus on interacting with services and consuming data in your application"
   ]
  },
  {
   "cell_type": "markdown",
   "id": "122b0ce4",
   "metadata": {},
   "source": [
    "Q3. Why is redirect() used in Flask?\n",
    "\n",
    "Ans . Flask redirect is defined as a function or utility in Flask which allows developers to redirect users to a specified URL and assign a specified status code. When this function is called, a response object is returned, and the redirection happens to the target location with the status code. When a website is visited, server receives a request and after processing responds to the request with a three-digit code known as the HTTP code. In a programming world this status code that is returned as a response is known as Errors. Errors and redirect function goes hand in hand.\n",
    "\n"
   ]
  },
  {
   "cell_type": "markdown",
   "id": "67bdfa6d",
   "metadata": {},
   "source": [
    "Q4. What are templates in Flask? Why is the render_template() function used?\n",
    "\n",
    "Ans.\n",
    "Templates are files that contain static data as well as placeholders for dynamic data. A template is rendered with specific data to produce a final document. Flask uses the Jinja template library to render templates. In your application, you will use templates to render HTML which will display in the user's browser.\n",
    "\n",
    "       Rendering external\n",
    "Flask provides us the render_template() function which can be used to render the external HTML file to be returned as the response from the view function."
   ]
  },
  {
   "cell_type": "markdown",
   "id": "2baab95e",
   "metadata": {},
   "source": [
    "Q.5 Create a simple API. Use Postman to test it. Attach the screenshot of the output in the Jupyter Notebook.\n",
    "\n"
   ]
  }
 ],
 "metadata": {
  "kernelspec": {
   "display_name": "Python 3 (ipykernel)",
   "language": "python",
   "name": "python3"
  },
  "language_info": {
   "codemirror_mode": {
    "name": "ipython",
    "version": 3
   },
   "file_extension": ".py",
   "mimetype": "text/x-python",
   "name": "python",
   "nbconvert_exporter": "python",
   "pygments_lexer": "ipython3",
   "version": "3.11.1"
  }
 },
 "nbformat": 4,
 "nbformat_minor": 5
}
