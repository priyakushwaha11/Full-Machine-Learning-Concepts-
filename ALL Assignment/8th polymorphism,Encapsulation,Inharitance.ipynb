{
 "cells": [
  {
   "cell_type": "markdown",
   "id": "57d934a5",
   "metadata": {},
   "source": [
    "#  Polymorphism\n"
   ]
  },
  {
   "cell_type": "code",
   "execution_count": 2,
   "id": "1a3d168b",
   "metadata": {},
   "outputs": [],
   "source": [
    "def test (a,b):\n",
    "    return a+b"
   ]
  },
  {
   "cell_type": "code",
   "execution_count": 3,
   "id": "cb6472f8",
   "metadata": {},
   "outputs": [
    {
     "data": {
      "text/plain": [
       "14"
      ]
     },
     "execution_count": 3,
     "metadata": {},
     "output_type": "execute_result"
    }
   ],
   "source": [
    "test(9,5)"
   ]
  },
  {
   "cell_type": "code",
   "execution_count": 4,
   "id": "adbfa9a6",
   "metadata": {},
   "outputs": [
    {
     "data": {
      "text/plain": [
       "'priyakushwaha'"
      ]
     },
     "execution_count": 4,
     "metadata": {},
     "output_type": "execute_result"
    }
   ],
   "source": [
    "test(\"priya\",\"kushwaha\")"
   ]
  },
  {
   "cell_type": "code",
   "execution_count": 5,
   "id": "47d851e7",
   "metadata": {},
   "outputs": [
    {
     "data": {
      "text/plain": [
       "[1, 3, 4, 5, 5, 2, 34, 455, 7, 8]"
      ]
     },
     "execution_count": 5,
     "metadata": {},
     "output_type": "execute_result"
    }
   ],
   "source": [
    "test([1,3,4,5,5],[2,34,455,7,8,])"
   ]
  },
  {
   "cell_type": "code",
   "execution_count": 24,
   "id": "72fbbd5d",
   "metadata": {},
   "outputs": [],
   "source": [
    "class data_science:\n",
    "    def syllabus(self):\n",
    "        print(\"my cyllabus is the best\")"
   ]
  },
  {
   "cell_type": "code",
   "execution_count": 25,
   "id": "3cc29d9c",
   "metadata": {},
   "outputs": [],
   "source": [
    "class web_dev:\n",
    "    def syllabus(self):\n",
    "        print(\"this is my cullabus\")"
   ]
  },
  {
   "cell_type": "code",
   "execution_count": 26,
   "id": "456c6a84",
   "metadata": {},
   "outputs": [],
   "source": [
    "def class_parcer(class_obj):\n",
    "    for i in class_obj:\n",
    "        i.syllabus()"
   ]
  },
  {
   "cell_type": "code",
   "execution_count": 27,
   "id": "a6aa7b58",
   "metadata": {},
   "outputs": [],
   "source": [
    "data_science = data_science()"
   ]
  },
  {
   "cell_type": "code",
   "execution_count": 28,
   "id": "cfd4c1ec",
   "metadata": {},
   "outputs": [],
   "source": [
    "web_dev = web_dev()"
   ]
  },
  {
   "cell_type": "code",
   "execution_count": 29,
   "id": "60df13db",
   "metadata": {},
   "outputs": [],
   "source": [
    "class_obj = [data_science,web_dev]"
   ]
  },
  {
   "cell_type": "code",
   "execution_count": 30,
   "id": "b5c8ce39",
   "metadata": {},
   "outputs": [
    {
     "name": "stdout",
     "output_type": "stream",
     "text": [
      "my cyllabus is the best\n",
      "this is my cullabus\n"
     ]
    }
   ],
   "source": [
    "class_parcer(class_obj)"
   ]
  },
  {
   "cell_type": "code",
   "execution_count": null,
   "id": "18d98653",
   "metadata": {},
   "outputs": [],
   "source": []
  },
  {
   "cell_type": "markdown",
   "id": "d70719f0",
   "metadata": {},
   "source": [
    "# Encapsulation"
   ]
  },
  {
   "cell_type": "code",
   "execution_count": 31,
   "id": "b2378b36",
   "metadata": {},
   "outputs": [],
   "source": [
    "class test :\n",
    "    def __init__(self , a,b):\n",
    "        self.a = a\n",
    "        self.b = b "
   ]
  },
  {
   "cell_type": "code",
   "execution_count": 32,
   "id": "2558f896",
   "metadata": {},
   "outputs": [
    {
     "data": {
      "text/plain": [
       "<__main__.test at 0x25e119dc450>"
      ]
     },
     "execution_count": 32,
     "metadata": {},
     "output_type": "execute_result"
    }
   ],
   "source": [
    "test (67,89)"
   ]
  },
  {
   "cell_type": "code",
   "execution_count": 38,
   "id": "dd5122f9",
   "metadata": {},
   "outputs": [],
   "source": [
    "t = test"
   ]
  },
  {
   "cell_type": "code",
   "execution_count": 40,
   "id": "1ead117d",
   "metadata": {},
   "outputs": [],
   "source": [
    "a = 6786"
   ]
  },
  {
   "cell_type": "code",
   "execution_count": 43,
   "id": "8a5d41f8",
   "metadata": {},
   "outputs": [],
   "source": [
    "t.a = 9782"
   ]
  },
  {
   "cell_type": "code",
   "execution_count": 44,
   "id": "31e8c97b",
   "metadata": {},
   "outputs": [
    {
     "data": {
      "text/plain": [
       "9782"
      ]
     },
     "execution_count": 44,
     "metadata": {},
     "output_type": "execute_result"
    }
   ],
   "source": [
    "t.a"
   ]
  },
  {
   "cell_type": "code",
   "execution_count": 45,
   "id": "110cb414",
   "metadata": {},
   "outputs": [
    {
     "data": {
      "text/plain": [
       "6786"
      ]
     },
     "execution_count": 45,
     "metadata": {},
     "output_type": "execute_result"
    }
   ],
   "source": [
    "a"
   ]
  },
  {
   "cell_type": "code",
   "execution_count": 84,
   "id": "4c4a14ce",
   "metadata": {},
   "outputs": [],
   "source": [
    "class car :\n",
    "    def __init__(self , year , make , model , speed ):\n",
    "        \n",
    "        self.__year = year\n",
    "        self.__make = make\n",
    "        self.__model = model\n",
    "        self.__speed = 0"
   ]
  },
  {
   "cell_type": "code",
   "execution_count": 85,
   "id": "81bdf9a3",
   "metadata": {},
   "outputs": [],
   "source": [
    "c = car (5768,\"oddy\", \"innova\",67)"
   ]
  },
  {
   "cell_type": "code",
   "execution_count": 86,
   "id": "22bb67be",
   "metadata": {},
   "outputs": [
    {
     "data": {
      "text/plain": [
       "'oddy'"
      ]
     },
     "execution_count": 86,
     "metadata": {},
     "output_type": "execute_result"
    }
   ],
   "source": [
    "c._car__make"
   ]
  },
  {
   "cell_type": "code",
   "execution_count": 87,
   "id": "8b627ff0",
   "metadata": {},
   "outputs": [],
   "source": [
    "class car :\n",
    "    def __init__(self , year , make , model , speed ):\n",
    "        \n",
    "        self.__year = year\n",
    "        self.__make = make\n",
    "        self.__model = model\n",
    "        self.__speed = 0\n",
    "        \n",
    "    def set_speed(self,speed):\n",
    "        self.__speed = 0 if speed  < 0 else speed\n",
    "        \n",
    "        def get_speed(self):\n",
    "            return self.__speed"
   ]
  },
  {
   "cell_type": "code",
   "execution_count": 88,
   "id": "5da25312",
   "metadata": {},
   "outputs": [],
   "source": [
    "c = car (2034 , \"rangrover\" , \"innova\" ,99)"
   ]
  },
  {
   "cell_type": "code",
   "execution_count": 89,
   "id": "be4409ae",
   "metadata": {},
   "outputs": [],
   "source": [
    "# c = car"
   ]
  },
  {
   "cell_type": "code",
   "execution_count": 90,
   "id": "9587d230",
   "metadata": {},
   "outputs": [
    {
     "data": {
      "text/plain": [
       "2034"
      ]
     },
     "execution_count": 90,
     "metadata": {},
     "output_type": "execute_result"
    }
   ],
   "source": [
    "c._car__year"
   ]
  },
  {
   "cell_type": "code",
   "execution_count": 93,
   "id": "aa350103",
   "metadata": {},
   "outputs": [],
   "source": [
    "c.set_speed(-767)"
   ]
  },
  {
   "cell_type": "code",
   "execution_count": 94,
   "id": "90f199a1",
   "metadata": {},
   "outputs": [
    {
     "ename": "AttributeError",
     "evalue": "'car' object has no attribute 'get_speed'",
     "output_type": "error",
     "traceback": [
      "\u001b[1;31m---------------------------------------------------------------------------\u001b[0m",
      "\u001b[1;31mAttributeError\u001b[0m                            Traceback (most recent call last)",
      "Cell \u001b[1;32mIn[94], line 1\u001b[0m\n\u001b[1;32m----> 1\u001b[0m \u001b[43mc\u001b[49m\u001b[38;5;241;43m.\u001b[39;49m\u001b[43mget_speed\u001b[49m()\n",
      "\u001b[1;31mAttributeError\u001b[0m: 'car' object has no attribute 'get_speed'"
     ]
    }
   ],
   "source": [
    "c.get_speed()"
   ]
  },
  {
   "cell_type": "code",
   "execution_count": 96,
   "id": "ad0abadf",
   "metadata": {},
   "outputs": [],
   "source": [
    "class bank_account :\n",
    "    def __init__(self , balance) :\n",
    "        self.__balance = balance\n",
    "        \n",
    "    def deposit(self , amount ):\n",
    "        self.__balance = self.__balance + amount\n",
    "        \n",
    "    def withdraw(self,amount):\n",
    "        if self.__balance >= amount:\n",
    "            self.__balance = self.__balance - amount\n",
    "            return True\n",
    "        else:\n",
    "            return False\n",
    "        \n",
    "    def get_balance(self):\n",
    "        return self.__balance\n",
    "    "
   ]
  },
  {
   "cell_type": "code",
   "execution_count": 99,
   "id": "fb7ebb9e",
   "metadata": {},
   "outputs": [],
   "source": [
    "priya = banktaccount(1000)"
   ]
  },
  {
   "cell_type": "code",
   "execution_count": 100,
   "id": "e3185b0b",
   "metadata": {},
   "outputs": [
    {
     "data": {
      "text/plain": [
       "1000"
      ]
     },
     "execution_count": 100,
     "metadata": {},
     "output_type": "execute_result"
    }
   ],
   "source": [
    "priya.get_balance()"
   ]
  },
  {
   "cell_type": "code",
   "execution_count": 101,
   "id": "a99f7bbd",
   "metadata": {},
   "outputs": [],
   "source": [
    "priya.deposit(5000)"
   ]
  },
  {
   "cell_type": "code",
   "execution_count": 103,
   "id": "a3fdf7e6",
   "metadata": {},
   "outputs": [
    {
     "data": {
      "text/plain": [
       "6000"
      ]
     },
     "execution_count": 103,
     "metadata": {},
     "output_type": "execute_result"
    }
   ],
   "source": [
    "priya.get_balance()"
   ]
  },
  {
   "cell_type": "code",
   "execution_count": 104,
   "id": "0d5164f7",
   "metadata": {},
   "outputs": [],
   "source": [
    "priya.deposit(767)"
   ]
  },
  {
   "cell_type": "code",
   "execution_count": 105,
   "id": "7b5ba9f7",
   "metadata": {},
   "outputs": [
    {
     "data": {
      "text/plain": [
       "6767"
      ]
     },
     "execution_count": 105,
     "metadata": {},
     "output_type": "execute_result"
    }
   ],
   "source": [
    "priya.get_balance()"
   ]
  },
  {
   "cell_type": "code",
   "execution_count": 106,
   "id": "4026e77a",
   "metadata": {},
   "outputs": [
    {
     "data": {
      "text/plain": [
       "True"
      ]
     },
     "execution_count": 106,
     "metadata": {},
     "output_type": "execute_result"
    }
   ],
   "source": [
    "priya.withdraw(500)"
   ]
  },
  {
   "cell_type": "code",
   "execution_count": 107,
   "id": "2d6799ec",
   "metadata": {},
   "outputs": [
    {
     "data": {
      "text/plain": [
       "False"
      ]
     },
     "execution_count": 107,
     "metadata": {},
     "output_type": "execute_result"
    }
   ],
   "source": [
    "priya.withdraw(67789)"
   ]
  },
  {
   "cell_type": "code",
   "execution_count": 108,
   "id": "40296bfb",
   "metadata": {},
   "outputs": [
    {
     "data": {
      "text/plain": [
       "6267"
      ]
     },
     "execution_count": 108,
     "metadata": {},
     "output_type": "execute_result"
    }
   ],
   "source": [
    "priya.get_balance()"
   ]
  },
  {
   "cell_type": "code",
   "execution_count": 109,
   "id": "0775c5a0",
   "metadata": {},
   "outputs": [
    {
     "data": {
      "text/plain": [
       "True"
      ]
     },
     "execution_count": 109,
     "metadata": {},
     "output_type": "execute_result"
    }
   ],
   "source": [
    "priya.withdraw(4267)"
   ]
  },
  {
   "cell_type": "code",
   "execution_count": 110,
   "id": "d190a1cd",
   "metadata": {},
   "outputs": [
    {
     "data": {
      "text/plain": [
       "2000"
      ]
     },
     "execution_count": 110,
     "metadata": {},
     "output_type": "execute_result"
    }
   ],
   "source": [
    "priya.get_balance()"
   ]
  },
  {
   "cell_type": "code",
   "execution_count": null,
   "id": "345cf86d",
   "metadata": {},
   "outputs": [],
   "source": []
  },
  {
   "cell_type": "markdown",
   "id": "c742b641",
   "metadata": {},
   "source": [
    "# Inharitance"
   ]
  },
  {
   "cell_type": "code",
   "execution_count": 113,
   "id": "a9fa3537",
   "metadata": {},
   "outputs": [],
   "source": [
    "class test :\n",
    "    def test_meth(self) :\n",
    "        return \"this is my eighth class\""
   ]
  },
  {
   "cell_type": "code",
   "execution_count": 114,
   "id": "9f171c8a",
   "metadata": {},
   "outputs": [],
   "source": [
    "class child_test(test):\n",
    "    pass"
   ]
  },
  {
   "cell_type": "code",
   "execution_count": 116,
   "id": "65a3b813",
   "metadata": {},
   "outputs": [],
   "source": [
    "child_test_obj = child_test()"
   ]
  },
  {
   "cell_type": "code",
   "execution_count": 118,
   "id": "dbbc3310",
   "metadata": {},
   "outputs": [
    {
     "data": {
      "text/plain": [
       "'this is my eighth class'"
      ]
     },
     "execution_count": 118,
     "metadata": {},
     "output_type": "execute_result"
    }
   ],
   "source": [
    "child_test_obj.test_meth()"
   ]
  },
  {
   "cell_type": "code",
   "execution_count": 15,
   "id": "72d01e18",
   "metadata": {},
   "outputs": [],
   "source": [
    "class class1:\n",
    "    def test_class(self):\n",
    "        return \"this is the meth class\""
   ]
  },
  {
   "cell_type": "code",
   "execution_count": 16,
   "id": "927265d4",
   "metadata": {},
   "outputs": [],
   "source": [
    "class class2(class1):\n",
    "    def test_class2(self):\n",
    "        return \"second class of meth class\""
   ]
  },
  {
   "cell_type": "code",
   "execution_count": 17,
   "id": "c28a0395",
   "metadata": {},
   "outputs": [],
   "source": [
    "class class3(class2):\n",
    "    pass"
   ]
  },
  {
   "cell_type": "code",
   "execution_count": 18,
   "id": "ba2f03be",
   "metadata": {},
   "outputs": [],
   "source": [
    "obj_class3 = class3()"
   ]
  },
  {
   "cell_type": "code",
   "execution_count": 19,
   "id": "0175349d",
   "metadata": {},
   "outputs": [
    {
     "data": {
      "text/plain": [
       "'second class of meth class'"
      ]
     },
     "execution_count": 19,
     "metadata": {},
     "output_type": "execute_result"
    }
   ],
   "source": [
    "obj_class3.test_class2()"
   ]
  },
  {
   "cell_type": "code",
   "execution_count": 41,
   "id": "32cb4ba4",
   "metadata": {},
   "outputs": [],
   "source": [
    "class class1 :\n",
    "    def test_class1(self):\n",
    "        return \"this first class\""
   ]
  },
  {
   "cell_type": "code",
   "execution_count": 42,
   "id": "ffe103e1",
   "metadata": {},
   "outputs": [],
   "source": [
    "class class2:\n",
    "    def test_class2(self):\n",
    "        return \"second classs of this \""
   ]
  },
  {
   "cell_type": "code",
   "execution_count": 43,
   "id": "7a659b2d",
   "metadata": {},
   "outputs": [],
   "source": [
    "class class3(class1,class2):\n",
    "    pass"
   ]
  },
  {
   "cell_type": "code",
   "execution_count": 45,
   "id": "5acad6aa",
   "metadata": {},
   "outputs": [],
   "source": [
    "obj_class3=class3()"
   ]
  },
  {
   "cell_type": "code",
   "execution_count": 47,
   "id": "ffb1236b",
   "metadata": {},
   "outputs": [
    {
     "data": {
      "text/plain": [
       "'this first class'"
      ]
     },
     "execution_count": 47,
     "metadata": {},
     "output_type": "execute_result"
    }
   ],
   "source": [
    "obj_class3.test_class1()"
   ]
  },
  {
   "cell_type": "code",
   "execution_count": 48,
   "id": "5ee39668",
   "metadata": {},
   "outputs": [
    {
     "data": {
      "text/plain": [
       "'second classs of this '"
      ]
     },
     "execution_count": 48,
     "metadata": {},
     "output_type": "execute_result"
    }
   ],
   "source": [
    "obj_class3.test_class2()"
   ]
  },
  {
   "cell_type": "code",
   "execution_count": null,
   "id": "ff4d2259",
   "metadata": {},
   "outputs": [],
   "source": []
  }
 ],
 "metadata": {
  "kernelspec": {
   "display_name": "Python 3 (ipykernel)",
   "language": "python",
   "name": "python3"
  },
  "language_info": {
   "codemirror_mode": {
    "name": "ipython",
    "version": 3
   },
   "file_extension": ".py",
   "mimetype": "text/x-python",
   "name": "python",
   "nbconvert_exporter": "python",
   "pygments_lexer": "ipython3",
   "version": "3.11.1"
  }
 },
 "nbformat": 4,
 "nbformat_minor": 5
}
