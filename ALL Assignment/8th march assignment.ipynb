{
 "cells": [
  {
   "cell_type": "markdown",
   "id": "da659db7",
   "metadata": {},
   "source": [
    "Q1. What is the Probability density function?\n",
    "\n",
    "Ans: The probability density function (PDF) is a mathematical function that describes the likelihood of a random variable taking on a particular value. It is used in probability theory and statistics to model continuous random variables, such as the heights of people or the temperatures in a room. The PDF is defined as the derivative of the cumulative distribution function (CDF), which gives the probability that a random variable is less than or equal to a certain value. The PDF can be used to calculate probabilities of events by integrating over a range of values. In summary, the PDF is a tool used to describe the probability distribution of a continuous random variable."
   ]
  },
  {
   "cell_type": "markdown",
   "id": "9a4a72d8",
   "metadata": {},
   "source": [
    "Q2. What are the types of Probability distribution?\n",
    "\n",
    "Ans: The different types of probability distribution. Probability distribution refers to the way in which the probability of a particular event or outcome is distributed among all possible outcomes. In other words, it is a mathematical function that describes the likelihood of different events occurring.\n",
    "\n",
    "There are several types of probability distribution, including the normal distribution, binomial distribution, Poisson distribution, and exponential distribution. Each of these distributions has its own unique characteristics and is used in different situations depending on the nature of the data being analyzed. For example, the normal distribution is often used to describe data that is normally distributed, while the Poisson distribution is used to describe data that is discrete and counts occurrences of a particular event."
   ]
  },
  {
   "cell_type": "markdown",
   "id": "83956c03",
   "metadata": {},
   "source": [
    "Q3. Write a Python function to calculate the probability density function of a normal distribution with\n",
    "given mean and standard deviation at a given point.\n",
    "\n",
    "Ans:Python function that calculates the probability density function (PDF) of a normal distribution at a given point x, given the mean mu and standard deviation sigma:\n",
    "\n",
    " create a function in Python that can calculate the probability density function (PDF) of a normal distribution at a specific point. \n",
    "\n",
    "A normal distribution, also known as a Gaussian distribution, is a continuous probability distribution that is often used in statistics to describe real-world phenomena such as measurements of height or weight. It is characterized by its mean (average) and standard deviation (a measure of how spread out the data is) and has a bell-shaped curve.\n",
    "\n",
    "The PDF of a normal distribution gives the probability of a random variable (in this case, the point we are interested in) taking on a certain value. It is calculated using a mathematical formula that takes into account the mean, standard deviation, and the point of interest. \n",
    "\n",
    "Therefore, the function that needs to be created should take in the mean and standard deviation of the normal distribution, as well as the point of interest, and return the probability density at that point."
   ]
  },
  {
   "cell_type": "markdown",
   "id": "19d77f03",
   "metadata": {},
   "source": [
    "Q4. What are the properties of Binomial distribution? Give two examples of events where binomial\n",
    "distribution can be applied.\n",
    "\n",
    "Ans:  The binomial distribution is a discrete probability distribution that describes the probability of a certain number of successes in a fixed number of independent trials, where each trial has only two possible outcomes, usually referred to as success and failure. \n",
    "\n",
    "The properties of the binomial distribution are:\n",
    "\n",
    "1. The experiment consists of a fixed number of trials, denoted by n.\n",
    "2. Each trial is independent of the others.\n",
    "3. There are only two possible outcomes for each trial, referred to as success (S) and failure (F).\n",
    "4. The probability of success, denoted by p, is constant from trial to trial.\n",
    "5. The random variable X, which represents the number of successes in n trials, follows a binomial distribution with parameters n and p.\n",
    "\n",
    "Two examples of events where the binomial distribution can be applied are:\n",
    "\n",
    "1. A coin-tossing experiment: Suppose you toss a fair coin 10 times, and you are interested in the probability of getting exactly 5 heads. Here, the number of trials is n = 10, and the probability of success (getting a head) is p = 0.5. The random variable X, which represents the number of heads, follows a binomial distribution with parameters n = 10 and p = 0.5.\n",
    "\n",
    "2. A quality control inspection: Suppose a factory produces light bulbs, and the probability of a light bulb being defective is p = 0.05. A quality control inspector randomly selects 20 light bulbs for inspection, and wants to know the probability that no more than 2 are defective. Here, the number of trials is n = 20, and the probability of success (a light bulb being non-defective) is q = 1 - p = 0.95. The random variable X, which represents the number of non-defective light bulbs, follows a binomial distribution with parameters n = 20 and p = 0.95."
   ]
  },
  {
   "cell_type": "markdown",
   "id": "0f86a978",
   "metadata": {},
   "source": [
    "Q5. Generate a random sample of size 1000 from a binomial distribution with probability of success 0.4\n",
    "and plot a histogram of the results using matplotlib.\n",
    "\n",
    "Ans: "
   ]
  },
  {
   "cell_type": "code",
   "execution_count": 3,
   "id": "42bb2f54",
   "metadata": {},
   "outputs": [
    {
     "data": {
      "image/png": "[encoded data removed]",
      "text/plain": [
       "<Figure size 640x480 with 1 Axes>"
      ]
     },
     "metadata": {},
     "output_type": "display_data"
    }
   ],
   "source": [
    "import numpy as np\n",
    "import matplotlib.pyplot as plt\n",
    "\n",
    "# Set the parameters of the binomial distribution\n",
    "n = 1000\n",
    "p = 0.4\n",
    "\n",
    "# Generate a random sample of size 1000 from the binomial distribution\n",
    "sample = np.random.binomial(n, p, size=1000)\n",
    "\n",
    "# Plot a histogram of the results using matplotlib\n",
    "plt.hist(sample, bins=20, alpha=0.5, color='magenta')\n",
    "plt.title('Binomial Distribution with n=1000 and p=0.4')\n",
    "plt.xlabel('Number of Successes')\n",
    "plt.ylabel('Frequency')\n",
    "plt.show()\n"
   ]
  },
  {
   "cell_type": "markdown",
   "id": "7ab3b6fb",
   "metadata": {},
   "source": [
    "Q6. Write a Python function to calculate the cumulative distribution function of a Poisson distribution\n",
    "with given mean at a given point.\n",
    "\n",
    "Ans: Python function that can calculate the cumulative distribution function (CDF) of a Poisson distribution. A Poisson distribution is a probability distribution that is used to model the number of times an event occurs in a given time period, assuming that the events occur independently and at a constant rate. The mean of a Poisson distribution represents the average number of events that occur in a given time period.\n",
    "\n",
    "The CDF of a probability distribution is a function that gives the probability that a random variable takes on a value less than or equal to a given point. In the case of a Poisson distribution, the CDF can be calculated using the formula:\n",
    "\n",
    "CDF(x; μ) = e^(-μ) * ∑(k=0 to x) (μ^k / k!)\n",
    "\n",
    "where x is the point at which we want to calculate the CDF, μ is the mean of the Poisson distribution, e is the mathematical constant approximately equal to 2.71828, and k! denotes the factorial function (i.e., k! = k * (k-1) * (k-2) * ... * 2 * 1).\n",
    "\n",
    "Therefore, the Python function being asked for should take in two arguments: the mean of the Poisson distribution and the point at which we want to calculate the CDF. The function should then use the formula above to calculate and return the CDF of the Poisson distribution at that point."
   ]
  },
  {
   "cell_type": "markdown",
   "id": "650a2f0a",
   "metadata": {},
   "source": [
    "Q7. How Binomial distribution different from Poisson distribution?\n",
    "\n",
    "ANS: \n",
    "\n",
    "Both binomial and Poisson distributions are probability distributions that are used to model the occurrence of events. However, they differ in several important ways:\n",
    "\n",
    "1. Number of Trials: The binomial distribution models the number of successes in a fixed number of independent trials, while the Poisson distribution models the number of occurrences of an event in a fixed interval of time or space.\n",
    "\n",
    "2. Probability of Success: In the binomial distribution, the probability of success in each trial is constant, while in the Poisson distribution, the probability of occurrence of an event is constant.\n",
    "\n",
    "3. Type of Events: The binomial distribution models the occurrence of discrete events with two possible outcomes (success or failure), while the Poisson distribution models the occurrence of rare events with a low probability of occurrence.\n",
    "\n",
    "4. Mean and Variance: The mean and variance of the binomial distribution are both functions of the number of trials and the probability of success, while in the Poisson distribution, the mean and variance are equal and are both equal to the rate parameter λ.\n",
    "\n",
    "5. Limiting Case: The Poisson distribution can be seen as a limiting case of the binomial distribution, where the number of trials is very large and the probability of success is very small, such that the product of these two values is equal to the rate parameter λ."
   ]
  },
  {
   "cell_type": "markdown",
   "id": "0e866f5c",
   "metadata": {},
   "source": [
    "Q8. Generate a random sample of size 1000 from a Poisson distribution with mean 5 and calculate the\n",
    "sample mean and variance.\n",
    "\n",
    "ANS: The text is asking to generate a random sample of 1000 values from a Poisson distribution with a mean of 5. The Poisson distribution is a probability distribution that describes the number of events occurring in a fixed interval of time or space, given that these events occur independently and at a constant rate. The mean of a Poisson distribution is equal to the rate at which events occur.\n",
    "\n",
    "Once the sample is generated, the text asks to calculate the sample mean and variance. The sample mean is the average of all the values in the sample, while the sample variance measures how spread out the values in the sample are from the mean. It is calculated by taking the sum of the squared differences between each value and the mean, dividing by the number of values minus one, and taking the square root of the result.   "
   ]
  },
  {
   "cell_type": "markdown",
   "id": "ee52c5dd",
   "metadata": {},
   "source": [
    "Q9. How mean and variance are related in Binomial distribution and Poisson distribution?\n",
    "\n",
    "ANS: \n",
    "\n",
    "The Binomial distribution and Poisson distribution are related to each other in terms of their mean and variance. \n",
    "\n",
    "In the Binomial distribution, the mean is equal to n*p, where n is the number of trials and p is the probability of success in each trial. The variance is equal to n*p*(1-p).\n",
    "\n",
    "In the Poisson distribution, the mean is equal to λ, where λ is the rate parameter or the expected number of occurrences per unit of time or space. The variance is also equal to λ.\n",
    "\n",
    "In certain situations, the Poisson distribution can be used to approximate the Binomial distribution when the number of trials is large and the probability of success is small. In such cases, the mean of the Binomial distribution, which is n*p, is equal to λ, the mean of the Poisson distribution. Similarly, the variance of the Binomial distribution, which is n*p*(1-p), is also approximately equal to λ, the variance of the Poisson distribution. \n",
    "\n",
    "Therefore, when the conditions for the Poisson approximation to the Binomial distribution are met, the mean and variance of the Binomial distribution can be approximated by the mean of the Poisson distribution."
   ]
  },
  {
   "cell_type": "markdown",
   "id": "39b4b712",
   "metadata": {},
   "source": [
    "Q10. In normal distribution with respect to mean position, where does the least frequent data appear?\n",
    "\n",
    "ANS: "
   ]
  },
  {
   "cell_type": "code",
   "execution_count": null,
   "id": "eb2ef974",
   "metadata": {},
   "outputs": [],
   "source": []
  },
  {
   "cell_type": "code",
   "execution_count": null,
   "id": "600906cd",
   "metadata": {},
   "outputs": [],
   "source": []
  },
  {
   "cell_type": "code",
   "execution_count": null,
   "id": "e85e674f",
   "metadata": {},
   "outputs": [],
   "source": []
  },
  {
   "cell_type": "code",
   "execution_count": null,
   "id": "5269713c",
   "metadata": {},
   "outputs": [],
   "source": []
  }
 ],
 "metadata": {
  "kernelspec": {
   "display_name": "Python 3 (ipykernel)",
   "language": "python",
   "name": "python3"
  },
  "language_info": {
   "codemirror_mode": {
    "name": "ipython",
    "version": 3
   },
   "file_extension": ".py",
   "mimetype": "text/x-python",
   "name": "python",
   "nbconvert_exporter": "python",
   "pygments_lexer": "ipython3",
   "version": "3.11.1"
  }
 },
 "nbformat": 4,
 "nbformat_minor": 5
}
