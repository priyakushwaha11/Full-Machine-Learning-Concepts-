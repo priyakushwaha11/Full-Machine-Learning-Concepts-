{
 "cells": [
  {
   "cell_type": "markdown",
   "id": "1b3edf80",
   "metadata": {},
   "source": [
    "Q1. How can you create a Bokeh plot using Python code?\n",
    "\n",
    "**Ans** : \n",
    "\n",
    "To create a Bokeh plot using Python code, you need to follow the following steps:\n",
    "\n",
    "1. Install Bokeh library: Bokeh is an interactive visualization library in Python. You can install it using pip command.\n",
    "\n",
    "```\n",
    "pip install bokeh\n",
    "```\n",
    "\n",
    "2. Import necessary modules: Once you have installed Bokeh library, you need to import the necessary modules.\n",
    "\n",
    "```python\n",
    "from bokeh.plotting import figure, output_file, show\n",
    "```\n",
    "\n",
    "3. Prepare data: Prepare data to be used in the plot. In this example, we will create a line plot with the x-axis representing time and the y-axis representing temperature. \n",
    "\n",
    "```python\n",
    "# prepare some data\n",
    "x = [1, 2, 3, 4, 5]\n",
    "y = [5, 4, 3, 2, 1]\n",
    "```\n",
    "\n",
    "4. Create a plot: Create a plot object using the `figure()` function, set the plot parameters such as title, axes labels, and plot size.\n",
    "\n",
    "```python\n",
    "# create a plot\n",
    "p = figure(title=\"Temperature vs Time\", x_axis_label='Time', y_axis_label='Temperature', plot_width=400, plot_height=400)\n",
    "```\n",
    "\n",
    "5. Add glyphs: Add glyphs to the plot using the `line()` function.\n",
    "\n",
    "```python\n",
    "# add a line renderer\n",
    "p.line(x, y, line_width=2)\n",
    "```\n",
    "\n",
    "6. Save and show the plot: Save the plot using the `output_file()` function and show the plot using the `show()` function.\n",
    "\n",
    "```python\n",
    "# save and show the plot\n",
    "output_file(\"line.html\")\n",
    "show(p)\n",
    "```\n",
    "\n",
    "The complete code would look like this:\n",
    "\n",
    "```python\n",
    "from bokeh.plotting import figure, output_file, show\n",
    "\n",
    "# prepare some data\n",
    "x = [1, 2, 3, 4, 5]\n",
    "y = [5, 4, 3, 2, 1]\n",
    "\n",
    "# create a plot\n",
    "p = figure(title=\"Temperature vs Time\", x_axis_label='Time', y_axis_label='Temperature', plot_width=400, plot_height=400)\n",
    "\n",
    "# add a line renderer\n",
    "p.line(x, y, line_width=2)\n",
    "\n",
    "# save and show the plot\n",
    "output_file(\"line.html\")\n",
    "show(p)\n",
    "```\n",
    "\n",
    "This will create a Bokeh line plot with the specified data and plot parameters."
   ]
  },
  {
   "cell_type": "markdown",
   "id": "4fac4a51",
   "metadata": {},
   "source": [
    "Q2. What are glyphs in Bokeh, and how can you add them to a Bokeh plot? Explain with an example.\n",
    "\n",
    "**Ans**: In Bokeh, a glyph is a basic visual mark that represents data points in a plot. Glyphs include basic shapes such as circles, squares, and triangles, as well as more complex shapes like wedges, arcs, and patches. Each glyph can be customized with a variety of visual properties, such as color, size, and transparency, to create a rich and informative visualization.\n",
    "\n",
    "To add glyphs to a Bokeh plot, you can use the plot method of the bokeh.plotting module."
   ]
  },
  {
   "cell_type": "code",
   "execution_count": 1,
   "id": "5e416942",
   "metadata": {},
   "outputs": [
    {
     "name": "stdout",
     "output_type": "stream",
     "text": [
      "Requirement already satisfied: bokeh in c:\\users\\smart\\appdata\\local\\programs\\python\\python311\\lib\\site-packages (3.1.0)\n",
      "Requirement already satisfied: Jinja2>=2.9 in c:\\users\\smart\\appdata\\local\\programs\\python\\python311\\lib\\site-packages (from bokeh) (3.1.2)\n",
      "Requirement already satisfied: contourpy>=1 in c:\\users\\smart\\appdata\\local\\programs\\python\\python311\\lib\\site-packages (from bokeh) (1.0.6)\n",
      "Requirement already satisfied: numpy>=1.16 in c:\\users\\smart\\appdata\\local\\programs\\python\\python311\\lib\\site-packages (from bokeh) (1.24.1)\n",
      "Requirement already satisfied: packaging>=16.8 in c:\\users\\smart\\appdata\\local\\programs\\python\\python311\\lib\\site-packages (from bokeh) (22.0)\n",
      "Requirement already satisfied: pandas>=1.2 in c:\\users\\smart\\appdata\\local\\programs\\python\\python311\\lib\\site-packages (from bokeh) (1.5.2)\n",
      "Requirement already satisfied: pillow>=7.1.0 in c:\\users\\smart\\appdata\\local\\programs\\python\\python311\\lib\\site-packages (from bokeh) (9.3.0)\n",
      "Requirement already satisfied: PyYAML>=3.10 in c:\\users\\smart\\appdata\\local\\programs\\python\\python311\\lib\\site-packages (from bokeh) (6.0)\n",
      "Requirement already satisfied: tornado>=5.1 in c:\\users\\smart\\appdata\\local\\programs\\python\\python311\\lib\\site-packages (from bokeh) (6.2)\n",
      "Requirement already satisfied: xyzservices>=2021.09.1 in c:\\users\\smart\\appdata\\local\\programs\\python\\python311\\lib\\site-packages (from bokeh) (2023.2.0)\n",
      "Requirement already satisfied: MarkupSafe>=2.0 in c:\\users\\smart\\appdata\\local\\programs\\python\\python311\\lib\\site-packages (from Jinja2>=2.9->bokeh) (2.1.1)\n",
      "Requirement already satisfied: python-dateutil>=2.8.1 in c:\\users\\smart\\appdata\\local\\programs\\python\\python311\\lib\\site-packages (from pandas>=1.2->bokeh) (2.8.2)\n",
      "Requirement already satisfied: pytz>=2020.1 in c:\\users\\smart\\appdata\\local\\programs\\python\\python311\\lib\\site-packages (from pandas>=1.2->bokeh) (2022.7)\n",
      "Requirement already satisfied: six>=1.5 in c:\\users\\smart\\appdata\\local\\programs\\python\\python311\\lib\\site-packages (from python-dateutil>=2.8.1->pandas>=1.2->bokeh) (1.16.0)\n",
      "Note: you may need to restart the kernel to use updated packages.\n"
     ]
    },
    {
     "name": "stderr",
     "output_type": "stream",
     "text": [
      "\n",
      "[notice] A new release of pip available: 22.3.1 -> 23.0.1\n",
      "[notice] To update, run: python.exe -m pip install --upgrade pip\n"
     ]
    }
   ],
   "source": [
    "pip install bokeh"
   ]
  },
  {
   "cell_type": "code",
   "execution_count": 4,
   "id": "cdc4c138",
   "metadata": {},
   "outputs": [],
   "source": [
    "from bokeh.plotting import figure, output_file, show\n",
    "\n",
    "# Prepare data\n",
    "x = [1, 2, 3, 4, 5]\n",
    "y = [6, 7, 2, 4, 5]\n",
    "\n",
    "# Create a Bokeh figure\n",
    "p = figure(title='My Plot', x_axis_label='X-axis', y_axis_label='Y-axis')\n",
    "\n",
    "# Add circles to the figure\n",
    "p.circle(x, y, size=10, color='blue')\n",
    "\n",
    "# Specify the output file\n",
    "output_file('my_plot.html')\n",
    "\n",
    "# Display the plot\n",
    "show(p)\n"
   ]
  },
  {
   "cell_type": "markdown",
   "id": "01d6d1ae",
   "metadata": {},
   "source": [
    "Q3. How can you customize the appearance of a Bokeh plot, including the axes, title, and legend?\n",
    "\n",
    "Ans : To customize the appearance of a Bokeh plot, you can use the various styling attributes provided by the Bokeh library. Here are some examples of how you can customize the appearance of different elements of a Bokeh plot:\n",
    "\n",
    "\n",
    "Axes: To customize the appearance of the axes, you can use the axis method of the Figure class. For example, to change the color and font size of the x-axis label, you can do the following:\n"
   ]
  },
  {
   "cell_type": "code",
   "execution_count": 5,
   "id": "637248ee",
   "metadata": {},
   "outputs": [],
   "source": [
    "from bokeh.plotting import figure\n",
    "\n",
    "p = figure(x_axis_label='X Label', y_axis_label='Y Label')\n",
    "p.xaxis.axis_label_text_color = 'red'\n",
    "p.xaxis.axis_label_text_font_size = '14pt'\n"
   ]
  },
  {
   "cell_type": "markdown",
   "id": "ff0c6207",
   "metadata": {},
   "source": [
    "2 . Title: To customize the appearance of the title, you can use the title attribute of the Figure class. For example, to change the font size and alignment of the title, you can do the following:\n"
   ]
  },
  {
   "cell_type": "code",
   "execution_count": 6,
   "id": "7c9e9f97",
   "metadata": {},
   "outputs": [],
   "source": [
    "p.title.text = 'My Title'\n",
    "p.title.text_font_size = '16pt'\n",
    "p.title.align = 'center'\n"
   ]
  },
  {
   "cell_type": "markdown",
   "id": "eeb8035e",
   "metadata": {},
   "source": [
    "3. \n",
    "Changing the legend: You can customize the legend by setting various attributes such as label_text_font_size, label_text_color, location, orientation, and so on. For example:\n"
   ]
  },
  {
   "cell_type": "code",
   "execution_count": 1,
   "id": "03fb700f",
   "metadata": {},
   "outputs": [],
   "source": [
    "from bokeh.plotting import figure\n",
    "from bokeh.io import show\n",
    "\n",
    "# Create a figure object\n",
    "p = figure()\n",
    "\n",
    "# Add a legend\n",
    "p.line([1, 2, 3], [4, 5, 6], legend_label=\"Line 1\")\n",
    "p.line([1, 2, 3], [7, 8, 9], legend_label=\"Line 2\")\n",
    "p.legend.label_text_font_size = \"14pt\"\n",
    "p.legend.label_text_color = \"red\"\n",
    "p.legend.location = \"top_left\"\n",
    "\n",
    "# Show the plot\n",
    "show(p)\n"
   ]
  },
  {
   "cell_type": "markdown",
   "id": "c060ea84",
   "metadata": {},
   "source": [
    "Q4. What is a Bokeh server, and how can you use it to create interactive plots that can be updated in\n",
    "real time?\n",
    "\n",
    "Ans: Bokeh is an open-source Python library for creating interactive data visualizations. Bokeh provides various types of visualizations, such as scatter plots, line charts, and heatmaps, and supports various data sources, such as NumPy arrays, Pandas data frames, and streaming data.\n",
    "\n",
    "\n",
    "The Bokeh server is a powerful tool that allows you to create interactive plots that can be updated in real-time. The Bokeh server enables you to create web applications with Python that can update the content of the plot in real-time based on user interactions or external events, such as new data becoming available.\n",
    "\n",
    "\n",
    "To use the Bokeh server, you first create a Bokeh plot in Python as you would normally. Then, you can embed the plot in a Bokeh application by defining a Python function that creates the plot and returns it. The function should also define any interactions or events that the plot should respond to.\n",
    "\n",
    "\n",
    "Once you have defined the Bokeh application, you can launch it by running the Bokeh server. The Bokeh server will host the application and provide a URL that you can use to access it in a web browser. The application will display the Bokeh plot, and users can interact with it and see updates in real-time.\n",
    "\n",
    "\n",
    "To update the plot in real-time, you can use Bokeh's built-in data streaming functionality, which allows you to stream new data to the plot as it becomes available. You can also use Bokeh's built-in tools for handling user interactions, such as sliders, buttons, and drop-down menus, to update the plot based on user input.\n",
    "\n"
   ]
  },
  {
   "cell_type": "markdown",
   "id": "8b3d6d31",
   "metadata": {},
   "source": [
    "Q5. How can you embed a Bokeh plot into a web page or dashboard using Flask or Django?\n",
    "\n",
    "Ans:  Bokeh is a Python library that allows you to create interactive visualizations for the web. Flask and Django are popular web frameworks for building web applications. To embed a Bokeh plot into a web page or dashboard using Flask or Django, you can follow the following steps:\n",
    "\n",
    "\n",
    "1. Create a Bokeh plot using the Bokeh library.\n",
    "\n",
    "\n",
    "2. Create a Flask or Django app and define a route for the page where you want to embed the Bokeh plot.\n",
    "\n",
    "\n",
    "3. In the route function, create a Bokeh server application and pass the Bokeh plot to it.\n",
    "\n",
    "\n",
    "4. Use the Bokeh components() function to generate the HTML code for the Bokeh plot.\n",
    "\n",
    "\n",
    "5. Return the HTML code along with any other content you want to display on the page.\n",
    "\n",
    "\n"
   ]
  },
  {
   "cell_type": "code",
   "execution_count": 3,
   "id": "242ac898",
   "metadata": {},
   "outputs": [
    {
     "name": "stdout",
     "output_type": "stream",
     "text": [
      "Collecting flask\n",
      "  Downloading Flask-2.2.3-py3-none-any.whl (101 kB)\n",
      "     ------------------------------------ 101.8/101.8 kB 732.8 kB/s eta 0:00:00\n",
      "Collecting Werkzeug>=2.2.2\n",
      "  Downloading Werkzeug-2.2.3-py3-none-any.whl (233 kB)\n",
      "     -------------------------------------- 233.6/233.6 kB 1.3 MB/s eta 0:00:00\n",
      "Requirement already satisfied: Jinja2>=3.0 in c:\\users\\smart\\appdata\\local\\programs\\python\\python311\\lib\\site-packages (from flask) (3.1.2)\n",
      "Collecting itsdangerous>=2.0\n",
      "  Downloading itsdangerous-2.1.2-py3-none-any.whl (15 kB)\n",
      "Collecting click>=8.0\n",
      "  Downloading click-8.1.3-py3-none-any.whl (96 kB)\n",
      "     ---------------------------------------- 96.6/96.6 kB 1.9 MB/s eta 0:00:00\n",
      "Requirement already satisfied: colorama in c:\\users\\smart\\appdata\\local\\programs\\python\\python311\\lib\\site-packages (from click>=8.0->flask) (0.4.6)\n",
      "Requirement already satisfied: MarkupSafe>=2.0 in c:\\users\\smart\\appdata\\local\\programs\\python\\python311\\lib\\site-packages (from Jinja2>=3.0->flask) (2.1.1)\n",
      "Installing collected packages: Werkzeug, itsdangerous, click, flask\n",
      "Successfully installed Werkzeug-2.2.3 click-8.1.3 flask-2.2.3 itsdangerous-2.1.2\n",
      "Note: you may need to restart the kernel to use updated packages.\n"
     ]
    },
    {
     "name": "stderr",
     "output_type": "stream",
     "text": [
      "\n",
      "[notice] A new release of pip available: 22.3.1 -> 23.0.1\n",
      "[notice] To update, run: python.exe -m pip install --upgrade pip\n"
     ]
    }
   ],
   "source": [
    "pip install flask"
   ]
  },
  {
   "cell_type": "code",
   "execution_count": 4,
   "id": "e15c65dd",
   "metadata": {},
   "outputs": [
    {
     "name": "stdout",
     "output_type": "stream",
     "text": [
      " * Serving Flask app '__main__'\n",
      " * Debug mode: on\n"
     ]
    },
    {
     "name": "stderr",
     "output_type": "stream",
     "text": [
      "WARNING: This is a development server. Do not use it in a production deployment. Use a production WSGI server instead.\n",
      " * Running on http://127.0.0.1:5000\n",
      "Press CTRL+C to quit\n",
      " * Restarting with stat\n"
     ]
    },
    {
     "ename": "SystemExit",
     "evalue": "1",
     "output_type": "error",
     "traceback": [
      "An exception has occurred, use %tb to see the full traceback.\n",
      "\u001b[1;31mSystemExit\u001b[0m\u001b[1;31m:\u001b[0m 1\n"
     ]
    },
    {
     "name": "stderr",
     "output_type": "stream",
     "text": [
      "C:\\Users\\Smart\\AppData\\Local\\Programs\\Python\\Python311\\Lib\\site-packages\\IPython\\core\\interactiveshell.py:3441: UserWarning: To exit: use 'exit', 'quit', or Ctrl-D.\n",
      "  warn(\"To exit: use 'exit', 'quit', or Ctrl-D.\", stacklevel=1)\n"
     ]
    }
   ],
   "source": [
    "from flask import Flask, render_template\n",
    "from bokeh.plotting import figure\n",
    "from bokeh.embed import components\n",
    "\n",
    "app = Flask(__name__)\n",
    "\n",
    "@app.route('/')\n",
    "def index():\n",
    "    # Create a Bokeh plot\n",
    "    plot = figure()\n",
    "    plot.line([1,2,3,4,5], [2,5,4,6,7])\n",
    "\n",
    "    # Generate the HTML code for the Bokeh plot\n",
    "    script, div = components(plot)\n",
    "\n",
    "    # Return the HTML code along with any other content\n",
    "    return render_template('index.html', script=script, div=div)\n",
    "\n",
    "if __name__ == '__main__':\n",
    "    app.run(debug=True)\n"
   ]
  },
  {
   "cell_type": "code",
   "execution_count": null,
   "id": "a5b16238",
   "metadata": {},
   "outputs": [],
   "source": []
  }
 ],
 "metadata": {
  "kernelspec": {
   "display_name": "Python 3 (ipykernel)",
   "language": "python",
   "name": "python3"
  },
  "language_info": {
   "codemirror_mode": {
    "name": "ipython",
    "version": 3
   },
   "file_extension": ".py",
   "mimetype": "text/x-python",
   "name": "python",
   "nbconvert_exporter": "python",
   "pygments_lexer": "ipython3",
   "version": "3.11.1"
  }
 },
 "nbformat": 4,
 "nbformat_minor": 5
}
