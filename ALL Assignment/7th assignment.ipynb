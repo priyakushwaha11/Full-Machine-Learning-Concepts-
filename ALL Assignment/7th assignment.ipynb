{
 "cells": [
  {
   "cell_type": "markdown",
   "id": "54a8cd81",
   "metadata": {},
   "source": [
    "Q.1 . You are writing code for a company. The requirement of the company is that you create a python \n",
    "function that will check whether the password entered by the user is correct or not. The function should \n",
    "take the password as input and return the string “Valid Password” if the entered password follows the \n",
    "below-given password guidelines else it should return “Invalid Password”.\n",
    "\n",
    "\n",
    "Note: 1. The Password should contain at least two uppercase letters and at least two lowercase letters.\n",
    "\n",
    "2. The Password should contain at least a number and three special characters.\n",
    "\n",
    "3. The length of the password should be 10 characters long.\n"
   ]
  },
  {
   "cell_type": "markdown",
   "id": "0f9a247d",
   "metadata": {},
   "source": [
    "Ans. In this program, we will be taking a password as a combination of alphanumeric characters along with special characters, and checking whether the password is valid or not with the help of a few conditions.\n",
    "\n"
   ]
  },
  {
   "cell_type": "markdown",
   "id": "6b80f37a",
   "metadata": {},
   "source": [
    "\n",
    "\n",
    "Q.2  Solve the below-given questions using at least one of the following: \n",
    "\n",
    "1. Lambda function\n",
    "2. Filter function\n",
    "3. Zap function\n",
    "4. List Comprehension\n"
   ]
  },
  {
   "cell_type": "markdown",
   "id": "217fb580",
   "metadata": {},
   "source": [
    "* Check if the string starts with a particular letter\n",
    "\n",
    "* Check if the string is numeric\n",
    "\n",
    "* Sort a list of tuples having fruit names and their quantity. [(\"mango\",99),(\"orange\",80), (\"grapes\", 1000)]\n",
    "\n",
    "* Find the squares of numbers from 1 to 10\n",
    "\n",
    "* Find the cube root of numbers from 1 to 10\n",
    "\n",
    "* Check if a given number is even\n",
    "\n",
    "* Filter odd numbers from the given list.\n",
    "   [1,2,3,4,5,6,7,8,9,10]\n",
    "   \n",
    "\n",
    "* Sort a list of integers into positive and negative integers lists.\n",
    "   [1,2,3,4,5,6,-1,-2,-3,-4,-5,0]"
   ]
  },
  {
   "cell_type": "code",
   "execution_count": 6,
   "id": "7e8ad735",
   "metadata": {},
   "outputs": [
    {
     "data": {
      "text/plain": [
       "[1, 4, 9, 16, 25, 36, 49, 64, 81, 100]"
      ]
     },
     "execution_count": 6,
     "metadata": {},
     "output_type": "execute_result"
    }
   ],
   "source": [
    "# Find the squares of numbers from 1 to 10\n",
    "\n",
    "n = [1,2,3,4,5,6,7,8,9,10]\n",
    "list(map(lambda x : x**2,n))"
   ]
  },
  {
   "cell_type": "code",
   "execution_count": 7,
   "id": "2f8f9514",
   "metadata": {},
   "outputs": [
    {
     "data": {
      "text/plain": [
       "[1, 8, 27, 64, 125, 216, 343, 512, 729, 1000]"
      ]
     },
     "execution_count": 7,
     "metadata": {},
     "output_type": "execute_result"
    }
   ],
   "source": [
    "# Find the cube root of numbers from 1 to 10\n",
    "l = [1,2,3,4,5,6,7,8,9,10]\n",
    "list (map(lambda x : x**3 ,n))"
   ]
  },
  {
   "cell_type": "code",
   "execution_count": 8,
   "id": "b07559df",
   "metadata": {},
   "outputs": [
    {
     "data": {
      "text/plain": [
       "[2, 4, 6, 8, 10]"
      ]
     },
     "execution_count": 8,
     "metadata": {},
     "output_type": "execute_result"
    }
   ],
   "source": [
    "# Filter odd numbers from the given list. [1,2,3,4,5,6,7,8,9,10]\n",
    "\n",
    "n = [1,2,3,4,5,6,7,8,9,10]\n",
    "list(filter(lambda x : x%2==0 , n))"
   ]
  },
  {
   "cell_type": "code",
   "execution_count": 12,
   "id": "5560a3d1",
   "metadata": {},
   "outputs": [
    {
     "data": {
      "text/plain": [
       "[-1, -2, -3, -4, -5]"
      ]
     },
     "execution_count": 12,
     "metadata": {},
     "output_type": "execute_result"
    }
   ],
   "source": [
    "# Sort a list of integers into positive and negative integers lists.\n",
    "# [1,2,3,4,5,6,-1,-2,-3,-4,-5,0]\n",
    "\n",
    "# negative integer\n",
    "\n",
    "l = [1,2,3,4,5,6,-1,-2,-3,-4,-5,0]\n",
    "\n",
    "list(filter(lambda x:x<0 , l))\n"
   ]
  },
  {
   "cell_type": "code",
   "execution_count": 13,
   "id": "21477d7c",
   "metadata": {},
   "outputs": [
    {
     "data": {
      "text/plain": [
       "[1, 2, 3, 4, 5, 6]"
      ]
     },
     "execution_count": 13,
     "metadata": {},
     "output_type": "execute_result"
    }
   ],
   "source": [
    "# positive integer\n",
    "\n",
    "l = [1,2,3,4,5,6,-1,-2,-3,-4,-5,0]\n",
    "\n",
    "list(filter(lambda x:x>0 , l))"
   ]
  },
  {
   "cell_type": "code",
   "execution_count": null,
   "id": "7707b044",
   "metadata": {},
   "outputs": [],
   "source": []
  }
 ],
 "metadata": {
  "kernelspec": {
   "display_name": "Python 3 (ipykernel)",
   "language": "python",
   "name": "python3"
  },
  "language_info": {
   "codemirror_mode": {
    "name": "ipython",
    "version": 3
   },
   "file_extension": ".py",
   "mimetype": "text/x-python",
   "name": "python",
   "nbconvert_exporter": "python",
   "pygments_lexer": "ipython3",
   "version": "3.11.1"
  }
 },
 "nbformat": 4,
 "nbformat_minor": 5
}
