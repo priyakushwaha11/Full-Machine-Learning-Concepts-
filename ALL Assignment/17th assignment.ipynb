{
 "cells": [
  {
   "cell_type": "markdown",
   "id": "2b3efc82",
   "metadata": {},
   "source": [
    "Q.1 What is MongoDB? Explain non-relational databases in short. In which scenarios it is preferred to use\n",
    "MongoDB over SQL databases?"
   ]
  },
  {
   "cell_type": "markdown",
   "id": "8defe60a",
   "metadata": {},
   "source": [
    "Ans. MongoDB is a document database with the scalability and flexibility that you want with the querying and indexing that you need.\n",
    "\n",
    "non-relational database - A non-relational database is a database that does not use the tabular schema of rows and columns found in most traditional database systems. Instead, non-relational databases use a storage model that is optimized for the specific requirements of the type of data being stored.\n",
    "\n",
    "preferred to use - \n",
    "                   SQL. NoSQL databases like MongoDB are a good choice when your data is document-centric and doesn't fit well into the schema of a relational database, when you need to accommodate massive scale, when you are rapidly prototyping, and a few other use cases"
   ]
  },
  {
   "cell_type": "markdown",
   "id": "d624a1a1",
   "metadata": {},
   "source": [
    "Q.2 State and Explain the features of MongoDB."
   ]
  },
  {
   "cell_type": "markdown",
   "id": "d1e9988b",
   "metadata": {},
   "source": [
    "Ans . MongoDB supports field queries, range queries, and regular expression searches. Queries can return specific fields and also account for user-defined functions. This is made possible because MongoDB indexes BSON documents and uses the MongoDB Query Language\n",
    "\n",
    "  Important MongoDB Features. Queries: It supports ad-hoc queries and document-based queries. Index Support: Any field in the document can be indexed."
   ]
  },
  {
   "cell_type": "markdown",
   "id": "18750e1f",
   "metadata": {},
   "source": [
    "Q.3 Write a code to connect MongoDB to Python. Also, create a database and a collection in MongoDB."
   ]
  },
  {
   "cell_type": "markdown",
   "id": "fc225602",
   "metadata": {},
   "source": [
    "Ans . "
   ]
  },
  {
   "cell_type": "markdown",
   "id": "6dd83334",
   "metadata": {},
   "source": [
    "Q.4 Q4. Using the database and the collection created in question number 3, write a code to insert one record,\n",
    "and insert many records. Use the find() and find_one() methods to print the inserted record."
   ]
  },
  {
   "cell_type": "markdown",
   "id": "143677e9",
   "metadata": {},
   "source": [
    "Ans. "
   ]
  }
 ],
 "metadata": {
  "kernelspec": {
   "display_name": "Python 3 (ipykernel)",
   "language": "python",
   "name": "python3"
  },
  "language_info": {
   "codemirror_mode": {
    "name": "ipython",
    "version": 3
   },
   "file_extension": ".py",
   "mimetype": "text/x-python",
   "name": "python",
   "nbconvert_exporter": "python",
   "pygments_lexer": "ipython3",
   "version": "3.11.1"
  }
 },
 "nbformat": 4,
 "nbformat_minor": 5
}
