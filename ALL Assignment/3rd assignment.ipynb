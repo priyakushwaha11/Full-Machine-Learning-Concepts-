{
 "cells": [
  {
   "cell_type": "markdown",
   "id": "03afc9e3",
   "metadata": {},
   "source": [
    "Q.1  Which keyword is used to create a function? Create a function to return a list of odd numbers in the range of 1 to 25.\n",
    "\n",
    "Ans. The odd_numbers function returns a list of odd numbers between 1 and n,inclusively.\n",
    "\n",
    "\n",
    "\n",
    "\n",
    "\n",
    "Q.2  Why *args and **kwargs is used in some functions? Create a function each for *args and **kwargs \n",
    "to demonstrate their use.\n",
    "\n",
    "Ans.  *args passes variable number of non-keyworded arguments and on which operation of the tuple can be performed. **kwargs passes variable number of keyword arguments dictionary to function on which operation of a dictionary can be performed. *args and **kwargs make the function flexible.\n",
    "use:"
   ]
  },
  {
   "cell_type": "code",
   "execution_count": 7,
   "id": "1810302a",
   "metadata": {},
   "outputs": [],
   "source": [
    "def test1(*priya):\n",
    "        return(priya)"
   ]
  },
  {
   "cell_type": "code",
   "execution_count": 8,
   "id": "d527b79e",
   "metadata": {},
   "outputs": [
    {
     "data": {
      "text/plain": [
       "(1, 2, 3, 4, 5)"
      ]
     },
     "execution_count": 8,
     "metadata": {},
     "output_type": "execute_result"
    }
   ],
   "source": [
    "test1(1,2,3,4,5)"
   ]
  },
  {
   "cell_type": "markdown",
   "id": "c90a9484",
   "metadata": {},
   "source": [
    "Q.3  What is an iterator in python? Name the method used to initialise the iterator object and the method \n",
    "used for iteration. Use these methods to print the first five elements of the given list [2, 4, 6, 8, 10, 12, 14, \n",
    "16, 18, 20].\n",
    "\n",
    "Ans.\n",
    "     An iterator is an object that contains a countable number of values. An iterator is an object that can be iterated upon, meaning that you can traverse through all the values. Technically, in Python, an iterator is an object which implements the iterator protocol, which consist of the methods __iter__() and __next__() ."
   ]
  },
  {
   "cell_type": "code",
   "execution_count": 12,
   "id": "68ce25ea",
   "metadata": {},
   "outputs": [
    {
     "name": "stdout",
     "output_type": "stream",
     "text": [
      "2\n",
      "4\n",
      "6\n",
      "8\n",
      "10\n",
      "12\n",
      "14\n",
      "16\n",
      "18\n",
      "20\n"
     ]
    }
   ],
   "source": [
    "p = 2\n",
    "while p <= 20 :\n",
    "    print (p)\n",
    "    p = p+2"
   ]
  },
  {
   "cell_type": "markdown",
   "id": "d56e38a1",
   "metadata": {},
   "source": [
    "Q. 4   What is a generator function in python? Why yield keyword is used? Give an example of a generator \n",
    "       function.\n",
    "     \n",
    "Ans.    Generator functions are a special kind of function that return a lazy iterator called a generator iterator. These are objects that you can loop over like a list. However, unlike lists, lazy iterators do not store their contents in memory."
   ]
  },
  {
   "cell_type": "markdown",
   "id": "bbda1452",
   "metadata": {},
   "source": [
    "Q.5  Create a generator function for prime numbers less than 1000. Use the next() method to print the \n",
    "      first 20 prime numbers.\n",
    "      \n",
    "Ans.  "
   ]
  },
  {
   "cell_type": "code",
   "execution_count": 23,
   "id": "94c0c3b3",
   "metadata": {},
   "outputs": [],
   "source": [
    "num = 20\n",
    "def nextPrime (num):\n",
    "    while True:\n",
    "        num+=1\n",
    "        for i in range (0,num):\n",
    "            if num%i==0:\n",
    "                break\n",
    "    else:\n",
    "        return num"
   ]
  },
  {
   "cell_type": "markdown",
   "id": "496d38fb",
   "metadata": {},
   "source": [
    "Q. 6   Write a python program to print the first 10 Fibonacci numbers using a while loop.\n",
    "\n",
    "Ans.   "
   ]
  },
  {
   "cell_type": "code",
   "execution_count": 25,
   "id": "e0f79a3e",
   "metadata": {},
   "outputs": [
    {
     "name": "stdout",
     "output_type": "stream",
     "text": [
      "enter the number of element10\n",
      "0\n",
      "1\n",
      "1\n",
      "2\n",
      "3\n",
      "5\n",
      "8\n",
      "13\n",
      "21\n",
      "34\n"
     ]
    }
   ],
   "source": [
    "#  The first 10 Fibonacci numbers -\n",
    "\n",
    "number = int(input(\"enter the number of element\"))\n",
    "a,b = 0,1\n",
    "counter =0\n",
    "while counter < number :\n",
    "    print(a)\n",
    "    c = a+b\n",
    "    a = b\n",
    "    b = c\n",
    "    counter = counter + 1\n",
    "    "
   ]
  },
  {
   "cell_type": "markdown",
   "id": "023aa0b5",
   "metadata": {},
   "source": [
    "Q.7  Write a List Comprehension to iterate through the given string: ‘pwskills’.\n",
    "\n",
    "Ans. "
   ]
  },
  {
   "cell_type": "code",
   "execution_count": 4,
   "id": "80aafe75",
   "metadata": {},
   "outputs": [
    {
     "data": {
      "text/plain": [
       "['P', 'W', 'K', 'I', 'L', 'L', 'S']"
      ]
     },
     "execution_count": 4,
     "metadata": {},
     "output_type": "execute_result"
    }
   ],
   "source": [
    "n = \"pwkills\"\n",
    "list(map(lambda n:n.upper(),n))"
   ]
  },
  {
   "cell_type": "markdown",
   "id": "8ca062e6",
   "metadata": {},
   "source": [
    "Q.8  Write a python program to check whether a given number is Palindrome or not using a while loop.\n",
    "\n",
    "Ans. if (temp = = rev): print ( \"The number is palindrome!\" ) else : print ( \"Not a palindrome!\" )"
   ]
  },
  {
   "cell_type": "markdown",
   "id": "b23df36f",
   "metadata": {},
   "source": [
    "Q.9  . Write a code to print odd numbers from 1 to 100 using list comprehension.\n",
    "\n",
    "Ans . "
   ]
  },
  {
   "cell_type": "code",
   "execution_count": 6,
   "id": "ec297a44",
   "metadata": {},
   "outputs": [
    {
     "name": "stdout",
     "output_type": "stream",
     "text": [
      "1\n",
      "3\n",
      "5\n",
      "7\n",
      "9\n",
      "11\n",
      "13\n",
      "15\n",
      "17\n",
      "19\n",
      "21\n",
      "23\n",
      "25\n",
      "27\n",
      "29\n",
      "31\n",
      "33\n",
      "35\n",
      "37\n",
      "39\n",
      "41\n",
      "43\n",
      "45\n",
      "47\n",
      "49\n",
      "51\n",
      "53\n",
      "55\n",
      "57\n",
      "59\n",
      "61\n",
      "63\n",
      "65\n",
      "67\n",
      "69\n",
      "71\n",
      "73\n",
      "75\n",
      "77\n",
      "79\n",
      "81\n",
      "83\n",
      "85\n",
      "87\n",
      "89\n",
      "91\n",
      "93\n",
      "95\n",
      "97\n",
      "99\n"
     ]
    }
   ],
   "source": [
    "# Odd numbers\n",
    "\n",
    "for i in range (1,100+1):\n",
    "    if i%2==1:\n",
    "        print(i)    "
   ]
  },
  {
   "cell_type": "code",
   "execution_count": null,
   "id": "dc2495cf",
   "metadata": {},
   "outputs": [],
   "source": []
  }
 ],
 "metadata": {
  "kernelspec": {
   "display_name": "Python 3 (ipykernel)",
   "language": "python",
   "name": "python3"
  },
  "language_info": {
   "codemirror_mode": {
    "name": "ipython",
    "version": 3
   },
   "file_extension": ".py",
   "mimetype": "text/x-python",
   "name": "python",
   "nbconvert_exporter": "python",
   "pygments_lexer": "ipython3",
   "version": "3.11.1"
  }
 },
 "nbformat": 4,
 "nbformat_minor": 5
}
