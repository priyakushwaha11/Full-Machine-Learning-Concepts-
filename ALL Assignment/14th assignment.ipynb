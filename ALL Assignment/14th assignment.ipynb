{
 "cells": [
  {
   "cell_type": "markdown",
   "id": "c91c796f",
   "metadata": {},
   "source": [
    "Q.1 what is multithreading in python? why is it used? Name the module used to handle threads in python"
   ]
  },
  {
   "cell_type": "markdown",
   "id": "f11f2005",
   "metadata": {},
   "source": [
    "Ans . Multithreading is a threading technique in Python programming to run multiple threads concurrently by rapidly switching between threads with a CPU help (called context switching).\n",
    "\n",
    "The Threading Module :\n",
    "\n",
    "threading.currentThread() − Returns the number of thread objects in the caller's thread control. threading.enumerate() − Returns a list of all thread objects that are currently active."
   ]
  },
  {
   "cell_type": "markdown",
   "id": "0774bdbd",
   "metadata": {},
   "source": [
    "Q.2 why threading module used? write the use of the following functions.\n",
    "\n",
    "\n",
    "1. activeCount()\n",
    "\n",
    "2. currentThread()\n",
    " \n",
    "3. enumerate()"
   ]
  },
  {
   "cell_type": "markdown",
   "id": "a33882fd",
   "metadata": {},
   "source": [
    "Ans . Python threading allows you to have different parts of your program run concurrently and can simplify your design. If you've got some experience in Python and want to speed up your program using threads,\n",
    "\n",
    "1.threading.activeCount() − Returns the number of thread objects that are active. \n",
    "\n",
    "2.threading.currentThread() − Returns the number of thread objects in the caller's thread control.\n",
    "\n",
    "3.threading.enumerate() − Returns a list of all thread objects that are currently active."
   ]
  },
  {
   "cell_type": "markdown",
   "id": "82def6bd",
   "metadata": {},
   "source": [
    "Q3. Explain the following functions\n",
    "\n",
    "1. run()\n",
    "2. start()\n",
    "3. join()\n",
    "4. isAlive()"
   ]
  },
  {
   "cell_type": "markdown",
   "id": "a0b95aae",
   "metadata": {},
   "source": [
    "Ans. 1. Run - To run Python scripts with the python command, you need to open a command-line and type in the word python , or python3 if you have both versions, followed by the path to your script, just like this: $ python3 hello.py Hello World! If everything works okay, after you press Enter , you'll see the phrase Hello World!\n",
    "\n",
    "2. start - start() method is an inbuilt method of the Thread class of the threading module in Python. It is used to start a thread's activity. This method calls the run() method internally which then executes the target method. This method must be called at most one time for one thread.\n",
    "\n",
    "\n",
    "3. join - The join(sequence) method joins elements and returns the combined string. The join methods combines every element of the sequence.\n",
    "\n",
    "\n",
    "4. islive - Thread.is_alive() method is an inbuilt method of the Thread class of the threading module in Python. It uses a Thread object, and checks whether that thread is alive or not, ie, it is still running or not. This method returns True before the run() starts until just after the run() method is executed."
   ]
  },
  {
   "cell_type": "markdown",
   "id": "9a25d7f2",
   "metadata": {},
   "source": [
    "Q.4 rite a python program to create two threads. Thread one must print the list of squares and thread\n",
    "two must print the list of cubes"
   ]
  },
  {
   "cell_type": "markdown",
   "id": "08c8fff5",
   "metadata": {},
   "source": [
    "Ans . Python virtual machine is not a thread-safe interpreter, meaning that the interpreter can execute only one thread at any given moment. This limitation is enforced by the Python Global Interpreter Lock (GIL), which essentially limits one Python thread to run at a time. In other words, GIL ensures that only one thread runs within the same process at the same time on a single processor."
   ]
  },
  {
   "cell_type": "markdown",
   "id": "8493a1ef",
   "metadata": {},
   "source": [
    "Q.5 State advantages and disadvantages of multithreading"
   ]
  },
  {
   "cell_type": "markdown",
   "id": "fdb010bf",
   "metadata": {},
   "source": [
    "Ans . This model provides more concurrency than the many-to-one model. It also allows another thread to run when a thread makes a blocking system call. It supports multiple threads to execute in parallel on microprocessors. Disadvantage of this model is that creating user thread requires the corresponding Kernel thread."
   ]
  },
  {
   "cell_type": "markdown",
   "id": "047188db",
   "metadata": {},
   "source": [
    "Q.6 Explain deadlocks and race conditions."
   ]
  },
  {
   "cell_type": "markdown",
   "id": "88fea476",
   "metadata": {},
   "source": [
    "Ans. In this case, both threads will wait indefinitely for the resource held by the other thread. These threads are said to be deadlocked. Race conditions occur when two threads interact in a negatve (buggy) way depending on the exact order that their different instructions are executed."
   ]
  },
  {
   "cell_type": "code",
   "execution_count": null,
   "id": "45ed0367",
   "metadata": {},
   "outputs": [],
   "source": []
  }
 ],
 "metadata": {
  "kernelspec": {
   "display_name": "Python 3 (ipykernel)",
   "language": "python",
   "name": "python3"
  },
  "language_info": {
   "codemirror_mode": {
    "name": "ipython",
    "version": 3
   },
   "file_extension": ".py",
   "mimetype": "text/x-python",
   "name": "python",
   "nbconvert_exporter": "python",
   "pygments_lexer": "ipython3",
   "version": "3.11.1"
  }
 },
 "nbformat": 4,
 "nbformat_minor": 5
}
