{
 "cells": [
  {
   "cell_type": "markdown",
   "id": "da3c7b5b",
   "metadata": {},
   "source": [
    "Q.1  Explain why we have to use the Exception class while creating a Custom Exception."
   ]
  },
  {
   "cell_type": "markdown",
   "id": "c3433125",
   "metadata": {},
   "source": [
    "Ans. Custom exceptions provide you the flexibility to add attributes and methods that are not part of a standard python exception. These can store additional information, like an application-specific error code, or provide utility methods that can be used to handle or present the exception to a user"
   ]
  },
  {
   "cell_type": "markdown",
   "id": "9055fc37",
   "metadata": {},
   "source": [
    "Q.2 Write a python program to print Python Exception Hierarchy."
   ]
  },
  {
   "cell_type": "markdown",
   "id": "dbf5ab7c",
   "metadata": {},
   "source": [
    "Ans. For printing the tree hierarchy we will use inspect module in Python. The inspect module provides useful functions to get information about objects such as modules, classes, methods, functions,  and code objects. For example, it can help you examine the contents of a class, extract and format the argument list for a function."
   ]
  },
  {
   "cell_type": "markdown",
   "id": "132aa998",
   "metadata": {},
   "source": [
    "Q.3 What errors are defined in the ArithmeticError class? Explain any two with an example."
   ]
  },
  {
   "cell_type": "markdown",
   "id": "245fa97f",
   "metadata": {},
   "source": [
    "Ans. ArithmeticError is thrown when an error occurs while performing mathematical operations. These errors include attempting to perform a bitshift by a negative amount, and any call to intdiv() that would result in a value outside the possible bounds of an int."
   ]
  },
  {
   "cell_type": "markdown",
   "id": "46e7c202",
   "metadata": {},
   "source": [
    "Q.4 Why LookupError class is used? Explain with an example KeyError and IndexError."
   ]
  },
  {
   "cell_type": "markdown",
   "id": "760c280c",
   "metadata": {},
   "source": [
    "Ans. The LookupError exception in Python forms the base class for all exceptions that are raised when an index or a key is not found for a sequence or dictionary respectively.\n",
    "\n",
    "we can use LookupError exception class to handle both IndexError and KeyError exception classes."
   ]
  },
  {
   "cell_type": "markdown",
   "id": "9fc9d894",
   "metadata": {},
   "source": [
    "Q.5 Explain ImportError. What is ModuleNotFoundError?"
   ]
  },
  {
   "cell_type": "markdown",
   "id": "c74ee9fd",
   "metadata": {},
   "source": [
    "Ans. The ImportError is raised when an import statement has trouble successfully importing the specified module. Typically, such a problem is due to an invalid or incorrect path, which will raise a ModuleNotFoundError in Python 3.6 and newer versions."
   ]
  },
  {
   "cell_type": "markdown",
   "id": "88a8e942",
   "metadata": {},
   "source": [
    "Q.6  List down some best practices for exception handling in python."
   ]
  },
  {
   "cell_type": "markdown",
   "id": "8dce9dd7",
   "metadata": {},
   "source": [
    "Ans . Adding extensive error handling is crucial when developing maintainable and robust code. Errors can fall into several categories: logical errors, generated errors, compile-time errors, and runtime errors. In this article, we’ll focus on handling runtime errors — errors that occur while a program is running.\n",
    "\n"
   ]
  },
  {
   "cell_type": "code",
   "execution_count": null,
   "id": "bd955d13",
   "metadata": {},
   "outputs": [],
   "source": []
  }
 ],
 "metadata": {
  "kernelspec": {
   "display_name": "Python 3 (ipykernel)",
   "language": "python",
   "name": "python3"
  },
  "language_info": {
   "codemirror_mode": {
    "name": "ipython",
    "version": 3
   },
   "file_extension": ".py",
   "mimetype": "text/x-python",
   "name": "python",
   "nbconvert_exporter": "python",
   "pygments_lexer": "ipython3",
   "version": "3.11.1"
  }
 },
 "nbformat": 4,
 "nbformat_minor": 5
}
