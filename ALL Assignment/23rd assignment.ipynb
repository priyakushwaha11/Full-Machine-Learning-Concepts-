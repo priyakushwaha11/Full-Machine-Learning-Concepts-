{
 "cells": [
  {
   "cell_type": "markdown",
   "id": "9462ca01",
   "metadata": {},
   "source": [
    "Q1. Create a Pandas Series that contains the following data: 4, 8, 15, 16, 23, and 42. Then, print the series.\n",
    "\n",
    "Ans. "
   ]
  },
  {
   "cell_type": "code",
   "execution_count": 1,
   "id": "337e8ae1",
   "metadata": {},
   "outputs": [
    {
     "name": "stdout",
     "output_type": "stream",
     "text": [
      "0     4\n",
      "1     8\n",
      "2    15\n",
      "3    16\n",
      "4    23\n",
      "5    42\n",
      "dtype: int64\n"
     ]
    }
   ],
   "source": [
    "import pandas as pd\n",
    "\n",
    "# Create the series\n",
    "series = pd.Series([4, 8, 15, 16, 23, 42])\n",
    "\n",
    "# Print the series\n",
    "print(series)\n"
   ]
  },
  {
   "cell_type": "markdown",
   "id": "8618cb8b",
   "metadata": {},
   "source": [
    "Q2. Create a variable of list type containing 10 elements in it, and apply pandas.Series function on the variable print it"
   ]
  },
  {
   "cell_type": "code",
   "execution_count": 2,
   "id": "15cc9497",
   "metadata": {},
   "outputs": [],
   "source": [
    "my_list = [1, 2, 3, 4, 5, 6, 7, 8, 9, 10]\n"
   ]
  },
  {
   "cell_type": "code",
   "execution_count": 3,
   "id": "6f960546",
   "metadata": {},
   "outputs": [],
   "source": [
    "my_series = pd.Series(my_list)\n"
   ]
  },
  {
   "cell_type": "code",
   "execution_count": 4,
   "id": "730db66f",
   "metadata": {},
   "outputs": [
    {
     "name": "stdout",
     "output_type": "stream",
     "text": [
      "0     1\n",
      "1     2\n",
      "2     3\n",
      "3     4\n",
      "4     5\n",
      "5     6\n",
      "6     7\n",
      "7     8\n",
      "8     9\n",
      "9    10\n",
      "dtype: int64\n"
     ]
    }
   ],
   "source": [
    "print(my_series)\n"
   ]
  },
  {
   "cell_type": "markdown",
   "id": "4d98e5fb",
   "metadata": {},
   "source": [
    "Q3. Create a Pandas DataFrame that contains the following data:\n",
    "\n",
    "Name -\n",
    "Alice ,\n",
    "Bob ,\n",
    "Claire ,\n",
    "\n",
    "Age -\n",
    "25,\n",
    "30,\n",
    "27,\n",
    "\n",
    "Gender -\n",
    "Female,\n",
    "Male,\n",
    "Female,"
   ]
  },
  {
   "cell_type": "code",
   "execution_count": 5,
   "id": "f98eca00",
   "metadata": {},
   "outputs": [],
   "source": [
    "import pandas as pd\n",
    "\n",
    "data = {\n",
    "    'Name': ['Alice', 'Bob', 'Claire'],\n",
    "    'Age': [25, 30, 27],\n",
    "    'Gender': ['Female', 'Male', 'Female']\n",
    "}\n",
    "\n",
    "df = pd.DataFrame(data)\n"
   ]
  },
  {
   "cell_type": "code",
   "execution_count": 6,
   "id": "d1b42ac5",
   "metadata": {},
   "outputs": [
    {
     "data": {
      "text/html": [
       "<div>\n",
       "<style scoped>\n",
       "    .dataframe tbody tr th:only-of-type {\n",
       "        vertical-align: middle;\n",
       "    }\n",
       "\n",
       "    .dataframe tbody tr th {\n",
       "        vertical-align: top;\n",
       "    }\n",
       "\n",
       "    .dataframe thead th {\n",
       "        text-align: right;\n",
       "    }\n",
       "</style>\n",
       "<table border=\"1\" class=\"dataframe\">\n",
       "  <thead>\n",
       "    <tr style=\"text-align: right;\">\n",
       "      <th></th>\n",
       "      <th>Name</th>\n",
       "      <th>Age</th>\n",
       "      <th>Gender</th>\n",
       "    </tr>\n",
       "  </thead>\n",
       "  <tbody>\n",
       "    <tr>\n",
       "      <th>0</th>\n",
       "      <td>Alice</td>\n",
       "      <td>25</td>\n",
       "      <td>Female</td>\n",
       "    </tr>\n",
       "    <tr>\n",
       "      <th>1</th>\n",
       "      <td>Bob</td>\n",
       "      <td>30</td>\n",
       "      <td>Male</td>\n",
       "    </tr>\n",
       "    <tr>\n",
       "      <th>2</th>\n",
       "      <td>Claire</td>\n",
       "      <td>27</td>\n",
       "      <td>Female</td>\n",
       "    </tr>\n",
       "  </tbody>\n",
       "</table>\n",
       "</div>"
      ],
      "text/plain": [
       "     Name  Age  Gender\n",
       "0   Alice   25  Female\n",
       "1     Bob   30    Male\n",
       "2  Claire   27  Female"
      ]
     },
     "execution_count": 6,
     "metadata": {},
     "output_type": "execute_result"
    }
   ],
   "source": [
    "df"
   ]
  },
  {
   "cell_type": "markdown",
   "id": "00c17975",
   "metadata": {},
   "source": [
    "Q4. What is ‘DataFrame’ in pandas and how is it different from pandas.series? Explain with an example.\n",
    "\n",
    "Pandas DataFrame, on the other hand, is a two-dimensional structure with columns and rows whose size can be changed. You can also think of it as a dictionary of Series objects. The data parameter can take any of the following data types: Dictionary (dict) of – 1D ndarray, lists, or Series.\n",
    "\n",
    "Example : "
   ]
  },
  {
   "cell_type": "code",
   "execution_count": 7,
   "id": "3d20fb3c",
   "metadata": {},
   "outputs": [
    {
     "name": "stdout",
     "output_type": "stream",
     "text": [
      "   Math  Science  English\n",
      "0    85       90       78\n",
      "1    92       87       85\n",
      "2    78       92       80\n",
      "3    90       85       82\n"
     ]
    }
   ],
   "source": [
    "import pandas as pd\n",
    "\n",
    "data = {'Math': [85, 92, 78, 90],\n",
    "        'Science': [90, 87, 92, 85],\n",
    "        'English': [78, 85, 80, 82]}\n",
    "\n",
    "df = pd.DataFrame(data)\n",
    "print(df)\n"
   ]
  },
  {
   "cell_type": "markdown",
   "id": "e13e60d1",
   "metadata": {},
   "source": [
    "Q5. What are some common functions you can use to manipulate data in a Pandas DataFrame? Can\n",
    "you give an example of when you might use one of these functions?\n",
    "\n",
    "\n",
    "Ans :  Pandas is a powerful library in Python for data manipulation and analysis. Here are some common functions that can be used to manipulate data in a Pandas DataFrame:\n",
    "\n",
    "1. `df.head(n)` - Returns the first n rows of the DataFrame.\n",
    "\n",
    "Example: Suppose you have a large DataFrame and you want to quickly preview the first few rows to get a sense of what the data looks like. You can use `df.head()` to get the first five rows or `df.head(n)` to get the first n rows.\n",
    "\n",
    "2. `df.tail(n)` - Returns the last n rows of the DataFrame.\n",
    "\n",
    "Example: Similar to `df.head(n)`, you can use `df.tail(n)` to get the last n rows of the DataFrame.\n",
    "\n",
    "3. `df.info()` - Provides information about the DataFrame, such as the data types of each column and the number of non-null values.\n",
    "\n",
    "Example: If you're working with a large DataFrame and want to quickly check the data types and null values in each column, you can use `df.info()` to get a summary.\n",
    "\n",
    "4. `df.describe()` - Provides summary statistics for each numerical column in the DataFrame, such as mean, standard deviation, and quartiles.\n",
    "\n",
    "Example: If you're working with numerical data, you can use `df.describe()` to get a quick summary of the data distribution.\n",
    "\n",
    "5. `df.groupby()` - Groups the DataFrame by one or more columns and applies an aggregation function to each group.\n",
    "\n",
    "Example: If you want to analyze the data by groups, such as the total sales by product category, you can use `df.groupby('product_category').sum()` to group the data by the product category column and calculate the sum of the numerical columns for each group.\n",
    "\n",
    "6. `df.sort_values()` - Sorts the DataFrame by one or more columns.\n",
    "\n",
    "Example: If you want to sort the data by a particular column, such as the sales column in descending order, you can use `df.sort_values('sales', ascending=False)` to sort the data by the sales column in descending order.\n",
    "\n",
    "7. `df.drop()` - Removes rows or columns from the DataFrame.\n",
    "\n",
    "Example: If you want to remove a column from the DataFrame, such as a column that contains irrelevant data, you can use `df.drop('column_name', axis=1)` to remove the column.\n",
    "\n",
    "8. `df.fillna()` - Fills missing values in the DataFrame with a specified value.\n",
    "\n",
    "Example: If your data contains missing values and you want to fill them with a specific value, such as 0, you can use `df.fillna(0)` to fill all missing values with 0.\n",
    "\n",
    "These are just a few examples of the many functions available in Pandas for manipulating data.\n",
    "Ans . "
   ]
  },
  {
   "cell_type": "markdown",
   "id": "f49fe484",
   "metadata": {},
   "source": [
    "Q6. Which of the following is mutable in nature Series, DataFrame, Panel?\n",
    "\n",
    "Ans. \n",
    "\n",
    "Both Series and DataFrame are mutable in nature, while Panel is deprecated in the current version of Pandas . \n",
    "\n",
    "Mutable objects are those that can be modified after they are created. For example, you can add or remove elements from a mutable object, or modify its existing elements. \n",
    "\n",
    "In the case of a Pandas Series, you can modify its values using the indexing operator or by using the `.loc` or `.iloc` attribute. Similarly, you can add or remove columns or rows from a Pandas DataFrame using various methods like `.loc`, `.iloc`, and `.drop`, or you can modify its existing values using the indexing operator or the `.loc` attribute."
   ]
  },
  {
   "cell_type": "markdown",
   "id": "926c4e91",
   "metadata": {},
   "source": [
    "Q7. Create a DataFrame using multiple Series. Explain with an example.\n",
    "\n",
    "Ans. import pandas as pd\n",
    "\n",
    "### Creating a Series of names\n",
    "names = pd.Series(['Alice', 'Bob', 'Charlie', 'David'])\n",
    "\n",
    "### Creating a Series of ages\n",
    "ages = pd.Series([25, 30, 35, 40])\n",
    "\n",
    "### Creating a DataFrame with the names and ages\n",
    "df = pd.DataFrame({'Name': names, 'Age': ages})\n",
    "\n",
    "print(df)\n"
   ]
  },
  {
   "cell_type": "code",
   "execution_count": 8,
   "id": "8cd2992c",
   "metadata": {},
   "outputs": [
    {
     "data": {
      "text/html": [
       "<div>\n",
       "<style scoped>\n",
       "    .dataframe tbody tr th:only-of-type {\n",
       "        vertical-align: middle;\n",
       "    }\n",
       "\n",
       "    .dataframe tbody tr th {\n",
       "        vertical-align: top;\n",
       "    }\n",
       "\n",
       "    .dataframe thead th {\n",
       "        text-align: right;\n",
       "    }\n",
       "</style>\n",
       "<table border=\"1\" class=\"dataframe\">\n",
       "  <thead>\n",
       "    <tr style=\"text-align: right;\">\n",
       "      <th></th>\n",
       "      <th>Math</th>\n",
       "      <th>Science</th>\n",
       "      <th>English</th>\n",
       "    </tr>\n",
       "  </thead>\n",
       "  <tbody>\n",
       "    <tr>\n",
       "      <th>0</th>\n",
       "      <td>85</td>\n",
       "      <td>90</td>\n",
       "      <td>78</td>\n",
       "    </tr>\n",
       "    <tr>\n",
       "      <th>1</th>\n",
       "      <td>92</td>\n",
       "      <td>87</td>\n",
       "      <td>85</td>\n",
       "    </tr>\n",
       "    <tr>\n",
       "      <th>2</th>\n",
       "      <td>78</td>\n",
       "      <td>92</td>\n",
       "      <td>80</td>\n",
       "    </tr>\n",
       "    <tr>\n",
       "      <th>3</th>\n",
       "      <td>90</td>\n",
       "      <td>85</td>\n",
       "      <td>82</td>\n",
       "    </tr>\n",
       "  </tbody>\n",
       "</table>\n",
       "</div>"
      ],
      "text/plain": [
       "   Math  Science  English\n",
       "0    85       90       78\n",
       "1    92       87       85\n",
       "2    78       92       80\n",
       "3    90       85       82"
      ]
     },
     "execution_count": 8,
     "metadata": {},
     "output_type": "execute_result"
    }
   ],
   "source": [
    "df"
   ]
  },
  {
   "cell_type": "code",
   "execution_count": null,
   "id": "7b72e70b",
   "metadata": {},
   "outputs": [],
   "source": []
  }
 ],
 "metadata": {
  "kernelspec": {
   "display_name": "Python 3 (ipykernel)",
   "language": "python",
   "name": "python3"
  },
  "language_info": {
   "codemirror_mode": {
    "name": "ipython",
    "version": 3
   },
   "file_extension": ".py",
   "mimetype": "text/x-python",
   "name": "python",
   "nbconvert_exporter": "python",
   "pygments_lexer": "ipython3",
   "version": "3.11.1"
  }
 },
 "nbformat": 4,
 "nbformat_minor": 5
}
