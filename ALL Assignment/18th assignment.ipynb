{
 "cells": [
  {
   "cell_type": "markdown",
   "id": "60c89188",
   "metadata": {},
   "source": [
    "Q.1  What is an API? Give an example, where an API is used in real life.\n",
    "\n",
    "Ans . \n",
    "\n",
    "APIs are used in web applications to connect user-facing front ends with critical back-end functionality and data. APIs are used to deliver material by streaming services such as Spotify and Netflix. APIs are used by automakers such as Tesla to provide software upgrades.\n",
    "\n",
    "Example - Weather data is a popular API example that we come across regularly. Rich weather snippets appear ubiquitous, appearing on all platforms such as Google Search, Apple's Weather app, and even your smart home device."
   ]
  },
  {
   "cell_type": "markdown",
   "id": "b6ba4914",
   "metadata": {},
   "source": [
    "Q2. Give advantages and disadvantages of using API.\n",
    "\n",
    "Ans .  The main advantage of providing an API is that it allows your users to do more with your product or service\n",
    "\n",
    "API Disadvantages - \n",
    "There is a lot of conveniences and advantages to APIs, but business leaders should also be aware of the disadvantages. As a single point of entry, an API is a gateway and can become a hacker's primary target. Once the API is compromised, all other applications and systems become vulnerable.\n",
    "\n",
    "Nine of the top ten vulnerabilities listed in the OWASP Top 10 now mention APIs — and since APIs can be accessed over the internet, they will have all the same disadvantages as any other Internet-based resource.  APIs are vulnerable to man-in-the-middle attacks, CSRF attacks, XSS attacks, SQL injection, and DDoS attacks."
   ]
  },
  {
   "cell_type": "markdown",
   "id": "bd874f99",
   "metadata": {},
   "source": [
    " Q3. What is a Web API? Differentiate between API and Web API.\n",
    " \n",
    " Ans . Web API as the name suggests, is an API over the web which can be accessed using HTTP protocol. It is a concept and not a technology. We can build Web API using different technologies such as Java, .NET etc. For example, Twitter's REST APIs provide programmatic access to read and write data using which we can integrate twitter's capabilities into our own application.\n",
    "\n",
    "differentiate between API and Web API -\n",
    "Both APIs and web services are technologies that enable the transfer of data between separate software applications. API is an interface that exposes an application's data to outside software, whereas web applications are one type of API with stricter requirements"
   ]
  },
  {
   "cell_type": "markdown",
   "id": "438f2070",
   "metadata": {},
   "source": [
    "Q4. Explain REST and SOAP Architecture. Mention shortcomings of SOAP.\n",
    "\n",
    "SOAP is a protocol whereas REST is an architectural pattern. SOAP uses service interfaces to expose its functionality to client applications while REST uses Uniform Service locators to access to the components on the hardware device. SOAP needs more bandwidth for its usage whereas REST doesn't need much bandwidth.\n",
    "\n",
    "Disadvantages of soap\n",
    "\n",
    "Soap is alkaline, which irritates sensitive skin, which is normally acidic. Alkaline skin degrades quickly as protease enzymes are activated that destroy the skin proteins. Soap forms scum when used with hard water (water that contains a high amount of calcium in solution).\n"
   ]
  },
  {
   "cell_type": "markdown",
   "id": "76142a45",
   "metadata": {},
   "source": [
    "Q.5 Differentiate between REST and SOAP.\n",
    "\n",
    "Ans.Difference Between SOAP and REST API\n",
    "\n",
    "* SOAP stands for Simple Object Access Protocol whereas REST stands for Representational State Transfer.\n",
    "\n",
    "* SOAP is a protocol whereas REST is an architectural pattern.\n",
    "\n",
    "* SOAP uses service interfaces to expose its functionality to client applications while REST uses Uniform Service locators to access to the components on the hardware device.\n",
    "\n",
    "* SOAP needs more bandwidth for its usage whereas REST doesn’t need much bandwidth.\n",
    "\n",
    "* Comparing SOAP vs REST API, SOAP only works with XML formats whereas REST work with plain text, XML, HTML and JSON.\n",
    "\n",
    "* SOAP cannot make use of REST whereas REST can make use of SOAP."
   ]
  },
  {
   "cell_type": "code",
   "execution_count": null,
   "id": "f6a08ff5",
   "metadata": {},
   "outputs": [],
   "source": []
  }
 ],
 "metadata": {
  "kernelspec": {
   "display_name": "Python 3 (ipykernel)",
   "language": "python",
   "name": "python3"
  },
  "language_info": {
   "codemirror_mode": {
    "name": "ipython",
    "version": 3
   },
   "file_extension": ".py",
   "mimetype": "text/x-python",
   "name": "python",
   "nbconvert_exporter": "python",
   "pygments_lexer": "ipython3",
   "version": "3.11.1"
  }
 },
 "nbformat": 4,
 "nbformat_minor": 5
}
