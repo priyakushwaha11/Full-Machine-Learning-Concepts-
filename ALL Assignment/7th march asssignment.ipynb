{
 "cells": [
  {
   "cell_type": "markdown",
   "id": "4ec40437",
   "metadata": {},
   "source": [
    "Q1. What are the three measures of central tendency?\n",
    "\n",
    "Ans:\n",
    " Central tendency refers to the typical or central value of a set of data. There are three commonly used measures of central tendency: \n",
    "\n",
    "1. Mean: This is the arithmetic average of a set of data. To calculate the mean, you add up all the values in the data set and divide by the total number of values. \n",
    "\n",
    "\n",
    "2. Median: This is the middle value in a set of data when the values are arranged in order. If there are an even number of values, the median is the average of the two middle values. \n",
    "\n",
    "\n",
    "3. Mode: This is the value that occurs most frequently in a set of data. It is possible for a set of data to have more than one mode, or no mode at all. \n",
    "\n"
   ]
  },
  {
   "cell_type": "markdown",
   "id": "c426cddb",
   "metadata": {},
   "source": [
    "Q2. What is the difference between the mean, median, and mode? How are they used to measure the\n",
    "central tendency of a dataset?\n",
    "\n",
    "Ans:  Difference between three statistical measures of central tendency: mean, median, and mode. The mean is the average of all the values in a dataset, calculated by adding up all the values and dividing by the total number of values. The median is the middle value in a dataset when it is arranged in order from smallest to largest. The mode is the value that appears most frequently in a dataset.\n",
    "\n",
    "These measures are used to describe the typical value or central tendency of a dataset. The mean is often used when the dataset is normally distributed (bell-shaped curve) and does not have extreme outliers. The median is used when the dataset has extreme outliers or is not normally distributed. The mode is used when looking for the most common value in a dataset.\n",
    "\n"
   ]
  },
  {
   "cell_type": "markdown",
   "id": "55a8f8ea",
   "metadata": {},
   "source": [
    "Q3. Measure the three measures of central tendency for the given height data:\n",
    "\n",
    "\n",
    " [178,177,176,177,178.2,178,175,179,180,175,178.9,176.2,177,172.5,178,176.5]"
   ]
  },
  {
   "cell_type": "markdown",
   "id": "31f765dd",
   "metadata": {},
   "source": [
    "Ans:To find the measures of central tendency for the given height data, we need to calculate the mean, median, and mode.\n",
    "\n",
    "\n",
    "Mean: The mean is the average value of the data. It is calculated by adding up all the values and dividing by the total number of values.\n",
    "\n",
    "\n",
    "\n",
    "To find the mean of the given height data, we add up all the values and divide by the total number of values:\n",
    "\n"
   ]
  },
  {
   "cell_type": "code",
   "execution_count": 4,
   "id": "065f7af9",
   "metadata": {},
   "outputs": [],
   "source": [
    "Mean = (178 + 177 + 176 + 177 + 178.2 + 178 + 175 + 179 + 180 + 175 + 178.9 + 176.2 + 177 + 172.5 + 178 + 176.5) / 16\n",
    "    \n"
   ]
  },
  {
   "cell_type": "code",
   "execution_count": 6,
   "id": "a6d3a02c",
   "metadata": {},
   "outputs": [
    {
     "data": {
      "text/plain": [
       "177.01875"
      ]
     },
     "execution_count": 6,
     "metadata": {},
     "output_type": "execute_result"
    }
   ],
   "source": [
    "Mean"
   ]
  },
  {
   "cell_type": "markdown",
   "id": "2d1352a6",
   "metadata": {},
   "source": [
    "Median: The median is the middle value in the data when the values are arranged in order. If there are an odd number of values, the median is the middle value. If there are an even number of values, the median is the average of the two middle values.\n",
    "\n",
    "\n",
    "\n",
    "To find the median of the given height data, we first need to arrange the values in order:\n",
    "\n"
   ]
  },
  {
   "cell_type": "code",
   "execution_count": 7,
   "id": "ce1a6d4e",
   "metadata": {},
   "outputs": [],
   "source": [
    "Median = (177 + 178) / 2\n",
    " "
   ]
  },
  {
   "cell_type": "code",
   "execution_count": 8,
   "id": "7db8e525",
   "metadata": {},
   "outputs": [
    {
     "data": {
      "text/plain": [
       "177.5"
      ]
     },
     "execution_count": 8,
     "metadata": {},
     "output_type": "execute_result"
    }
   ],
   "source": [
    "Median"
   ]
  },
  {
   "cell_type": "markdown",
   "id": "11472658",
   "metadata": {},
   "source": [
    "Mode: The mode is the value that appears most frequently in the data.\n",
    "\n",
    "\n",
    "To find the mode of the given height data, we can look for the value that appears most frequently:\n",
    "\n"
   ]
  },
  {
   "cell_type": "code",
   "execution_count": 9,
   "id": "c2ebc4ca",
   "metadata": {},
   "outputs": [],
   "source": [
    "mode = 178"
   ]
  },
  {
   "cell_type": "code",
   "execution_count": 10,
   "id": "c0582e0a",
   "metadata": {},
   "outputs": [
    {
     "data": {
      "text/plain": [
       "178"
      ]
     },
     "execution_count": 10,
     "metadata": {},
     "output_type": "execute_result"
    }
   ],
   "source": [
    "mode"
   ]
  },
  {
   "cell_type": "markdown",
   "id": "38c844f8",
   "metadata": {},
   "source": [
    "Q4. Find the standard deviation for the given data:\n",
    "\n",
    "\n",
    "[178,177,176,177,178.2,178,175,179,180,175,178.9,176.2,177,172.5,178,176.5]"
   ]
  },
  {
   "cell_type": "markdown",
   "id": "61247e74",
   "metadata": {},
   "source": [
    "Ans: To find the standard deviation of the given data, we can follow these steps:\n",
    "\n"
   ]
  },
  {
   "cell_type": "code",
   "execution_count": 16,
   "id": "75f2916b",
   "metadata": {},
   "outputs": [],
   "source": [
    "mean = (178 + 177 + 176 + 177 + 178.2 + 178 + 175 + 179 + 180 + 175 + 178.9 + 176.2 + 177 + 172.5 + 178 + 176.5) / 16\n",
    "    \n",
    "\n"
   ]
  },
  {
   "cell_type": "code",
   "execution_count": 17,
   "id": "b9950f33",
   "metadata": {},
   "outputs": [
    {
     "data": {
      "text/plain": [
       "177.01875"
      ]
     },
     "execution_count": 17,
     "metadata": {},
     "output_type": "execute_result"
    }
   ],
   "source": [
    "mean"
   ]
  },
  {
   "cell_type": "code",
   "execution_count": 21,
   "id": "8a288d28",
   "metadata": {},
   "outputs": [],
   "source": [
    "deviations = [178 - 110.45625, 177 - 110.45625, 176 - 110.45625, 177 - 110.45625,\n",
    "              178.2 - 110.45625, 178 - 110.45625, 175 - 110.45625, 179 - 110.45625, 180 - 110.45625,\n",
    "              175 - 110.45625, 178.9 - 110.45625, 176.2 - 110.45625, 177 - 110.45625, 172.5 - 110.45625,\n",
    "              178 - 110.45625, 176.5 - 110.45625]\n",
    "           "
   ]
  },
  {
   "cell_type": "code",
   "execution_count": 22,
   "id": "26d4eaf5",
   "metadata": {},
   "outputs": [
    {
     "data": {
      "text/plain": [
       "[67.54375,\n",
       " 66.54375,\n",
       " 65.54375,\n",
       " 66.54375,\n",
       " 67.74374999999999,\n",
       " 67.54375,\n",
       " 64.54375,\n",
       " 68.54375,\n",
       " 69.54375,\n",
       " 64.54375,\n",
       " 68.44375000000001,\n",
       " 65.74374999999999,\n",
       " 66.54375,\n",
       " 62.04375,\n",
       " 67.54375,\n",
       " 66.04375]"
      ]
     },
     "execution_count": 22,
     "metadata": {},
     "output_type": "execute_result"
    }
   ],
   "source": [
    "deviations"
   ]
  },
  {
   "cell_type": "code",
   "execution_count": 23,
   "id": "b8bcd6bf",
   "metadata": {},
   "outputs": [],
   "source": [
    "squared_deviations = [4549.2488, 4428.8481, 4291.3725, 4428.8481, 4573.4841, 4549.2488, 4173.3725, 4693.3063, 4833.3063, 4173.3725, 4678.7206, 4333.2984, 4428.8481, 3842.4375, 4549.2488, 4356.6675]\n"
   ]
  },
  {
   "cell_type": "code",
   "execution_count": 24,
   "id": "42a6f83a",
   "metadata": {},
   "outputs": [
    {
     "data": {
      "text/plain": [
       "[4549.2488,\n",
       " 4428.8481,\n",
       " 4291.3725,\n",
       " 4428.8481,\n",
       " 4573.4841,\n",
       " 4549.2488,\n",
       " 4173.3725,\n",
       " 4693.3063,\n",
       " 4833.3063,\n",
       " 4173.3725,\n",
       " 4678.7206,\n",
       " 4333.2984,\n",
       " 4428.8481,\n",
       " 3842.4375,\n",
       " 4549.2488,\n",
       " 4356.6675]"
      ]
     },
     "execution_count": 24,
     "metadata": {},
     "output_type": "execute_result"
    }
   ],
   "source": [
    "squared_deviations"
   ]
  },
  {
   "cell_type": "code",
   "execution_count": 25,
   "id": "fa2feda5",
   "metadata": {},
   "outputs": [],
   "source": [
    "sum_squared_deviations = 67597.2675\n"
   ]
  },
  {
   "cell_type": "markdown",
   "id": "d06a6e1b",
   "metadata": {},
   "source": [
    "Q5. How are measures of dispersion such as range, variance, and standard deviation used to describe\n",
    "the spread of a dataset? Provide an example.\n",
    "\n",
    "Ans: This text is asking how measures of dispersion, which are statistical tools used to determine how much variation there is in a dataset, can be used to describe the spread of a dataset. The measures of dispersion mentioned are range, variance, and standard deviation.\n",
    "\n",
    "The range is simply the difference between the maximum and minimum values in a dataset. It gives an idea of how spread out the data is from the highest value to the lowest value.\n",
    "\n",
    "Variance is a measure of how spread out the data is from the mean (average) value. It is calculated by taking the sum of the squared differences between each data point and the mean, divided by the total number of data points minus one. A higher variance indicates that the data is more spread out from the mean.\n",
    "\n",
    "Standard deviation is the square root of the variance and is often used instead of variance because it is easier to interpret. It gives an idea of how much the data deviates from the mean. A higher standard deviation indicates that the data is more spread out from the mean.\n",
    "\n",
    "An example of how these measures of dispersion can be used is if you were analyzing the heights of students in a class. The range would tell you the difference between the tallest and shortest student. The variance and standard deviation would give you an idea of how much variation there is in height among the students. If the standard deviation was high, it would indicate that there is a wide range of heights among the students."
   ]
  },
  {
   "cell_type": "markdown",
   "id": "6c65afd7",
   "metadata": {},
   "source": [
    "Q6. What is a Venn diagram?\n",
    "\n",
    "Ans: A Venn diagram is a graphical representation of sets or groups. It consists of overlapping circles or other shapes, with each circle representing a set and the overlapping regions representing the intersection of the sets. The diagram is used to visually show the relationships and similarities between different sets. It is named after John Venn, a British logician and philosopher who introduced it in the late 19th century."
   ]
  },
  {
   "cell_type": "markdown",
   "id": "58650a49",
   "metadata": {},
   "source": [
    "Q7. For the two given sets A = (2,3,4,5,6,7) & B = (0,2,6,8,10). Find:\n",
    "\n",
    "\n",
    "(i) \tA B\n",
    "\n",
    "\n",
    "(ii)\tA ⋃ B"
   ]
  },
  {
   "cell_type": "markdown",
   "id": "e6436283",
   "metadata": {},
   "source": [
    "Ans: \n",
    "\n",
    "(i) A B represents the set of all elements that are common to both sets A and B. \n",
    "\n",
    "\n",
    "A = {2,3,4,5,6,7} and B = {0,2,6,8,10}\n",
    "\n",
    "\n",
    "Therefore, A B = {2,6}\n",
    "\n",
    "\n",
    "(ii) A ⋃ B represents the set of all elements that are in either set A or set B or in both. \n",
    "\n",
    "A = {2,3,4,5,6,7} and B = {0,2,6,8,10}\n",
    "\n",
    "Therefore, A ⋃ B = {0,2,3,4,5,6,7,8,10}"
   ]
  },
  {
   "cell_type": "markdown",
   "id": "1f231b6b",
   "metadata": {},
   "source": [
    "Q8. What do you understand about skewness in data\n",
    "\n",
    "Ans: Skewness refers to the degree of asymmetry in a distribution of data. In other words, it measures how much a distribution deviates from a normal distribution, which is symmetric. \n",
    "\n",
    "A distribution that is skewed to the right (positive skewness) means that the tail of the distribution is longer on the right side, indicating that there are more extreme values on the right side of the distribution. On the other hand, a distribution that is skewed to the left (negative skewness) means that the tail of the distribution is longer on the left side, indicating that there are more extreme values on the left side of the distribution.\n",
    "\n",
    "Understanding skewness is important because it can affect statistical analyses and modeling. For example, if a dataset is highly skewed, it may require transformation before being used in certain statistical tests or models."
   ]
  },
  {
   "cell_type": "markdown",
   "id": "5e725d21",
   "metadata": {},
   "source": [
    "Q9. If a data is right skewed then what will be the position of median with respect to mean?\n",
    "\n",
    "Ans: The relationship between the median and mean in a dataset that is right skewed. Skewness refers to the degree of symmetry in a distribution of data. If a distribution is right skewed, it means that the majority of the data is concentrated on the left side of the graph, with a long tail stretching out to the right.\n",
    "\n",
    "The median is the middle value in a dataset when the values are arranged in order from lowest to highest. The mean is the average value of all the data points. In a normal or symmetrical distribution, the mean and median will be roughly the same value. However, in a skewed distribution, the mean and median will differ.\n",
    "\n",
    "In a right-skewed distribution, the mean will be greater than the median. This is because the long tail of the distribution on the right side pulls the mean towards higher values, while the median remains closer to the middle of the dataset. Therefore, in a right-skewed dataset, the median will be to the left of the mean. "
   ]
  },
  {
   "cell_type": "markdown",
   "id": "ae1b40c1",
   "metadata": {},
   "source": [
    "Q10. Explain the difference between covariance and correlation. How are these measures used in\n",
    "statistical analysis?\n",
    "\n",
    "Ans :\n",
    "\n",
    "Covariance and correlation are two statistical measures that are used to describe the relationship between two variables. \n",
    "\n",
    "Covariance is a measure of how much two variables change together. It is calculated by taking the product of the difference between each variable and its mean, and then averaging those products. Covariance can be positive, negative, or zero. A positive covariance indicates that the two variables tend to increase or decrease together, while a negative covariance indicates that one variable tends to increase while the other decreases. A covariance of zero indicates that there is no linear relationship between the variables.\n",
    "\n",
    "Correlation, on the other hand, measures the strength and direction of the linear relationship between two variables. It is calculated by dividing the covariance by the product of the standard deviations of the two variables. Correlation can range from -1 to 1, with -1 indicating a perfect negative correlation (when one variable increases, the other decreases), 1 indicating a perfect positive correlation (when one variable increases, the other increases), and 0 indicating no correlation.\n",
    "\n",
    "Both covariance and correlation are used in statistical analysis to understand the relationship between two variables. However, correlation is often preferred over covariance because it is standardized (meaning it does not depend on the scale of the variables) and easier to interpret. Correlation is commonly used in fields such as finance, economics, and social sciences to analyze data and make predictions."
   ]
  },
  {
   "cell_type": "markdown",
   "id": "bc9c07f8",
   "metadata": {},
   "source": [
    "Q11. What is the formula for calculating the sample mean? Provide an example calculation for a\n",
    "dataset.\n",
    "\n",
    "Ans:  the formula used to calculate the sample mean, which is a measure of central tendency in statistics. The sample mean is calculated by adding up all the values in a dataset and dividing by the number of values. \n",
    "\n",
    "For example, if we have a dataset of test scores: 70, 80, 90, 85, and 95, we would add up all the scores (70+80+90+85+95 = 420) and divide by the number of scores (5) to get the sample mean: 84. \n",
    "\n",
    "The formula for calculating the sample mean can be written as: \n",
    "\n",
    "x̄ = (Σ xi) / n\n",
    "\n",
    "Where x̄ is the sample mean, Σ xi is the sum of all the values in the dataset, and n is the number of values in the dataset."
   ]
  },
  {
   "cell_type": "markdown",
   "id": "57e92caf",
   "metadata": {},
   "source": [
    "Q12. For a normal distribution data what is the relationship between its measure of central tendency?\n",
    "\n",
    "Ans:  the relationship between the measure of central tendency for data that follows a normal distribution. \n",
    "\n",
    "In statistics, a measure of central tendency is a value that represents the center or typical value of a dataset. The most common measures of central tendency are the mean, median, and mode. \n",
    "\n",
    "A normal distribution, also known as a Gaussian distribution, is a probability distribution that is symmetric and bell-shaped. It is characterized by its mean and standard deviation. \n",
    "\n",
    "The relationship between the measures of central tendency for data that follows a normal distribution is that they are all equal. This means that the mean, median, and mode will all have the same value. This is because the normal distribution is symmetric around its mean, so the median and mode will also be at the same point as the mean. \n",
    "\n",
    "In summary, for data that follows a normal distribution, the mean, median, and mode will all have the same value, as they represent the measure of central tendency."
   ]
  },
  {
   "cell_type": "markdown",
   "id": "847cae94",
   "metadata": {},
   "source": [
    "Q13. How is covariance different from correlation?\n",
    "\n",
    "Ans: Covariance and correlation are both statistical measures used to determine the relationship between two variables. Covariance measures the degree to which two variables vary together, while correlation measures the strength and direction of the linear relationship between two variables. \n",
    "\n",
    "In simpler terms, covariance indicates whether two variables have a positive or negative relationship, meaning they move in the same or opposite directions, respectively. Correlation, on the other hand, measures how strong this relationship is, ranging from -1 (perfect negative correlation) to 1 (perfect positive correlation). A correlation coefficient of 0 indicates no linear relationship between the variables.\n",
    "\n",
    "Technical terms:\n",
    "- Covariance: a measure of how much two variables change together\n",
    "- Correlation: a measure of the strength and direction of the linear relationship between two variables\n",
    "- Linear relationship: a relationship between two variables that can be represented by a straight line on a graph\n",
    "- Correlation coefficient: a number that represents the strength and direction of the correlation between two variables, ranging from -1 to 1."
   ]
  },
  {
   "cell_type": "markdown",
   "id": "edeaeb5e",
   "metadata": {},
   "source": [
    "Q14. How do outliers affect measures of central tendency and dispersion? Provide an example.\n",
    "\n",
    "Ans:  the impact of outliers on measures of central tendency and dispersion. Central tendency refers to the typical or average value in a set of data, while dispersion refers to how spread out the data is. Outliers are values that are significantly different from the rest of the data.\n",
    "\n",
    "When outliers are present in a data set, they can greatly affect measures of central tendency. For example, if a set of test scores has one extremely high score, the mean (average) score will be skewed higher than the typical score. This can give a misleading impression of the overall performance of the group.\n",
    "\n",
    "Outliers can also affect measures of dispersion. For example, if a set of salaries has one extremely high salary, the range (difference between the highest and lowest salaries) will be much larger than it would be without the outlier. This can make it difficult to accurately compare the salaries of different groups or individuals.\n",
    "\n",
    "Overall, outliers can have a significant impact on statistical analysis and should be carefully considered when interpreting data."
   ]
  },
  {
   "cell_type": "code",
   "execution_count": null,
   "id": "852b0000",
   "metadata": {},
   "outputs": [],
   "source": []
  }
 ],
 "metadata": {
  "kernelspec": {
   "display_name": "Python 3 (ipykernel)",
   "language": "python",
   "name": "python3"
  },
  "language_info": {
   "codemirror_mode": {
    "name": "ipython",
    "version": 3
   },
   "file_extension": ".py",
   "mimetype": "text/x-python",
   "name": "python",
   "nbconvert_exporter": "python",
   "pygments_lexer": "ipython3",
   "version": "3.11.1"
  }
 },
 "nbformat": 4,
 "nbformat_minor": 5
}
