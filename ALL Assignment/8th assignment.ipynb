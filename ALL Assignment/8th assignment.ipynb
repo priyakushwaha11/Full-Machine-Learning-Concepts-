{
 "cells": [
  {
   "cell_type": "markdown",
   "id": "bf2b0333",
   "metadata": {},
   "source": [
    "Q.1  What is Abstraction in OOps? Explain with an example.\n"
   ]
  },
  {
   "cell_type": "markdown",
   "id": "d852ab05",
   "metadata": {},
   "source": [
    "Ans . Objects are the building blocks of Object-Oriented Programming. An object contains some properties and methods. We can hide them from the outer world through access modifiers. We can provide access only for required functions and properties to the other programs. This is the general procedure to implement abstraction in OOPS."
   ]
  },
  {
   "cell_type": "markdown",
   "id": "515df97f",
   "metadata": {},
   "source": [
    "Q.2 Differentiate between Abstraction and Encapsulation. Explain with an example.\n"
   ]
  },
  {
   "cell_type": "markdown",
   "id": "2c65e47c",
   "metadata": {},
   "source": [
    "Ans . \n",
    "Encapsulation\n",
    "hides variables or some implementation that may be changed so often in a class to prevent outsiders access it directly. They must access it via getter and setter methods.\n",
    "\n",
    "\n",
    "Abstraction\n",
    "is used to hide something too, but in a higher degree (class, interface). Clients who use an abstract class (or interface) do not care about what it was, they just need to know what it can do."
   ]
  },
  {
   "cell_type": "markdown",
   "id": "0d573f28",
   "metadata": {},
   "source": [
    "Q.3   What is abc module in python? Why is it used?"
   ]
  },
  {
   "cell_type": "markdown",
   "id": "4079b53d",
   "metadata": {},
   "source": [
    "Ans.The collections module has some concrete classes that derive from ABCs; these can, of course, be further derived. In addition, the collections.abc submodule has some ABCs that can be used to test whether a class or instance provides a particular interface, for example, if it is hashable or if it is a mapping."
   ]
  },
  {
   "cell_type": "markdown",
   "id": "357f16c7",
   "metadata": {},
   "source": [
    "Q.4 How can we achieve data abstraction?"
   ]
  },
  {
   "cell_type": "markdown",
   "id": "0c9a6639",
   "metadata": {},
   "source": [
    "Ans. Data abstraction is a method where essential elements are displayed to the user and trivial elements are kept hidden. In Java, abstraction is achieved by using the abstract keyword for classes and interfaces. In abstract classes, we can have abstract methods as well as concrete methods."
   ]
  },
  {
   "cell_type": "markdown",
   "id": "a33ed041",
   "metadata": {},
   "source": [
    "Q.5  Can we create an instance of an abstract class? Explain your answer."
   ]
  },
  {
   "cell_type": "markdown",
   "id": "2cdccf51",
   "metadata": {},
   "source": [
    "Ans. Abstract classes cannot be instantiated, but they can be subclassed. When an abstract class is subclassed, the subclass usually provides implementations for all of the abstract methods in its parent class. However, if it does not, then the subclass must also be declared abstract ."
   ]
  },
  {
   "cell_type": "code",
   "execution_count": null,
   "id": "8570dad5",
   "metadata": {},
   "outputs": [],
   "source": []
  }
 ],
 "metadata": {
  "kernelspec": {
   "display_name": "Python 3 (ipykernel)",
   "language": "python",
   "name": "python3"
  },
  "language_info": {
   "codemirror_mode": {
    "name": "ipython",
    "version": 3
   },
   "file_extension": ".py",
   "mimetype": "text/x-python",
   "name": "python",
   "nbconvert_exporter": "python",
   "pygments_lexer": "ipython3",
   "version": "3.11.1"
  }
 },
 "nbformat": 4,
 "nbformat_minor": 5
}
