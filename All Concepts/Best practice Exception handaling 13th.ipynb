{
 "cells": [
  {
   "cell_type": "code",
   "execution_count": 1,
   "id": "063f0cb1",
   "metadata": {},
   "outputs": [
    {
     "name": "stdout",
     "output_type": "stream",
     "text": [
      "division by zero\n"
     ]
    }
   ],
   "source": [
    "# use always a specific exception\n",
    "# doosre error me Exception mtlb super error lagana galat format hai \n",
    "\n",
    "try :\n",
    "    10 / 0\n",
    "except Exception as e :\n",
    "    print(e)\n",
    "    \n",
    "# yah run ho raha hai lekin galat hai yahan pe ZeroDivision error lagana chahiye\n"
   ]
  },
  {
   "cell_type": "code",
   "execution_count": 2,
   "id": "f891d42e",
   "metadata": {},
   "outputs": [
    {
     "name": "stdout",
     "output_type": "stream",
     "text": [
      "division by zero\n"
     ]
    }
   ],
   "source": [
    "try :\n",
    "    10 / 0\n",
    "except ZeroDivisionError as e :\n",
    "    print(e)"
   ]
  },
  {
   "cell_type": "code",
   "execution_count": 3,
   "id": "e3a3e5fc",
   "metadata": {},
   "outputs": [
    {
     "name": "stdout",
     "output_type": "stream",
     "text": [
      "i am trying to handle a ZeroDivisionerror division by zero\n"
     ]
    }
   ],
   "source": [
    "# print always a proper message\n",
    "\n",
    "try :\n",
    "    10 / 0\n",
    "except ZeroDivisionError as e :\n",
    "    print (\"i am trying to handle a ZeroDivisionerror \" , e)\n",
    "# massage sahi se likhna chahiye"
   ]
  },
  {
   "cell_type": "code",
   "execution_count": 5,
   "id": "fb27b6a5",
   "metadata": {},
   "outputs": [],
   "source": [
    "# Always trying to log our error  in place of print \n",
    "import logging\n",
    "logging.basicConfig(filename= \"error.log\" , level= logging.ERROR)\n",
    "try :\n",
    "    10 / 0\n",
    "except ZeroDivisionError as e:\n",
    "    logging.error(\"i am trying to handle a ZeroDivisionerror {}\".format(e))\n",
    " "
   ]
  },
  {
   "cell_type": "code",
   "execution_count": null,
   "id": "6fdc10ca",
   "metadata": {},
   "outputs": [],
   "source": []
  }
 ],
 "metadata": {
  "kernelspec": {
   "display_name": "Python 3 (ipykernel)",
   "language": "python",
   "name": "python3"
  },
  "language_info": {
   "codemirror_mode": {
    "name": "ipython",
    "version": 3
   },
   "file_extension": ".py",
   "mimetype": "text/x-python",
   "name": "python",
   "nbconvert_exporter": "python",
   "pygments_lexer": "ipython3",
   "version": "3.11.1"
  }
 },
 "nbformat": 4,
 "nbformat_minor": 5
}
