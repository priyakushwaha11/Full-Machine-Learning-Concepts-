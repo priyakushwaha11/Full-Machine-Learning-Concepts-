{
 "cells": [
  {
   "cell_type": "markdown",
   "id": "3a8dd3f6",
   "metadata": {},
   "source": [
    "### Array manipulation\n"
   ]
  },
  {
   "cell_type": "code",
   "execution_count": 1,
   "id": "1b02e24d",
   "metadata": {},
   "outputs": [],
   "source": [
    "import numpy as np"
   ]
  },
  {
   "cell_type": "code",
   "execution_count": 3,
   "id": "5b7fdf1d",
   "metadata": {},
   "outputs": [],
   "source": [
    "arr = [1,2,3,3,54,6,7]"
   ]
  },
  {
   "cell_type": "code",
   "execution_count": 4,
   "id": "256c5c6c",
   "metadata": {},
   "outputs": [
    {
     "data": {
      "text/plain": [
       "array([ 0,  1,  1,  2, 23,  5,  5])"
      ]
     },
     "execution_count": 4,
     "metadata": {},
     "output_type": "execute_result"
    }
   ],
   "source": [
    "np.random.randint(arr)"
   ]
  },
  {
   "cell_type": "code",
   "execution_count": 6,
   "id": "6b4b8e08",
   "metadata": {},
   "outputs": [],
   "source": [
    "arr2 = np.random.randint(1,10, (2,5))"
   ]
  },
  {
   "cell_type": "code",
   "execution_count": 7,
   "id": "3ffade76",
   "metadata": {},
   "outputs": [
    {
     "data": {
      "text/plain": [
       "array([[2, 9, 4, 7, 3],\n",
       "       [8, 6, 5, 6, 6]])"
      ]
     },
     "execution_count": 7,
     "metadata": {},
     "output_type": "execute_result"
    }
   ],
   "source": [
    "arr2"
   ]
  },
  {
   "cell_type": "code",
   "execution_count": 8,
   "id": "e2c88dd3",
   "metadata": {},
   "outputs": [
    {
     "data": {
      "text/plain": [
       "array([[2, 9],\n",
       "       [4, 7],\n",
       "       [3, 8],\n",
       "       [6, 5],\n",
       "       [6, 6]])"
      ]
     },
     "execution_count": 8,
     "metadata": {},
     "output_type": "execute_result"
    }
   ],
   "source": [
    "arr2.reshape(5,2)"
   ]
  },
  {
   "cell_type": "code",
   "execution_count": 9,
   "id": "f18854e5",
   "metadata": {},
   "outputs": [
    {
     "data": {
      "text/plain": [
       "array([[2, 9, 4, 7, 3, 8, 6, 5, 6, 6]])"
      ]
     },
     "execution_count": 9,
     "metadata": {},
     "output_type": "execute_result"
    }
   ],
   "source": [
    "arr2 .reshape(1,10)"
   ]
  },
  {
   "cell_type": "code",
   "execution_count": 10,
   "id": "e9230202",
   "metadata": {},
   "outputs": [
    {
     "data": {
      "text/plain": [
       "array([[2],\n",
       "       [9],\n",
       "       [4],\n",
       "       [7],\n",
       "       [3],\n",
       "       [8],\n",
       "       [6],\n",
       "       [5],\n",
       "       [6],\n",
       "       [6]])"
      ]
     },
     "execution_count": 10,
     "metadata": {},
     "output_type": "execute_result"
    }
   ],
   "source": [
    "arr2.reshape(10,1)"
   ]
  },
  {
   "cell_type": "code",
   "execution_count": 12,
   "id": "0fa5b4ba",
   "metadata": {},
   "outputs": [
    {
     "data": {
      "text/plain": [
       "array([[2, 8],\n",
       "       [9, 6],\n",
       "       [4, 5],\n",
       "       [7, 6],\n",
       "       [3, 6]])"
      ]
     },
     "execution_count": 12,
     "metadata": {},
     "output_type": "execute_result"
    }
   ],
   "source": [
    "# capital T ka mtlb old array me change kar deta hai\n",
    "\n",
    "arr2.T"
   ]
  },
  {
   "cell_type": "code",
   "execution_count": 14,
   "id": "3cbd1651",
   "metadata": {},
   "outputs": [
    {
     "data": {
      "text/plain": [
       "array([2, 9, 4, 7, 3, 8, 6, 5, 6, 6])"
      ]
     },
     "execution_count": 14,
     "metadata": {},
     "output_type": "execute_result"
    }
   ],
   "source": [
    "# flatten function me 2D se one 1D me badal jata hai\n",
    "\n",
    "arr2.flatten()"
   ]
  },
  {
   "cell_type": "code",
   "execution_count": 15,
   "id": "2e584b61",
   "metadata": {},
   "outputs": [],
   "source": [
    "# Expand function 1D se 2D me badal deta hai\n",
    "\n",
    "arr5 = np.array([1,3,54,6,7,8])"
   ]
  },
  {
   "cell_type": "code",
   "execution_count": 16,
   "id": "17875e02",
   "metadata": {},
   "outputs": [
    {
     "data": {
      "text/plain": [
       "1"
      ]
     },
     "execution_count": 16,
     "metadata": {},
     "output_type": "execute_result"
    }
   ],
   "source": [
    "arr5.ndim"
   ]
  },
  {
   "cell_type": "code",
   "execution_count": 18,
   "id": "b64db7d7",
   "metadata": {},
   "outputs": [
    {
     "data": {
      "text/plain": [
       "array([[ 1],\n",
       "       [ 3],\n",
       "       [54],\n",
       "       [ 6],\n",
       "       [ 7],\n",
       "       [ 8]])"
      ]
     },
     "execution_count": 18,
     "metadata": {},
     "output_type": "execute_result"
    }
   ],
   "source": [
    "np.expand_dims(arr5 , axis=1)"
   ]
  },
  {
   "cell_type": "code",
   "execution_count": 19,
   "id": "231c7ad1",
   "metadata": {},
   "outputs": [
    {
     "data": {
      "text/plain": [
       "array([[ 1,  3, 54,  6,  7,  8]])"
      ]
     },
     "execution_count": 19,
     "metadata": {},
     "output_type": "execute_result"
    }
   ],
   "source": [
    "np.expand_dims(arr5 , axis=0)"
   ]
  },
  {
   "cell_type": "code",
   "execution_count": 21,
   "id": "16e987c0",
   "metadata": {},
   "outputs": [],
   "source": [
    "data = np.array([[2],[3],[4],[43],[5],[76]])"
   ]
  },
  {
   "cell_type": "code",
   "execution_count": 22,
   "id": "486aeed5",
   "metadata": {},
   "outputs": [
    {
     "data": {
      "text/plain": [
       "array([[ 2],\n",
       "       [ 3],\n",
       "       [ 4],\n",
       "       [43],\n",
       "       [ 5],\n",
       "       [76]])"
      ]
     },
     "execution_count": 22,
     "metadata": {},
     "output_type": "execute_result"
    }
   ],
   "source": [
    "data"
   ]
  },
  {
   "cell_type": "code",
   "execution_count": 23,
   "id": "e43c699d",
   "metadata": {},
   "outputs": [
    {
     "data": {
      "text/plain": [
       "array([ 2,  3,  4, 43,  5, 76])"
      ]
     },
     "execution_count": 23,
     "metadata": {},
     "output_type": "execute_result"
    }
   ],
   "source": [
    "# squeeze function 2d array ko (or) ek array ke andar alag alag kostak wale data ko ek 1D arrray (or) ek hi kostak me rakh deta hai\n",
    "\n",
    "np.squeeze(data)"
   ]
  },
  {
   "cell_type": "code",
   "execution_count": 24,
   "id": "a4091eb2",
   "metadata": {},
   "outputs": [
    {
     "data": {
      "text/plain": [
       "[1, 2, 3, 3, 54, 6, 7]"
      ]
     },
     "execution_count": 24,
     "metadata": {},
     "output_type": "execute_result"
    }
   ],
   "source": [
    "# repeat function me data utni baar repeat ho jata hai\n",
    "\n",
    "arr"
   ]
  },
  {
   "cell_type": "code",
   "execution_count": 25,
   "id": "cb68ca97",
   "metadata": {},
   "outputs": [
    {
     "data": {
      "text/plain": [
       "array([ 1,  1,  1,  1,  1,  2,  2,  2,  2,  2,  3,  3,  3,  3,  3,  3,  3,\n",
       "        3,  3,  3, 54, 54, 54, 54, 54,  6,  6,  6,  6,  6,  7,  7,  7,  7,\n",
       "        7])"
      ]
     },
     "execution_count": 25,
     "metadata": {},
     "output_type": "execute_result"
    }
   ],
   "source": [
    "np.repeat(arr , 5)"
   ]
  },
  {
   "cell_type": "code",
   "execution_count": 27,
   "id": "22bbda1e",
   "metadata": {},
   "outputs": [
    {
     "data": {
      "text/plain": [
       "array([ 6,  7,  1,  2,  3,  3, 54])"
      ]
     },
     "execution_count": 27,
     "metadata": {},
     "output_type": "execute_result"
    }
   ],
   "source": [
    "# roll function me jis column me sankhya hai aur shift me ank dalte hain dono ko add karke jitna aata hai us column me us sankhya ko rakh deta hai\n",
    "\n",
    "np.roll(arr,shift=2)"
   ]
  },
  {
   "cell_type": "code",
   "execution_count": 28,
   "id": "a069a7c1",
   "metadata": {},
   "outputs": [
    {
     "data": {
      "text/plain": [
       "array([[ 1,  0,  0,  0,  0,  0,  0],\n",
       "       [ 0,  2,  0,  0,  0,  0,  0],\n",
       "       [ 0,  0,  3,  0,  0,  0,  0],\n",
       "       [ 0,  0,  0,  3,  0,  0,  0],\n",
       "       [ 0,  0,  0,  0, 54,  0,  0],\n",
       "       [ 0,  0,  0,  0,  0,  6,  0],\n",
       "       [ 0,  0,  0,  0,  0,  0,  7]])"
      ]
     },
     "execution_count": 28,
     "metadata": {},
     "output_type": "execute_result"
    }
   ],
   "source": [
    "np.diag(arr)"
   ]
  },
  {
   "cell_type": "markdown",
   "id": "2258a3b3",
   "metadata": {},
   "source": [
    "### Binary oprations"
   ]
  },
  {
   "cell_type": "code",
   "execution_count": 36,
   "id": "806822ed",
   "metadata": {},
   "outputs": [
    {
     "data": {
      "text/plain": [
       "[1, 2, 3, 3, 54, 6, 7]"
      ]
     },
     "execution_count": 36,
     "metadata": {},
     "output_type": "execute_result"
    }
   ],
   "source": [
    "arr"
   ]
  },
  {
   "cell_type": "code",
   "execution_count": 37,
   "id": "b8b7009c",
   "metadata": {},
   "outputs": [
    {
     "data": {
      "text/plain": [
       "array([[2, 9, 4, 7, 3],\n",
       "       [8, 6, 5, 6, 6]])"
      ]
     },
     "execution_count": 37,
     "metadata": {},
     "output_type": "execute_result"
    }
   ],
   "source": [
    "arr2"
   ]
  },
  {
   "cell_type": "code",
   "execution_count": 42,
   "id": "c8ecdbfc",
   "metadata": {},
   "outputs": [],
   "source": [
    "arr3 = np.random.randint(1,8,(2,5))"
   ]
  },
  {
   "cell_type": "code",
   "execution_count": 43,
   "id": "cf718fd3",
   "metadata": {},
   "outputs": [
    {
     "data": {
      "text/plain": [
       "array([[2, 4, 4, 7, 1],\n",
       "       [1, 7, 1, 2, 7]])"
      ]
     },
     "execution_count": 43,
     "metadata": {},
     "output_type": "execute_result"
    }
   ],
   "source": [
    "arr3"
   ]
  },
  {
   "cell_type": "code",
   "execution_count": 44,
   "id": "ad9b99a5",
   "metadata": {},
   "outputs": [
    {
     "data": {
      "text/plain": [
       "array([[ 4, 13,  8, 14,  4],\n",
       "       [ 9, 13,  6,  8, 13]])"
      ]
     },
     "execution_count": 44,
     "metadata": {},
     "output_type": "execute_result"
    }
   ],
   "source": [
    "arr2 + arr3"
   ]
  },
  {
   "cell_type": "code",
   "execution_count": 45,
   "id": "e1a5c647",
   "metadata": {},
   "outputs": [
    {
     "data": {
      "text/plain": [
       "array([[ 0,  5,  0,  0,  2],\n",
       "       [ 7, -1,  4,  4, -1]])"
      ]
     },
     "execution_count": 45,
     "metadata": {},
     "output_type": "execute_result"
    }
   ],
   "source": [
    "arr2 - arr3"
   ]
  },
  {
   "cell_type": "code",
   "execution_count": 46,
   "id": "42de6fb6",
   "metadata": {},
   "outputs": [
    {
     "data": {
      "text/plain": [
       "array([[ 4, 36, 16, 49,  3],\n",
       "       [ 8, 42,  5, 12, 42]])"
      ]
     },
     "execution_count": 46,
     "metadata": {},
     "output_type": "execute_result"
    }
   ],
   "source": [
    "arr2 * arr3"
   ]
  },
  {
   "cell_type": "code",
   "execution_count": 47,
   "id": "a77a7169",
   "metadata": {},
   "outputs": [
    {
     "data": {
      "text/plain": [
       "array([[1.        , 2.25      , 1.        , 1.        , 3.        ],\n",
       "       [8.        , 0.85714286, 5.        , 3.        , 0.85714286]])"
      ]
     },
     "execution_count": 47,
     "metadata": {},
     "output_type": "execute_result"
    }
   ],
   "source": [
    "arr2 / arr3"
   ]
  },
  {
   "cell_type": "code",
   "execution_count": 48,
   "id": "8dfeb1ad",
   "metadata": {},
   "outputs": [
    {
     "data": {
      "text/plain": [
       "array([[0, 1, 0, 0, 0],\n",
       "       [0, 6, 0, 0, 6]])"
      ]
     },
     "execution_count": 48,
     "metadata": {},
     "output_type": "execute_result"
    }
   ],
   "source": [
    "arr2 % arr3"
   ]
  },
  {
   "cell_type": "code",
   "execution_count": 49,
   "id": "70181ca2",
   "metadata": {},
   "outputs": [
    {
     "data": {
      "text/plain": [
       "array([[     4,   6561,    256, 823543,      3],\n",
       "       [     8, 279936,      5,     36, 279936]])"
      ]
     },
     "execution_count": 49,
     "metadata": {},
     "output_type": "execute_result"
    }
   ],
   "source": [
    "arr2 ** arr3"
   ]
  },
  {
   "cell_type": "code",
   "execution_count": 50,
   "id": "afffa61e",
   "metadata": {},
   "outputs": [
    {
     "data": {
      "text/plain": [
       "array([[2, 0, 4, 7, 1],\n",
       "       [0, 6, 1, 2, 6]])"
      ]
     },
     "execution_count": 50,
     "metadata": {},
     "output_type": "execute_result"
    }
   ],
   "source": [
    "arr2 & arr3"
   ]
  },
  {
   "cell_type": "code",
   "execution_count": 52,
   "id": "0028d82f",
   "metadata": {},
   "outputs": [
    {
     "data": {
      "text/plain": [
       "array([[ -3, -10,  -5,  -8,  -4],\n",
       "       [ -9,  -7,  -6,  -7,  -7]])"
      ]
     },
     "execution_count": 52,
     "metadata": {},
     "output_type": "execute_result"
    }
   ],
   "source": [
    "~arr2"
   ]
  },
  {
   "cell_type": "code",
   "execution_count": 53,
   "id": "9aa600e7",
   "metadata": {},
   "outputs": [
    {
     "data": {
      "text/plain": [
       "array([[-3, -5, -5, -8, -2],\n",
       "       [-2, -8, -2, -3, -8]])"
      ]
     },
     "execution_count": 53,
     "metadata": {},
     "output_type": "execute_result"
    }
   ],
   "source": [
    "~arr3"
   ]
  },
  {
   "cell_type": "code",
   "execution_count": 57,
   "id": "5a9491ea",
   "metadata": {},
   "outputs": [
    {
     "data": {
      "text/plain": [
       "array([[ 2, 13,  4,  7,  3],\n",
       "       [ 9,  7,  5,  6,  7]])"
      ]
     },
     "execution_count": 57,
     "metadata": {},
     "output_type": "execute_result"
    }
   ],
   "source": [
    "arr2 | arr3"
   ]
  },
  {
   "cell_type": "code",
   "execution_count": 59,
   "id": "4c0b6201",
   "metadata": {},
   "outputs": [
    {
     "data": {
      "text/plain": [
       "array([[False,  True, False, False,  True],\n",
       "       [ True, False,  True,  True, False]])"
      ]
     },
     "execution_count": 59,
     "metadata": {},
     "output_type": "execute_result"
    }
   ],
   "source": [
    "arr2 > arr3"
   ]
  },
  {
   "cell_type": "code",
   "execution_count": 60,
   "id": "76192ad5",
   "metadata": {},
   "outputs": [
    {
     "data": {
      "text/plain": [
       "array([[False, False, False, False, False],\n",
       "       [False,  True, False, False,  True]])"
      ]
     },
     "execution_count": 60,
     "metadata": {},
     "output_type": "execute_result"
    }
   ],
   "source": [
    "arr2 < arr3"
   ]
  },
  {
   "cell_type": "markdown",
   "id": "121dd9e8",
   "metadata": {},
   "source": [
    "### String function"
   ]
  },
  {
   "cell_type": "code",
   "execution_count": 63,
   "id": "17e3551f",
   "metadata": {},
   "outputs": [],
   "source": [
    "arr = np.array([\"priya\",\"rajni\"])"
   ]
  },
  {
   "cell_type": "code",
   "execution_count": 64,
   "id": "be0b7d04",
   "metadata": {},
   "outputs": [
    {
     "data": {
      "text/plain": [
       "array(['priya', 'rajni'], dtype='<U5')"
      ]
     },
     "execution_count": 64,
     "metadata": {},
     "output_type": "execute_result"
    }
   ],
   "source": [
    "arr"
   ]
  },
  {
   "cell_type": "code",
   "execution_count": 65,
   "id": "0109cb72",
   "metadata": {},
   "outputs": [
    {
     "data": {
      "text/plain": [
       "array(['PRIYA', 'RAJNI'], dtype='<U5')"
      ]
     },
     "execution_count": 65,
     "metadata": {},
     "output_type": "execute_result"
    }
   ],
   "source": [
    "np.char.upper(arr)"
   ]
  },
  {
   "cell_type": "code",
   "execution_count": 67,
   "id": "0e6ea9b3",
   "metadata": {},
   "outputs": [
    {
     "data": {
      "text/plain": [
       "array(['Priya', 'Rajni'], dtype='<U5')"
      ]
     },
     "execution_count": 67,
     "metadata": {},
     "output_type": "execute_result"
    }
   ],
   "source": [
    "np.char.title(arr)"
   ]
  },
  {
   "cell_type": "code",
   "execution_count": 68,
   "id": "31ae3a8b",
   "metadata": {},
   "outputs": [
    {
     "data": {
      "text/plain": [
       "array(['Priya', 'Rajni'], dtype='<U5')"
      ]
     },
     "execution_count": 68,
     "metadata": {},
     "output_type": "execute_result"
    }
   ],
   "source": [
    "np.char.capitalize(arr)"
   ]
  },
  {
   "cell_type": "markdown",
   "id": "ab72bd0b",
   "metadata": {},
   "source": [
    "### mathmetical function"
   ]
  },
  {
   "cell_type": "code",
   "execution_count": 69,
   "id": "4c3d759c",
   "metadata": {},
   "outputs": [
    {
     "data": {
      "text/plain": [
       "array([[2, 4, 4, 7, 1],\n",
       "       [1, 7, 1, 2, 7]])"
      ]
     },
     "execution_count": 69,
     "metadata": {},
     "output_type": "execute_result"
    }
   ],
   "source": [
    "arr2"
   ]
  },
  {
   "cell_type": "code",
   "execution_count": 70,
   "id": "8fd4609c",
   "metadata": {},
   "outputs": [
    {
     "data": {
      "text/plain": [
       "array([[-2.18503986,  1.15782128,  1.15782128,  0.87144798,  1.55740772],\n",
       "       [ 1.55740772,  0.87144798,  1.55740772, -2.18503986,  0.87144798]])"
      ]
     },
     "execution_count": 70,
     "metadata": {},
     "output_type": "execute_result"
    }
   ],
   "source": [
    "np.tan(arr2)"
   ]
  },
  {
   "cell_type": "code",
   "execution_count": 71,
   "id": "8c695d09",
   "metadata": {},
   "outputs": [
    {
     "data": {
      "text/plain": [
       "array([[ 0.90929743, -0.7568025 , -0.7568025 ,  0.6569866 ,  0.84147098],\n",
       "       [ 0.84147098,  0.6569866 ,  0.84147098,  0.90929743,  0.6569866 ]])"
      ]
     },
     "execution_count": 71,
     "metadata": {},
     "output_type": "execute_result"
    }
   ],
   "source": [
    "np.sin(arr2)"
   ]
  },
  {
   "cell_type": "code",
   "execution_count": 72,
   "id": "a35532e1",
   "metadata": {},
   "outputs": [
    {
     "data": {
      "text/plain": [
       "array([[-0.41614684, -0.65364362, -0.65364362,  0.75390225,  0.54030231],\n",
       "       [ 0.54030231,  0.75390225,  0.54030231, -0.41614684,  0.75390225]])"
      ]
     },
     "execution_count": 72,
     "metadata": {},
     "output_type": "execute_result"
    }
   ],
   "source": [
    "np.cos(arr2)"
   ]
  },
  {
   "cell_type": "code",
   "execution_count": 73,
   "id": "123b492d",
   "metadata": {},
   "outputs": [
    {
     "data": {
      "text/plain": [
       "array([[0.96402758, 0.9993293 , 0.9993293 , 0.99999834, 0.76159416],\n",
       "       [0.76159416, 0.99999834, 0.76159416, 0.96402758, 0.99999834]])"
      ]
     },
     "execution_count": 73,
     "metadata": {},
     "output_type": "execute_result"
    }
   ],
   "source": [
    "np.tanh(arr2)"
   ]
  },
  {
   "cell_type": "code",
   "execution_count": 76,
   "id": "dccf03fa",
   "metadata": {},
   "outputs": [
    {
     "data": {
      "text/plain": [
       "array([[0.69314718, 1.38629436, 1.38629436, 1.94591015, 0.        ],\n",
       "       [0.        , 1.94591015, 0.        , 0.69314718, 1.94591015]])"
      ]
     },
     "execution_count": 76,
     "metadata": {},
     "output_type": "execute_result"
    }
   ],
   "source": [
    "np.log(arr2)"
   ]
  },
  {
   "cell_type": "code",
   "execution_count": 77,
   "id": "88eda89f",
   "metadata": {},
   "outputs": [
    {
     "data": {
      "text/plain": [
       "array([[0.30103   , 0.60205999, 0.60205999, 0.84509804, 0.        ],\n",
       "       [0.        , 0.84509804, 0.        , 0.30103   , 0.84509804]])"
      ]
     },
     "execution_count": 77,
     "metadata": {},
     "output_type": "execute_result"
    }
   ],
   "source": [
    "np.log10(arr2)"
   ]
  },
  {
   "cell_type": "code",
   "execution_count": 78,
   "id": "7a7a3e0e",
   "metadata": {},
   "outputs": [
    {
     "data": {
      "text/plain": [
       "array([[   7.3890561 ,   54.59815003,   54.59815003, 1096.63315843,\n",
       "           2.71828183],\n",
       "       [   2.71828183, 1096.63315843,    2.71828183,    7.3890561 ,\n",
       "        1096.63315843]])"
      ]
     },
     "execution_count": 78,
     "metadata": {},
     "output_type": "execute_result"
    }
   ],
   "source": [
    "np.exp(arr2)"
   ]
  },
  {
   "cell_type": "code",
   "execution_count": 79,
   "id": "568b99f8",
   "metadata": {},
   "outputs": [
    {
     "data": {
      "text/plain": [
       "array([[1.41421356, 2.        , 2.        , 2.64575131, 1.        ],\n",
       "       [1.        , 2.64575131, 1.        , 1.41421356, 2.64575131]])"
      ]
     },
     "execution_count": 79,
     "metadata": {},
     "output_type": "execute_result"
    }
   ],
   "source": [
    "np.sqrt(arr2)"
   ]
  },
  {
   "cell_type": "code",
   "execution_count": 81,
   "id": "865669fd",
   "metadata": {},
   "outputs": [
    {
     "data": {
      "text/plain": [
       "array([[ 4, 16, 16, 49,  1],\n",
       "       [ 1, 49,  1,  4, 49]], dtype=int32)"
      ]
     },
     "execution_count": 81,
     "metadata": {},
     "output_type": "execute_result"
    }
   ],
   "source": [
    "np.power(arr2 ,2)"
   ]
  },
  {
   "cell_type": "code",
   "execution_count": 82,
   "id": "0b75f93d",
   "metadata": {},
   "outputs": [
    {
     "data": {
      "text/plain": [
       "3.6"
      ]
     },
     "execution_count": 82,
     "metadata": {},
     "output_type": "execute_result"
    }
   ],
   "source": [
    "np.mean(arr2)"
   ]
  },
  {
   "cell_type": "code",
   "execution_count": 83,
   "id": "a87c6c77",
   "metadata": {},
   "outputs": [
    {
     "data": {
      "text/plain": [
       "3.0"
      ]
     },
     "execution_count": 83,
     "metadata": {},
     "output_type": "execute_result"
    }
   ],
   "source": [
    "np.median(arr2)"
   ]
  },
  {
   "cell_type": "code",
   "execution_count": 85,
   "id": "c9f7e487",
   "metadata": {},
   "outputs": [
    {
     "data": {
      "text/plain": [
       "2.4576411454889016"
      ]
     },
     "execution_count": 85,
     "metadata": {},
     "output_type": "execute_result"
    }
   ],
   "source": [
    "np.std(arr2)"
   ]
  },
  {
   "cell_type": "code",
   "execution_count": 86,
   "id": "fad66861",
   "metadata": {},
   "outputs": [
    {
     "data": {
      "text/plain": [
       "6.040000000000001"
      ]
     },
     "execution_count": 86,
     "metadata": {},
     "output_type": "execute_result"
    }
   ],
   "source": [
    "np.var(arr2)"
   ]
  },
  {
   "cell_type": "code",
   "execution_count": 87,
   "id": "2e5eaef1",
   "metadata": {},
   "outputs": [
    {
     "data": {
      "text/plain": [
       "1"
      ]
     },
     "execution_count": 87,
     "metadata": {},
     "output_type": "execute_result"
    }
   ],
   "source": [
    "np.min(arr2)"
   ]
  },
  {
   "cell_type": "code",
   "execution_count": 88,
   "id": "5090a8de",
   "metadata": {},
   "outputs": [
    {
     "data": {
      "text/plain": [
       "7"
      ]
     },
     "execution_count": 88,
     "metadata": {},
     "output_type": "execute_result"
    }
   ],
   "source": [
    "np.max(arr2)"
   ]
  },
  {
   "cell_type": "markdown",
   "id": "dd64aa82",
   "metadata": {},
   "source": [
    "# Assignment practice"
   ]
  },
  {
   "cell_type": "code",
   "execution_count": 3,
   "id": "6388fe3f",
   "metadata": {},
   "outputs": [],
   "source": [
    "import numpy as np"
   ]
  },
  {
   "cell_type": "code",
   "execution_count": 6,
   "id": "5fb5fa1a",
   "metadata": {},
   "outputs": [],
   "source": [
    "\n",
    "list_ = [ '1' , '2','3','4','5' ]\n"
   ]
  },
  {
   "cell_type": "code",
   "execution_count": 7,
   "id": "5e23be73",
   "metadata": {},
   "outputs": [],
   "source": [
    "\n",
    "array_list = np.array(object = list_)"
   ]
  },
  {
   "cell_type": "code",
   "execution_count": 8,
   "id": "64958919",
   "metadata": {},
   "outputs": [
    {
     "data": {
      "text/plain": [
       "array(['1', '2', '3', '4', '5'], dtype='<U1')"
      ]
     },
     "execution_count": 8,
     "metadata": {},
     "output_type": "execute_result"
    }
   ],
   "source": [
    "array_list"
   ]
  }
 ],
 "metadata": {
  "kernelspec": {
   "display_name": "Python 3 (ipykernel)",
   "language": "python",
   "name": "python3"
  },
  "language_info": {
   "codemirror_mode": {
    "name": "ipython",
    "version": 3
   },
   "file_extension": ".py",
   "mimetype": "text/x-python",
   "name": "python",
   "nbconvert_exporter": "python",
   "pygments_lexer": "ipython3",
   "version": "3.11.1"
  }
 },
 "nbformat": 4,
 "nbformat_minor": 5
}
