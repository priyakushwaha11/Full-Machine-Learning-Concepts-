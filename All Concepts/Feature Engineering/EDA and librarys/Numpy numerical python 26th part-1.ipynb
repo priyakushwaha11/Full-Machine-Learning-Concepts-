{
 "cells": [
  {
   "cell_type": "code",
   "execution_count": 1,
   "id": "e3390d8c",
   "metadata": {},
   "outputs": [],
   "source": [
    "# numpy me array and string ke sath khelte hain\n",
    "import numpy as np"
   ]
  },
  {
   "cell_type": "code",
   "execution_count": 2,
   "id": "51c9c072",
   "metadata": {},
   "outputs": [],
   "source": [
    "# list ko array me badalna\n",
    "l = [1,2,3,4,5,6]"
   ]
  },
  {
   "cell_type": "code",
   "execution_count": 3,
   "id": "dc2a527c",
   "metadata": {},
   "outputs": [],
   "source": [
    "ar = np.array(l)"
   ]
  },
  {
   "cell_type": "code",
   "execution_count": 4,
   "id": "ec10a4dd",
   "metadata": {},
   "outputs": [
    {
     "data": {
      "text/plain": [
       "array([1, 2, 3, 4, 5, 6])"
      ]
     },
     "execution_count": 4,
     "metadata": {},
     "output_type": "execute_result"
    }
   ],
   "source": [
    "ar"
   ]
  },
  {
   "cell_type": "code",
   "execution_count": 5,
   "id": "16e1e8d2",
   "metadata": {},
   "outputs": [
    {
     "data": {
      "text/plain": [
       "list"
      ]
     },
     "execution_count": 5,
     "metadata": {},
     "output_type": "execute_result"
    }
   ],
   "source": [
    "type(l)"
   ]
  },
  {
   "cell_type": "code",
   "execution_count": 6,
   "id": "942cbf3a",
   "metadata": {},
   "outputs": [
    {
     "data": {
      "text/plain": [
       "numpy.ndarray"
      ]
     },
     "execution_count": 6,
     "metadata": {},
     "output_type": "execute_result"
    }
   ],
   "source": [
    "type(ar)"
   ]
  },
  {
   "cell_type": "code",
   "execution_count": 7,
   "id": "f22f07ca",
   "metadata": {},
   "outputs": [],
   "source": [
    "# nd ka mtlb nd = (n dimensional)\n",
    "l2 = [[1,2,3,4],[5,6,7,8]]"
   ]
  },
  {
   "cell_type": "code",
   "execution_count": 8,
   "id": "4c8686e9",
   "metadata": {},
   "outputs": [
    {
     "data": {
      "text/plain": [
       "[[1, 2, 3, 4], [5, 6, 7, 8]]"
      ]
     },
     "execution_count": 8,
     "metadata": {},
     "output_type": "execute_result"
    }
   ],
   "source": [
    "l2 "
   ]
  },
  {
   "cell_type": "code",
   "execution_count": 9,
   "id": "0353417a",
   "metadata": {},
   "outputs": [
    {
     "data": {
      "text/plain": [
       "array([[1, 2, 3, 4],\n",
       "       [5, 6, 7, 8]])"
      ]
     },
     "execution_count": 9,
     "metadata": {},
     "output_type": "execute_result"
    }
   ],
   "source": [
    "np.array(l2)"
   ]
  },
  {
   "cell_type": "code",
   "execution_count": 10,
   "id": "489382c4",
   "metadata": {},
   "outputs": [],
   "source": [
    "# one kostak mtlb one dimensional and two kostak mtlb two dimensional\n",
    "# np.array function me list ko array me change kr sakte hain \n",
    "# np.asarray function  me bhi same\n",
    "# np.asanyarray function me bhi list ko array me badal sakte hain\n",
    " \n",
    "a = [1,2,4,5,6,9]"
   ]
  },
  {
   "cell_type": "code",
   "execution_count": 11,
   "id": "740e302e",
   "metadata": {},
   "outputs": [
    {
     "data": {
      "text/plain": [
       "array([1, 2, 4, 5, 6, 9])"
      ]
     },
     "execution_count": 11,
     "metadata": {},
     "output_type": "execute_result"
    }
   ],
   "source": [
    "np.array(a)"
   ]
  },
  {
   "cell_type": "code",
   "execution_count": 12,
   "id": "02b16dbe",
   "metadata": {},
   "outputs": [
    {
     "data": {
      "text/plain": [
       "array([1, 2, 4, 5, 6, 9])"
      ]
     },
     "execution_count": 12,
     "metadata": {},
     "output_type": "execute_result"
    }
   ],
   "source": [
    "np.asanyarray(a)"
   ]
  },
  {
   "cell_type": "code",
   "execution_count": 13,
   "id": "6874ef32",
   "metadata": {},
   "outputs": [
    {
     "data": {
      "text/plain": [
       "array([1, 2, 4, 5, 6, 9])"
      ]
     },
     "execution_count": 13,
     "metadata": {},
     "output_type": "execute_result"
    }
   ],
   "source": [
    "np.asarray(a)"
   ]
  },
  {
   "cell_type": "code",
   "execution_count": 14,
   "id": "65553f9f",
   "metadata": {},
   "outputs": [
    {
     "data": {
      "text/plain": [
       "matrix([[1, 2, 3, 4, 5, 6]])"
      ]
     },
     "execution_count": 14,
     "metadata": {},
     "output_type": "execute_result"
    }
   ],
   "source": [
    "# matrix subset of array hota hai \n",
    "# matrix always two dimentional hota hai\n",
    "np.matrix(l)"
   ]
  },
  {
   "cell_type": "code",
   "execution_count": 15,
   "id": "51f5dfd3",
   "metadata": {},
   "outputs": [],
   "source": [
    "a = np.array(l)"
   ]
  },
  {
   "cell_type": "code",
   "execution_count": 16,
   "id": "cdfc7260",
   "metadata": {},
   "outputs": [
    {
     "data": {
      "text/plain": [
       "array([1, 2, 3, 4, 5, 6])"
      ]
     },
     "execution_count": 16,
     "metadata": {},
     "output_type": "execute_result"
    }
   ],
   "source": [
    "a"
   ]
  },
  {
   "cell_type": "code",
   "execution_count": 17,
   "id": "d45e96e5",
   "metadata": {},
   "outputs": [],
   "source": [
    "# isse swallow copy bhi kahte hain\n",
    "c =  a"
   ]
  },
  {
   "cell_type": "code",
   "execution_count": 18,
   "id": "1b9ce895",
   "metadata": {},
   "outputs": [
    {
     "data": {
      "text/plain": [
       "array([1, 2, 3, 4, 5, 6])"
      ]
     },
     "execution_count": 18,
     "metadata": {},
     "output_type": "execute_result"
    }
   ],
   "source": [
    "c"
   ]
  },
  {
   "cell_type": "code",
   "execution_count": 19,
   "id": "a9a5c27c",
   "metadata": {},
   "outputs": [
    {
     "data": {
      "text/plain": [
       "1"
      ]
     },
     "execution_count": 19,
     "metadata": {},
     "output_type": "execute_result"
    }
   ],
   "source": [
    "# jb hamne a ko c variable me rakh diya to c me changes karne me a me changes apne aap ho jata hai\n",
    "\n",
    "c[0]"
   ]
  },
  {
   "cell_type": "code",
   "execution_count": 20,
   "id": "0f8edb09",
   "metadata": {},
   "outputs": [],
   "source": [
    "# abhi c ka 0th variable 1 aaya hai\n",
    "\n",
    "c[0] = 88"
   ]
  },
  {
   "cell_type": "code",
   "execution_count": 21,
   "id": "b1617f1f",
   "metadata": {},
   "outputs": [
    {
     "data": {
      "text/plain": [
       "88"
      ]
     },
     "execution_count": 21,
     "metadata": {},
     "output_type": "execute_result"
    }
   ],
   "source": [
    "c[0]"
   ]
  },
  {
   "cell_type": "code",
   "execution_count": 22,
   "id": "f6d8180c",
   "metadata": {},
   "outputs": [
    {
     "data": {
      "text/plain": [
       "88"
      ]
     },
     "execution_count": 22,
     "metadata": {},
     "output_type": "execute_result"
    }
   ],
   "source": [
    "a[0]"
   ]
  },
  {
   "cell_type": "code",
   "execution_count": 23,
   "id": "dade9a02",
   "metadata": {},
   "outputs": [
    {
     "data": {
      "text/plain": [
       "array([88,  2,  3,  4,  5,  6])"
      ]
     },
     "execution_count": 23,
     "metadata": {},
     "output_type": "execute_result"
    }
   ],
   "source": [
    "a"
   ]
  },
  {
   "cell_type": "code",
   "execution_count": 24,
   "id": "f9a7e7c2",
   "metadata": {},
   "outputs": [],
   "source": [
    "# isse deep copy bhi kahte hain\n",
    "d = np.copy(a)"
   ]
  },
  {
   "cell_type": "code",
   "execution_count": 25,
   "id": "d5d0c523",
   "metadata": {},
   "outputs": [
    {
     "data": {
      "text/plain": [
       "array([88,  2,  3,  4,  5,  6])"
      ]
     },
     "execution_count": 25,
     "metadata": {},
     "output_type": "execute_result"
    }
   ],
   "source": [
    "d"
   ]
  },
  {
   "cell_type": "code",
   "execution_count": 26,
   "id": "7fd68305",
   "metadata": {},
   "outputs": [],
   "source": [
    "a[0] = 99"
   ]
  },
  {
   "cell_type": "code",
   "execution_count": 27,
   "id": "2ba4a85b",
   "metadata": {},
   "outputs": [
    {
     "data": {
      "text/plain": [
       "array([99,  2,  3,  4,  5,  6])"
      ]
     },
     "execution_count": 27,
     "metadata": {},
     "output_type": "execute_result"
    }
   ],
   "source": [
    "a"
   ]
  },
  {
   "cell_type": "code",
   "execution_count": 28,
   "id": "c304c5e5",
   "metadata": {},
   "outputs": [
    {
     "data": {
      "text/plain": [
       "array([88,  2,  3,  4,  5,  6])"
      ]
     },
     "execution_count": 28,
     "metadata": {},
     "output_type": "execute_result"
    }
   ],
   "source": [
    "# deep copy me \n",
    "d"
   ]
  },
  {
   "cell_type": "code",
   "execution_count": 29,
   "id": "b92458f1",
   "metadata": {},
   "outputs": [
    {
     "data": {
      "text/plain": [
       "array([[ True, False, False],\n",
       "       [False,  True, False],\n",
       "       [False, False,  True]])"
      ]
     },
     "execution_count": 29,
     "metadata": {},
     "output_type": "execute_result"
    }
   ],
   "source": [
    "np.fromfunction(lambda i,j : i==j,(3,3))"
   ]
  },
  {
   "cell_type": "code",
   "execution_count": 30,
   "id": "c48a79e3",
   "metadata": {},
   "outputs": [
    {
     "data": {
      "text/plain": [
       "array([[0., 0., 0.],\n",
       "       [0., 1., 2.],\n",
       "       [0., 2., 4.]])"
      ]
     },
     "execution_count": 30,
     "metadata": {},
     "output_type": "execute_result"
    }
   ],
   "source": [
    "np.fromfunction(lambda i,j : i*j,(3,3))"
   ]
  },
  {
   "cell_type": "code",
   "execution_count": 31,
   "id": "e8e84569",
   "metadata": {},
   "outputs": [],
   "source": [
    "iterable = (i*i for i in range(5))"
   ]
  },
  {
   "cell_type": "code",
   "execution_count": 32,
   "id": "dcbc1fca",
   "metadata": {
    "scrolled": true
   },
   "outputs": [
    {
     "data": {
      "text/plain": [
       "array([ 0.,  1.,  4.,  9., 16.])"
      ]
     },
     "execution_count": 32,
     "metadata": {},
     "output_type": "execute_result"
    }
   ],
   "source": [
    "np.fromiter(iterable,float)"
   ]
  },
  {
   "cell_type": "code",
   "execution_count": 33,
   "id": "458e71ef",
   "metadata": {},
   "outputs": [
    {
     "data": {
      "text/plain": [
       "array([326., 326.])"
      ]
     },
     "execution_count": 33,
     "metadata": {},
     "output_type": "execute_result"
    }
   ],
   "source": [
    "# String ko array me badalna\n",
    "\n",
    "np.fromstring('326, 326' , sep= ',')"
   ]
  },
  {
   "cell_type": "code",
   "execution_count": 34,
   "id": "c3dda7ee",
   "metadata": {},
   "outputs": [],
   "source": [
    " l = [1,2,3,4,5,6,6]"
   ]
  },
  {
   "cell_type": "code",
   "execution_count": 35,
   "id": "2aec4fc3",
   "metadata": {},
   "outputs": [
    {
     "data": {
      "text/plain": [
       "[1, 2, 3, 4, 5, 6, 6]"
      ]
     },
     "execution_count": 35,
     "metadata": {},
     "output_type": "execute_result"
    }
   ],
   "source": [
    "l"
   ]
  },
  {
   "cell_type": "code",
   "execution_count": 36,
   "id": "abbf5ef7",
   "metadata": {},
   "outputs": [],
   "source": [
    "ar = np.array(l)"
   ]
  },
  {
   "cell_type": "code",
   "execution_count": 37,
   "id": "4c0b4147",
   "metadata": {},
   "outputs": [
    {
     "data": {
      "text/plain": [
       "array([1, 2, 3, 4, 5, 6, 6])"
      ]
     },
     "execution_count": 37,
     "metadata": {},
     "output_type": "execute_result"
    }
   ],
   "source": [
    "ar"
   ]
  },
  {
   "cell_type": "code",
   "execution_count": 38,
   "id": "b0a888e9",
   "metadata": {},
   "outputs": [
    {
     "data": {
      "text/plain": [
       "1"
      ]
     },
     "execution_count": 38,
     "metadata": {},
     "output_type": "execute_result"
    }
   ],
   "source": [
    "# ndim karne me output 1 aane ka mtlb one dimentional hota hai\n",
    "ar.ndim"
   ]
  },
  {
   "cell_type": "code",
   "execution_count": 39,
   "id": "871fe1eb",
   "metadata": {},
   "outputs": [],
   "source": [
    "l2 = [[1,3,4,5,6,6] , [21,34,45,56,76,43]]"
   ]
  },
  {
   "cell_type": "code",
   "execution_count": 40,
   "id": "03953696",
   "metadata": {},
   "outputs": [
    {
     "data": {
      "text/plain": [
       "[[1, 3, 4, 5, 6, 6], [21, 34, 45, 56, 76, 43]]"
      ]
     },
     "execution_count": 40,
     "metadata": {},
     "output_type": "execute_result"
    }
   ],
   "source": [
    "l2"
   ]
  },
  {
   "cell_type": "code",
   "execution_count": 41,
   "id": "15755272",
   "metadata": {},
   "outputs": [],
   "source": [
    "ar2 = np.array(l2)"
   ]
  },
  {
   "cell_type": "code",
   "execution_count": 42,
   "id": "c64ae5ed",
   "metadata": {},
   "outputs": [
    {
     "data": {
      "text/plain": [
       "array([[ 1,  3,  4,  5,  6,  6],\n",
       "       [21, 34, 45, 56, 76, 43]])"
      ]
     },
     "execution_count": 42,
     "metadata": {},
     "output_type": "execute_result"
    }
   ],
   "source": [
    "ar2"
   ]
  },
  {
   "cell_type": "code",
   "execution_count": 43,
   "id": "2da5ff18",
   "metadata": {},
   "outputs": [
    {
     "data": {
      "text/plain": [
       "2"
      ]
     },
     "execution_count": 43,
     "metadata": {},
     "output_type": "execute_result"
    }
   ],
   "source": [
    "# output 2 ka mtlb two dimentional\n",
    "ar2.ndim"
   ]
  },
  {
   "cell_type": "code",
   "execution_count": 44,
   "id": "d1e2da2a",
   "metadata": {},
   "outputs": [
    {
     "data": {
      "text/plain": [
       "7"
      ]
     },
     "execution_count": 44,
     "metadata": {},
     "output_type": "execute_result"
    }
   ],
   "source": [
    "# kitne element available hain ushke liye\n",
    "\n",
    "ar.size"
   ]
  },
  {
   "cell_type": "code",
   "execution_count": 45,
   "id": "d6812ec5",
   "metadata": {},
   "outputs": [
    {
     "data": {
      "text/plain": [
       "12"
      ]
     },
     "execution_count": 45,
     "metadata": {},
     "output_type": "execute_result"
    }
   ],
   "source": [
    "ar2.size"
   ]
  },
  {
   "cell_type": "code",
   "execution_count": 46,
   "id": "4b26b98e",
   "metadata": {},
   "outputs": [
    {
     "data": {
      "text/plain": [
       "(7,)"
      ]
     },
     "execution_count": 46,
     "metadata": {},
     "output_type": "execute_result"
    }
   ],
   "source": [
    "ar.shape"
   ]
  },
  {
   "cell_type": "code",
   "execution_count": 47,
   "id": "21a27fb2",
   "metadata": {},
   "outputs": [
    {
     "data": {
      "text/plain": [
       "(2, 6)"
      ]
     },
     "execution_count": 47,
     "metadata": {},
     "output_type": "execute_result"
    }
   ],
   "source": [
    "# ishka output 2,6 hai mtlb 2-row , 6-columns\n",
    "\n",
    "ar2.shape"
   ]
  },
  {
   "cell_type": "code",
   "execution_count": null,
   "id": "32515693",
   "metadata": {},
   "outputs": [],
   "source": [
    "arr"
   ]
  },
  {
   "cell_type": "code",
   "execution_count": null,
   "id": "a8fa72a4",
   "metadata": {},
   "outputs": [],
   "source": [
    "# Range hamesha integer leta hai \n",
    "# ishke andar data produce hota hai\n",
    "\n",
    "range(5)"
   ]
  },
  {
   "cell_type": "code",
   "execution_count": null,
   "id": "d0c7588d",
   "metadata": {},
   "outputs": [],
   "source": [
    "list(range(9))"
   ]
  },
  {
   "cell_type": "code",
   "execution_count": null,
   "id": "5a3de104",
   "metadata": {},
   "outputs": [],
   "source": [
    "# floating point ke liye arange function\n",
    "\n",
    "np.arange(2.3,6.7)"
   ]
  },
  {
   "cell_type": "code",
   "execution_count": null,
   "id": "dccffa01",
   "metadata": {},
   "outputs": [],
   "source": [
    "np.arange (2.3,6.7,2)"
   ]
  },
  {
   "cell_type": "code",
   "execution_count": null,
   "id": "80c5569d",
   "metadata": {},
   "outputs": [],
   "source": [
    "list(np.arange (2.3,6.7,2))"
   ]
  },
  {
   "cell_type": "code",
   "execution_count": 52,
   "id": "73a30e1c",
   "metadata": {},
   "outputs": [
    {
     "data": {
      "text/plain": [
       "array([2. , 3.5, 5. ])"
      ]
     },
     "execution_count": 52,
     "metadata": {},
     "output_type": "execute_result"
    }
   ],
   "source": [
    "# is function 2,5 ke beech me 3-3 ka different hoga \n",
    "\n",
    "np.linspace(2,5,3)"
   ]
  },
  {
   "cell_type": "code",
   "execution_count": 59,
   "id": "d0f9513e",
   "metadata": {
    "scrolled": true
   },
   "outputs": [
    {
     "data": {
      "text/plain": [
       "array([0., 0., 0., 0.])"
      ]
     },
     "execution_count": 59,
     "metadata": {},
     "output_type": "execute_result"
    }
   ],
   "source": [
    "np.zeros(4)"
   ]
  },
  {
   "cell_type": "code",
   "execution_count": 60,
   "id": "f4893978",
   "metadata": {},
   "outputs": [
    {
     "data": {
      "text/plain": [
       "array([[0., 0., 0., 0., 0.],\n",
       "       [0., 0., 0., 0., 0.]])"
      ]
     },
     "execution_count": 60,
     "metadata": {},
     "output_type": "execute_result"
    }
   ],
   "source": [
    "np.zeros((2,5))"
   ]
  },
  {
   "cell_type": "code",
   "execution_count": 62,
   "id": "c35d3b8c",
   "metadata": {},
   "outputs": [
    {
     "data": {
      "text/plain": [
       "array([[[0., 0., 0., 0., 0., 0.],\n",
       "        [0., 0., 0., 0., 0., 0.],\n",
       "        [0., 0., 0., 0., 0., 0.]],\n",
       "\n",
       "       [[0., 0., 0., 0., 0., 0.],\n",
       "        [0., 0., 0., 0., 0., 0.],\n",
       "        [0., 0., 0., 0., 0., 0.]]])"
      ]
     },
     "execution_count": 62,
     "metadata": {},
     "output_type": "execute_result"
    }
   ],
   "source": [
    "np.zeros((2,3,6))"
   ]
  },
  {
   "cell_type": "code",
   "execution_count": 63,
   "id": "3ef6a6b7",
   "metadata": {},
   "outputs": [
    {
     "data": {
      "text/plain": [
       "array([[[[0., 0., 0., 0., 0., 0., 0., 0.],\n",
       "         [0., 0., 0., 0., 0., 0., 0., 0.],\n",
       "         [0., 0., 0., 0., 0., 0., 0., 0.],\n",
       "         [0., 0., 0., 0., 0., 0., 0., 0.],\n",
       "         [0., 0., 0., 0., 0., 0., 0., 0.],\n",
       "         [0., 0., 0., 0., 0., 0., 0., 0.]],\n",
       "\n",
       "        [[0., 0., 0., 0., 0., 0., 0., 0.],\n",
       "         [0., 0., 0., 0., 0., 0., 0., 0.],\n",
       "         [0., 0., 0., 0., 0., 0., 0., 0.],\n",
       "         [0., 0., 0., 0., 0., 0., 0., 0.],\n",
       "         [0., 0., 0., 0., 0., 0., 0., 0.],\n",
       "         [0., 0., 0., 0., 0., 0., 0., 0.]],\n",
       "\n",
       "        [[0., 0., 0., 0., 0., 0., 0., 0.],\n",
       "         [0., 0., 0., 0., 0., 0., 0., 0.],\n",
       "         [0., 0., 0., 0., 0., 0., 0., 0.],\n",
       "         [0., 0., 0., 0., 0., 0., 0., 0.],\n",
       "         [0., 0., 0., 0., 0., 0., 0., 0.],\n",
       "         [0., 0., 0., 0., 0., 0., 0., 0.]],\n",
       "\n",
       "        [[0., 0., 0., 0., 0., 0., 0., 0.],\n",
       "         [0., 0., 0., 0., 0., 0., 0., 0.],\n",
       "         [0., 0., 0., 0., 0., 0., 0., 0.],\n",
       "         [0., 0., 0., 0., 0., 0., 0., 0.],\n",
       "         [0., 0., 0., 0., 0., 0., 0., 0.],\n",
       "         [0., 0., 0., 0., 0., 0., 0., 0.]]],\n",
       "\n",
       "\n",
       "       [[[0., 0., 0., 0., 0., 0., 0., 0.],\n",
       "         [0., 0., 0., 0., 0., 0., 0., 0.],\n",
       "         [0., 0., 0., 0., 0., 0., 0., 0.],\n",
       "         [0., 0., 0., 0., 0., 0., 0., 0.],\n",
       "         [0., 0., 0., 0., 0., 0., 0., 0.],\n",
       "         [0., 0., 0., 0., 0., 0., 0., 0.]],\n",
       "\n",
       "        [[0., 0., 0., 0., 0., 0., 0., 0.],\n",
       "         [0., 0., 0., 0., 0., 0., 0., 0.],\n",
       "         [0., 0., 0., 0., 0., 0., 0., 0.],\n",
       "         [0., 0., 0., 0., 0., 0., 0., 0.],\n",
       "         [0., 0., 0., 0., 0., 0., 0., 0.],\n",
       "         [0., 0., 0., 0., 0., 0., 0., 0.]],\n",
       "\n",
       "        [[0., 0., 0., 0., 0., 0., 0., 0.],\n",
       "         [0., 0., 0., 0., 0., 0., 0., 0.],\n",
       "         [0., 0., 0., 0., 0., 0., 0., 0.],\n",
       "         [0., 0., 0., 0., 0., 0., 0., 0.],\n",
       "         [0., 0., 0., 0., 0., 0., 0., 0.],\n",
       "         [0., 0., 0., 0., 0., 0., 0., 0.]],\n",
       "\n",
       "        [[0., 0., 0., 0., 0., 0., 0., 0.],\n",
       "         [0., 0., 0., 0., 0., 0., 0., 0.],\n",
       "         [0., 0., 0., 0., 0., 0., 0., 0.],\n",
       "         [0., 0., 0., 0., 0., 0., 0., 0.],\n",
       "         [0., 0., 0., 0., 0., 0., 0., 0.],\n",
       "         [0., 0., 0., 0., 0., 0., 0., 0.]]]])"
      ]
     },
     "execution_count": 63,
     "metadata": {},
     "output_type": "execute_result"
    }
   ],
   "source": [
    "np.zeros((2,4,6,8))"
   ]
  },
  {
   "cell_type": "code",
   "execution_count": 64,
   "id": "4795c672",
   "metadata": {},
   "outputs": [],
   "source": [
    "on = np.ones(4)"
   ]
  },
  {
   "cell_type": "code",
   "execution_count": 65,
   "id": "c3067c5e",
   "metadata": {},
   "outputs": [
    {
     "data": {
      "text/plain": [
       "array([1., 1., 1., 1.])"
      ]
     },
     "execution_count": 65,
     "metadata": {},
     "output_type": "execute_result"
    }
   ],
   "source": [
    "on"
   ]
  },
  {
   "cell_type": "code",
   "execution_count": 55,
   "id": "11599449",
   "metadata": {},
   "outputs": [
    {
     "data": {
      "text/plain": [
       "array([[1., 1., 1., 1., 1.],\n",
       "       [1., 1., 1., 1., 1.],\n",
       "       [1., 1., 1., 1., 1.],\n",
       "       [1., 1., 1., 1., 1.]])"
      ]
     },
     "execution_count": 55,
     "metadata": {},
     "output_type": "execute_result"
    }
   ],
   "source": [
    "np.ones((4,5))"
   ]
  },
  {
   "cell_type": "code",
   "execution_count": 56,
   "id": "868b6b15",
   "metadata": {},
   "outputs": [
    {
     "data": {
      "text/plain": [
       "array([[[1., 1., 1., 1., 1., 1., 1.],\n",
       "        [1., 1., 1., 1., 1., 1., 1.],\n",
       "        [1., 1., 1., 1., 1., 1., 1.],\n",
       "        [1., 1., 1., 1., 1., 1., 1.]],\n",
       "\n",
       "       [[1., 1., 1., 1., 1., 1., 1.],\n",
       "        [1., 1., 1., 1., 1., 1., 1.],\n",
       "        [1., 1., 1., 1., 1., 1., 1.],\n",
       "        [1., 1., 1., 1., 1., 1., 1.]],\n",
       "\n",
       "       [[1., 1., 1., 1., 1., 1., 1.],\n",
       "        [1., 1., 1., 1., 1., 1., 1.],\n",
       "        [1., 1., 1., 1., 1., 1., 1.],\n",
       "        [1., 1., 1., 1., 1., 1., 1.]]])"
      ]
     },
     "execution_count": 56,
     "metadata": {},
     "output_type": "execute_result"
    }
   ],
   "source": [
    "np.ones((3,4,7))"
   ]
  },
  {
   "cell_type": "code",
   "execution_count": 57,
   "id": "80b7da8c",
   "metadata": {},
   "outputs": [
    {
     "data": {
      "text/plain": [
       "array([[[[1., 1., 1., 1., 1., 1., 1., 1.],\n",
       "         [1., 1., 1., 1., 1., 1., 1., 1.],\n",
       "         [1., 1., 1., 1., 1., 1., 1., 1.],\n",
       "         [1., 1., 1., 1., 1., 1., 1., 1.],\n",
       "         [1., 1., 1., 1., 1., 1., 1., 1.],\n",
       "         [1., 1., 1., 1., 1., 1., 1., 1.]],\n",
       "\n",
       "        [[1., 1., 1., 1., 1., 1., 1., 1.],\n",
       "         [1., 1., 1., 1., 1., 1., 1., 1.],\n",
       "         [1., 1., 1., 1., 1., 1., 1., 1.],\n",
       "         [1., 1., 1., 1., 1., 1., 1., 1.],\n",
       "         [1., 1., 1., 1., 1., 1., 1., 1.],\n",
       "         [1., 1., 1., 1., 1., 1., 1., 1.]],\n",
       "\n",
       "        [[1., 1., 1., 1., 1., 1., 1., 1.],\n",
       "         [1., 1., 1., 1., 1., 1., 1., 1.],\n",
       "         [1., 1., 1., 1., 1., 1., 1., 1.],\n",
       "         [1., 1., 1., 1., 1., 1., 1., 1.],\n",
       "         [1., 1., 1., 1., 1., 1., 1., 1.],\n",
       "         [1., 1., 1., 1., 1., 1., 1., 1.]],\n",
       "\n",
       "        [[1., 1., 1., 1., 1., 1., 1., 1.],\n",
       "         [1., 1., 1., 1., 1., 1., 1., 1.],\n",
       "         [1., 1., 1., 1., 1., 1., 1., 1.],\n",
       "         [1., 1., 1., 1., 1., 1., 1., 1.],\n",
       "         [1., 1., 1., 1., 1., 1., 1., 1.],\n",
       "         [1., 1., 1., 1., 1., 1., 1., 1.]]],\n",
       "\n",
       "\n",
       "       [[[1., 1., 1., 1., 1., 1., 1., 1.],\n",
       "         [1., 1., 1., 1., 1., 1., 1., 1.],\n",
       "         [1., 1., 1., 1., 1., 1., 1., 1.],\n",
       "         [1., 1., 1., 1., 1., 1., 1., 1.],\n",
       "         [1., 1., 1., 1., 1., 1., 1., 1.],\n",
       "         [1., 1., 1., 1., 1., 1., 1., 1.]],\n",
       "\n",
       "        [[1., 1., 1., 1., 1., 1., 1., 1.],\n",
       "         [1., 1., 1., 1., 1., 1., 1., 1.],\n",
       "         [1., 1., 1., 1., 1., 1., 1., 1.],\n",
       "         [1., 1., 1., 1., 1., 1., 1., 1.],\n",
       "         [1., 1., 1., 1., 1., 1., 1., 1.],\n",
       "         [1., 1., 1., 1., 1., 1., 1., 1.]],\n",
       "\n",
       "        [[1., 1., 1., 1., 1., 1., 1., 1.],\n",
       "         [1., 1., 1., 1., 1., 1., 1., 1.],\n",
       "         [1., 1., 1., 1., 1., 1., 1., 1.],\n",
       "         [1., 1., 1., 1., 1., 1., 1., 1.],\n",
       "         [1., 1., 1., 1., 1., 1., 1., 1.],\n",
       "         [1., 1., 1., 1., 1., 1., 1., 1.]],\n",
       "\n",
       "        [[1., 1., 1., 1., 1., 1., 1., 1.],\n",
       "         [1., 1., 1., 1., 1., 1., 1., 1.],\n",
       "         [1., 1., 1., 1., 1., 1., 1., 1.],\n",
       "         [1., 1., 1., 1., 1., 1., 1., 1.],\n",
       "         [1., 1., 1., 1., 1., 1., 1., 1.],\n",
       "         [1., 1., 1., 1., 1., 1., 1., 1.]]]])"
      ]
     },
     "execution_count": 57,
     "metadata": {},
     "output_type": "execute_result"
    }
   ],
   "source": [
    "np.ones((2,4,6,8))"
   ]
  },
  {
   "cell_type": "code",
   "execution_count": 67,
   "id": "3c381e85",
   "metadata": {},
   "outputs": [
    {
     "data": {
      "text/plain": [
       "array([7., 7., 7., 7.])"
      ]
     },
     "execution_count": 67,
     "metadata": {},
     "output_type": "execute_result"
    }
   ],
   "source": [
    "# upper wale variable me hm multiply , addition  bhi kr sakte hain \n",
    "\n",
    "on + 6"
   ]
  },
  {
   "cell_type": "code",
   "execution_count": 68,
   "id": "41309b7c",
   "metadata": {},
   "outputs": [
    {
     "data": {
      "text/plain": [
       "array([4., 4., 4., 4.])"
      ]
     },
     "execution_count": 68,
     "metadata": {},
     "output_type": "execute_result"
    }
   ],
   "source": [
    "on * 4"
   ]
  },
  {
   "cell_type": "code",
   "execution_count": 69,
   "id": "e6b60f89",
   "metadata": {},
   "outputs": [
    {
     "data": {
      "text/plain": [
       "array([6., 6., 6., 6.])"
      ]
     },
     "execution_count": 69,
     "metadata": {},
     "output_type": "execute_result"
    }
   ],
   "source": [
    "# koi bhi opration ke sakte hain \n",
    "\n",
    "on + 9 - 4"
   ]
  },
  {
   "cell_type": "code",
   "execution_count": 70,
   "id": "da8de9df",
   "metadata": {},
   "outputs": [
    {
     "data": {
      "text/plain": [
       "array([[0., 0., 0., 1., 1., 1.],\n",
       "       [2., 2., 2., 0., 1., 2.],\n",
       "       [0., 1., 2., 0., 1., 2.]])"
      ]
     },
     "execution_count": 70,
     "metadata": {},
     "output_type": "execute_result"
    }
   ],
   "source": [
    "np.empty ((3,6))"
   ]
  },
  {
   "cell_type": "code",
   "execution_count": 72,
   "id": "8b5a268e",
   "metadata": {},
   "outputs": [
    {
     "data": {
      "text/plain": [
       "array([[[1.01420545e-311, 6.95169507e-310, 1.01420834e-311,\n",
       "         1.01421664e-311, 6.95169507e-310, 1.01420833e-311,\n",
       "         6.95169507e-310, 1.01421661e-311, 1.01421661e-311],\n",
       "        [1.01421147e-311, 1.01421147e-311, 1.01421147e-311,\n",
       "         1.01421664e-311, 1.01421823e-311, 1.01420833e-311,\n",
       "         1.01421664e-311, 1.01421146e-311, 1.01420833e-311],\n",
       "        [1.01420833e-311, 1.01420833e-311, 1.01421691e-311,\n",
       "         1.01421822e-311, 1.01420833e-311, 1.01420833e-311,\n",
       "         1.01420833e-311, 6.95169507e-310, 1.01420833e-311],\n",
       "        [1.01420833e-311, 1.01421691e-311, 1.01421691e-311,\n",
       "         1.01420833e-311, 1.01421691e-311, 1.01420833e-311,\n",
       "         1.01421691e-311, 1.01421691e-311, 1.01420833e-311],\n",
       "        [1.01421691e-311, 1.01421691e-311, 1.01421691e-311,\n",
       "         1.01420833e-311, 1.01421822e-311, 6.95169507e-310,\n",
       "         1.01421147e-311, 6.95169507e-310, 1.01421661e-311]],\n",
       "\n",
       "       [[1.01421661e-311, 1.01421146e-311, 1.01421822e-311,\n",
       "         6.95169507e-310, 1.01421661e-311, 1.01421661e-311,\n",
       "         1.01420833e-311, 1.01421822e-311, 1.01420833e-311],\n",
       "        [1.01420833e-311, 6.95169507e-310, 1.01421661e-311,\n",
       "         1.01421661e-311, 1.01420833e-311, 1.01420833e-311,\n",
       "         1.01421691e-311, 1.01420833e-311, 1.01420833e-311],\n",
       "        [1.01420833e-311, 1.01421146e-311, 6.95169507e-310,\n",
       "         1.01420833e-311, 1.01421823e-311, 1.01420833e-311,\n",
       "         1.01420833e-311, 1.01420833e-311, 1.01420833e-311],\n",
       "        [6.95169507e-310, 1.01421146e-311, 6.95169507e-310,\n",
       "         1.01421661e-311, 1.01421661e-311, 1.01421822e-311,\n",
       "         1.01421146e-311, 1.01421822e-311, 1.01421661e-311],\n",
       "        [1.01421823e-311, 1.01421146e-311, 1.01421146e-311,\n",
       "         1.01421691e-311, 1.01421661e-311, 1.01421822e-311,\n",
       "         1.01421147e-311, 1.01421146e-311, 1.01421661e-311]]])"
      ]
     },
     "execution_count": 72,
     "metadata": {},
     "output_type": "execute_result"
    }
   ],
   "source": [
    " np.empty((2,5,9))"
   ]
  },
  {
   "cell_type": "code",
   "execution_count": 73,
   "id": "2a5a7fc6",
   "metadata": {},
   "outputs": [
    {
     "data": {
      "text/plain": [
       "array([[1., 0., 0., 0., 0.],\n",
       "       [0., 1., 0., 0., 0.],\n",
       "       [0., 0., 1., 0., 0.],\n",
       "       [0., 0., 0., 1., 0.]])"
      ]
     },
     "execution_count": 73,
     "metadata": {},
     "output_type": "execute_result"
    }
   ],
   "source": [
    "# asrhetic matrixes\n",
    "\n",
    "np.eye(4,5)"
   ]
  },
  {
   "cell_type": "code",
   "execution_count": 75,
   "id": "ff73c478",
   "metadata": {},
   "outputs": [
    {
     "data": {
      "text/plain": [
       "array([1.00000000e+03, 1.20679264e+03, 1.45634848e+03, 1.75751062e+03,\n",
       "       2.12095089e+03, 2.55954792e+03, 3.08884360e+03, 3.72759372e+03,\n",
       "       4.49843267e+03, 5.42867544e+03, 6.55128557e+03, 7.90604321e+03,\n",
       "       9.54095476e+03, 1.15139540e+04, 1.38949549e+04, 1.67683294e+04,\n",
       "       2.02358965e+04, 2.44205309e+04, 2.94705170e+04, 3.55648031e+04,\n",
       "       4.29193426e+04, 5.17947468e+04, 6.25055193e+04, 7.54312006e+04,\n",
       "       9.10298178e+04, 1.09854114e+05, 1.32571137e+05, 1.59985872e+05,\n",
       "       1.93069773e+05, 2.32995181e+05, 2.81176870e+05, 3.39322177e+05,\n",
       "       4.09491506e+05, 4.94171336e+05, 5.96362332e+05, 7.19685673e+05,\n",
       "       8.68511374e+05, 1.04811313e+06, 1.26485522e+06, 1.52641797e+06,\n",
       "       1.84206997e+06, 2.22299648e+06, 2.68269580e+06, 3.23745754e+06,\n",
       "       3.90693994e+06, 4.71486636e+06, 5.68986603e+06, 6.86648845e+06,\n",
       "       8.28642773e+06, 1.00000000e+07])"
      ]
     },
     "execution_count": 75,
     "metadata": {},
     "output_type": "execute_result"
    }
   ],
   "source": [
    "# logspace bhi linspace ki tarah kaam karta hai data produce karne ka\n",
    "\n",
    "np.logspace(3,7)"
   ]
  },
  {
   "cell_type": "code",
   "execution_count": 77,
   "id": "e58b536c",
   "metadata": {},
   "outputs": [],
   "source": [
    "arrr = np.random.randn(3,6)"
   ]
  },
  {
   "cell_type": "code",
   "execution_count": 78,
   "id": "f800008b",
   "metadata": {},
   "outputs": [
    {
     "data": {
      "text/plain": [
       "array([[ 0.82883794, -1.04608676, -0.4150974 ,  1.19081811,  1.24116022,\n",
       "        -0.03102468],\n",
       "       [-0.51017527, -1.4267813 , -1.51395624,  0.50035752,  1.27856765,\n",
       "         0.60625913],\n",
       "       [-1.28160432, -1.02508156,  0.5504815 ,  0.71440501,  2.41788346,\n",
       "         0.13430608]])"
      ]
     },
     "execution_count": 78,
     "metadata": {},
     "output_type": "execute_result"
    }
   ],
   "source": [
    "arrr"
   ]
  },
  {
   "cell_type": "code",
   "execution_count": 82,
   "id": "8fecf552",
   "metadata": {},
   "outputs": [],
   "source": [
    "import pandas as pd"
   ]
  },
  {
   "cell_type": "code",
   "execution_count": 83,
   "id": "25163fbe",
   "metadata": {},
   "outputs": [
    {
     "data": {
      "text/html": [
       "<div>\n",
       "<style scoped>\n",
       "    .dataframe tbody tr th:only-of-type {\n",
       "        vertical-align: middle;\n",
       "    }\n",
       "\n",
       "    .dataframe tbody tr th {\n",
       "        vertical-align: top;\n",
       "    }\n",
       "\n",
       "    .dataframe thead th {\n",
       "        text-align: right;\n",
       "    }\n",
       "</style>\n",
       "<table border=\"1\" class=\"dataframe\">\n",
       "  <thead>\n",
       "    <tr style=\"text-align: right;\">\n",
       "      <th></th>\n",
       "      <th>0</th>\n",
       "      <th>1</th>\n",
       "      <th>2</th>\n",
       "      <th>3</th>\n",
       "      <th>4</th>\n",
       "      <th>5</th>\n",
       "    </tr>\n",
       "  </thead>\n",
       "  <tbody>\n",
       "    <tr>\n",
       "      <th>0</th>\n",
       "      <td>0.828838</td>\n",
       "      <td>-1.046087</td>\n",
       "      <td>-0.415097</td>\n",
       "      <td>1.190818</td>\n",
       "      <td>1.241160</td>\n",
       "      <td>-0.031025</td>\n",
       "    </tr>\n",
       "    <tr>\n",
       "      <th>1</th>\n",
       "      <td>-0.510175</td>\n",
       "      <td>-1.426781</td>\n",
       "      <td>-1.513956</td>\n",
       "      <td>0.500358</td>\n",
       "      <td>1.278568</td>\n",
       "      <td>0.606259</td>\n",
       "    </tr>\n",
       "    <tr>\n",
       "      <th>2</th>\n",
       "      <td>-1.281604</td>\n",
       "      <td>-1.025082</td>\n",
       "      <td>0.550481</td>\n",
       "      <td>0.714405</td>\n",
       "      <td>2.417883</td>\n",
       "      <td>0.134306</td>\n",
       "    </tr>\n",
       "  </tbody>\n",
       "</table>\n",
       "</div>"
      ],
      "text/plain": [
       "          0         1         2         3         4         5\n",
       "0  0.828838 -1.046087 -0.415097  1.190818  1.241160 -0.031025\n",
       "1 -0.510175 -1.426781 -1.513956  0.500358  1.278568  0.606259\n",
       "2 -1.281604 -1.025082  0.550481  0.714405  2.417883  0.134306"
      ]
     },
     "execution_count": 83,
     "metadata": {},
     "output_type": "execute_result"
    }
   ],
   "source": [
    "pd.DataFrame(arrr)"
   ]
  },
  {
   "cell_type": "code",
   "execution_count": 87,
   "id": "6ef3fff0",
   "metadata": {},
   "outputs": [
    {
     "data": {
      "text/plain": [
       "array([[59, 21, 44, ..., 62,  2, 13],\n",
       "       [23, 43, 30, ..., 43,  8, 18],\n",
       "       [18,  3, 39, ..., 54, 57,  9],\n",
       "       ...,\n",
       "       [19,  9, 16, ..., 46, 47, 52],\n",
       "       [38, 10, 51, ..., 42, 41, 40],\n",
       "       [16, 32, 35, ..., 46,  5, 53]])"
      ]
     },
     "execution_count": 87,
     "metadata": {},
     "output_type": "execute_result"
    }
   ],
   "source": [
    "np.random.randint(2,65 , (345,556))"
   ]
  },
  {
   "cell_type": "code",
   "execution_count": 89,
   "id": "c05532b8",
   "metadata": {},
   "outputs": [],
   "source": [
    "arrr2 = np.random.randint(2,65 , (345,556))"
   ]
  },
  {
   "cell_type": "code",
   "execution_count": 90,
   "id": "c4d28be3",
   "metadata": {},
   "outputs": [
    {
     "data": {
      "text/plain": [
       "array([[36, 27, 24, ..., 49,  8, 18],\n",
       "       [18, 25, 30, ..., 56, 48,  7],\n",
       "       [23, 34, 51, ..., 39,  8, 37],\n",
       "       ...,\n",
       "       [20, 53, 16, ..., 59, 34, 24],\n",
       "       [17,  5, 50, ...,  7,  3, 46],\n",
       "       [44, 20, 14, ..., 11,  4, 43]])"
      ]
     },
     "execution_count": 90,
     "metadata": {},
     "output_type": "execute_result"
    }
   ],
   "source": [
    "arrr2"
   ]
  },
  {
   "cell_type": "code",
   "execution_count": 91,
   "id": "f4708126",
   "metadata": {},
   "outputs": [
    {
     "data": {
      "text/html": [
       "<div>\n",
       "<style scoped>\n",
       "    .dataframe tbody tr th:only-of-type {\n",
       "        vertical-align: middle;\n",
       "    }\n",
       "\n",
       "    .dataframe tbody tr th {\n",
       "        vertical-align: top;\n",
       "    }\n",
       "\n",
       "    .dataframe thead th {\n",
       "        text-align: right;\n",
       "    }\n",
       "</style>\n",
       "<table border=\"1\" class=\"dataframe\">\n",
       "  <thead>\n",
       "    <tr style=\"text-align: right;\">\n",
       "      <th></th>\n",
       "      <th>0</th>\n",
       "      <th>1</th>\n",
       "      <th>2</th>\n",
       "      <th>3</th>\n",
       "      <th>4</th>\n",
       "      <th>5</th>\n",
       "      <th>6</th>\n",
       "      <th>7</th>\n",
       "      <th>8</th>\n",
       "      <th>9</th>\n",
       "      <th>...</th>\n",
       "      <th>546</th>\n",
       "      <th>547</th>\n",
       "      <th>548</th>\n",
       "      <th>549</th>\n",
       "      <th>550</th>\n",
       "      <th>551</th>\n",
       "      <th>552</th>\n",
       "      <th>553</th>\n",
       "      <th>554</th>\n",
       "      <th>555</th>\n",
       "    </tr>\n",
       "  </thead>\n",
       "  <tbody>\n",
       "    <tr>\n",
       "      <th>0</th>\n",
       "      <td>36</td>\n",
       "      <td>27</td>\n",
       "      <td>24</td>\n",
       "      <td>42</td>\n",
       "      <td>6</td>\n",
       "      <td>32</td>\n",
       "      <td>4</td>\n",
       "      <td>25</td>\n",
       "      <td>49</td>\n",
       "      <td>17</td>\n",
       "      <td>...</td>\n",
       "      <td>31</td>\n",
       "      <td>47</td>\n",
       "      <td>16</td>\n",
       "      <td>64</td>\n",
       "      <td>5</td>\n",
       "      <td>39</td>\n",
       "      <td>29</td>\n",
       "      <td>49</td>\n",
       "      <td>8</td>\n",
       "      <td>18</td>\n",
       "    </tr>\n",
       "    <tr>\n",
       "      <th>1</th>\n",
       "      <td>18</td>\n",
       "      <td>25</td>\n",
       "      <td>30</td>\n",
       "      <td>42</td>\n",
       "      <td>45</td>\n",
       "      <td>39</td>\n",
       "      <td>3</td>\n",
       "      <td>25</td>\n",
       "      <td>64</td>\n",
       "      <td>54</td>\n",
       "      <td>...</td>\n",
       "      <td>6</td>\n",
       "      <td>37</td>\n",
       "      <td>6</td>\n",
       "      <td>44</td>\n",
       "      <td>25</td>\n",
       "      <td>36</td>\n",
       "      <td>15</td>\n",
       "      <td>56</td>\n",
       "      <td>48</td>\n",
       "      <td>7</td>\n",
       "    </tr>\n",
       "    <tr>\n",
       "      <th>2</th>\n",
       "      <td>23</td>\n",
       "      <td>34</td>\n",
       "      <td>51</td>\n",
       "      <td>34</td>\n",
       "      <td>36</td>\n",
       "      <td>50</td>\n",
       "      <td>17</td>\n",
       "      <td>59</td>\n",
       "      <td>58</td>\n",
       "      <td>61</td>\n",
       "      <td>...</td>\n",
       "      <td>46</td>\n",
       "      <td>44</td>\n",
       "      <td>19</td>\n",
       "      <td>60</td>\n",
       "      <td>49</td>\n",
       "      <td>43</td>\n",
       "      <td>37</td>\n",
       "      <td>39</td>\n",
       "      <td>8</td>\n",
       "      <td>37</td>\n",
       "    </tr>\n",
       "    <tr>\n",
       "      <th>3</th>\n",
       "      <td>17</td>\n",
       "      <td>37</td>\n",
       "      <td>58</td>\n",
       "      <td>44</td>\n",
       "      <td>54</td>\n",
       "      <td>18</td>\n",
       "      <td>50</td>\n",
       "      <td>12</td>\n",
       "      <td>52</td>\n",
       "      <td>40</td>\n",
       "      <td>...</td>\n",
       "      <td>6</td>\n",
       "      <td>51</td>\n",
       "      <td>5</td>\n",
       "      <td>37</td>\n",
       "      <td>5</td>\n",
       "      <td>49</td>\n",
       "      <td>36</td>\n",
       "      <td>25</td>\n",
       "      <td>35</td>\n",
       "      <td>12</td>\n",
       "    </tr>\n",
       "    <tr>\n",
       "      <th>4</th>\n",
       "      <td>19</td>\n",
       "      <td>15</td>\n",
       "      <td>20</td>\n",
       "      <td>26</td>\n",
       "      <td>17</td>\n",
       "      <td>49</td>\n",
       "      <td>56</td>\n",
       "      <td>39</td>\n",
       "      <td>17</td>\n",
       "      <td>16</td>\n",
       "      <td>...</td>\n",
       "      <td>9</td>\n",
       "      <td>56</td>\n",
       "      <td>7</td>\n",
       "      <td>58</td>\n",
       "      <td>12</td>\n",
       "      <td>34</td>\n",
       "      <td>3</td>\n",
       "      <td>14</td>\n",
       "      <td>20</td>\n",
       "      <td>42</td>\n",
       "    </tr>\n",
       "    <tr>\n",
       "      <th>...</th>\n",
       "      <td>...</td>\n",
       "      <td>...</td>\n",
       "      <td>...</td>\n",
       "      <td>...</td>\n",
       "      <td>...</td>\n",
       "      <td>...</td>\n",
       "      <td>...</td>\n",
       "      <td>...</td>\n",
       "      <td>...</td>\n",
       "      <td>...</td>\n",
       "      <td>...</td>\n",
       "      <td>...</td>\n",
       "      <td>...</td>\n",
       "      <td>...</td>\n",
       "      <td>...</td>\n",
       "      <td>...</td>\n",
       "      <td>...</td>\n",
       "      <td>...</td>\n",
       "      <td>...</td>\n",
       "      <td>...</td>\n",
       "      <td>...</td>\n",
       "    </tr>\n",
       "    <tr>\n",
       "      <th>340</th>\n",
       "      <td>60</td>\n",
       "      <td>58</td>\n",
       "      <td>43</td>\n",
       "      <td>18</td>\n",
       "      <td>11</td>\n",
       "      <td>39</td>\n",
       "      <td>19</td>\n",
       "      <td>21</td>\n",
       "      <td>47</td>\n",
       "      <td>43</td>\n",
       "      <td>...</td>\n",
       "      <td>19</td>\n",
       "      <td>47</td>\n",
       "      <td>15</td>\n",
       "      <td>9</td>\n",
       "      <td>58</td>\n",
       "      <td>63</td>\n",
       "      <td>35</td>\n",
       "      <td>29</td>\n",
       "      <td>25</td>\n",
       "      <td>58</td>\n",
       "    </tr>\n",
       "    <tr>\n",
       "      <th>341</th>\n",
       "      <td>50</td>\n",
       "      <td>18</td>\n",
       "      <td>38</td>\n",
       "      <td>27</td>\n",
       "      <td>2</td>\n",
       "      <td>47</td>\n",
       "      <td>20</td>\n",
       "      <td>4</td>\n",
       "      <td>47</td>\n",
       "      <td>54</td>\n",
       "      <td>...</td>\n",
       "      <td>39</td>\n",
       "      <td>10</td>\n",
       "      <td>43</td>\n",
       "      <td>48</td>\n",
       "      <td>37</td>\n",
       "      <td>30</td>\n",
       "      <td>53</td>\n",
       "      <td>58</td>\n",
       "      <td>13</td>\n",
       "      <td>42</td>\n",
       "    </tr>\n",
       "    <tr>\n",
       "      <th>342</th>\n",
       "      <td>20</td>\n",
       "      <td>53</td>\n",
       "      <td>16</td>\n",
       "      <td>49</td>\n",
       "      <td>54</td>\n",
       "      <td>8</td>\n",
       "      <td>45</td>\n",
       "      <td>29</td>\n",
       "      <td>44</td>\n",
       "      <td>29</td>\n",
       "      <td>...</td>\n",
       "      <td>48</td>\n",
       "      <td>21</td>\n",
       "      <td>43</td>\n",
       "      <td>54</td>\n",
       "      <td>64</td>\n",
       "      <td>43</td>\n",
       "      <td>12</td>\n",
       "      <td>59</td>\n",
       "      <td>34</td>\n",
       "      <td>24</td>\n",
       "    </tr>\n",
       "    <tr>\n",
       "      <th>343</th>\n",
       "      <td>17</td>\n",
       "      <td>5</td>\n",
       "      <td>50</td>\n",
       "      <td>62</td>\n",
       "      <td>53</td>\n",
       "      <td>51</td>\n",
       "      <td>50</td>\n",
       "      <td>14</td>\n",
       "      <td>17</td>\n",
       "      <td>57</td>\n",
       "      <td>...</td>\n",
       "      <td>57</td>\n",
       "      <td>5</td>\n",
       "      <td>42</td>\n",
       "      <td>25</td>\n",
       "      <td>52</td>\n",
       "      <td>22</td>\n",
       "      <td>62</td>\n",
       "      <td>7</td>\n",
       "      <td>3</td>\n",
       "      <td>46</td>\n",
       "    </tr>\n",
       "    <tr>\n",
       "      <th>344</th>\n",
       "      <td>44</td>\n",
       "      <td>20</td>\n",
       "      <td>14</td>\n",
       "      <td>43</td>\n",
       "      <td>34</td>\n",
       "      <td>10</td>\n",
       "      <td>24</td>\n",
       "      <td>22</td>\n",
       "      <td>42</td>\n",
       "      <td>43</td>\n",
       "      <td>...</td>\n",
       "      <td>50</td>\n",
       "      <td>39</td>\n",
       "      <td>8</td>\n",
       "      <td>12</td>\n",
       "      <td>17</td>\n",
       "      <td>48</td>\n",
       "      <td>11</td>\n",
       "      <td>11</td>\n",
       "      <td>4</td>\n",
       "      <td>43</td>\n",
       "    </tr>\n",
       "  </tbody>\n",
       "</table>\n",
       "<p>345 rows × 556 columns</p>\n",
       "</div>"
      ],
      "text/plain": [
       "     0    1    2    3    4    5    6    7    8    9    ...  546  547  548  \\\n",
       "0     36   27   24   42    6   32    4   25   49   17  ...   31   47   16   \n",
       "1     18   25   30   42   45   39    3   25   64   54  ...    6   37    6   \n",
       "2     23   34   51   34   36   50   17   59   58   61  ...   46   44   19   \n",
       "3     17   37   58   44   54   18   50   12   52   40  ...    6   51    5   \n",
       "4     19   15   20   26   17   49   56   39   17   16  ...    9   56    7   \n",
       "..   ...  ...  ...  ...  ...  ...  ...  ...  ...  ...  ...  ...  ...  ...   \n",
       "340   60   58   43   18   11   39   19   21   47   43  ...   19   47   15   \n",
       "341   50   18   38   27    2   47   20    4   47   54  ...   39   10   43   \n",
       "342   20   53   16   49   54    8   45   29   44   29  ...   48   21   43   \n",
       "343   17    5   50   62   53   51   50   14   17   57  ...   57    5   42   \n",
       "344   44   20   14   43   34   10   24   22   42   43  ...   50   39    8   \n",
       "\n",
       "     549  550  551  552  553  554  555  \n",
       "0     64    5   39   29   49    8   18  \n",
       "1     44   25   36   15   56   48    7  \n",
       "2     60   49   43   37   39    8   37  \n",
       "3     37    5   49   36   25   35   12  \n",
       "4     58   12   34    3   14   20   42  \n",
       "..   ...  ...  ...  ...  ...  ...  ...  \n",
       "340    9   58   63   35   29   25   58  \n",
       "341   48   37   30   53   58   13   42  \n",
       "342   54   64   43   12   59   34   24  \n",
       "343   25   52   22   62    7    3   46  \n",
       "344   12   17   48   11   11    4   43  \n",
       "\n",
       "[345 rows x 556 columns]"
      ]
     },
     "execution_count": 91,
     "metadata": {},
     "output_type": "execute_result"
    }
   ],
   "source": [
    "pd.DataFrame(arrr2)"
   ]
  },
  {
   "cell_type": "code",
   "execution_count": 92,
   "id": "e8df6209",
   "metadata": {},
   "outputs": [],
   "source": [
    "pd.DataFrame(arrr2).to_csv('test.csv')"
   ]
  },
  {
   "cell_type": "code",
   "execution_count": 95,
   "id": "32eede93",
   "metadata": {},
   "outputs": [],
   "source": [
    "# jitna hamare passs data hai usi ko shape change kr sakte hain jaise ishka output me aisa mtlb column 6 aur row 3 hai mtlb total 18 data save hain \n",
    "\n",
    "arrr4 = np.random.rand(3,6)"
   ]
  },
  {
   "cell_type": "code",
   "execution_count": 94,
   "id": "ebb38db2",
   "metadata": {},
   "outputs": [
    {
     "data": {
      "text/plain": [
       "array([[0.03291935, 0.41425246, 0.34846847, 0.22926871, 0.71619365,\n",
       "        0.98164176],\n",
       "       [0.78137301, 0.5095435 , 0.81215055, 0.31041727, 0.21112445,\n",
       "        0.92707882],\n",
       "       [0.83905222, 0.18087186, 0.14339541, 0.10803452, 0.31651878,\n",
       "        0.21120447]])"
      ]
     },
     "execution_count": 94,
     "metadata": {},
     "output_type": "execute_result"
    }
   ],
   "source": [
    "arrr4"
   ]
  },
  {
   "cell_type": "code",
   "execution_count": 99,
   "id": "3f1d832b",
   "metadata": {},
   "outputs": [
    {
     "data": {
      "text/plain": [
       "array([[0.79076894, 0.61312279],\n",
       "       [0.21276253, 0.86833617],\n",
       "       [0.06434461, 0.48392107],\n",
       "       [0.10202004, 0.49606196],\n",
       "       [0.72529851, 0.38045224],\n",
       "       [0.98260727, 0.79161285],\n",
       "       [0.63387506, 0.31512081],\n",
       "       [0.35324033, 0.19385909],\n",
       "       [0.49432456, 0.46500563]])"
      ]
     },
     "execution_count": 99,
     "metadata": {},
     "output_type": "execute_result"
    }
   ],
   "source": [
    "# ab isi 18 data me row aur column ki shape change kr sakte hain\n",
    "\n",
    "arrr4.reshape(9,2)"
   ]
  }
 ],
 "metadata": {
  "kernelspec": {
   "display_name": "Python 3 (ipykernel)",
   "language": "python",
   "name": "python3"
  },
  "language_info": {
   "codemirror_mode": {
    "name": "ipython",
    "version": 3
   },
   "file_extension": ".py",
   "mimetype": "text/x-python",
   "name": "python",
   "nbconvert_exporter": "python",
   "pygments_lexer": "ipython3",
   "version": "3.11.1"
  }
 },
 "nbformat": 4,
 "nbformat_minor": 5
}
