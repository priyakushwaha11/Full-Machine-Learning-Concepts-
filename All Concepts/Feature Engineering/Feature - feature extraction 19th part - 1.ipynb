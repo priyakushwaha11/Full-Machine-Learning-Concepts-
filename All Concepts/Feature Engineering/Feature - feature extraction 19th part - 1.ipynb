{
 "cells": [
  {
   "cell_type": "markdown",
   "id": "d2bc1a97",
   "metadata": {},
   "source": [
    "### Feature extraction -  The process of transforming raw data into numerical features that can be processed while preserving the information in the original data set.\n",
    "\n",
    "  ### \" process of selecting and extracting the most important features from the row data \""
   ]
  },
  {
   "cell_type": "markdown",
   "id": "c04fed45",
   "metadata": {},
   "source": [
    "``*`` There are three type of feature extraction\n",
    "\n",
    "* Feature scaling\n",
    "* Feature selection\n",
    "* PCA ( principal component analysis )\n",
    "\n",
    "``*`` Feature selection is the type of correlation "
   ]
  },
  {
   "cell_type": "markdown",
   "id": "8a9d2ed0",
   "metadata": {},
   "source": [
    "``*`` There are three type of feature scaling\n",
    "\n",
    "* Standardization - z-score\n",
    "* Normalization (min,max scaling )\n",
    "* Unit vector"
   ]
  },
  {
   "cell_type": "code",
   "execution_count": null,
   "id": "320610fc",
   "metadata": {},
   "outputs": [],
   "source": []
  }
 ],
 "metadata": {
  "kernelspec": {
   "display_name": "Python 3 (ipykernel)",
   "language": "python",
   "name": "python3"
  },
  "language_info": {
   "codemirror_mode": {
    "name": "ipython",
    "version": 3
   },
   "file_extension": ".py",
   "mimetype": "text/x-python",
   "name": "python",
   "nbconvert_exporter": "python",
   "pygments_lexer": "ipython3",
   "version": "3.11.1"
  }
 },
 "nbformat": 4,
 "nbformat_minor": 5
}
