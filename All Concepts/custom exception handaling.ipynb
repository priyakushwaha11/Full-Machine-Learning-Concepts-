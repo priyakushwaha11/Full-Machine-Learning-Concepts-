{
 "cells": [
  {
   "cell_type": "code",
   "execution_count": 1,
   "id": "9946211a",
   "metadata": {},
   "outputs": [
    {
     "name": "stdout",
     "output_type": "stream",
     "text": [
      "enter your age6578\n"
     ]
    }
   ],
   "source": [
    "age = int (input(\"enter your age\"))"
   ]
  },
  {
   "cell_type": "code",
   "execution_count": 2,
   "id": "6868fa2f",
   "metadata": {},
   "outputs": [],
   "source": [
    "#  But valid age import karna jaroori hai \n",
    "#      age (minus) me nhi ho sakti isliye class bnaker import karana\n",
    "\n",
    "class validateage(Exception):\n",
    "    \n",
    "    def __init__(self , msg):\n",
    "        self.msg = msg"
   ]
  },
  {
   "cell_type": "code",
   "execution_count": 3,
   "id": "127eac67",
   "metadata": {},
   "outputs": [],
   "source": [
    "def validaetage(age):\n",
    "    if age < 0 :\n",
    "        raise validaetage(\"Entered age is negative\")\n",
    "    elif age > 200 :\n",
    "        raise validaetage(\"Entered age is very high\")\n",
    "    else :\n",
    "        print(\"Age is valid\")"
   ]
  },
  {
   "cell_type": "code",
   "execution_count": 5,
   "id": "97d16d4f",
   "metadata": {},
   "outputs": [
    {
     "name": "stdout",
     "output_type": "stream",
     "text": [
      "enter your age      0\n",
      "Age is valid\n"
     ]
    }
   ],
   "source": [
    "try:\n",
    "    age = int (input (\"enter your age\"))\n",
    "    validaetage(age)\n",
    "except validaetage as e :\n",
    "    print(e)"
   ]
  },
  {
   "cell_type": "code",
   "execution_count": null,
   "id": "787b96a9",
   "metadata": {},
   "outputs": [],
   "source": []
  }
 ],
 "metadata": {
  "kernelspec": {
   "display_name": "Python 3 (ipykernel)",
   "language": "python",
   "name": "python3"
  },
  "language_info": {
   "codemirror_mode": {
    "name": "ipython",
    "version": 3
   },
   "file_extension": ".py",
   "mimetype": "text/x-python",
   "name": "python",
   "nbconvert_exporter": "python",
   "pygments_lexer": "ipython3",
   "version": "3.11.1"
  }
 },
 "nbformat": 4,
 "nbformat_minor": 5
}
