{
 "cells": [
  {
   "cell_type": "markdown",
   "id": "cf7383d9",
   "metadata": {},
   "source": [
    "### Topics to be coverd\n",
    "\n",
    "#### 1. confusion matrix\n",
    "#### 2. accuracy\n",
    "#### 3. precision\n",
    "#### 4. recall\n",
    "#### 5. F- beta score\n",
    "\n"
   ]
  },
  {
   "cell_type": "markdown",
   "id": "0336b81b",
   "metadata": {},
   "source": [
    "### formulas ;\n",
    "\n",
    "2. Accuracy = TP + TN / TP + FP + FN + TN\n",
    "\n",
    "3. Precision = TP / TP + FP\n",
    "\n",
    "* FP is important.\n",
    "\n",
    "4. Recall = TP / TP + FN\n",
    "\n",
    "* FN is important .\n",
    "\n",
    "5. F-Beta score = (1+beta square) precision call * recall / precision + recall \n",
    "\n",
    "* if FP and FN both are important than ;\n",
    "   beta = 1\n",
    "   \n",
    " f1 score = 2* precision call * recall / precision call + recall \n",
    " \n",
    "`*` f1 score are called HARMONIC MEAN\n",
    "\n",
    "* if FP is more imporatnt than FN ;\n",
    "    beta = 0.5\n",
    "    \n",
    " f 0.5 score = 1+0.25 * precision call * recall / precision call + recall\n",
    " \n",
    " * if FN is more important than FP ;\n",
    "     beta = 2\n",
    "     \n",
    " f2 score = 1+4 * precision call * recall / precision call + recall"
   ]
  },
  {
   "cell_type": "markdown",
   "id": "2ec98f0a",
   "metadata": {},
   "source": [
    "# Cross validation and types "
   ]
  },
  {
   "cell_type": "code",
   "execution_count": null,
   "id": "43d3192c",
   "metadata": {},
   "outputs": [],
   "source": []
  }
 ],
 "metadata": {
  "kernelspec": {
   "display_name": "Python 3 (ipykernel)",
   "language": "python",
   "name": "python3"
  },
  "language_info": {
   "codemirror_mode": {
    "name": "ipython",
    "version": 3
   },
   "file_extension": ".py",
   "mimetype": "text/x-python",
   "name": "python",
   "nbconvert_exporter": "python",
   "pygments_lexer": "ipython3",
   "version": "3.11.1"
  }
 },
 "nbformat": 4,
 "nbformat_minor": 5
}
