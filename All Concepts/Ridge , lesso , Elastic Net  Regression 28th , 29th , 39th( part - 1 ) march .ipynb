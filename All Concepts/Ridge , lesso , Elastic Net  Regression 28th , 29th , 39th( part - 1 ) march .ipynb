{
 "cells": [
  {
   "cell_type": "markdown",
   "id": "eebb4c1e",
   "metadata": {},
   "source": [
    "### Ridge Regression ( L2 regularization ) - Reducing Overfitting "
   ]
  },
  {
   "cell_type": "markdown",
   "id": "cc619e67",
   "metadata": {},
   "source": [
    "#### sereis of regression algorithm like - ridge , lesso , and Elstic net"
   ]
  },
  {
   "cell_type": "code",
   "execution_count": null,
   "id": "e173b3ca",
   "metadata": {},
   "outputs": [],
   "source": []
  },
  {
   "cell_type": "code",
   "execution_count": null,
   "id": "61a816ff",
   "metadata": {},
   "outputs": [],
   "source": []
  },
  {
   "cell_type": "markdown",
   "id": "7bd1d218",
   "metadata": {},
   "source": [
    "### Lasso Regression ( L1 regularization ) - its use for feature selection"
   ]
  },
  {
   "cell_type": "code",
   "execution_count": null,
   "id": "95da5025",
   "metadata": {},
   "outputs": [],
   "source": []
  },
  {
   "cell_type": "code",
   "execution_count": null,
   "id": "96ec10dc",
   "metadata": {},
   "outputs": [],
   "source": []
  },
  {
   "cell_type": "markdown",
   "id": "8d36f64c",
   "metadata": {},
   "source": [
    "###  Elastic Net Regression - combination of Ridge and Lasso\n"
   ]
  },
  {
   "cell_type": "code",
   "execution_count": null,
   "id": "2da1850c",
   "metadata": {},
   "outputs": [],
   "source": []
  }
 ],
 "metadata": {
  "kernelspec": {
   "display_name": "Python 3 (ipykernel)",
   "language": "python",
   "name": "python3"
  },
  "language_info": {
   "codemirror_mode": {
    "name": "ipython",
    "version": 3
   },
   "file_extension": ".py",
   "mimetype": "text/x-python",
   "name": "python",
   "nbconvert_exporter": "python",
   "pygments_lexer": "ipython3",
   "version": "3.11.1"
  }
 },
 "nbformat": 4,
 "nbformat_minor": 5
}
