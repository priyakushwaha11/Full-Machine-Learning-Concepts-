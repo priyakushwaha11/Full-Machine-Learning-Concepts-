{
 "cells": [
  {
   "cell_type": "code",
   "execution_count": 1,
   "id": "38718106",
   "metadata": {},
   "outputs": [],
   "source": [
    "# yah machine learning ka pahla algoriyhm hai\n",
    "\n"
   ]
  },
  {
   "cell_type": "markdown",
   "id": "bc79d6af",
   "metadata": {},
   "source": [
    " supervised machine learning two type ki hoti hai -\n",
    " \n",
    " 1 . regression - yah numerical hota hai\n",
    " 2 . classification - yah categorical hota hai\n",
    "\n",
    "`*` prediction of best fit line  by minimal\n",
    "\n",
    "( x and y column me jo data hota hai ushme jo best fit line hoti hai to jo data line ke aas pass hota hai use (yi) se represent karnge , and jo prideiction line me hoti hai usse (yi^ (hat)) se reprenst karenge and data and best fit line ki beech ki doori ko error kah sakte hain , and  samesion of error called minimal )\n",
    "\n",
    "`*` Actual and predictive point ke samesion ko minimal kahte hai"
   ]
  },
  {
   "cell_type": "markdown",
   "id": "a6413c5b",
   "metadata": {},
   "source": [
    "Finel aim = In order to get the best fit line .\n",
    "\n"
   ]
  },
  {
   "cell_type": "markdown",
   "id": "d80e0585",
   "metadata": {},
   "source": [
    "Convergence algorithm = Optimize the change of theeta(0) to theeta(1) to global minima.\n",
    "\n"
   ]
  },
  {
   "cell_type": "markdown",
   "id": "f094236f",
   "metadata": {},
   "source": [
    "#   Multiple linear regression"
   ]
  },
  {
   "cell_type": "markdown",
   "id": "5f8a6e61",
   "metadata": {},
   "source": [
    "* Multiple linear regression - multiple linear regression me more than one feature indepentent column hote hain aur ek dependent column .\n",
    "\n",
    "\n",
    "* Simple linear regression - simple linear regression me one independent feature hota hai and inpendent column one hi hota hai "
   ]
  },
  {
   "cell_type": "markdown",
   "id": "a4ff4a48",
   "metadata": {},
   "source": [
    "# Polynomial linear regression"
   ]
  },
  {
   "cell_type": "markdown",
   "id": "acf37c3c",
   "metadata": {},
   "source": [
    "Polynomial linear regression - polynomial linear regression two types ka hota hai \n",
    " \n",
    " 1. simple polynomial linear regression\n",
    " 2. Multiple polynomial linear regression "
   ]
  },
  {
   "cell_type": "markdown",
   "id": "8cfc55ca",
   "metadata": {},
   "source": [
    "# `*`  R squared adjusted R squared\n"
   ]
  },
  {
   "cell_type": "markdown",
   "id": "332e5e01",
   "metadata": {},
   "source": [
    "### R squared "
   ]
  },
  {
   "cell_type": "markdown",
   "id": "e8f4183a",
   "metadata": {},
   "source": [
    " *  best fit line and actual points ke error ka samession  ka total SSRes kahlata hai .\n",
    "\n",
    "* avarage of y and predicted points ke difference karke square karna SSTotal kahlata hai .\n",
    "\n",
    "* R square range between 0 to 1 hota hai ."
   ]
  },
  {
   "cell_type": "markdown",
   "id": "03aec9ed",
   "metadata": {},
   "source": [
    "### Adjusted R squared \n"
   ]
  },
  {
   "cell_type": "markdown",
   "id": "a505cf0b",
   "metadata": {},
   "source": [
    "#  Cost funtions = MSE , MAE , RMSE "
   ]
  },
  {
   "cell_type": "markdown",
   "id": "3ead87d1",
   "metadata": {},
   "source": [
    "MSE = mean squard error\n",
    "\n",
    "MAE = mean absolure error\n",
    "\n",
    "RMSE = root mean squared error"
   ]
  },
  {
   "cell_type": "code",
   "execution_count": null,
   "id": "e23b422a",
   "metadata": {},
   "outputs": [],
   "source": []
  },
  {
   "cell_type": "code",
   "execution_count": null,
   "id": "30f98444",
   "metadata": {},
   "outputs": [],
   "source": []
  },
  {
   "cell_type": "code",
   "execution_count": null,
   "id": "2c62317b",
   "metadata": {},
   "outputs": [],
   "source": []
  }
 ],
 "metadata": {
  "kernelspec": {
   "display_name": "Python 3 (ipykernel)",
   "language": "python",
   "name": "python3"
  },
  "language_info": {
   "codemirror_mode": {
    "name": "ipython",
    "version": 3
   },
   "file_extension": ".py",
   "mimetype": "text/x-python",
   "name": "python",
   "nbconvert_exporter": "python",
   "pygments_lexer": "ipython3",
   "version": "3.11.1"
  }
 },
 "nbformat": 4,
 "nbformat_minor": 5
}
