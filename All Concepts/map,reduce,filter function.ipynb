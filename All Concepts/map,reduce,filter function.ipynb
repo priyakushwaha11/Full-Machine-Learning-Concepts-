{
 "cells": [
  {
   "cell_type": "code",
   "execution_count": 1,
   "id": "10e22121",
   "metadata": {},
   "outputs": [],
   "source": [
    "l = [1,3,4,5,6,7,8]"
   ]
  },
  {
   "cell_type": "code",
   "execution_count": 6,
   "id": "5f51d67b",
   "metadata": {},
   "outputs": [],
   "source": [
    "def test(l):\n",
    "    s = []\n",
    "    for i in l:\n",
    "        s.append(i**2)\n",
    "    return s"
   ]
  },
  {
   "cell_type": "code",
   "execution_count": 7,
   "id": "40ab6f3d",
   "metadata": {},
   "outputs": [
    {
     "data": {
      "text/plain": [
       "[1, 9, 16, 25, 36, 49, 64]"
      ]
     },
     "execution_count": 7,
     "metadata": {},
     "output_type": "execute_result"
    }
   ],
   "source": [
    "test(l)"
   ]
  },
  {
   "cell_type": "code",
   "execution_count": 12,
   "id": "ea184d5b",
   "metadata": {},
   "outputs": [],
   "source": [
    "def sq(x):\n",
    "    return x**2"
   ]
  },
  {
   "cell_type": "code",
   "execution_count": 13,
   "id": "4d51af21",
   "metadata": {},
   "outputs": [
    {
     "data": {
      "text/plain": [
       "[1, 9, 16, 25, 36, 49, 64]"
      ]
     },
     "execution_count": 13,
     "metadata": {},
     "output_type": "execute_result"
    }
   ],
   "source": [
    "list (map(sq,l))"
   ]
  },
  {
   "cell_type": "code",
   "execution_count": 15,
   "id": "c6830e89",
   "metadata": {},
   "outputs": [],
   "source": [
    "l1 = [1,3,4,5,6]\n",
    "l2 = [0,9,8,7,6]"
   ]
  },
  {
   "cell_type": "code",
   "execution_count": 16,
   "id": "bb6f157a",
   "metadata": {},
   "outputs": [
    {
     "data": {
      "text/plain": [
       "[1, 12, 12, 12, 12]"
      ]
     },
     "execution_count": 16,
     "metadata": {},
     "output_type": "execute_result"
    }
   ],
   "source": [
    "# lambda function easiest way\n",
    "\n",
    "list(map(lambda x,y : x+y ,l1,l2))"
   ]
  },
  {
   "cell_type": "code",
   "execution_count": 17,
   "id": "e5947b60",
   "metadata": {},
   "outputs": [],
   "source": [
    "# external function\n",
    "\n",
    "def add (x,y) :\n",
    "    return x + y"
   ]
  },
  {
   "cell_type": "code",
   "execution_count": 19,
   "id": "1f377016",
   "metadata": {},
   "outputs": [
    {
     "data": {
      "text/plain": [
       "[1, 12, 12, 12, 12]"
      ]
     },
     "execution_count": 19,
     "metadata": {},
     "output_type": "execute_result"
    }
   ],
   "source": [
    "list(map (add ,l1 ,l2))"
   ]
  },
  {
   "cell_type": "code",
   "execution_count": 20,
   "id": "029fbcc7",
   "metadata": {},
   "outputs": [
    {
     "data": {
      "text/plain": [
       "['P', 'R', 'I', 'Y', 'A']"
      ]
     },
     "execution_count": 20,
     "metadata": {},
     "output_type": "execute_result"
    }
   ],
   "source": [
    "n = \"priya\"\n",
    "list (map(lambda n:n.upper(),n))"
   ]
  },
  {
   "cell_type": "code",
   "execution_count": 21,
   "id": "901203b1",
   "metadata": {},
   "outputs": [],
   "source": [
    "from functools import reduce"
   ]
  },
  {
   "cell_type": "code",
   "execution_count": 22,
   "id": "6a29aa20",
   "metadata": {},
   "outputs": [],
   "source": [
    "p = [1,2,3,4,5,6]\n"
   ]
  },
  {
   "cell_type": "code",
   "execution_count": 23,
   "id": "bffa1319",
   "metadata": {},
   "outputs": [
    {
     "data": {
      "text/plain": [
       "21"
      ]
     },
     "execution_count": 23,
     "metadata": {},
     "output_type": "execute_result"
    }
   ],
   "source": [
    "reduce(lambda x,y:x+y,p)"
   ]
  },
  {
   "cell_type": "code",
   "execution_count": 24,
   "id": "fe61ce4a",
   "metadata": {},
   "outputs": [
    {
     "data": {
      "text/plain": [
       "720"
      ]
     },
     "execution_count": 24,
     "metadata": {},
     "output_type": "execute_result"
    }
   ],
   "source": [
    "reduce(lambda x,y:x*y,p)"
   ]
  },
  {
   "cell_type": "code",
   "execution_count": 25,
   "id": "dcdadb08",
   "metadata": {},
   "outputs": [
    {
     "data": {
      "text/plain": [
       "6"
      ]
     },
     "execution_count": 25,
     "metadata": {},
     "output_type": "execute_result"
    }
   ],
   "source": [
    "# Greatest no.\n",
    "\n",
    "reduce(lambda x,y :x if x>y else y,p)"
   ]
  },
  {
   "cell_type": "code",
   "execution_count": 26,
   "id": "4043631c",
   "metadata": {},
   "outputs": [
    {
     "data": {
      "text/plain": [
       "[1, 2, 3, 4, 5, 6]"
      ]
     },
     "execution_count": 26,
     "metadata": {},
     "output_type": "execute_result"
    }
   ],
   "source": [
    "p"
   ]
  },
  {
   "cell_type": "code",
   "execution_count": 27,
   "id": "aef9beb7",
   "metadata": {},
   "outputs": [
    {
     "data": {
      "text/plain": [
       "[2, 4, 6]"
      ]
     },
     "execution_count": 27,
     "metadata": {},
     "output_type": "execute_result"
    }
   ],
   "source": [
    "# Odd number \n",
    "\n",
    "list(filter (lambda x:x %2 ==0,p))"
   ]
  },
  {
   "cell_type": "code",
   "execution_count": 28,
   "id": "3332b954",
   "metadata": {},
   "outputs": [
    {
     "data": {
      "text/plain": [
       "[1, 3, 5]"
      ]
     },
     "execution_count": 28,
     "metadata": {},
     "output_type": "execute_result"
    }
   ],
   "source": [
    "# Even number\n",
    "\n",
    "list(filter(lambda x:x%2 != 0 ,p))"
   ]
  },
  {
   "cell_type": "code",
   "execution_count": 29,
   "id": "f961482a",
   "metadata": {},
   "outputs": [],
   "source": [
    "p1 = [1,3,5,-4,6,-5,-8]"
   ]
  },
  {
   "cell_type": "code",
   "execution_count": 30,
   "id": "99d2c612",
   "metadata": {},
   "outputs": [
    {
     "data": {
      "text/plain": [
       "[-4, -5, -8]"
      ]
     },
     "execution_count": 30,
     "metadata": {},
     "output_type": "execute_result"
    }
   ],
   "source": [
    "# Negative number\n",
    "\n",
    "list (filter(lambda x:x<0 , p1))"
   ]
  },
  {
   "cell_type": "code",
   "execution_count": null,
   "id": "c68112c7",
   "metadata": {},
   "outputs": [],
   "source": []
  }
 ],
 "metadata": {
  "kernelspec": {
   "display_name": "Python 3 (ipykernel)",
   "language": "python",
   "name": "python3"
  },
  "language_info": {
   "codemirror_mode": {
    "name": "ipython",
    "version": 3
   },
   "file_extension": ".py",
   "mimetype": "text/x-python",
   "name": "python",
   "nbconvert_exporter": "python",
   "pygments_lexer": "ipython3",
   "version": "3.11.1"
  }
 },
 "nbformat": 4,
 "nbformat_minor": 5
}
