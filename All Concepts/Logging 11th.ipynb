{
 "cells": [
  {
   "cell_type": "code",
   "execution_count": 5,
   "id": "caf284a8",
   "metadata": {},
   "outputs": [
    {
     "name": "stdout",
     "output_type": "stream",
     "text": [
      "this is priya\n"
     ]
    }
   ],
   "source": [
    "print (\"this is priya\")"
   ]
  },
  {
   "cell_type": "code",
   "execution_count": 6,
   "id": "67791e98",
   "metadata": {},
   "outputs": [],
   "source": [
    "import logging"
   ]
  },
  {
   "cell_type": "code",
   "execution_count": 7,
   "id": "6c0d9101",
   "metadata": {},
   "outputs": [],
   "source": [
    "logging.basicConfig(filename = \"test.log\" , level = logging.INFO)"
   ]
  },
  {
   "cell_type": "code",
   "execution_count": 8,
   "id": "d0398276",
   "metadata": {},
   "outputs": [],
   "source": [
    "logging.info(\"this is log executation\")"
   ]
  },
  {
   "cell_type": "code",
   "execution_count": 9,
   "id": "23c9e8ee",
   "metadata": {},
   "outputs": [],
   "source": [
    "logging.info(\"this is priya\")"
   ]
  },
  {
   "cell_type": "code",
   "execution_count": 10,
   "id": "71db158d",
   "metadata": {},
   "outputs": [],
   "source": [
    "logging.debug(\"this is rajni\")"
   ]
  },
  {
   "cell_type": "code",
   "execution_count": 11,
   "id": "58cd0c99",
   "metadata": {},
   "outputs": [],
   "source": [
    "logging.warning(\"i want to become a data scientist\")"
   ]
  },
  {
   "cell_type": "code",
   "execution_count": 12,
   "id": "cf9ab9a1",
   "metadata": {},
   "outputs": [],
   "source": [
    "logging.error(\"as soon as i want to become a data scientist\")"
   ]
  },
  {
   "cell_type": "code",
   "execution_count": 13,
   "id": "59780203",
   "metadata": {},
   "outputs": [],
   "source": [
    "logging.critical(\"its not too easy\")"
   ]
  },
  {
   "cell_type": "code",
   "execution_count": 14,
   "id": "9593e1b6",
   "metadata": {},
   "outputs": [],
   "source": [
    "logging.shutdown()"
   ]
  },
  {
   "cell_type": "code",
   "execution_count": 23,
   "id": "3787fbe6",
   "metadata": {
    "scrolled": false
   },
   "outputs": [],
   "source": [
    "# LOGGING KE LEVEL\n",
    "#  logging level info set karne ke baad INFO ke neeche wale log honge info ke upper wale log nhi honge \n",
    "\n",
    "# 1.NOTSET\n",
    "# 2.DEBUG\n",
    "# 3.INFO\n",
    "# 4.WARNING\n",
    "# 5.ERROR\n",
    "# 6.CRITICAL"
   ]
  },
  {
   "cell_type": "code",
   "execution_count": 16,
   "id": "59dbb37c",
   "metadata": {},
   "outputs": [],
   "source": [
    "import logging"
   ]
  },
  {
   "cell_type": "code",
   "execution_count": 17,
   "id": "2a9b6e27",
   "metadata": {},
   "outputs": [],
   "source": [
    "logging.basicConfig(filename = \"test1.log\" ,level = logging.DEBUG , format = '%(asctime)s %(message)%save')"
   ]
  },
  {
   "cell_type": "code",
   "execution_count": 18,
   "id": "e0ad043c",
   "metadata": {},
   "outputs": [],
   "source": [
    "logging.info(\"next time i save my time\")\n",
    "logging.error(\"i have not done my work\")\n",
    "logging.critical(\"its too easy\")"
   ]
  },
  {
   "cell_type": "code",
   "execution_count": 19,
   "id": "2f4af756",
   "metadata": {},
   "outputs": [],
   "source": [
    "l = [1,2,3,4,5,6,7,[8,8,9,0] , \"priya\" , \"rajni\"]"
   ]
  },
  {
   "cell_type": "code",
   "execution_count": 20,
   "id": "2c4e5d15",
   "metadata": {},
   "outputs": [],
   "source": [
    "l1_int = []\n",
    "l2_str = []\n",
    "for i in l:\n",
    "    if type(i) == list :\n",
    "        for j in i :\n",
    "            if type (j) == int:\n",
    "                l1_int.append(j)\n",
    "                \n",
    "    elif type(i) == int :\n",
    "        l1_int.append(i)\n",
    "    else:\n",
    "        if type(i)== str:\n",
    "            l2_str.append(i)"
   ]
  },
  {
   "cell_type": "code",
   "execution_count": 21,
   "id": "dd9c7525",
   "metadata": {},
   "outputs": [
    {
     "data": {
      "text/plain": [
       "[1, 2, 3, 4, 5, 6, 7, 8, 8, 9, 0]"
      ]
     },
     "execution_count": 21,
     "metadata": {},
     "output_type": "execute_result"
    }
   ],
   "source": [
    "l1_int"
   ]
  },
  {
   "cell_type": "code",
   "execution_count": 22,
   "id": "5e8f46de",
   "metadata": {},
   "outputs": [
    {
     "data": {
      "text/plain": [
       "['priya', 'rajni']"
      ]
     },
     "execution_count": 22,
     "metadata": {},
     "output_type": "execute_result"
    }
   ],
   "source": [
    "l2_str"
   ]
  },
  {
   "cell_type": "code",
   "execution_count": null,
   "id": "c9bf7590",
   "metadata": {},
   "outputs": [],
   "source": []
  },
  {
   "cell_type": "code",
   "execution_count": null,
   "id": "4ea800d9",
   "metadata": {},
   "outputs": [],
   "source": []
  },
  {
   "cell_type": "code",
   "execution_count": null,
   "id": "782fc9b6",
   "metadata": {},
   "outputs": [],
   "source": []
  }
 ],
 "metadata": {
  "kernelspec": {
   "display_name": "Python 3 (ipykernel)",
   "language": "python",
   "name": "python3"
  },
  "language_info": {
   "codemirror_mode": {
    "name": "ipython",
    "version": 3
   },
   "file_extension": ".py",
   "mimetype": "text/x-python",
   "name": "python",
   "nbconvert_exporter": "python",
   "pygments_lexer": "ipython3",
   "version": "3.11.1"
  }
 },
 "nbformat": 4,
 "nbformat_minor": 5
}
