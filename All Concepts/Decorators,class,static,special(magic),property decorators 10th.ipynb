{
 "cells": [
  {
   "cell_type": "markdown",
   "id": "69a25914",
   "metadata": {},
   "source": [
    "# Decorators"
   ]
  },
  {
   "cell_type": "code",
   "execution_count": 2,
   "id": "b7fc3aa8",
   "metadata": {},
   "outputs": [],
   "source": [
    "def test():\n",
    "    print(\"first cell of this\")\n",
    "    print(\"this is class 10th \")\n",
    "    print(76+5)\n",
    "    print(\"middle cell of this\")\n",
    "    print(\"last cell of this\")"
   ]
  },
  {
   "cell_type": "code",
   "execution_count": 3,
   "id": "4f2db2d6",
   "metadata": {},
   "outputs": [
    {
     "name": "stdout",
     "output_type": "stream",
     "text": [
      "first cell of this\n",
      "this is class 10th \n",
      "81\n",
      "middle cell of this\n",
      "last cell of this\n"
     ]
    }
   ],
   "source": [
    "test()"
   ]
  },
  {
   "cell_type": "code",
   "execution_count": 4,
   "id": "cc5542c3",
   "metadata": {},
   "outputs": [
    {
     "data": {
      "text/plain": [
       "<function __main__.test()>"
      ]
     },
     "execution_count": 4,
     "metadata": {},
     "output_type": "execute_result"
    }
   ],
   "source": [
    "test"
   ]
  },
  {
   "cell_type": "code",
   "execution_count": 5,
   "id": "6e97c4ab",
   "metadata": {},
   "outputs": [],
   "source": [
    "def decorate(func):\n",
    "    def inner_decoration():\n",
    "        print(\"first cell of this\")\n",
    "        func()\n",
    "        print(\"last cell of this\")\n",
    "    return inner_decoration"
   ]
  },
  {
   "cell_type": "code",
   "execution_count": 6,
   "id": "c47d6ed8",
   "metadata": {},
   "outputs": [],
   "source": [
    "@decorate\n",
    "def test1():\n",
    "    print(6+5)\n",
    "    print(323+67)\n",
    "    print(\"iuhyruiwhe\")"
   ]
  },
  {
   "cell_type": "code",
   "execution_count": 7,
   "id": "f24c91da",
   "metadata": {},
   "outputs": [
    {
     "name": "stdout",
     "output_type": "stream",
     "text": [
      "first cell of this\n",
      "11\n",
      "390\n",
      "iuhyruiwhe\n",
      "last cell of this\n"
     ]
    }
   ],
   "source": [
    "test1()"
   ]
  },
  {
   "cell_type": "code",
   "execution_count": 8,
   "id": "0149a182",
   "metadata": {},
   "outputs": [],
   "source": [
    "import time \n",
    "\n",
    "def timer_test(func):\n",
    "    def timer_test_inner():\n",
    "        start = time.time()\n",
    "        func()\n",
    "        end = time.time()\n",
    "        \n",
    "        print(end - start)\n",
    "    return timer_test_inner"
   ]
  },
  {
   "cell_type": "code",
   "execution_count": 9,
   "id": "66ea995f",
   "metadata": {},
   "outputs": [],
   "source": [
    "def test2():\n",
    "    print(667+6787)"
   ]
  },
  {
   "cell_type": "code",
   "execution_count": 10,
   "id": "56297a75",
   "metadata": {},
   "outputs": [
    {
     "name": "stdout",
     "output_type": "stream",
     "text": [
      "7454\n"
     ]
    }
   ],
   "source": [
    "test2()"
   ]
  },
  {
   "cell_type": "code",
   "execution_count": 11,
   "id": "10a15d43",
   "metadata": {},
   "outputs": [],
   "source": [
    "@timer_test\n",
    "def test2():\n",
    "    print(7656748+763563476478)"
   ]
  },
  {
   "cell_type": "code",
   "execution_count": 12,
   "id": "d412d4be",
   "metadata": {},
   "outputs": [
    {
     "name": "stdout",
     "output_type": "stream",
     "text": [
      "763571133226\n",
      "0.0\n"
     ]
    }
   ],
   "source": [
    "test2()"
   ]
  },
  {
   "cell_type": "code",
   "execution_count": 13,
   "id": "00f136e1",
   "metadata": {},
   "outputs": [],
   "source": [
    "@timer_test\n",
    "def test():\n",
    "    for i in range(76576596):\n",
    "        pass"
   ]
  },
  {
   "cell_type": "code",
   "execution_count": 14,
   "id": "ca6943ae",
   "metadata": {},
   "outputs": [
    {
     "name": "stdout",
     "output_type": "stream",
     "text": [
      "2.483582019805908\n"
     ]
    }
   ],
   "source": [
    "test()"
   ]
  },
  {
   "cell_type": "markdown",
   "id": "95a2f687",
   "metadata": {},
   "source": [
    "# Class . method\n"
   ]
  },
  {
   "cell_type": "code",
   "execution_count": 15,
   "id": "112d3ae1",
   "metadata": {},
   "outputs": [],
   "source": [
    "class data_scientist:\n",
    "    def __init__(self , name , email):\n",
    "        self.name = name\n",
    "        self.email = email\n",
    "        \n",
    "    def students_details(self):\n",
    "        print(self.name , self.email)"
   ]
  },
  {
   "cell_type": "code",
   "execution_count": 16,
   "id": "41db72ff",
   "metadata": {},
   "outputs": [],
   "source": [
    "s = data_scientist(\"priya\" , \"priyakushwaha98798@gmail.com\")"
   ]
  },
  {
   "cell_type": "code",
   "execution_count": 17,
   "id": "9fa1b20f",
   "metadata": {},
   "outputs": [
    {
     "data": {
      "text/plain": [
       "'priyakushwaha98798@gmail.com'"
      ]
     },
     "execution_count": 17,
     "metadata": {},
     "output_type": "execute_result"
    }
   ],
   "source": [
    "s.email"
   ]
  },
  {
   "cell_type": "code",
   "execution_count": 18,
   "id": "2e4571b0",
   "metadata": {},
   "outputs": [
    {
     "data": {
      "text/plain": [
       "'priya'"
      ]
     },
     "execution_count": 18,
     "metadata": {},
     "output_type": "execute_result"
    }
   ],
   "source": [
    "s.name"
   ]
  },
  {
   "cell_type": "code",
   "execution_count": 19,
   "id": "4d37b3fd",
   "metadata": {},
   "outputs": [
    {
     "name": "stdout",
     "output_type": "stream",
     "text": [
      "priya priyakushwaha98798@gmail.com\n"
     ]
    }
   ],
   "source": [
    "s.students_details()"
   ]
  },
  {
   "cell_type": "code",
   "execution_count": 20,
   "id": "3c1158a4",
   "metadata": {},
   "outputs": [],
   "source": [
    "class data_scientist1:\n",
    "    def __init__(self , name , email):\n",
    "        self.name = name\n",
    "        self.email = email\n",
    "    @classmethod   \n",
    "    def details(cls , name , email):\n",
    "        return cls(name , email)\n",
    "        \n",
    "    def students_details(self):\n",
    "        print(self.name , self.email)"
   ]
  },
  {
   "cell_type": "code",
   "execution_count": 21,
   "id": "460dc10d",
   "metadata": {},
   "outputs": [],
   "source": [
    "# class method ka use karke bina \n",
    "\n",
    "d2 = data_scientist1.details(\"pku\" , \"priua@gmail.com\")"
   ]
  },
  {
   "cell_type": "code",
   "execution_count": 22,
   "id": "d9c4c7f5",
   "metadata": {},
   "outputs": [
    {
     "data": {
      "text/plain": [
       "'pku'"
      ]
     },
     "execution_count": 22,
     "metadata": {},
     "output_type": "execute_result"
    }
   ],
   "source": [
    "d2.name"
   ]
  },
  {
   "cell_type": "code",
   "execution_count": 23,
   "id": "09301be4",
   "metadata": {},
   "outputs": [
    {
     "data": {
      "text/plain": [
       "'priua@gmail.com'"
      ]
     },
     "execution_count": 23,
     "metadata": {},
     "output_type": "execute_result"
    }
   ],
   "source": [
    "d2.email"
   ]
  },
  {
   "cell_type": "code",
   "execution_count": 24,
   "id": "c9b10a94",
   "metadata": {},
   "outputs": [
    {
     "data": {
      "text/plain": [
       "<bound method data_scientist1.details of <class '__main__.data_scientist1'>>"
      ]
     },
     "execution_count": 24,
     "metadata": {},
     "output_type": "execute_result"
    }
   ],
   "source": [
    "d2.details"
   ]
  },
  {
   "cell_type": "code",
   "execution_count": 25,
   "id": "1f1bedc9",
   "metadata": {},
   "outputs": [
    {
     "name": "stdout",
     "output_type": "stream",
     "text": [
      "pku priua@gmail.com\n"
     ]
    }
   ],
   "source": [
    "d2.students_details()"
   ]
  },
  {
   "cell_type": "code",
   "execution_count": 26,
   "id": "a266a703",
   "metadata": {},
   "outputs": [],
   "source": [
    "class data_scientist2:\n",
    "    \n",
    "    mobile_num =9289623778\n",
    "    \n",
    "    def __init__(self , name , email):\n",
    "        self.name = name\n",
    "        self.email = email\n",
    "    \n",
    "    @classmethod\n",
    "    def change_number(cls ,mobile_num):\n",
    "        data_scientist2.mobile_num = mobile_num\n",
    "        \n",
    "    @classmethod   \n",
    "    def details(cls , name , email):\n",
    "        return cls(name , email)\n",
    "        \n",
    "    def students_details(self):\n",
    "        print(self.name , self.email , data_scientist2.mobile_num)"
   ]
  },
  {
   "cell_type": "code",
   "execution_count": 27,
   "id": "3f85ca57",
   "metadata": {},
   "outputs": [],
   "source": [
    "# Class me fuction add karne ke liye \n",
    "\n",
    "data_scientist2.change_number(96697867654678)"
   ]
  },
  {
   "cell_type": "code",
   "execution_count": 28,
   "id": "667402f2",
   "metadata": {},
   "outputs": [
    {
     "data": {
      "text/plain": [
       "96697867654678"
      ]
     },
     "execution_count": 28,
     "metadata": {},
     "output_type": "execute_result"
    }
   ],
   "source": [
    "data_scientist2.mobile_num"
   ]
  },
  {
   "cell_type": "code",
   "execution_count": 29,
   "id": "924ac659",
   "metadata": {},
   "outputs": [],
   "source": [
    "D = data_scientist2.details(\"rajni\" , \"rajni67@gmail.com\" )"
   ]
  },
  {
   "cell_type": "code",
   "execution_count": 30,
   "id": "7a07ff87",
   "metadata": {},
   "outputs": [
    {
     "name": "stdout",
     "output_type": "stream",
     "text": [
      "rajni rajni67@gmail.com 96697867654678\n"
     ]
    }
   ],
   "source": [
    "D.students_details()"
   ]
  },
  {
   "cell_type": "code",
   "execution_count": 31,
   "id": "b4db571b",
   "metadata": {},
   "outputs": [],
   "source": [
    "class data_scientist3:\n",
    "    \n",
    "    mobile_num =9289623778\n",
    "    \n",
    "    def __init__(self , name , email):\n",
    "        self.name = name\n",
    "        self.email = email\n",
    "    \n",
    "    @classmethod\n",
    "    def change_number(cls ,mobile_num):\n",
    "        data_scientist2.mobile_num = mobile_num\n",
    "        \n",
    "    @classmethod   \n",
    "    def details(cls , name , email):\n",
    "        return cls(name , email)\n",
    "        \n",
    "    def students_details(self):\n",
    "        print(self.name , self.email , data_scientist2.mobile_num)"
   ]
  },
  {
   "cell_type": "code",
   "execution_count": 32,
   "id": "03c0fe7f",
   "metadata": {},
   "outputs": [],
   "source": [
    "def course_details(cls , course_name):\n",
    "    print(\"course name is \" , course_name)"
   ]
  },
  {
   "cell_type": "code",
   "execution_count": 33,
   "id": "d88b1e0e",
   "metadata": {},
   "outputs": [],
   "source": [
    "data_scientist3.course_details = classmethod(course_details)"
   ]
  },
  {
   "cell_type": "code",
   "execution_count": 34,
   "id": "ec599eda",
   "metadata": {},
   "outputs": [
    {
     "name": "stdout",
     "output_type": "stream",
     "text": [
      "course name is  master of data scientist\n"
     ]
    }
   ],
   "source": [
    "data_scientist3.course_details(\"master of data scientist\")"
   ]
  },
  {
   "cell_type": "code",
   "execution_count": 35,
   "id": "95b0a374",
   "metadata": {},
   "outputs": [],
   "source": [
    "# External funtion add karne ke liye \n",
    "\n",
    "def mentor(cls , list_of_mentor):\n",
    "    print(list_of_mentor)"
   ]
  },
  {
   "cell_type": "code",
   "execution_count": 36,
   "id": "dc1adfb5",
   "metadata": {},
   "outputs": [],
   "source": [
    "data_scientist3.mentor = classmethod(mentor)"
   ]
  },
  {
   "cell_type": "code",
   "execution_count": 37,
   "id": "9cf80fa2",
   "metadata": {},
   "outputs": [
    {
     "name": "stdout",
     "output_type": "stream",
     "text": [
      "['gyan', 'prakash']\n"
     ]
    }
   ],
   "source": [
    "data_scientist3.mentor([\"gyan\" , \"prakash\"])"
   ]
  },
  {
   "cell_type": "code",
   "execution_count": 38,
   "id": "124998fb",
   "metadata": {},
   "outputs": [],
   "source": [
    "class data_scientist4:\n",
    "    \n",
    "    mobile_num =9289623778\n",
    "    \n",
    "    def __init__(self , name , email):\n",
    "        self.name = name\n",
    "        self.email = email\n",
    "    \n",
    "    @classmethod\n",
    "    def change_number(cls ,mobile_num):\n",
    "        data_scientist2.mobile_num = mobile_num\n",
    "        \n",
    "    @classmethod   \n",
    "    def details(cls , name , email):\n",
    "        return cls(name , email)\n",
    "        \n",
    "    def students_details(self):\n",
    "        print(self.name , self.email , data_scientist2.mobile_num)"
   ]
  },
  {
   "cell_type": "code",
   "execution_count": 39,
   "id": "f919a41f",
   "metadata": {},
   "outputs": [],
   "source": [
    "# koi function delete karne ke liye\n",
    "\n",
    "del data_scientist4.change_number"
   ]
  },
  {
   "cell_type": "code",
   "execution_count": 41,
   "id": "6554277e",
   "metadata": {},
   "outputs": [],
   "source": [
    "# delete karne ke attribute function\n",
    "\n",
    "delattr(data_scientist4 , \"details\")"
   ]
  },
  {
   "cell_type": "code",
   "execution_count": 41,
   "id": "2dd7a5af",
   "metadata": {},
   "outputs": [],
   "source": [
    "delattr(data_scientist4 , \"students_details\")"
   ]
  },
  {
   "cell_type": "code",
   "execution_count": 42,
   "id": "75bde8e2",
   "metadata": {},
   "outputs": [],
   "source": [
    "delattr(data_scientist4 , \"mobile_num\")"
   ]
  },
  {
   "cell_type": "code",
   "execution_count": 43,
   "id": "b9173c8e",
   "metadata": {},
   "outputs": [
    {
     "data": {
      "text/plain": [
       "<function data_scientist4.mro()>"
      ]
     },
     "execution_count": 43,
     "metadata": {},
     "output_type": "execute_result"
    }
   ],
   "source": [
    "data_scientist4.mro"
   ]
  },
  {
   "cell_type": "markdown",
   "id": "c8a72083",
   "metadata": {},
   "source": [
    "# Static"
   ]
  },
  {
   "cell_type": "code",
   "execution_count": 44,
   "id": "f16a1686",
   "metadata": {},
   "outputs": [],
   "source": [
    "class pwskills :\n",
    "    \n",
    "    def student_details(self , name , mail_id , number):\n",
    "        print(name , mail_id , number)"
   ]
  },
  {
   "cell_type": "code",
   "execution_count": 45,
   "id": "3bf353e3",
   "metadata": {},
   "outputs": [],
   "source": [
    "pw = pwskills()"
   ]
  },
  {
   "cell_type": "code",
   "execution_count": 46,
   "id": "51554882",
   "metadata": {},
   "outputs": [
    {
     "name": "stdout",
     "output_type": "stream",
     "text": [
      "priya priya675@gmail.com 7989708879\n"
     ]
    }
   ],
   "source": [
    "pw.student_details(\"priya\" , \"priya675@gmail.com\" , 7989708879)"
   ]
  },
  {
   "cell_type": "code",
   "execution_count": 47,
   "id": "850e677a",
   "metadata": {},
   "outputs": [],
   "source": [
    "# Bina object create kiye bina hi access kar paaye\n",
    "\n",
    "class pwskills1 :\n",
    "    \n",
    "    def student_details(self , name , mail_id , number):\n",
    "        print(name , mail_id , number)\n",
    "        \n",
    "    @staticmethod\n",
    "    def mentor_class(list_mentor):\n",
    "        print(list_mentor)\n",
    "        \n",
    "    def mentor(self , mentor_list):\n",
    "        print(mentor_list)"
   ]
  },
  {
   "cell_type": "code",
   "execution_count": 48,
   "id": "360f2769",
   "metadata": {},
   "outputs": [
    {
     "name": "stdout",
     "output_type": "stream",
     "text": [
      "['priya', 'kushwaha']\n"
     ]
    }
   ],
   "source": [
    "pwskills1.mentor_class([\"priya\" , \"kushwaha\"])"
   ]
  },
  {
   "cell_type": "code",
   "execution_count": 49,
   "id": "b197a29a",
   "metadata": {},
   "outputs": [],
   "source": [
    "stu1 = pwskills1()"
   ]
  },
  {
   "cell_type": "code",
   "execution_count": 50,
   "id": "65d82cc5",
   "metadata": {},
   "outputs": [],
   "source": [
    "stu2 = pwskills1()"
   ]
  },
  {
   "cell_type": "code",
   "execution_count": 51,
   "id": "b7cf433f",
   "metadata": {},
   "outputs": [],
   "source": [
    "stu3 = pwskills1()"
   ]
  },
  {
   "cell_type": "code",
   "execution_count": 52,
   "id": "0d8fcfa4",
   "metadata": {},
   "outputs": [],
   "source": [
    "stu4 = pwskills1()"
   ]
  },
  {
   "cell_type": "code",
   "execution_count": 53,
   "id": "debb4485",
   "metadata": {},
   "outputs": [
    {
     "name": "stdout",
     "output_type": "stream",
     "text": [
      "['yiuoi', 'priti']\n"
     ]
    }
   ],
   "source": [
    "stu1.mentor([\"yiuoi\" , \"priti\"])"
   ]
  },
  {
   "cell_type": "code",
   "execution_count": 56,
   "id": "b63ccff7",
   "metadata": {},
   "outputs": [],
   "source": [
    "# class method add karne ka tarika\n",
    "\n",
    "class pwskills2 :\n",
    "    \n",
    "    def student_details(self , name , mail_id , number):\n",
    "        print(name , mail_id , number)\n",
    "        \n",
    "    @staticmethod\n",
    "    def mentor_class(list_mentor):\n",
    "        print(list_mentor)\n",
    "        \n",
    "    @classmethod\n",
    "    def class_name(cls):\n",
    "        cls.mentor_class([\"priya\" , \"rajni\"])\n",
    "        \n",
    "        \n",
    "    def mentor(self , mentor_list):\n",
    "        print(mentor_list)"
   ]
  },
  {
   "cell_type": "code",
   "execution_count": 58,
   "id": "6cfb6032",
   "metadata": {},
   "outputs": [
    {
     "name": "stdout",
     "output_type": "stream",
     "text": [
      "['priya', 'rajni']\n"
     ]
    }
   ],
   "source": [
    "pwskills2.class_name()"
   ]
  },
  {
   "cell_type": "code",
   "execution_count": 64,
   "id": "8392837b",
   "metadata": {},
   "outputs": [],
   "source": [
    "# ek static method ke andar dusrre staticmethod ko call karna\n",
    "\n",
    "class pwskills2 :\n",
    "    \n",
    "    def student_details(self , name , mail_id , number):\n",
    "        print(name , mail_id , number)\n",
    "        \n",
    "    @staticmethod\n",
    "    def mentor_mail_id(mail_id_mentor):\n",
    "        print(mail_id_mentor)\n",
    "        \n",
    "    @staticmethod\n",
    "    def mentor_class(list_mentor):\n",
    "        \n",
    "        pwskills2.mentor_mail_id([\"priya123@gmail.com\" , \"rajni7656@gmail.com\"])\n",
    "        print(list_mentor)\n",
    "        \n",
    "    @classmethod\n",
    "    def class_name(cls):\n",
    "        cls.mentor_class([\"priya\" , \"rajni\"])\n",
    "        \n",
    "# instance method ke andar static method\n",
    "\n",
    "    def mentor(self , mentor_list):\n",
    "        print(mentor_list)\n",
    "        self.mentor_class([\"gyanprakash\"])"
   ]
  },
  {
   "cell_type": "code",
   "execution_count": 65,
   "id": "f6e3d611",
   "metadata": {},
   "outputs": [
    {
     "name": "stdout",
     "output_type": "stream",
     "text": [
      "['priya123@gmail.com', 'rajni7656@gmail.com']\n",
      "['priui', 'uihuih']\n"
     ]
    }
   ],
   "source": [
    "# ek static method ke andar dusrre staticmethod ko call karna\n",
    "\n",
    "pwskills2.mentor_class([\"priui\" , \"uihuih\"])"
   ]
  },
  {
   "cell_type": "markdown",
   "id": "1e11ba84",
   "metadata": {},
   "source": [
    "# Special ( magic or dunder ) "
   ]
  },
  {
   "cell_type": "code",
   "execution_count": 67,
   "id": "f73080e2",
   "metadata": {},
   "outputs": [
    {
     "data": {
      "text/plain": [
       "['__abs__',\n",
       " '__add__',\n",
       " '__and__',\n",
       " '__bool__',\n",
       " '__ceil__',\n",
       " '__class__',\n",
       " '__delattr__',\n",
       " '__dir__',\n",
       " '__divmod__',\n",
       " '__doc__',\n",
       " '__eq__',\n",
       " '__float__',\n",
       " '__floor__',\n",
       " '__floordiv__',\n",
       " '__format__',\n",
       " '__ge__',\n",
       " '__getattribute__',\n",
       " '__getnewargs__',\n",
       " '__getstate__',\n",
       " '__gt__',\n",
       " '__hash__',\n",
       " '__index__',\n",
       " '__init__',\n",
       " '__init_subclass__',\n",
       " '__int__',\n",
       " '__invert__',\n",
       " '__le__',\n",
       " '__lshift__',\n",
       " '__lt__',\n",
       " '__mod__',\n",
       " '__mul__',\n",
       " '__ne__',\n",
       " '__neg__',\n",
       " '__new__',\n",
       " '__or__',\n",
       " '__pos__',\n",
       " '__pow__',\n",
       " '__radd__',\n",
       " '__rand__',\n",
       " '__rdivmod__',\n",
       " '__reduce__',\n",
       " '__reduce_ex__',\n",
       " '__repr__',\n",
       " '__rfloordiv__',\n",
       " '__rlshift__',\n",
       " '__rmod__',\n",
       " '__rmul__',\n",
       " '__ror__',\n",
       " '__round__',\n",
       " '__rpow__',\n",
       " '__rrshift__',\n",
       " '__rshift__',\n",
       " '__rsub__',\n",
       " '__rtruediv__',\n",
       " '__rxor__',\n",
       " '__setattr__',\n",
       " '__sizeof__',\n",
       " '__str__',\n",
       " '__sub__',\n",
       " '__subclasshook__',\n",
       " '__truediv__',\n",
       " '__trunc__',\n",
       " '__xor__',\n",
       " 'as_integer_ratio',\n",
       " 'bit_count',\n",
       " 'bit_length',\n",
       " 'conjugate',\n",
       " 'denominator',\n",
       " 'from_bytes',\n",
       " 'imag',\n",
       " 'numerator',\n",
       " 'real',\n",
       " 'to_bytes']"
      ]
     },
     "execution_count": 67,
     "metadata": {},
     "output_type": "execute_result"
    }
   ],
   "source": [
    "# directory ( integer)\n",
    "dir(int)"
   ]
  },
  {
   "cell_type": "code",
   "execution_count": 68,
   "id": "bf0eb472",
   "metadata": {},
   "outputs": [
    {
     "data": {
      "text/plain": [
       "['__add__',\n",
       " '__class__',\n",
       " '__contains__',\n",
       " '__delattr__',\n",
       " '__dir__',\n",
       " '__doc__',\n",
       " '__eq__',\n",
       " '__format__',\n",
       " '__ge__',\n",
       " '__getattribute__',\n",
       " '__getitem__',\n",
       " '__getnewargs__',\n",
       " '__getstate__',\n",
       " '__gt__',\n",
       " '__hash__',\n",
       " '__init__',\n",
       " '__init_subclass__',\n",
       " '__iter__',\n",
       " '__le__',\n",
       " '__len__',\n",
       " '__lt__',\n",
       " '__mod__',\n",
       " '__mul__',\n",
       " '__ne__',\n",
       " '__new__',\n",
       " '__reduce__',\n",
       " '__reduce_ex__',\n",
       " '__repr__',\n",
       " '__rmod__',\n",
       " '__rmul__',\n",
       " '__setattr__',\n",
       " '__sizeof__',\n",
       " '__str__',\n",
       " '__subclasshook__',\n",
       " 'capitalize',\n",
       " 'casefold',\n",
       " 'center',\n",
       " 'count',\n",
       " 'encode',\n",
       " 'endswith',\n",
       " 'expandtabs',\n",
       " 'find',\n",
       " 'format',\n",
       " 'format_map',\n",
       " 'index',\n",
       " 'isalnum',\n",
       " 'isalpha',\n",
       " 'isascii',\n",
       " 'isdecimal',\n",
       " 'isdigit',\n",
       " 'isidentifier',\n",
       " 'islower',\n",
       " 'isnumeric',\n",
       " 'isprintable',\n",
       " 'isspace',\n",
       " 'istitle',\n",
       " 'isupper',\n",
       " 'join',\n",
       " 'ljust',\n",
       " 'lower',\n",
       " 'lstrip',\n",
       " 'maketrans',\n",
       " 'partition',\n",
       " 'removeprefix',\n",
       " 'removesuffix',\n",
       " 'replace',\n",
       " 'rfind',\n",
       " 'rindex',\n",
       " 'rjust',\n",
       " 'rpartition',\n",
       " 'rsplit',\n",
       " 'rstrip',\n",
       " 'split',\n",
       " 'splitlines',\n",
       " 'startswith',\n",
       " 'strip',\n",
       " 'swapcase',\n",
       " 'title',\n",
       " 'translate',\n",
       " 'upper',\n",
       " 'zfill']"
      ]
     },
     "execution_count": 68,
     "metadata": {},
     "output_type": "execute_result"
    }
   ],
   "source": [
    "dir(str)"
   ]
  },
  {
   "cell_type": "code",
   "execution_count": 69,
   "id": "8261054f",
   "metadata": {},
   "outputs": [],
   "source": [
    "a = 100  "
   ]
  },
  {
   "cell_type": "code",
   "execution_count": 70,
   "id": "91edee04",
   "metadata": {},
   "outputs": [
    {
     "data": {
      "text/plain": [
       "107"
      ]
     },
     "execution_count": 70,
     "metadata": {},
     "output_type": "execute_result"
    }
   ],
   "source": [
    "7 + a"
   ]
  },
  {
   "cell_type": "code",
   "execution_count": 71,
   "id": "4acb76dc",
   "metadata": {},
   "outputs": [
    {
     "data": {
      "text/plain": [
       "107"
      ]
     },
     "execution_count": 71,
     "metadata": {},
     "output_type": "execute_result"
    }
   ],
   "source": [
    "a.__add__(7)"
   ]
  },
  {
   "cell_type": "code",
   "execution_count": 72,
   "id": "65183c1f",
   "metadata": {},
   "outputs": [],
   "source": [
    "class my_home:\n",
    "    def __init__(self):\n",
    "        self.mobile_number = 876895436"
   ]
  },
  {
   "cell_type": "code",
   "execution_count": 73,
   "id": "3a9022e8",
   "metadata": {},
   "outputs": [],
   "source": [
    "m = my_home()"
   ]
  },
  {
   "cell_type": "code",
   "execution_count": 74,
   "id": "9b2e09c9",
   "metadata": {},
   "outputs": [
    {
     "data": {
      "text/plain": [
       "876895436"
      ]
     },
     "execution_count": 74,
     "metadata": {},
     "output_type": "execute_result"
    }
   ],
   "source": [
    "m.mobile_number"
   ]
  },
  {
   "cell_type": "code",
   "execution_count": 81,
   "id": "22b62962",
   "metadata": {},
   "outputs": [],
   "source": [
    "class job:\n",
    "    \n",
    "# new function bnaker dekhte hain pahle new run hota h ki init\n",
    "\n",
    "    def __new__(self):\n",
    "        print (\"ujhdsjhk\")\n",
    "        \n",
    "    def __init__(self):\n",
    "        self.my_salary = 100000"
   ]
  },
  {
   "cell_type": "code",
   "execution_count": 82,
   "id": "7799bc26",
   "metadata": {},
   "outputs": [
    {
     "name": "stdout",
     "output_type": "stream",
     "text": [
      "ujhdsjhk\n"
     ]
    }
   ],
   "source": [
    "m = job ()"
   ]
  },
  {
   "cell_type": "code",
   "execution_count": 77,
   "id": "681b6151",
   "metadata": {},
   "outputs": [
    {
     "data": {
      "text/plain": [
       "<__main__.job at 0x18fe143c090>"
      ]
     },
     "execution_count": 77,
     "metadata": {},
     "output_type": "execute_result"
    }
   ],
   "source": [
    "m"
   ]
  },
  {
   "cell_type": "code",
   "execution_count": 80,
   "id": "42651905",
   "metadata": {},
   "outputs": [
    {
     "data": {
      "text/plain": [
       "100000"
      ]
     },
     "execution_count": 80,
     "metadata": {},
     "output_type": "execute_result"
    }
   ],
   "source": [
    "m.my_salary"
   ]
  },
  {
   "cell_type": "code",
   "execution_count": 84,
   "id": "6f21072c",
   "metadata": {},
   "outputs": [],
   "source": [
    "class job1:\n",
    "    def __init__(self):\n",
    "        self.my_salary = 100000\n",
    "        \n",
    "    def __str__(self):\n",
    "        return \"this is my first job\""
   ]
  },
  {
   "cell_type": "code",
   "execution_count": 85,
   "id": "927be742",
   "metadata": {},
   "outputs": [],
   "source": [
    "j = job1()"
   ]
  },
  {
   "cell_type": "code",
   "execution_count": 86,
   "id": "a6946189",
   "metadata": {},
   "outputs": [
    {
     "data": {
      "text/plain": [
       "<__main__.job1 at 0x18fe0bad710>"
      ]
     },
     "execution_count": 86,
     "metadata": {},
     "output_type": "execute_result"
    }
   ],
   "source": [
    "j"
   ]
  },
  {
   "cell_type": "code",
   "execution_count": 87,
   "id": "81641877",
   "metadata": {},
   "outputs": [
    {
     "data": {
      "text/plain": [
       "100000"
      ]
     },
     "execution_count": 87,
     "metadata": {},
     "output_type": "execute_result"
    }
   ],
   "source": [
    "j.my_salary"
   ]
  },
  {
   "cell_type": "code",
   "execution_count": 88,
   "id": "378bf758",
   "metadata": {},
   "outputs": [
    {
     "name": "stdout",
     "output_type": "stream",
     "text": [
      "this is my first job\n"
     ]
    }
   ],
   "source": [
    "print(j)"
   ]
  },
  {
   "cell_type": "code",
   "execution_count": 89,
   "id": "097c3e5e",
   "metadata": {},
   "outputs": [
    {
     "data": {
      "text/plain": [
       "['__add__',\n",
       " '__class__',\n",
       " '__class_getitem__',\n",
       " '__contains__',\n",
       " '__delattr__',\n",
       " '__delitem__',\n",
       " '__dir__',\n",
       " '__doc__',\n",
       " '__eq__',\n",
       " '__format__',\n",
       " '__ge__',\n",
       " '__getattribute__',\n",
       " '__getitem__',\n",
       " '__getstate__',\n",
       " '__gt__',\n",
       " '__hash__',\n",
       " '__iadd__',\n",
       " '__imul__',\n",
       " '__init__',\n",
       " '__init_subclass__',\n",
       " '__iter__',\n",
       " '__le__',\n",
       " '__len__',\n",
       " '__lt__',\n",
       " '__mul__',\n",
       " '__ne__',\n",
       " '__new__',\n",
       " '__reduce__',\n",
       " '__reduce_ex__',\n",
       " '__repr__',\n",
       " '__reversed__',\n",
       " '__rmul__',\n",
       " '__setattr__',\n",
       " '__setitem__',\n",
       " '__sizeof__',\n",
       " '__str__',\n",
       " '__subclasshook__',\n",
       " 'append',\n",
       " 'clear',\n",
       " 'copy',\n",
       " 'count',\n",
       " 'extend',\n",
       " 'index',\n",
       " 'insert',\n",
       " 'pop',\n",
       " 'remove',\n",
       " 'reverse',\n",
       " 'sort']"
      ]
     },
     "execution_count": 89,
     "metadata": {},
     "output_type": "execute_result"
    }
   ],
   "source": [
    "dir(list)"
   ]
  },
  {
   "cell_type": "code",
   "execution_count": 90,
   "id": "723c561b",
   "metadata": {},
   "outputs": [
    {
     "data": {
      "text/plain": [
       "['__add__',\n",
       " '__class__',\n",
       " '__class_getitem__',\n",
       " '__contains__',\n",
       " '__delattr__',\n",
       " '__dir__',\n",
       " '__doc__',\n",
       " '__eq__',\n",
       " '__format__',\n",
       " '__ge__',\n",
       " '__getattribute__',\n",
       " '__getitem__',\n",
       " '__getnewargs__',\n",
       " '__getstate__',\n",
       " '__gt__',\n",
       " '__hash__',\n",
       " '__init__',\n",
       " '__init_subclass__',\n",
       " '__iter__',\n",
       " '__le__',\n",
       " '__len__',\n",
       " '__lt__',\n",
       " '__mul__',\n",
       " '__ne__',\n",
       " '__new__',\n",
       " '__reduce__',\n",
       " '__reduce_ex__',\n",
       " '__repr__',\n",
       " '__rmul__',\n",
       " '__setattr__',\n",
       " '__sizeof__',\n",
       " '__str__',\n",
       " '__subclasshook__',\n",
       " 'count',\n",
       " 'index']"
      ]
     },
     "execution_count": 90,
     "metadata": {},
     "output_type": "execute_result"
    }
   ],
   "source": [
    "dir(tuple)"
   ]
  },
  {
   "cell_type": "code",
   "execution_count": 91,
   "id": "8afa7211",
   "metadata": {},
   "outputs": [
    {
     "data": {
      "text/plain": [
       "['__class__',\n",
       " '__class_getitem__',\n",
       " '__contains__',\n",
       " '__delattr__',\n",
       " '__delitem__',\n",
       " '__dir__',\n",
       " '__doc__',\n",
       " '__eq__',\n",
       " '__format__',\n",
       " '__ge__',\n",
       " '__getattribute__',\n",
       " '__getitem__',\n",
       " '__getstate__',\n",
       " '__gt__',\n",
       " '__hash__',\n",
       " '__init__',\n",
       " '__init_subclass__',\n",
       " '__ior__',\n",
       " '__iter__',\n",
       " '__le__',\n",
       " '__len__',\n",
       " '__lt__',\n",
       " '__ne__',\n",
       " '__new__',\n",
       " '__or__',\n",
       " '__reduce__',\n",
       " '__reduce_ex__',\n",
       " '__repr__',\n",
       " '__reversed__',\n",
       " '__ror__',\n",
       " '__setattr__',\n",
       " '__setitem__',\n",
       " '__sizeof__',\n",
       " '__str__',\n",
       " '__subclasshook__',\n",
       " 'clear',\n",
       " 'copy',\n",
       " 'fromkeys',\n",
       " 'get',\n",
       " 'items',\n",
       " 'keys',\n",
       " 'pop',\n",
       " 'popitem',\n",
       " 'setdefault',\n",
       " 'update',\n",
       " 'values']"
      ]
     },
     "execution_count": 91,
     "metadata": {},
     "output_type": "execute_result"
    }
   ],
   "source": [
    "dir(dict)"
   ]
  },
  {
   "cell_type": "markdown",
   "id": "9ec11eb1",
   "metadata": {},
   "source": [
    "#  Property Decorators"
   ]
  },
  {
   "cell_type": "code",
   "execution_count": 120,
   "id": "f0bd3628",
   "metadata": {},
   "outputs": [],
   "source": [
    "# self ke baad double underscor lagane par wah private ho jata hai\n",
    "class my_house:\n",
    "    def __init__(self , courage_price , courage_name):\n",
    "        \n",
    "        self.__courage_price = courage_price\n",
    "        self.courage_name = courage_name \n",
    "    \n",
    "    @property\n",
    "    def course_price_access(self):\n",
    "        return self.__courage_price\n",
    "    \n",
    "# modifie karne ke liye access\n",
    "\n",
    "    @course_price_access.setter\n",
    "    def courage_price_set(self , price):\n",
    "        if price <= 3589:\n",
    "            pass\n",
    "        else:\n",
    "            self.__course_price = price"
   ]
  },
  {
   "cell_type": "code",
   "execution_count": 121,
   "id": "f7304a3c",
   "metadata": {},
   "outputs": [
    {
     "data": {
      "text/plain": [
       "3500"
      ]
     },
     "execution_count": 121,
     "metadata": {},
     "output_type": "execute_result"
    }
   ],
   "source": [
    "m.course_price_access"
   ]
  },
  {
   "cell_type": "code",
   "execution_count": 114,
   "id": "a33b5142",
   "metadata": {},
   "outputs": [],
   "source": [
    "m = my_house(3500 , \"data_scientist\")"
   ]
  },
  {
   "cell_type": "code",
   "execution_count": 115,
   "id": "b495ef96",
   "metadata": {},
   "outputs": [
    {
     "data": {
      "text/plain": [
       "'data_scientist'"
      ]
     },
     "execution_count": 115,
     "metadata": {},
     "output_type": "execute_result"
    }
   ],
   "source": [
    "m.courage_name"
   ]
  },
  {
   "cell_type": "code",
   "execution_count": 116,
   "id": "a5508c66",
   "metadata": {},
   "outputs": [
    {
     "data": {
      "text/plain": [
       "3500"
      ]
     },
     "execution_count": 116,
     "metadata": {},
     "output_type": "execute_result"
    }
   ],
   "source": [
    "m._my_house__courage_price"
   ]
  },
  {
   "cell_type": "code",
   "execution_count": 117,
   "id": "66b15bdf",
   "metadata": {},
   "outputs": [
    {
     "data": {
      "text/plain": [
       "3500"
      ]
     },
     "execution_count": 117,
     "metadata": {},
     "output_type": "execute_result"
    }
   ],
   "source": [
    "# property decorator ka use karke user ko self.courage price dikh sakta hai\n",
    "\n",
    "m.course_price_access"
   ]
  },
  {
   "cell_type": "code",
   "execution_count": 118,
   "id": "919e4d74",
   "metadata": {},
   "outputs": [
    {
     "data": {
      "text/plain": [
       "'data_scientist'"
      ]
     },
     "execution_count": 118,
     "metadata": {},
     "output_type": "execute_result"
    }
   ],
   "source": [
    "m.courage_name"
   ]
  },
  {
   "cell_type": "code",
   "execution_count": null,
   "id": "8070b446",
   "metadata": {},
   "outputs": [],
   "source": []
  }
 ],
 "metadata": {
  "kernelspec": {
   "display_name": "Python 3 (ipykernel)",
   "language": "python",
   "name": "python3"
  },
  "language_info": {
   "codemirror_mode": {
    "name": "ipython",
    "version": 3
   },
   "file_extension": ".py",
   "mimetype": "text/x-python",
   "name": "python",
   "nbconvert_exporter": "python",
   "pygments_lexer": "ipython3",
   "version": "3.11.1"
  }
 },
 "nbformat": 4,
 "nbformat_minor": 5
}
