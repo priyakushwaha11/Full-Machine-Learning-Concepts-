{
 "cells": [
  {
   "cell_type": "code",
   "execution_count": 1,
   "id": "8a700fe8",
   "metadata": {},
   "outputs": [],
   "source": [
    "data = {\n",
    "    \"name \" : \"priya kushwaha\" ,\n",
    "    \"mail_id\" : \"priya67798@gmail.com\" ,\n",
    "    \"phon number\" : 9289623778 ,\n",
    "    \"subject\" : [\"data science \" , \"big data\" , \"machine learning\"]\n",
    "}"
   ]
  },
  {
   "cell_type": "code",
   "execution_count": 2,
   "id": "0c6f7d98",
   "metadata": {},
   "outputs": [],
   "source": [
    "# java script object notation (JSON)\n",
    "import json "
   ]
  },
  {
   "cell_type": "code",
   "execution_count": 3,
   "id": "0bcd678c",
   "metadata": {},
   "outputs": [],
   "source": [
    "with open (\"data.json\" , \"w\") as f :\n",
    "    json.dump (data , f)"
   ]
  },
  {
   "cell_type": "code",
   "execution_count": 4,
   "id": "f9321213",
   "metadata": {},
   "outputs": [],
   "source": [
    "with open (\"data.json\" , \"r\") as f:\n",
    "    data1 = json.load(f)"
   ]
  },
  {
   "cell_type": "code",
   "execution_count": 6,
   "id": "cda58800",
   "metadata": {},
   "outputs": [
    {
     "data": {
      "text/plain": [
       "{'name ': 'priya kushwaha',\n",
       " 'mail_id': 'priya67798@gmail.com',\n",
       " 'phon number': 9289623778,\n",
       " 'subject': ['data science ', 'big data', 'machine learning']}"
      ]
     },
     "execution_count": 6,
     "metadata": {},
     "output_type": "execute_result"
    }
   ],
   "source": [
    "data1"
   ]
  },
  {
   "cell_type": "code",
   "execution_count": 7,
   "id": "b909b526",
   "metadata": {},
   "outputs": [
    {
     "data": {
      "text/plain": [
       "['data science ', 'big data', 'machine learning']"
      ]
     },
     "execution_count": 7,
     "metadata": {},
     "output_type": "execute_result"
    }
   ],
   "source": [
    "data1['subject']"
   ]
  },
  {
   "cell_type": "code",
   "execution_count": 8,
   "id": "7cd5f408",
   "metadata": {},
   "outputs": [
    {
     "data": {
      "text/plain": [
       "'machine learning'"
      ]
     },
     "execution_count": 8,
     "metadata": {},
     "output_type": "execute_result"
    }
   ],
   "source": [
    "data1 ['subject'][2]"
   ]
  },
  {
   "cell_type": "code",
   "execution_count": 9,
   "id": "f6c06f57",
   "metadata": {},
   "outputs": [],
   "source": [
    "import csv"
   ]
  },
  {
   "cell_type": "code",
   "execution_count": 10,
   "id": "7a1bc899",
   "metadata": {},
   "outputs": [],
   "source": [
    "data =[ \n",
    "    [\"name\" , \"email_id\"  , \"phon_number\"] , \n",
    "    [\"oriya\", \"priya6367@mail.com\" , 9289623779],\n",
    "    [\"krish\" , \"krisheba2343@mail.com\" , 9479546330]\n",
    "]"
   ]
  },
  {
   "cell_type": "code",
   "execution_count": 14,
   "id": "e88a71a3",
   "metadata": {},
   "outputs": [],
   "source": [
    "with open (\"data.csv\" , \"w\") as f:\n",
    "    writer= csv.writer(f)\n",
    "    \n",
    "    for i in data:\n",
    "        writer.writerow(i)"
   ]
  },
  {
   "cell_type": "code",
   "execution_count": 15,
   "id": "6faf6684",
   "metadata": {
    "scrolled": true
   },
   "outputs": [
    {
     "name": "stdout",
     "output_type": "stream",
     "text": [
      "['name', 'email_id', 'phon_number']\n",
      "[]\n",
      "['oriya', 'priya6367@mail.com', '9289623779']\n",
      "[]\n",
      "['krish', 'krisheba2343@mail.com', '9479546330']\n",
      "[]\n"
     ]
    }
   ],
   "source": [
    "with open(\"data.csv\" , 'r') as f:\n",
    "    read_data = csv.reader(f)\n",
    "    \n",
    "    for i in read_data:\n",
    "        print(i)"
   ]
  },
  {
   "cell_type": "code",
   "execution_count": 20,
   "id": "8b119a8e",
   "metadata": {},
   "outputs": [],
   "source": [
    "with open (\"test3.bin\" , \"wb\") as f:\n",
    "    f.write (b\"\\x01\\x02\\x03x867999999\")\n",
    "# wb (write binarys)"
   ]
  },
  {
   "cell_type": "code",
   "execution_count": 19,
   "id": "b6c35468",
   "metadata": {},
   "outputs": [
    {
     "name": "stdout",
     "output_type": "stream",
     "text": [
      "b'\\x01\\x02\\x03x867999999'\n"
     ]
    }
   ],
   "source": [
    "with open (\"test3.bin\" , \"rb\") as f:\n",
    "    print(f.read())"
   ]
  },
  {
   "cell_type": "code",
   "execution_count": null,
   "id": "518f145f",
   "metadata": {},
   "outputs": [],
   "source": []
  }
 ],
 "metadata": {
  "kernelspec": {
   "display_name": "Python 3 (ipykernel)",
   "language": "python",
   "name": "python3"
  },
  "language_info": {
   "codemirror_mode": {
    "name": "ipython",
    "version": 3
   },
   "file_extension": ".py",
   "mimetype": "text/x-python",
   "name": "python",
   "nbconvert_exporter": "python",
   "pygments_lexer": "ipython3",
   "version": "3.11.1"
  }
 },
 "nbformat": 4,
 "nbformat_minor": 5
}
