{
 "cells": [
  {
   "cell_type": "code",
   "execution_count": 1,
   "id": "38723040",
   "metadata": {},
   "outputs": [],
   "source": [
    "import io\n",
    "# input output "
   ]
  },
  {
   "cell_type": "code",
   "execution_count": 10,
   "id": "b0455324",
   "metadata": {},
   "outputs": [],
   "source": [
    "with open (\"test9.txt\" , \"wb\") as f :\n",
    "    file = io.BufferedWriter(f)\n",
    "    \n",
    "    file.write(b\"my name is priya  kushwaha i am college student in government autonomous p.g. college satna i am good girl i want to become a data scientist i like spicy snacks i have lot of dreams so..... when i got my job i will fullfill my all dreams and i am slim fit girl  my name is priya  kushwaha i am college student in government autonomous p.g. college satna i am good girl i want to become a data scientist i like spicy snacks i have lot of dreams so..... when i got my job i will fullfill my all dreams and i am slim fit girl  i am hard woring girl and smart girl i like i nnocent people i have quality of loyality i like loyalityfull people i am bealivble person \\n\")\n",
    "    file.write(b\"second one of this\\n\")\n",
    "    file.flush() "
   ]
  },
  {
   "cell_type": "code",
   "execution_count": 14,
   "id": "659bea49",
   "metadata": {},
   "outputs": [
    {
     "name": "stdout",
     "output_type": "stream",
     "text": [
      "b'my name is priya  kushwaha i am college student in government autonomous p.g. college satna i am good girl i want to become a data scientist i like spicy snacks i have lot of dreams so..... when i got my job i will fullfill my all dreams and i am slim fit girl  my name is priya  kushwaha i am college student in government autonomous p.g. college satna i am good girl i want to become a data scientist i like spicy snacks i have lot of dreams so..... when i got my job i will fullfill my all dreams and i am slim fit girl  i am hard woring girl and smart girl i like i nnocent people i have quality of loyality i like loyalityfull people i am bealivble person \\nsecond one of this\\n'\n"
     ]
    }
   ],
   "source": [
    "with open(\"test9.txt\" , \"rb\") as f :\n",
    "    file = io.BufferedReader(f)\n",
    "    data = file.read()\n",
    "    print(data)"
   ]
  },
  {
   "cell_type": "code",
   "execution_count": null,
   "id": "5292d438",
   "metadata": {},
   "outputs": [],
   "source": []
  }
 ],
 "metadata": {
  "kernelspec": {
   "display_name": "Python 3 (ipykernel)",
   "language": "python",
   "name": "python3"
  },
  "language_info": {
   "codemirror_mode": {
    "name": "ipython",
    "version": 3
   },
   "file_extension": ".py",
   "mimetype": "text/x-python",
   "name": "python",
   "nbconvert_exporter": "python",
   "pygments_lexer": "ipython3",
   "version": "3.11.1"
  }
 },
 "nbformat": 4,
 "nbformat_minor": 5
}
