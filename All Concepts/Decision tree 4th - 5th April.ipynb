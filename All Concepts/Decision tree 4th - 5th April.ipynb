{
 "cells": [
  {
   "cell_type": "markdown",
   "id": "a41ff701",
   "metadata": {},
   "source": [
    "## Decesion tree \n",
    "\n",
    "#### 1. Decision tree classifier\n",
    "\n",
    "##### *  classification problem solving ( both multi and binary ) \n",
    "\n",
    "#### 2 . Decision tree regressor\n",
    "\n",
    "##### * regrssion problem solving"
   ]
  },
  {
   "cell_type": "markdown",
   "id": "589b51c5",
   "metadata": {},
   "source": [
    "## Decision tree classifier \n",
    "\n",
    "### two types\n",
    "\n",
    "#### 1. ID3 ( itarate dichomiser 3 ) \n",
    "#### 2. CART ( classification and regression tree ) "
   ]
  },
  {
   "cell_type": "code",
   "execution_count": 1,
   "id": "622e8389",
   "metadata": {},
   "outputs": [],
   "source": [
    "## basic decision "
   ]
  },
  {
   "cell_type": "code",
   "execution_count": null,
   "id": "461715f8",
   "metadata": {},
   "outputs": [],
   "source": []
  },
  {
   "cell_type": "code",
   "execution_count": null,
   "id": "4b2c1779",
   "metadata": {},
   "outputs": [],
   "source": []
  },
  {
   "cell_type": "code",
   "execution_count": null,
   "id": "0a080fce",
   "metadata": {},
   "outputs": [],
   "source": []
  },
  {
   "cell_type": "code",
   "execution_count": null,
   "id": "30f0edbd",
   "metadata": {},
   "outputs": [],
   "source": []
  },
  {
   "cell_type": "code",
   "execution_count": null,
   "id": "2d4be47a",
   "metadata": {},
   "outputs": [],
   "source": []
  },
  {
   "cell_type": "code",
   "execution_count": null,
   "id": "bd77856f",
   "metadata": {},
   "outputs": [],
   "source": []
  },
  {
   "cell_type": "code",
   "execution_count": null,
   "id": "4c0ce2d4",
   "metadata": {},
   "outputs": [],
   "source": []
  },
  {
   "cell_type": "code",
   "execution_count": null,
   "id": "53fcb5ea",
   "metadata": {},
   "outputs": [],
   "source": []
  }
 ],
 "metadata": {
  "kernelspec": {
   "display_name": "Python 3 (ipykernel)",
   "language": "python",
   "name": "python3"
  },
  "language_info": {
   "codemirror_mode": {
    "name": "ipython",
    "version": 3
   },
   "file_extension": ".py",
   "mimetype": "text/x-python",
   "name": "python",
   "nbconvert_exporter": "python",
   "pygments_lexer": "ipython3",
   "version": "3.11.1"
  }
 },
 "nbformat": 4,
 "nbformat_minor": 5
}
