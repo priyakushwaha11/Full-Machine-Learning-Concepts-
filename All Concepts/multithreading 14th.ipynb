{
 "cells": [
  {
   "cell_type": "markdown",
   "id": "ea110f78",
   "metadata": {},
   "source": [
    "# quad core\n"
   ]
  },
  {
   "cell_type": "code",
   "execution_count": 1,
   "id": "639161d6",
   "metadata": {},
   "outputs": [],
   "source": [
    "# quad core me 4 box hote hain , dual core me 2\n",
    "import threading"
   ]
  },
  {
   "cell_type": "code",
   "execution_count": 2,
   "id": "d7993ac3",
   "metadata": {},
   "outputs": [],
   "source": [
    "def test(id) :\n",
    "    print (\"program start %d\" , id)"
   ]
  },
  {
   "cell_type": "code",
   "execution_count": 3,
   "id": "bbb35178",
   "metadata": {},
   "outputs": [
    {
     "name": "stdout",
     "output_type": "stream",
     "text": [
      "program start %d 34\n"
     ]
    }
   ],
   "source": [
    "test(34)"
   ]
  },
  {
   "cell_type": "code",
   "execution_count": 4,
   "id": "9a4cc8a8",
   "metadata": {},
   "outputs": [],
   "source": [
    "# multiple program start karne ke liye \n",
    "thread = [threading.Thread(target = test , args = (i ,) ) for i in range(10)]"
   ]
  },
  {
   "cell_type": "code",
   "execution_count": 5,
   "id": "8615014c",
   "metadata": {},
   "outputs": [
    {
     "name": "stdout",
     "output_type": "stream",
     "text": [
      "program start %d 0\n",
      "program start %d 1\n",
      "program start %d 2\n",
      "program start %d 3\n",
      "program start %d 4\n",
      "program start %d 5\n",
      "program start %d 6\n",
      "program start %d 7\n",
      "program start %d 8\n",
      "program start %d 9\n"
     ]
    }
   ],
   "source": [
    "for t in thread :\n",
    "    t.start()"
   ]
  },
  {
   "cell_type": "code",
   "execution_count": 6,
   "id": "ba92126f",
   "metadata": {},
   "outputs": [
    {
     "data": {
      "text/plain": [
       "[0, 1, 2, 3, 4, 5, 6, 7, 8, 9]"
      ]
     },
     "execution_count": 6,
     "metadata": {},
     "output_type": "execute_result"
    }
   ],
   "source": [
    "list (range(10))"
   ]
  },
  {
   "cell_type": "code",
   "execution_count": 7,
   "id": "2abf7771",
   "metadata": {},
   "outputs": [
    {
     "data": {
      "text/plain": [
       "[<Thread(Thread-5 (test), stopped 1328)>,\n",
       " <Thread(Thread-6 (test), stopped 8376)>,\n",
       " <Thread(Thread-7 (test), stopped 6964)>,\n",
       " <Thread(Thread-8 (test), stopped 5080)>,\n",
       " <Thread(Thread-9 (test), stopped 7556)>,\n",
       " <Thread(Thread-10 (test), stopped 7056)>,\n",
       " <Thread(Thread-11 (test), stopped 8632)>,\n",
       " <Thread(Thread-12 (test), stopped 912)>,\n",
       " <Thread(Thread-13 (test), stopped 4656)>,\n",
       " <Thread(Thread-14 (test), stopped 2468)>]"
      ]
     },
     "execution_count": 7,
     "metadata": {},
     "output_type": "execute_result"
    }
   ],
   "source": [
    "thread"
   ]
  },
  {
   "cell_type": "code",
   "execution_count": 8,
   "id": "00b17982",
   "metadata": {},
   "outputs": [
    {
     "data": {
      "text/plain": [
       "2462810288768"
      ]
     },
     "execution_count": 8,
     "metadata": {},
     "output_type": "execute_result"
    }
   ],
   "source": [
    "id (thread)"
   ]
  },
  {
   "cell_type": "code",
   "execution_count": 9,
   "id": "9634e8d1",
   "metadata": {},
   "outputs": [],
   "source": [
    "import threading\n",
    "import urllib.request\n",
    "\n",
    "def file_downlaod(url , filename) :\n",
    "    urllib.request.urlretrieve(url , filename)"
   ]
  },
  {
   "cell_type": "code",
   "execution_count": 10,
   "id": "4bd22c14",
   "metadata": {},
   "outputs": [],
   "source": [
    "file_downlaod(\"https://github.com/priyakushwaha11/Decorators-class-static-special-magic-property-decorators-10th.git\" , \"test.txt\")"
   ]
  },
  {
   "cell_type": "code",
   "execution_count": 11,
   "id": "5a8360c7",
   "metadata": {},
   "outputs": [],
   "source": [
    "url_list = [(\"https://github.com/gyanpra7880/make-a-pull-request.git\" , \"https://github.com/priyakushwaha11/Oops-5th.git\" , \"https://github.com/priyakushwaha11/Oops-5th.git\")]"
   ]
  },
  {
   "cell_type": "code",
   "execution_count": 12,
   "id": "cbb2d274",
   "metadata": {},
   "outputs": [
    {
     "data": {
      "text/plain": [
       "[('https://github.com/gyanpra7880/make-a-pull-request.git',\n",
       "  'https://github.com/priyakushwaha11/Oops-5th.git',\n",
       "  'https://github.com/priyakushwaha11/Oops-5th.git')]"
      ]
     },
     "execution_count": 12,
     "metadata": {},
     "output_type": "execute_result"
    }
   ],
   "source": [
    "url_list"
   ]
  },
  {
   "cell_type": "code",
   "execution_count": 13,
   "id": "1022fc93",
   "metadata": {},
   "outputs": [],
   "source": [
    "file_name_list = ['data1.txt' , 'data2.txt' , 'data3.txt']"
   ]
  },
  {
   "cell_type": "code",
   "execution_count": 14,
   "id": "5ce6eea7",
   "metadata": {},
   "outputs": [
    {
     "data": {
      "text/plain": [
       "['data1.txt', 'data2.txt', 'data3.txt']"
      ]
     },
     "execution_count": 14,
     "metadata": {},
     "output_type": "execute_result"
    }
   ],
   "source": [
    "file_name_list"
   ]
  },
  {
   "cell_type": "code",
   "execution_count": 15,
   "id": "028d9c54",
   "metadata": {},
   "outputs": [],
   "source": [
    "ther = [threading.Thread(target = file_downlaod , args = (url_list[i] , file_name_list[i] )) for i in range(len(url_list))]"
   ]
  },
  {
   "cell_type": "code",
   "execution_count": 16,
   "id": "57b16f9d",
   "metadata": {},
   "outputs": [
    {
     "data": {
      "text/plain": [
       "[<Thread(Thread-15 (file_downlaod), initial)>]"
      ]
     },
     "execution_count": 16,
     "metadata": {},
     "output_type": "execute_result"
    }
   ],
   "source": [
    "ther"
   ]
  },
  {
   "cell_type": "code",
   "execution_count": 17,
   "id": "8faa1145",
   "metadata": {},
   "outputs": [
    {
     "name": "stderr",
     "output_type": "stream",
     "text": [
      "Exception in thread Thread-15 (file_downlaod):\n",
      "Traceback (most recent call last):\n",
      "  File \"C:\\Users\\Smart\\AppData\\Local\\Programs\\Python\\Python311\\Lib\\threading.py\", line 1038, in _bootstrap_inner\n",
      "    self.run()\n",
      "  File \"C:\\Users\\Smart\\AppData\\Local\\Programs\\Python\\Python311\\Lib\\threading.py\", line 975, in run\n",
      "    self._target(*self._args, **self._kwargs)\n",
      "  File \"C:\\Users\\Smart\\AppData\\Local\\Temp\\ipykernel_7144\\1103473958.py\", line 5, in file_downlaod\n",
      "  File \"C:\\Users\\Smart\\AppData\\Local\\Programs\\Python\\Python311\\Lib\\urllib\\request.py\", line 239, in urlretrieve\n",
      "    url_type, path = _splittype(url)\n",
      "                     ^^^^^^^^^^^^^^^\n",
      "  File \"C:\\Users\\Smart\\AppData\\Local\\Programs\\Python\\Python311\\Lib\\urllib\\parse.py\", line 1038, in _splittype\n",
      "    match = _typeprog.match(url)\n",
      "            ^^^^^^^^^^^^^^^^^^^^\n",
      "TypeError: expected string or bytes-like object, got 'tuple'\n"
     ]
    }
   ],
   "source": [
    "for t in ther :\n",
    "    t.start()"
   ]
  },
  {
   "cell_type": "code",
   "execution_count": 18,
   "id": "386f77cf",
   "metadata": {},
   "outputs": [],
   "source": [
    "import time"
   ]
  },
  {
   "cell_type": "code",
   "execution_count": 19,
   "id": "7c93ae53",
   "metadata": {},
   "outputs": [],
   "source": [
    "def test(id):\n",
    "    for i in range (10) :\n",
    "        print (\"test %d printing %d\" ())"
   ]
  },
  {
   "cell_type": "code",
   "execution_count": null,
   "id": "748c0d27",
   "metadata": {},
   "outputs": [],
   "source": []
  }
 ],
 "metadata": {
  "kernelspec": {
   "display_name": "Python 3 (ipykernel)",
   "language": "python",
   "name": "python3"
  },
  "language_info": {
   "codemirror_mode": {
    "name": "ipython",
    "version": 3
   },
   "file_extension": ".py",
   "mimetype": "text/x-python",
   "name": "python",
   "nbconvert_exporter": "python",
   "pygments_lexer": "ipython3",
   "version": "3.11.1"
  }
 },
 "nbformat": 4,
 "nbformat_minor": 5
}
