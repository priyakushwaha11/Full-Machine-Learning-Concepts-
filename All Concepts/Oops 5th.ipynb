{
 "cells": [
  {
   "cell_type": "code",
   "execution_count": 20,
   "id": "b44229f8",
   "metadata": {},
   "outputs": [],
   "source": [
    "class pwskills :\n",
    "    \n",
    "    def __init__(self , phone_number , email_id , student_id):\n",
    "        \n",
    "        self.phone_number = phone_number\n",
    "        self.email_id = email_id\n",
    "        self.student_id = student_id\n",
    "        \n",
    "    def return_student_details(self) :\n",
    "        return self.student_id,self.phone_number,self.email_id"
   ]
  },
  {
   "cell_type": "code",
   "execution_count": 22,
   "id": "34cfe71d",
   "metadata": {},
   "outputs": [],
   "source": [
    "priya = pwskills(9289623778,\"priyakushwaha@gamil.com\",433)"
   ]
  },
  {
   "cell_type": "code",
   "execution_count": 23,
   "id": "cec20b0d",
   "metadata": {},
   "outputs": [
    {
     "data": {
      "text/plain": [
       "<__main__.pwskills at 0x1f58a1d3750>"
      ]
     },
     "execution_count": 23,
     "metadata": {},
     "output_type": "execute_result"
    }
   ],
   "source": [
    "priya"
   ]
  },
  {
   "cell_type": "code",
   "execution_count": 25,
   "id": "c2069748",
   "metadata": {},
   "outputs": [
    {
     "data": {
      "text/plain": [
       "(433, 9289623778, 'priyakushwaha@gamil.com')"
      ]
     },
     "execution_count": 25,
     "metadata": {},
     "output_type": "execute_result"
    }
   ],
   "source": [
    "priya.return_student_details()"
   ]
  },
  {
   "cell_type": "code",
   "execution_count": 26,
   "id": "1e5c715e",
   "metadata": {},
   "outputs": [
    {
     "data": {
      "text/plain": [
       "'priyakushwaha@gamil.com'"
      ]
     },
     "execution_count": 26,
     "metadata": {},
     "output_type": "execute_result"
    }
   ],
   "source": [
    "priya.email_id"
   ]
  },
  {
   "cell_type": "code",
   "execution_count": 27,
   "id": "d8a8bf8a",
   "metadata": {},
   "outputs": [],
   "source": [
    "rajni = pwskills(7697987,\"priya7698@gmail.com\" , 87)"
   ]
  },
  {
   "cell_type": "code",
   "execution_count": 29,
   "id": "a4fed887",
   "metadata": {},
   "outputs": [
    {
     "data": {
      "text/plain": [
       "<__main__.pwskills at 0x1f58a5fa8d0>"
      ]
     },
     "execution_count": 29,
     "metadata": {},
     "output_type": "execute_result"
    }
   ],
   "source": [
    "rajni"
   ]
  },
  {
   "cell_type": "code",
   "execution_count": 30,
   "id": "593fa42a",
   "metadata": {},
   "outputs": [
    {
     "data": {
      "text/plain": [
       "'priya7698@gmail.com'"
      ]
     },
     "execution_count": 30,
     "metadata": {},
     "output_type": "execute_result"
    }
   ],
   "source": [
    "rajni.email_id"
   ]
  },
  {
   "cell_type": "code",
   "execution_count": 16,
   "id": "2501c24e",
   "metadata": {},
   "outputs": [],
   "source": [
    "class school:\n",
    "    \n",
    "    def __init__(student ,  mobile_no , roll_no , email_id):\n",
    "        student.email_id = email_id\n",
    "        student.mobile_no = mobile_no\n",
    "        student.roll_no = roll_no\n",
    "       \n",
    "        \n",
    "    def returns_student_details(student) :\n",
    "        return student.email_id,student.mobile_no,student.roll_no"
   ]
  },
  {
   "cell_type": "code",
   "execution_count": 17,
   "id": "470d8110",
   "metadata": {},
   "outputs": [],
   "source": [
    "information = school(\"priy67@gmail.com\",78697987,89)"
   ]
  },
  {
   "cell_type": "code",
   "execution_count": 18,
   "id": "b4c86071",
   "metadata": {},
   "outputs": [
    {
     "data": {
      "text/plain": [
       "89"
      ]
     },
     "execution_count": 18,
     "metadata": {},
     "output_type": "execute_result"
    }
   ],
   "source": [
    "information.email_id"
   ]
  },
  {
   "cell_type": "code",
   "execution_count": 3,
   "id": "9c42311d",
   "metadata": {},
   "outputs": [],
   "source": [
    "class car:\n",
    "    def __init__(self,color,model):\n",
    "        self.color = color\n",
    "        self.model = model\n",
    "        \n",
    "        def get_color(self):\n",
    "            return self.color"
   ]
  },
  {
   "cell_type": "code",
   "execution_count": 4,
   "id": "fce42f83",
   "metadata": {},
   "outputs": [
    {
     "ename": "AttributeError",
     "evalue": "'car' object has no attribute 'get_color'",
     "output_type": "error",
     "traceback": [
      "\u001b[1;31m---------------------------------------------------------------------------\u001b[0m",
      "\u001b[1;31mAttributeError\u001b[0m                            Traceback (most recent call last)",
      "Cell \u001b[1;32mIn[4], line 2\u001b[0m\n\u001b[0;32m      1\u001b[0m my_car \u001b[38;5;241m=\u001b[39m car(\u001b[38;5;124m\"\u001b[39m\u001b[38;5;124mred\u001b[39m\u001b[38;5;124m\"\u001b[39m , \u001b[38;5;124m\"\u001b[39m\u001b[38;5;124msedan\u001b[39m\u001b[38;5;124m\"\u001b[39m)\n\u001b[1;32m----> 2\u001b[0m \u001b[38;5;28mprint\u001b[39m(\u001b[43mmy_car\u001b[49m\u001b[38;5;241;43m.\u001b[39;49m\u001b[43mget_color\u001b[49m())\n",
      "\u001b[1;31mAttributeError\u001b[0m: 'car' object has no attribute 'get_color'"
     ]
    }
   ],
   "source": [
    "my_car = car(\"red\" , \"sedan\")\n",
    "print(my_car.get_color())"
   ]
  },
  {
   "cell_type": "code",
   "execution_count": 5,
   "id": "e92de7c4",
   "metadata": {},
   "outputs": [
    {
     "name": "stdout",
     "output_type": "stream",
     "text": [
      "{'a': 1, 'b': 2, 'c': 3}\n"
     ]
    }
   ],
   "source": [
    "my_dict = {\"a\":1,\"b\":2,\"c\":3}\n",
    "my_set = set(my_dict.keys())\n",
    "my_set.add(\"d\")\n",
    "print(my_dict)"
   ]
  },
  {
   "cell_type": "code",
   "execution_count": 11,
   "id": "db480104",
   "metadata": {},
   "outputs": [
    {
     "ename": "IndentationError",
     "evalue": "unindent does not match any outer indentation level (<tokenize>, line 7)",
     "output_type": "error",
     "traceback": [
      "\u001b[1;36m  File \u001b[1;32m<tokenize>:7\u001b[1;36m\u001b[0m\n\u001b[1;33m    else:\u001b[0m\n\u001b[1;37m    ^\u001b[0m\n\u001b[1;31mIndentationError\u001b[0m\u001b[1;31m:\u001b[0m unindent does not match any outer indentation level\n"
     ]
    }
   ],
   "source": [
    "x = 10\n",
    "\n",
    "if x <20:\n",
    "    \n",
    "      print(\"x is less than 20\")\n",
    "    \n",
    "    else:\n",
    "        \n",
    "        print(\"x is greater than or equal to 20\")"
   ]
  },
  {
   "cell_type": "code",
   "execution_count": null,
   "id": "550b8228",
   "metadata": {},
   "outputs": [],
   "source": []
  },
  {
   "cell_type": "code",
   "execution_count": null,
   "id": "13ac9b31",
   "metadata": {},
   "outputs": [],
   "source": []
  }
 ],
 "metadata": {
  "kernelspec": {
   "display_name": "Python 3 (ipykernel)",
   "language": "python",
   "name": "python3"
  },
  "language_info": {
   "codemirror_mode": {
    "name": "ipython",
    "version": 3
   },
   "file_extension": ".py",
   "mimetype": "text/x-python",
   "name": "python",
   "nbconvert_exporter": "python",
   "pygments_lexer": "ipython3",
   "version": "3.11.1"
  }
 },
 "nbformat": 4,
 "nbformat_minor": 5
}
