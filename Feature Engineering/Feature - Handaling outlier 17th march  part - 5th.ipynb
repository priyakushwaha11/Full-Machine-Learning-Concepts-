{
 "cells": [
  {
   "cell_type": "markdown",
   "id": "2a3f1656",
   "metadata": {},
   "source": [
    "##  5 number summary\n"
   ]
  },
  {
   "cell_type": "markdown",
   "id": "17c9371c",
   "metadata": {},
   "source": [
    "### 1 . minimum\n",
    "### 2 . Q1 - 25th percentile\n",
    "### 3 . median\n",
    "### 4 . Q3 - 75th percentile\n",
    "### 5 . maximum"
   ]
  },
  {
   "cell_type": "code",
   "execution_count": 1,
   "id": "5208250a",
   "metadata": {},
   "outputs": [],
   "source": [
    "import numpy as np"
   ]
  },
  {
   "cell_type": "code",
   "execution_count": 39,
   "id": "a1914ca8",
   "metadata": {},
   "outputs": [],
   "source": [
    "list_marks = [1,3,4,346,7,8,6,5,44,3,564,545,6,9,76,45,6,4,37,45,34,23,56,6,8,67,54,4,3,32,378]"
   ]
  },
  {
   "cell_type": "code",
   "execution_count": 40,
   "id": "51958288",
   "metadata": {},
   "outputs": [
    {
     "data": {
      "text/plain": [
       "array([5.5])"
      ]
     },
     "execution_count": 40,
     "metadata": {},
     "output_type": "execute_result"
    }
   ],
   "source": [
    "np.percentile(list_marks , [25])"
   ]
  },
  {
   "cell_type": "code",
   "execution_count": 41,
   "id": "17907c9c",
   "metadata": {},
   "outputs": [
    {
     "data": {
      "text/plain": [
       "array([49.5])"
      ]
     },
     "execution_count": 41,
     "metadata": {},
     "output_type": "execute_result"
    }
   ],
   "source": [
    "np.percentile(list_marks , [75])"
   ]
  },
  {
   "cell_type": "code",
   "execution_count": 42,
   "id": "0303f519",
   "metadata": {},
   "outputs": [
    {
     "data": {
      "text/plain": [
       "array([564.])"
      ]
     },
     "execution_count": 42,
     "metadata": {},
     "output_type": "execute_result"
    }
   ],
   "source": [
    "np.percentile(list_marks , [100])"
   ]
  },
  {
   "cell_type": "code",
   "execution_count": 43,
   "id": "4aede0f9",
   "metadata": {},
   "outputs": [
    {
     "data": {
      "text/plain": [
       "array([9.])"
      ]
     },
     "execution_count": 43,
     "metadata": {},
     "output_type": "execute_result"
    }
   ],
   "source": [
    "np.percentile(list_marks , [50])"
   ]
  },
  {
   "cell_type": "code",
   "execution_count": 44,
   "id": "7b3ed2fb",
   "metadata": {},
   "outputs": [],
   "source": [
    "## Lower fence <----> Higher fence\n",
    "\n",
    "Q1 = np.percentile(list_marks , [25])"
   ]
  },
  {
   "cell_type": "code",
   "execution_count": 45,
   "id": "0edcff90",
   "metadata": {},
   "outputs": [
    {
     "data": {
      "text/plain": [
       "array([5.5])"
      ]
     },
     "execution_count": 45,
     "metadata": {},
     "output_type": "execute_result"
    }
   ],
   "source": [
    "Q1"
   ]
  },
  {
   "cell_type": "code",
   "execution_count": 46,
   "id": "50e94aba",
   "metadata": {},
   "outputs": [],
   "source": [
    "## quantile function  me 4 parameter milte hain - minimum , Q1 , Q2 , Q3 , maximum"
   ]
  },
  {
   "cell_type": "code",
   "execution_count": 47,
   "id": "194a71d7",
   "metadata": {},
   "outputs": [],
   "source": [
    "minimum , Q1 , Q2 , Q3 , maximum = np.quantile (list_marks ,[0,0.25,0.50,0.75,1.0])"
   ]
  },
  {
   "cell_type": "code",
   "execution_count": 48,
   "id": "c819ffd9",
   "metadata": {},
   "outputs": [
    {
     "data": {
      "text/plain": [
       "564.0"
      ]
     },
     "execution_count": 48,
     "metadata": {},
     "output_type": "execute_result"
    }
   ],
   "source": [
    "maximum"
   ]
  },
  {
   "cell_type": "code",
   "execution_count": 49,
   "id": "11d58f6f",
   "metadata": {},
   "outputs": [
    {
     "data": {
      "text/plain": [
       "1.0"
      ]
     },
     "execution_count": 49,
     "metadata": {},
     "output_type": "execute_result"
    }
   ],
   "source": [
    "minimum"
   ]
  },
  {
   "cell_type": "code",
   "execution_count": 50,
   "id": "96c68f9d",
   "metadata": {},
   "outputs": [],
   "source": [
    "## liwer fence aur higher fence batane ke liye pahle IQR nikalna padta hai\n",
    "\n",
    "IQR = Q3 - Q1"
   ]
  },
  {
   "cell_type": "code",
   "execution_count": 51,
   "id": "e8cd7c81",
   "metadata": {},
   "outputs": [
    {
     "data": {
      "text/plain": [
       "44.0"
      ]
     },
     "execution_count": 51,
     "metadata": {},
     "output_type": "execute_result"
    }
   ],
   "source": [
    "IQR"
   ]
  },
  {
   "cell_type": "code",
   "execution_count": 52,
   "id": "9826d8ee",
   "metadata": {},
   "outputs": [],
   "source": [
    "## lower fence ka formula\n",
    "\n",
    "lower_fence = Q1 - 1.5 * (IQR)\n",
    "higher_fence = Q3 + 1.5 *(IQR)"
   ]
  },
  {
   "cell_type": "code",
   "execution_count": 53,
   "id": "0a8cd246",
   "metadata": {},
   "outputs": [
    {
     "data": {
      "text/plain": [
       "(-60.5, 115.5)"
      ]
     },
     "execution_count": 53,
     "metadata": {},
     "output_type": "execute_result"
    }
   ],
   "source": [
    "lower_fence , higher_fence"
   ]
  },
  {
   "cell_type": "code",
   "execution_count": 54,
   "id": "185d4cf2",
   "metadata": {},
   "outputs": [
    {
     "name": "stdout",
     "output_type": "stream",
     "text": [
      " This element is not an outlier \n",
      " This element is not an outlier \n",
      " This element is not an outlier \n",
      " This element is not an outlier \n",
      " This element is not an outlier \n",
      " This element is not an outlier \n",
      " This element is not an outlier \n",
      " This element is not an outlier \n",
      " This element is not an outlier \n",
      " This element is not an outlier \n",
      " This element is not an outlier \n",
      " This element is not an outlier \n",
      " This element is not an outlier \n",
      " This element is not an outlier \n",
      " This element is not an outlier \n",
      " This element is not an outlier \n",
      " This element is not an outlier \n",
      " This element is not an outlier \n",
      " This element is not an outlier \n",
      " This element is not an outlier \n",
      " This element is not an outlier \n",
      " This element is not an outlier \n",
      " This element is not an outlier \n",
      " This element is not an outlier \n",
      " This element is not an outlier \n",
      " This element is not an outlier \n",
      " This element is not an outlier \n"
     ]
    }
   ],
   "source": [
    "outliers = []\n",
    "for i in list_marks:\n",
    "    if i>=-54.375 and i<=104.625:\n",
    "        print (\" This element is not an outlier \")\n",
    "    else:               \n",
    "            outliers.append"
   ]
  },
  {
   "cell_type": "code",
   "execution_count": 55,
   "id": "6e651840",
   "metadata": {},
   "outputs": [
    {
     "data": {
      "text/plain": [
       "[]"
      ]
     },
     "execution_count": 55,
     "metadata": {},
     "output_type": "execute_result"
    }
   ],
   "source": [
    "outliers"
   ]
  },
  {
   "cell_type": "code",
   "execution_count": 57,
   "id": "55155daf",
   "metadata": {
    "scrolled": true
   },
   "outputs": [
    {
     "data": {
      "text/plain": [
       "<AxesSubplot: >"
      ]
     },
     "execution_count": 57,
     "metadata": {},
     "output_type": "execute_result"
    },
    {
     "data": {
      "image/png": "[encoded data removed]",
      "text/plain": [
       "<Figure size 640x480 with 1 Axes>"
      ]
     },
     "metadata": {},
     "output_type": "display_data"
    }
   ],
   "source": [
    "import seaborn as sns\n",
    "sns.boxplot(list_marks)\n",
    "\n",
    "\n",
    "## output me  first line minimum ki , second line 25th percentile , third line 50th percentile ,\n",
    "## fourth line 75th percrntile and last line 100th percentile and dots are outliers "
   ]
  },
  {
   "cell_type": "code",
   "execution_count": 64,
   "id": "7168aef8",
   "metadata": {},
   "outputs": [],
   "source": [
    "list_marks2 = [1,23,4,5,6,7,8,5,54,3,42,44,5,5,43,65,67,67,4,63,43,4,45,65]"
   ]
  },
  {
   "cell_type": "code",
   "execution_count": 65,
   "id": "2a1a358f",
   "metadata": {},
   "outputs": [
    {
     "data": {
      "text/plain": [
       "<AxesSubplot: >"
      ]
     },
     "execution_count": 65,
     "metadata": {},
     "output_type": "execute_result"
    },
    {
     "data": {
      "image/png": "[encoded data removed]",
      "text/plain": [
       "<Figure size 640x480 with 1 Axes>"
      ]
     },
     "metadata": {},
     "output_type": "display_data"
    }
   ],
   "source": [
    "sns.boxplot(list_marks2)"
   ]
  }
 ],
 "metadata": {
  "kernelspec": {
   "display_name": "Python 3 (ipykernel)",
   "language": "python",
   "name": "python3"
  },
  "language_info": {
   "codemirror_mode": {
    "name": "ipython",
    "version": 3
   },
   "file_extension": ".py",
   "mimetype": "text/x-python",
   "name": "python",
   "nbconvert_exporter": "python",
   "pygments_lexer": "ipython3",
   "version": "3.11.1"
  }
 },
 "nbformat": 4,
 "nbformat_minor": 5
}
