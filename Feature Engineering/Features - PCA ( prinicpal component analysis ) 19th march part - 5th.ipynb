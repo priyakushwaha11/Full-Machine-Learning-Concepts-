{
 "cells": [
  {
   "cell_type": "markdown",
   "id": "34b4914f",
   "metadata": {},
   "source": [
    "### PCA - principal component analysis  - yah unsupervise machine learning hai \n",
    "#### yah probably feature extraction me help karta hai\n",
    "\n",
    "\n",
    "### PCA ka main motive 2D array se 1D array me conver karna bt..... with lot of features ( information )  \n",
    "\n",
    "#### orthogonal line jo ki x,y dono ke beech data se hoker jata hai jo ki x and y dono ki value ko cover karta hai"
   ]
  },
  {
   "cell_type": "code",
   "execution_count": null,
   "id": "454dc538",
   "metadata": {},
   "outputs": [],
   "source": []
  }
 ],
 "metadata": {
  "kernelspec": {
   "display_name": "Python 3 (ipykernel)",
   "language": "python",
   "name": "python3"
  },
  "language_info": {
   "codemirror_mode": {
    "name": "ipython",
    "version": 3
   },
   "file_extension": ".py",
   "mimetype": "text/x-python",
   "name": "python",
   "nbconvert_exporter": "python",
   "pygments_lexer": "ipython3",
   "version": "3.11.1"
  }
 },
 "nbformat": 4,
 "nbformat_minor": 5
}
