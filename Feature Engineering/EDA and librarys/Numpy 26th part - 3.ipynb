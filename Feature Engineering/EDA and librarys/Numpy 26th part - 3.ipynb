{
 "cells": [
  {
   "cell_type": "code",
   "execution_count": 1,
   "id": "f5db5665",
   "metadata": {},
   "outputs": [],
   "source": [
    "import numpy as np"
   ]
  },
  {
   "cell_type": "markdown",
   "id": "b79e02ee",
   "metadata": {},
   "source": [
    "### sort , search and counting function"
   ]
  },
  {
   "cell_type": "code",
   "execution_count": 3,
   "id": "52dddf04",
   "metadata": {},
   "outputs": [],
   "source": [
    "arr = np.array([1,2,3,4,5,6,7,8,9,46,34,23,5,34,656,534,432,])"
   ]
  },
  {
   "cell_type": "code",
   "execution_count": 4,
   "id": "14a93551",
   "metadata": {},
   "outputs": [
    {
     "data": {
      "text/plain": [
       "array([  1,   2,   3,   4,   5,   6,   7,   8,   9,  46,  34,  23,   5,\n",
       "        34, 656, 534, 432])"
      ]
     },
     "execution_count": 4,
     "metadata": {},
     "output_type": "execute_result"
    }
   ],
   "source": [
    "arr"
   ]
  },
  {
   "cell_type": "code",
   "execution_count": 6,
   "id": "dd38b0c2",
   "metadata": {},
   "outputs": [
    {
     "data": {
      "text/plain": [
       "array([  1,   2,   3,   4,   5,   5,   6,   7,   8,   9,  23,  34,  34,\n",
       "        46, 432, 534, 656])"
      ]
     },
     "execution_count": 6,
     "metadata": {},
     "output_type": "execute_result"
    }
   ],
   "source": [
    "# sort mtlb asccending order\n",
    "\n",
    "np.sort(arr)"
   ]
  },
  {
   "cell_type": "code",
   "execution_count": 8,
   "id": "bb59bb50",
   "metadata": {},
   "outputs": [
    {
     "data": {
      "text/plain": [
       "14"
      ]
     },
     "execution_count": 8,
     "metadata": {},
     "output_type": "execute_result"
    }
   ],
   "source": [
    "# searchsorted me jo bhi no. hm pass karenge usse kahan pe rakhna hai output me pta chalta hai\n",
    "\n",
    "np.searchsorted(arr , 76)"
   ]
  },
  {
   "cell_type": "code",
   "execution_count": 9,
   "id": "83b73cc9",
   "metadata": {},
   "outputs": [],
   "source": [
    "arr1 = ([1,43,54,56,67,0,0,67,0,0,70,70])"
   ]
  },
  {
   "cell_type": "code",
   "execution_count": 10,
   "id": "434a4189",
   "metadata": {},
   "outputs": [
    {
     "data": {
      "text/plain": [
       "[1, 43, 54, 56, 67, 0, 0, 67, 0, 0, 70, 70]"
      ]
     },
     "execution_count": 10,
     "metadata": {},
     "output_type": "execute_result"
    }
   ],
   "source": [
    "arr1"
   ]
  },
  {
   "cell_type": "code",
   "execution_count": 11,
   "id": "6b9f8962",
   "metadata": {},
   "outputs": [
    {
     "data": {
      "text/plain": [
       "(array([ 0,  1,  2,  3,  4,  7, 10, 11], dtype=int64),)"
      ]
     },
     "execution_count": 11,
     "metadata": {},
     "output_type": "execute_result"
    }
   ],
   "source": [
    "np.nonzero(arr1)"
   ]
  },
  {
   "cell_type": "code",
   "execution_count": 12,
   "id": "54880102",
   "metadata": {},
   "outputs": [
    {
     "data": {
      "text/plain": [
       "8"
      ]
     },
     "execution_count": 12,
     "metadata": {},
     "output_type": "execute_result"
    }
   ],
   "source": [
    "np.count_nonzero(arr1)"
   ]
  },
  {
   "cell_type": "code",
   "execution_count": 13,
   "id": "625e6990",
   "metadata": {},
   "outputs": [
    {
     "data": {
      "text/plain": [
       "(array([ 9, 10, 11, 13, 14, 15, 16], dtype=int64),)"
      ]
     },
     "execution_count": 13,
     "metadata": {},
     "output_type": "execute_result"
    }
   ],
   "source": [
    "np.where(arr > 9)"
   ]
  },
  {
   "cell_type": "code",
   "execution_count": 14,
   "id": "0d0f9cc7",
   "metadata": {},
   "outputs": [
    {
     "data": {
      "text/plain": [
       "array([ 46,  34,  23,  34, 656, 534, 432])"
      ]
     },
     "execution_count": 14,
     "metadata": {},
     "output_type": "execute_result"
    }
   ],
   "source": [
    "np.extract(arr > 9 , arr)"
   ]
  },
  {
   "cell_type": "markdown",
   "id": "06abe8b0",
   "metadata": {},
   "source": [
    "### Byte swapping\n"
   ]
  },
  {
   "cell_type": "code",
   "execution_count": 15,
   "id": "c4c065f3",
   "metadata": {},
   "outputs": [
    {
     "data": {
      "text/plain": [
       "array([  1,   2,   3,   4,   5,   6,   7,   8,   9,  46,  34,  23,   5,\n",
       "        34, 656, 534, 432])"
      ]
     },
     "execution_count": 15,
     "metadata": {},
     "output_type": "execute_result"
    }
   ],
   "source": [
    "arr"
   ]
  },
  {
   "cell_type": "code",
   "execution_count": 16,
   "id": "b1455b51",
   "metadata": {},
   "outputs": [
    {
     "data": {
      "text/plain": [
       "array([   16777216,    33554432,    50331648,    67108864,    83886080,\n",
       "         100663296,   117440512,   134217728,   150994944,   771751936,\n",
       "         570425344,   385875968,    83886080,   570425344, -1878917120,\n",
       "         369229824, -1342111744])"
      ]
     },
     "execution_count": 16,
     "metadata": {},
     "output_type": "execute_result"
    }
   ],
   "source": [
    "arr.byteswap()"
   ]
  },
  {
   "cell_type": "code",
   "execution_count": 17,
   "id": "f201b935",
   "metadata": {},
   "outputs": [],
   "source": [
    "import numpy.matlib as nm"
   ]
  },
  {
   "cell_type": "code",
   "execution_count": 18,
   "id": "57c434df",
   "metadata": {},
   "outputs": [
    {
     "data": {
      "text/plain": [
       "matrix([[0., 0., 0., 0., 0., 0., 0.]])"
      ]
     },
     "execution_count": 18,
     "metadata": {},
     "output_type": "execute_result"
    }
   ],
   "source": [
    "nm.zeros(7)"
   ]
  },
  {
   "cell_type": "code",
   "execution_count": 21,
   "id": "93f08d96",
   "metadata": {},
   "outputs": [
    {
     "data": {
      "text/plain": [
       "matrix([[1., 1., 1., 1., 1., 1., 1., 1., 1.],\n",
       "        [1., 1., 1., 1., 1., 1., 1., 1., 1.],\n",
       "        [1., 1., 1., 1., 1., 1., 1., 1., 1.]])"
      ]
     },
     "execution_count": 21,
     "metadata": {},
     "output_type": "execute_result"
    }
   ],
   "source": [
    "nm.ones((3,9))"
   ]
  },
  {
   "cell_type": "code",
   "execution_count": 22,
   "id": "91678fb3",
   "metadata": {},
   "outputs": [
    {
     "data": {
      "text/plain": [
       "matrix([[1., 0., 0., 0., 0., 0.],\n",
       "        [0., 1., 0., 0., 0., 0.],\n",
       "        [0., 0., 1., 0., 0., 0.],\n",
       "        [0., 0., 0., 1., 0., 0.],\n",
       "        [0., 0., 0., 0., 1., 0.],\n",
       "        [0., 0., 0., 0., 0., 1.]])"
      ]
     },
     "execution_count": 22,
     "metadata": {},
     "output_type": "execute_result"
    }
   ],
   "source": [
    "nm.eye(6)"
   ]
  },
  {
   "cell_type": "markdown",
   "id": "9ce519b1",
   "metadata": {},
   "source": [
    "### Linear  Algebra "
   ]
  },
  {
   "cell_type": "code",
   "execution_count": 24,
   "id": "8f055308",
   "metadata": {},
   "outputs": [],
   "source": [
    "arr1 = np.random.randint([[1,3,3,4,5] ,[3,5,6,7,9]])"
   ]
  },
  {
   "cell_type": "code",
   "execution_count": 30,
   "id": "60e5cf04",
   "metadata": {},
   "outputs": [],
   "source": [
    "arr2 = np.random.randint([[4,5,6,5,7],[6,7,7,4,6]])"
   ]
  },
  {
   "cell_type": "code",
   "execution_count": 31,
   "id": "017cdbc4",
   "metadata": {},
   "outputs": [
    {
     "data": {
      "text/plain": [
       "array([[0, 1, 0, 1, 0],\n",
       "       [2, 2, 0, 1, 6]])"
      ]
     },
     "execution_count": 31,
     "metadata": {},
     "output_type": "execute_result"
    }
   ],
   "source": [
    "arr1"
   ]
  },
  {
   "cell_type": "code",
   "execution_count": 32,
   "id": "b7b90e03",
   "metadata": {},
   "outputs": [
    {
     "data": {
      "text/plain": [
       "array([[3, 3, 4, 2, 4],\n",
       "       [0, 2, 2, 1, 0]])"
      ]
     },
     "execution_count": 32,
     "metadata": {},
     "output_type": "execute_result"
    }
   ],
   "source": [
    "arr2"
   ]
  }
 ],
 "metadata": {
  "kernelspec": {
   "display_name": "Python 3 (ipykernel)",
   "language": "python",
   "name": "python3"
  },
  "language_info": {
   "codemirror_mode": {
    "name": "ipython",
    "version": 3
   },
   "file_extension": ".py",
   "mimetype": "text/x-python",
   "name": "python",
   "nbconvert_exporter": "python",
   "pygments_lexer": "ipython3",
   "version": "3.11.1"
  }
 },
 "nbformat": 4,
 "nbformat_minor": 5
}
