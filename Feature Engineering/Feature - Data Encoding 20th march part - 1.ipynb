{
 "cells": [
  {
   "cell_type": "code",
   "execution_count": 1,
   "id": "d21d9e23",
   "metadata": {},
   "outputs": [],
   "source": [
    "## Data Encoding ka means - convert categorical data into suitable numerical data \n",
    "\n",
    "## numerical data me hi hm lot of type ke ML and DL model train kr payenge \n",
    "\n",
    "\n",
    "##     types of data encoding\n",
    "\n",
    "# * Nominal / OHE (one hot encodih)\n",
    "# * ordinal and label encoding\n",
    "# * target guided ordinal encoding\n",
    "\n",
    "\n",
    "# these types of tecnique se categorical data ko nominal data me change kiya j sakta hai"
   ]
  },
  {
   "cell_type": "code",
   "execution_count": null,
   "id": "81be4b8a",
   "metadata": {},
   "outputs": [],
   "source": []
  }
 ],
 "metadata": {
  "kernelspec": {
   "display_name": "Python 3 (ipykernel)",
   "language": "python",
   "name": "python3"
  },
  "language_info": {
   "codemirror_mode": {
    "name": "ipython",
    "version": 3
   },
   "file_extension": ".py",
   "mimetype": "text/x-python",
   "name": "python",
   "nbconvert_exporter": "python",
   "pygments_lexer": "ipython3",
   "version": "3.11.1"
  }
 },
 "nbformat": 4,
 "nbformat_minor": 5
}
